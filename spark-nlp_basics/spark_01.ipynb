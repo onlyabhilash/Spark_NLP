{
  "nbformat": 4,
  "nbformat_minor": 0,
  "metadata": {
    "colab": {
      "name": "spark_01.ipynb",
      "provenance": [],
      "collapsed_sections": [],
      "authorship_tag": "ABX9TyPsH5m0o68S2Qf/T0bglpav",
      "include_colab_link": true
    },
    "kernelspec": {
      "name": "python3",
      "display_name": "Python 3"
    },
    "language_info": {
      "name": "python"
    }
  },
  "cells": [
    {
      "cell_type": "markdown",
      "metadata": {
        "id": "view-in-github",
        "colab_type": "text"
      },
      "source": [
        "<a href=\"https://colab.research.google.com/github/onlyabhilash/Spark_NLP/blob/main/spark-nlp_basics/spark_01.ipynb\" target=\"_parent\"><img src=\"https://colab.research.google.com/assets/colab-badge.svg\" alt=\"Open In Colab\"/></a>"
      ]
    },
    {
      "cell_type": "code",
      "source": [
        "from google.colab import drive\n",
        "drive.mount('/content/drive')"
      ],
      "metadata": {
        "colab": {
          "base_uri": "https://localhost:8080/"
        },
        "id": "83F75XigLNit",
        "outputId": "8f67ff0f-5af6-4414-be6d-702bd54e9d79"
      },
      "execution_count": null,
      "outputs": [
        {
          "output_type": "stream",
          "name": "stdout",
          "text": [
            "Drive already mounted at /content/drive; to attempt to forcibly remount, call drive.mount(\"/content/drive\", force_remount=True).\n"
          ]
        }
      ]
    },
    {
      "cell_type": "code",
      "source": [
        "import os\n",
        "\n",
        "# Install java\n",
        "! apt-get update -qq\n",
        "! apt-get install -y openjdk-8-jdk-headless -qq > /dev/null\n",
        "\n",
        "!wget -q https://archive.apache.org/dist/spark/spark-2.3.0/spark-2.3.0-bin-hadoop2.7.tgz\n",
        "\n",
        "!tar xf spark-2.3.0-bin-hadoop2.7.tgz\n",
        "!pip install -q findspark\n",
        "\n",
        "os.environ[\"JAVA_HOME\"] = \"/usr/lib/jvm/java-8-openjdk-amd64\"\n",
        "os.environ[\"PATH\"] = os.environ[\"JAVA_HOME\"] + \"/bin:\" + os.environ[\"PATH\"]\n",
        "os.environ[\"SPARK_HOME\"] = \"/content/spark-2.3.0-bin-hadoop2.7\"\n",
        "! java -version\n",
        "\n",
        "import findspark\n",
        "findspark.init()\n",
        "from pyspark.sql import SparkSession\n",
        "\n",
        "! pip install --ignore-installed -q spark-nlp==2.7.5\n",
        "import sparknlp\n",
        "from sparknlp.base import *\n",
        "from sparknlp.annotator import *\n",
        "\n",
        "spark = sparknlp.start(spark23=True)"
      ],
      "metadata": {
        "colab": {
          "base_uri": "https://localhost:8080/"
        },
        "id": "3pnCeh52Lfmc",
        "outputId": "ff0861d3-a7a2-4545-cbac-60e273f7bf75"
      },
      "execution_count": null,
      "outputs": [
        {
          "output_type": "stream",
          "name": "stdout",
          "text": [
            "openjdk version \"1.8.0_312\"\n",
            "OpenJDK Runtime Environment (build 1.8.0_312-8u312-b07-0ubuntu1~18.04-b07)\n",
            "OpenJDK 64-Bit Server VM (build 25.312-b07, mixed mode)\n",
            "\u001b[K     |████████████████████████████████| 139 kB 5.5 MB/s \n",
            "\u001b[?25h"
          ]
        }
      ]
    },
    {
      "cell_type": "code",
      "source": [
        "spark = sparknlp.start()\n",
        "\n",
        "print(\"Spark NLP version: \", sparknlp.version())\n",
        "print(\"Apache Spark version: \", spark.version)"
      ],
      "metadata": {
        "colab": {
          "base_uri": "https://localhost:8080/"
        },
        "id": "x-QxMul_LgnF",
        "outputId": "8ac23e44-7f5b-4c01-999f-f2d2e0065f45"
      },
      "execution_count": null,
      "outputs": [
        {
          "output_type": "stream",
          "name": "stdout",
          "text": [
            "Spark NLP version:  2.7.5\n",
            "Apache Spark version:  2.3.0\n"
          ]
        }
      ]
    },
    {
      "cell_type": "code",
      "source": [
        "from sparknlp.pretrained import PretrainedPipeline"
      ],
      "metadata": {
        "id": "MZ5HXw6UMxKl"
      },
      "execution_count": null,
      "outputs": []
    },
    {
      "cell_type": "code",
      "source": [
        "pipeline = PretrainedPipeline('recognize_entities_dl','en')"
      ],
      "metadata": {
        "colab": {
          "base_uri": "https://localhost:8080/"
        },
        "id": "dWKKvxgQWDg4",
        "outputId": "482d1395-4937-416b-da59-9d74ccb14d32"
      },
      "execution_count": null,
      "outputs": [
        {
          "output_type": "stream",
          "name": "stdout",
          "text": [
            "recognize_entities_dl download started this may take some time.\n",
            "Approx size to download 159 MB\n",
            "[OK!]\n"
          ]
        }
      ]
    },
    {
      "cell_type": "code",
      "source": [
        "result = pipeline.annotate('Google has announced the release of a beta version of the popular TensorFlow machine learning library.')"
      ],
      "metadata": {
        "id": "iuprnNcWt8RW"
      },
      "execution_count": null,
      "outputs": []
    },
    {
      "cell_type": "code",
      "source": [
        "print(result)"
      ],
      "metadata": {
        "colab": {
          "base_uri": "https://localhost:8080/"
        },
        "id": "2IMAraJl1c4j",
        "outputId": "91c86bb4-2150-42c9-96b0-3a57c2879810"
      },
      "execution_count": null,
      "outputs": [
        {
          "output_type": "stream",
          "name": "stdout",
          "text": [
            "{'entities': ['Google', 'TensorFlow'], 'document': ['Google has announced the release of a beta version of the popular TensorFlow machine learning library.'], 'token': ['Google', 'has', 'announced', 'the', 'release', 'of', 'a', 'beta', 'version', 'of', 'the', 'popular', 'TensorFlow', 'machine', 'learning', 'library', '.'], 'ner': ['B-ORG', 'O', 'O', 'O', 'O', 'O', 'O', 'O', 'O', 'O', 'O', 'O', 'B-ORG', 'O', 'O', 'O', 'O'], 'embeddings': ['Google', 'has', 'announced', 'the', 'release', 'of', 'a', 'beta', 'version', 'of', 'the', 'popular', 'TensorFlow', 'machine', 'learning', 'library', '.'], 'sentence': ['Google has announced the release of a beta version of the popular TensorFlow machine learning library.']}\n"
          ]
        }
      ]
    },
    {
      "cell_type": "code",
      "source": [
        "print(result['ner'])"
      ],
      "metadata": {
        "colab": {
          "base_uri": "https://localhost:8080/"
        },
        "id": "DsFXoNr6x4xL",
        "outputId": "b190f787-079f-4451-afda-7983a9a04f24"
      },
      "execution_count": null,
      "outputs": [
        {
          "output_type": "stream",
          "name": "stdout",
          "text": [
            "['B-ORG', 'O', 'O', 'O', 'O', 'O', 'O', 'O', 'O', 'O', 'O', 'O', 'B-ORG', 'O', 'O', 'O', 'O']\n"
          ]
        }
      ]
    },
    {
      "cell_type": "code",
      "source": [
        "print(result['entities'])"
      ],
      "metadata": {
        "colab": {
          "base_uri": "https://localhost:8080/"
        },
        "id": "Tx_eBB1LyDZu",
        "outputId": "b72e76cd-b287-4086-bdc3-4007ba0c68bd"
      },
      "execution_count": null,
      "outputs": [
        {
          "output_type": "stream",
          "name": "stdout",
          "text": [
            "['Google', 'TensorFlow']\n"
          ]
        }
      ]
    },
    {
      "cell_type": "code",
      "source": [
        "# Sentiment Analysis\n",
        "pipeline = PretrainedPipeline('analyze_sentiment','en')"
      ],
      "metadata": {
        "colab": {
          "base_uri": "https://localhost:8080/"
        },
        "id": "3BW26DmyzdZ_",
        "outputId": "5b7be137-2005-4bf4-ea2e-42a570173bf3"
      },
      "execution_count": null,
      "outputs": [
        {
          "output_type": "stream",
          "name": "stdout",
          "text": [
            "analyze_sentiment download started this may take some time.\n",
            "Approx size to download 4.9 MB\n",
            "[OK!]\n"
          ]
        }
      ]
    },
    {
      "cell_type": "code",
      "source": [
        "result = pipeline.annotate('This is a very boring movie. I recommend others to awoid this movie is not good..')"
      ],
      "metadata": {
        "id": "8zWRr0on1O38"
      },
      "execution_count": null,
      "outputs": []
    },
    {
      "cell_type": "code",
      "source": [
        "print(result)"
      ],
      "metadata": {
        "colab": {
          "base_uri": "https://localhost:8080/"
        },
        "id": "WckpXavj1TWu",
        "outputId": "27f823bc-fa3f-4ab5-bf50-d7740cf5e631"
      },
      "execution_count": null,
      "outputs": [
        {
          "output_type": "stream",
          "name": "stdout",
          "text": [
            "{'checked': ['This', 'is', 'a', 'very', 'boring', 'movie', '.', 'I', 'recommend', 'others', 'to', 'avoid', 'this', 'movie', 'is', 'not', 'good', '.', '.'], 'document': ['This is a very boring movie. I recommend others to awoid this movie is not good..'], 'sentiment': ['negative', 'negative', 'negative'], 'token': ['This', 'is', 'a', 'very', 'boring', 'movie', '.', 'I', 'recommend', 'others', 'to', 'awoid', 'this', 'movie', 'is', 'not', 'good', '.', '.'], 'sentence': ['This is a very boring movie.', 'I recommend others to awoid this movie is not good.', '.']}\n"
          ]
        }
      ]
    },
    {
      "cell_type": "code",
      "source": [
        "print(result['sentiment'])"
      ],
      "metadata": {
        "colab": {
          "base_uri": "https://localhost:8080/"
        },
        "id": "LwGjHIbM1Weg",
        "outputId": "68ea819b-b768-45ae-d9f3-a8482f98dc05"
      },
      "execution_count": null,
      "outputs": [
        {
          "output_type": "stream",
          "name": "stdout",
          "text": [
            "['negative', 'negative', 'negative']\n"
          ]
        }
      ]
    },
    {
      "cell_type": "code",
      "source": [
        "#The word `awoid` has been corrected to `avoid` by spell checker insdie this pipeline\n",
        "print(result['checked'])"
      ],
      "metadata": {
        "colab": {
          "base_uri": "https://localhost:8080/"
        },
        "id": "wA3gBpjF7dG8",
        "outputId": "5219c076-cdb7-4523-f8c0-c99543a4e253"
      },
      "execution_count": null,
      "outputs": [
        {
          "output_type": "stream",
          "name": "stdout",
          "text": [
            "['This', 'is', 'a', 'very', 'boring', 'movie', '.', 'I', 'recommend', 'others', 'to', 'avoid', 'this', 'movie', 'is', 'not', 'good', '.', '.']\n"
          ]
        }
      ]
    },
    {
      "cell_type": "code",
      "source": [
        "testDoc = '''\n",
        "Peter is a very good persn.\n",
        "My life in Russia is very intersting.\n",
        "John and Peter are brothrs. However they don't support each other that much.\n",
        "Lucas Nogal Dunbercker is no longer happy. He has a good car though.\n",
        "Europe is very culture rich. There are huge churches! and big houses!\n",
        "'''"
      ],
      "metadata": {
        "id": "fffzoB5c7gQB"
      },
      "execution_count": null,
      "outputs": []
    },
    {
      "cell_type": "markdown",
      "source": [
        "Explaining Document DL\n",
        "\n",
        "**Stages**\n",
        "- DocumentAssembler\n",
        "- SentenceDetector\n",
        "- Tokenizer\n",
        "- NER (NER with GloVe 100D embeddings, CoNLL2003 dataset)\n",
        "- Lemmatizer\n",
        "- Stemmer\n",
        "- Part of Speech\n",
        "- SpellChecker (Norvig)"
      ],
      "metadata": {
        "id": "aDFrFBdz9Z3g"
      }
    },
    {
      "cell_type": "code",
      "source": [
        "pipeline = PretrainedPipeline('explain_document_ml', lang='en')"
      ],
      "metadata": {
        "colab": {
          "base_uri": "https://localhost:8080/"
        },
        "id": "hbEu2Ts69lAl",
        "outputId": "01e9d63c-19ca-473a-abf4-0df9942207b2"
      },
      "execution_count": null,
      "outputs": [
        {
          "output_type": "stream",
          "name": "stdout",
          "text": [
            "explain_document_ml download started this may take some time.\n",
            "Approx size to download 9.4 MB\n",
            "[OK!]\n"
          ]
        }
      ]
    },
    {
      "cell_type": "code",
      "source": [
        "pipeline.model.stages"
      ],
      "metadata": {
        "colab": {
          "base_uri": "https://localhost:8080/"
        },
        "id": "fxCp8rX4-qIr",
        "outputId": "9c547351-eff7-43c5-9db4-107966a196d9"
      },
      "execution_count": null,
      "outputs": [
        {
          "output_type": "execute_result",
          "data": {
            "text/plain": [
              "[document_2ec0b742eccd,\n",
              " SENTENCE_98fb8e28cb7b,\n",
              " REGEX_TOKENIZER_1f63ed636a13,\n",
              " SPELL_e4ea67180337,\n",
              " LEMMATIZER_c62ad8f355f9,\n",
              " STEMMER_75edcc4a9cdb,\n",
              " POS_29fd848601e6]"
            ]
          },
          "metadata": {},
          "execution_count": 18
        }
      ]
    },
    {
      "cell_type": "code",
      "source": [
        "# Load pretrained pipeline from local disk:\n",
        "\n",
        "pipeline_local = PretrainedPipeline.from_disk('/root/cache_pretrained/explain_document_ml_en_2.4.0_2.4_1580252705962')"
      ],
      "metadata": {
        "id": "5ptPWkEVAt-W"
      },
      "execution_count": null,
      "outputs": []
    },
    {
      "cell_type": "code",
      "source": [
        "print(pipeline_local)"
      ],
      "metadata": {
        "colab": {
          "base_uri": "https://localhost:8080/"
        },
        "id": "lUSkBmF-CqZs",
        "outputId": "462aa462-99ef-4d7f-ad20-17f594911e0e"
      },
      "execution_count": null,
      "outputs": [
        {
          "output_type": "stream",
          "name": "stdout",
          "text": [
            "<sparknlp.pretrained.PretrainedPipeline object at 0x7f1aaa7a11d0>\n"
          ]
        }
      ]
    },
    {
      "cell_type": "code",
      "source": [
        "%%time\n",
        "result = pipeline.annotate(testDoc)"
      ],
      "metadata": {
        "colab": {
          "base_uri": "https://localhost:8080/"
        },
        "id": "GptzWybXC1gb",
        "outputId": "f278e9d3-ec92-417f-c7de-8fcc70fdd250"
      },
      "execution_count": null,
      "outputs": [
        {
          "output_type": "stream",
          "name": "stdout",
          "text": [
            "CPU times: user 66.1 ms, sys: 26.9 ms, total: 93 ms\n",
            "Wall time: 1.58 s\n"
          ]
        }
      ]
    },
    {
      "cell_type": "code",
      "source": [
        "result.keys()"
      ],
      "metadata": {
        "colab": {
          "base_uri": "https://localhost:8080/"
        },
        "id": "RBo5GcMCDBJF",
        "outputId": "60c50f41-7bf8-430b-e77e-fabc20f955ce"
      },
      "execution_count": null,
      "outputs": [
        {
          "output_type": "execute_result",
          "data": {
            "text/plain": [
              "dict_keys(['document', 'spell', 'pos', 'lemmas', 'token', 'stems', 'sentence'])"
            ]
          },
          "metadata": {},
          "execution_count": 22
        }
      ]
    },
    {
      "cell_type": "code",
      "source": [
        "result['sentence']"
      ],
      "metadata": {
        "colab": {
          "base_uri": "https://localhost:8080/"
        },
        "id": "cWVB0VEgFmw0",
        "outputId": "62954cf3-22a1-41d2-a696-d1e92753d75d"
      },
      "execution_count": null,
      "outputs": [
        {
          "output_type": "execute_result",
          "data": {
            "text/plain": [
              "['Peter is a very good persn.',\n",
              " 'My life in Russia is very intersting.',\n",
              " 'John and Peter are brothrs.',\n",
              " \"However they don't support each other that much.\",\n",
              " 'Lucas Nogal Dunbercker is no longer happy.',\n",
              " 'He has a good car though.',\n",
              " 'Europe is very culture rich.',\n",
              " 'There are huge churches!',\n",
              " 'and big houses!']"
            ]
          },
          "metadata": {},
          "execution_count": 23
        }
      ]
    },
    {
      "cell_type": "code",
      "source": [
        "result['token']"
      ],
      "metadata": {
        "colab": {
          "base_uri": "https://localhost:8080/"
        },
        "id": "1WvjQlbrGjja",
        "outputId": "a1c3a321-fd56-42ca-d3d8-58fc281815ea"
      },
      "execution_count": null,
      "outputs": [
        {
          "output_type": "execute_result",
          "data": {
            "text/plain": [
              "['Peter',\n",
              " 'is',\n",
              " 'a',\n",
              " 'very',\n",
              " 'good',\n",
              " 'persn',\n",
              " '.',\n",
              " 'My',\n",
              " 'life',\n",
              " 'in',\n",
              " 'Russia',\n",
              " 'is',\n",
              " 'very',\n",
              " 'intersting',\n",
              " '.',\n",
              " 'John',\n",
              " 'and',\n",
              " 'Peter',\n",
              " 'are',\n",
              " 'brothrs',\n",
              " '.',\n",
              " 'However',\n",
              " 'they',\n",
              " \"don't\",\n",
              " 'support',\n",
              " 'each',\n",
              " 'other',\n",
              " 'that',\n",
              " 'much',\n",
              " '.',\n",
              " 'Lucas',\n",
              " 'Nogal',\n",
              " 'Dunbercker',\n",
              " 'is',\n",
              " 'no',\n",
              " 'longer',\n",
              " 'happy',\n",
              " '.',\n",
              " 'He',\n",
              " 'has',\n",
              " 'a',\n",
              " 'good',\n",
              " 'car',\n",
              " 'though',\n",
              " '.',\n",
              " 'Europe',\n",
              " 'is',\n",
              " 'very',\n",
              " 'culture',\n",
              " 'rich',\n",
              " '.',\n",
              " 'There',\n",
              " 'are',\n",
              " 'huge',\n",
              " 'churches',\n",
              " '!',\n",
              " 'and',\n",
              " 'big',\n",
              " 'houses',\n",
              " '!']"
            ]
          },
          "metadata": {},
          "execution_count": 24
        }
      ]
    },
    {
      "cell_type": "code",
      "source": [
        "list(zip(result['token'],result['pos']))"
      ],
      "metadata": {
        "colab": {
          "base_uri": "https://localhost:8080/"
        },
        "id": "EH-JOW2_RlB7",
        "outputId": "82901f51-fcc4-4830-86e5-67004aa59136"
      },
      "execution_count": null,
      "outputs": [
        {
          "output_type": "execute_result",
          "data": {
            "text/plain": [
              "[('Peter', 'NNP'),\n",
              " ('is', 'VBZ'),\n",
              " ('a', 'DT'),\n",
              " ('very', 'RB'),\n",
              " ('good', 'JJ'),\n",
              " ('persn', 'NN'),\n",
              " ('.', '.'),\n",
              " ('My', 'PRP$'),\n",
              " ('life', 'NN'),\n",
              " ('in', 'IN'),\n",
              " ('Russia', 'NNP'),\n",
              " ('is', 'VBZ'),\n",
              " ('very', 'RB'),\n",
              " ('intersting', 'JJ'),\n",
              " ('.', '.'),\n",
              " ('John', 'NNP'),\n",
              " ('and', 'CC'),\n",
              " ('Peter', 'NNP'),\n",
              " ('are', 'VBP'),\n",
              " ('brothrs', 'NNS'),\n",
              " ('.', '.'),\n",
              " ('However', 'RB'),\n",
              " ('they', 'PRP'),\n",
              " (\"don't\", 'VBP'),\n",
              " ('support', 'VB'),\n",
              " ('each', 'DT'),\n",
              " ('other', 'JJ'),\n",
              " ('that', 'IN'),\n",
              " ('much', 'JJ'),\n",
              " ('.', '.'),\n",
              " ('Lucas', 'NNP'),\n",
              " ('Nogal', 'NNP'),\n",
              " ('Dunbercker', 'NNP'),\n",
              " ('is', 'VBZ'),\n",
              " ('no', 'DT'),\n",
              " ('longer', 'RB'),\n",
              " ('happy', 'JJ'),\n",
              " ('.', '.'),\n",
              " ('He', 'PRP'),\n",
              " ('has', 'VBZ'),\n",
              " ('a', 'DT'),\n",
              " ('good', 'JJ'),\n",
              " ('car', 'NN'),\n",
              " ('though', 'IN'),\n",
              " ('.', '.'),\n",
              " ('Europe', 'NNP'),\n",
              " ('is', 'VBZ'),\n",
              " ('very', 'RB'),\n",
              " ('culture', 'RB'),\n",
              " ('rich', 'JJ'),\n",
              " ('.', '.'),\n",
              " ('There', 'EX'),\n",
              " ('are', 'VBP'),\n",
              " ('huge', 'JJ'),\n",
              " ('churches', 'NNS'),\n",
              " ('!', '.'),\n",
              " ('and', 'CC'),\n",
              " ('big', 'JJ'),\n",
              " ('houses', 'NNS'),\n",
              " ('!', '.')]"
            ]
          },
          "metadata": {},
          "execution_count": 25
        }
      ]
    },
    {
      "cell_type": "code",
      "source": [
        "list(zip(result['token'], result['lemmas'], result['stems'], result['spell']))"
      ],
      "metadata": {
        "colab": {
          "base_uri": "https://localhost:8080/"
        },
        "id": "QGYC5sl9SHb4",
        "outputId": "c8dc1478-3f8b-4adb-d1d0-ea8b8957a42e"
      },
      "execution_count": null,
      "outputs": [
        {
          "output_type": "execute_result",
          "data": {
            "text/plain": [
              "[('Peter', 'Peter', 'peter', 'Peter'),\n",
              " ('is', 'be', 'i', 'is'),\n",
              " ('a', 'a', 'a', 'a'),\n",
              " ('very', 'very', 'veri', 'very'),\n",
              " ('good', 'good', 'good', 'good'),\n",
              " ('persn', 'person', 'person', 'person'),\n",
              " ('.', '.', '.', '.'),\n",
              " ('My', 'My', 'my', 'My'),\n",
              " ('life', 'life', 'life', 'life'),\n",
              " ('in', 'in', 'in', 'in'),\n",
              " ('Russia', 'Russia', 'russia', 'Russia'),\n",
              " ('is', 'be', 'i', 'is'),\n",
              " ('very', 'very', 'veri', 'very'),\n",
              " ('intersting', 'interest', 'interest', 'interesting'),\n",
              " ('.', '.', '.', '.'),\n",
              " ('John', 'John', 'john', 'John'),\n",
              " ('and', 'and', 'and', 'and'),\n",
              " ('Peter', 'Peter', 'peter', 'Peter'),\n",
              " ('are', 'be', 'ar', 'are'),\n",
              " ('brothrs', 'broth', 'broth', 'broths'),\n",
              " ('.', '.', '.', '.'),\n",
              " ('However', 'However', 'howev', 'However'),\n",
              " ('they', 'they', 'thei', 'they'),\n",
              " (\"don't\", \"don't\", \"don't\", \"don't\"),\n",
              " ('support', 'support', 'support', 'support'),\n",
              " ('each', 'each', 'each', 'each'),\n",
              " ('other', 'other', 'other', 'other'),\n",
              " ('that', 'that', 'that', 'that'),\n",
              " ('much', 'much', 'much', 'much'),\n",
              " ('.', '.', '.', '.'),\n",
              " ('Lucas', 'Lucas', 'luca', 'Lucas'),\n",
              " ('Nogal', 'Nogal', 'nogal', 'Nogal'),\n",
              " ('Dunbercker', 'Dunbercker', 'dunberck', 'Dunbercker'),\n",
              " ('is', 'be', 'i', 'is'),\n",
              " ('no', 'no', 'no', 'no'),\n",
              " ('longer', 'long', 'longer', 'longer'),\n",
              " ('happy', 'happy', 'happi', 'happy'),\n",
              " ('.', '.', '.', '.'),\n",
              " ('He', 'He', 'he', 'He'),\n",
              " ('has', 'have', 'ha', 'has'),\n",
              " ('a', 'a', 'a', 'a'),\n",
              " ('good', 'good', 'good', 'good'),\n",
              " ('car', 'car', 'car', 'car'),\n",
              " ('though', 'though', 'though', 'though'),\n",
              " ('.', '.', '.', '.'),\n",
              " ('Europe', 'Europe', 'europ', 'Europe'),\n",
              " ('is', 'be', 'i', 'is'),\n",
              " ('very', 'very', 'veri', 'very'),\n",
              " ('culture', 'culture', 'cultur', 'culture'),\n",
              " ('rich', 'rich', 'rich', 'rich'),\n",
              " ('.', '.', '.', '.'),\n",
              " ('There', 'There', 'there', 'There'),\n",
              " ('are', 'be', 'ar', 'are'),\n",
              " ('huge', 'huge', 'huge', 'huge'),\n",
              " ('churches', 'church', 'church', 'churches'),\n",
              " ('!', '!', '!', '!'),\n",
              " ('and', 'and', 'and', 'and'),\n",
              " ('big', 'big', 'big', 'big'),\n",
              " ('houses', 'house', 'hous', 'houses'),\n",
              " ('!', '!', '!', '!')]"
            ]
          },
          "metadata": {},
          "execution_count": 26
        }
      ]
    },
    {
      "cell_type": "code",
      "source": [
        "import pandas as pd\n",
        "\n",
        "df = pd.DataFrame ({'token' : result['token'],\n",
        "                    'corrected' : result['spell'],'POS' : result['pos'],\n",
        "                    'lemmas' : result['lemmas'],'stems' : result['stems']})\n",
        "\n",
        "df"
      ],
      "metadata": {
        "colab": {
          "base_uri": "https://localhost:8080/",
          "height": 1000
        },
        "id": "tLvcANC7Nhpw",
        "outputId": "638c6873-1136-4815-b286-b270be67eef1"
      },
      "execution_count": null,
      "outputs": [
        {
          "output_type": "execute_result",
          "data": {
            "text/html": [
              "\n",
              "  <div id=\"df-31803fa8-dbd5-4c90-a38b-b9f40fc4e8f9\">\n",
              "    <div class=\"colab-df-container\">\n",
              "      <div>\n",
              "<style scoped>\n",
              "    .dataframe tbody tr th:only-of-type {\n",
              "        vertical-align: middle;\n",
              "    }\n",
              "\n",
              "    .dataframe tbody tr th {\n",
              "        vertical-align: top;\n",
              "    }\n",
              "\n",
              "    .dataframe thead th {\n",
              "        text-align: right;\n",
              "    }\n",
              "</style>\n",
              "<table border=\"1\" class=\"dataframe\">\n",
              "  <thead>\n",
              "    <tr style=\"text-align: right;\">\n",
              "      <th></th>\n",
              "      <th>token</th>\n",
              "      <th>corrected</th>\n",
              "      <th>POS</th>\n",
              "      <th>lemmas</th>\n",
              "      <th>stems</th>\n",
              "    </tr>\n",
              "  </thead>\n",
              "  <tbody>\n",
              "    <tr>\n",
              "      <th>0</th>\n",
              "      <td>Peter</td>\n",
              "      <td>Peter</td>\n",
              "      <td>NNP</td>\n",
              "      <td>Peter</td>\n",
              "      <td>peter</td>\n",
              "    </tr>\n",
              "    <tr>\n",
              "      <th>1</th>\n",
              "      <td>is</td>\n",
              "      <td>is</td>\n",
              "      <td>VBZ</td>\n",
              "      <td>be</td>\n",
              "      <td>i</td>\n",
              "    </tr>\n",
              "    <tr>\n",
              "      <th>2</th>\n",
              "      <td>a</td>\n",
              "      <td>a</td>\n",
              "      <td>DT</td>\n",
              "      <td>a</td>\n",
              "      <td>a</td>\n",
              "    </tr>\n",
              "    <tr>\n",
              "      <th>3</th>\n",
              "      <td>very</td>\n",
              "      <td>very</td>\n",
              "      <td>RB</td>\n",
              "      <td>very</td>\n",
              "      <td>veri</td>\n",
              "    </tr>\n",
              "    <tr>\n",
              "      <th>4</th>\n",
              "      <td>good</td>\n",
              "      <td>good</td>\n",
              "      <td>JJ</td>\n",
              "      <td>good</td>\n",
              "      <td>good</td>\n",
              "    </tr>\n",
              "    <tr>\n",
              "      <th>5</th>\n",
              "      <td>persn</td>\n",
              "      <td>person</td>\n",
              "      <td>NN</td>\n",
              "      <td>person</td>\n",
              "      <td>person</td>\n",
              "    </tr>\n",
              "    <tr>\n",
              "      <th>6</th>\n",
              "      <td>.</td>\n",
              "      <td>.</td>\n",
              "      <td>.</td>\n",
              "      <td>.</td>\n",
              "      <td>.</td>\n",
              "    </tr>\n",
              "    <tr>\n",
              "      <th>7</th>\n",
              "      <td>My</td>\n",
              "      <td>My</td>\n",
              "      <td>PRP$</td>\n",
              "      <td>My</td>\n",
              "      <td>my</td>\n",
              "    </tr>\n",
              "    <tr>\n",
              "      <th>8</th>\n",
              "      <td>life</td>\n",
              "      <td>life</td>\n",
              "      <td>NN</td>\n",
              "      <td>life</td>\n",
              "      <td>life</td>\n",
              "    </tr>\n",
              "    <tr>\n",
              "      <th>9</th>\n",
              "      <td>in</td>\n",
              "      <td>in</td>\n",
              "      <td>IN</td>\n",
              "      <td>in</td>\n",
              "      <td>in</td>\n",
              "    </tr>\n",
              "    <tr>\n",
              "      <th>10</th>\n",
              "      <td>Russia</td>\n",
              "      <td>Russia</td>\n",
              "      <td>NNP</td>\n",
              "      <td>Russia</td>\n",
              "      <td>russia</td>\n",
              "    </tr>\n",
              "    <tr>\n",
              "      <th>11</th>\n",
              "      <td>is</td>\n",
              "      <td>is</td>\n",
              "      <td>VBZ</td>\n",
              "      <td>be</td>\n",
              "      <td>i</td>\n",
              "    </tr>\n",
              "    <tr>\n",
              "      <th>12</th>\n",
              "      <td>very</td>\n",
              "      <td>very</td>\n",
              "      <td>RB</td>\n",
              "      <td>very</td>\n",
              "      <td>veri</td>\n",
              "    </tr>\n",
              "    <tr>\n",
              "      <th>13</th>\n",
              "      <td>intersting</td>\n",
              "      <td>interesting</td>\n",
              "      <td>JJ</td>\n",
              "      <td>interest</td>\n",
              "      <td>interest</td>\n",
              "    </tr>\n",
              "    <tr>\n",
              "      <th>14</th>\n",
              "      <td>.</td>\n",
              "      <td>.</td>\n",
              "      <td>.</td>\n",
              "      <td>.</td>\n",
              "      <td>.</td>\n",
              "    </tr>\n",
              "    <tr>\n",
              "      <th>15</th>\n",
              "      <td>John</td>\n",
              "      <td>John</td>\n",
              "      <td>NNP</td>\n",
              "      <td>John</td>\n",
              "      <td>john</td>\n",
              "    </tr>\n",
              "    <tr>\n",
              "      <th>16</th>\n",
              "      <td>and</td>\n",
              "      <td>and</td>\n",
              "      <td>CC</td>\n",
              "      <td>and</td>\n",
              "      <td>and</td>\n",
              "    </tr>\n",
              "    <tr>\n",
              "      <th>17</th>\n",
              "      <td>Peter</td>\n",
              "      <td>Peter</td>\n",
              "      <td>NNP</td>\n",
              "      <td>Peter</td>\n",
              "      <td>peter</td>\n",
              "    </tr>\n",
              "    <tr>\n",
              "      <th>18</th>\n",
              "      <td>are</td>\n",
              "      <td>are</td>\n",
              "      <td>VBP</td>\n",
              "      <td>be</td>\n",
              "      <td>ar</td>\n",
              "    </tr>\n",
              "    <tr>\n",
              "      <th>19</th>\n",
              "      <td>brothrs</td>\n",
              "      <td>broths</td>\n",
              "      <td>NNS</td>\n",
              "      <td>broth</td>\n",
              "      <td>broth</td>\n",
              "    </tr>\n",
              "    <tr>\n",
              "      <th>20</th>\n",
              "      <td>.</td>\n",
              "      <td>.</td>\n",
              "      <td>.</td>\n",
              "      <td>.</td>\n",
              "      <td>.</td>\n",
              "    </tr>\n",
              "    <tr>\n",
              "      <th>21</th>\n",
              "      <td>However</td>\n",
              "      <td>However</td>\n",
              "      <td>RB</td>\n",
              "      <td>However</td>\n",
              "      <td>howev</td>\n",
              "    </tr>\n",
              "    <tr>\n",
              "      <th>22</th>\n",
              "      <td>they</td>\n",
              "      <td>they</td>\n",
              "      <td>PRP</td>\n",
              "      <td>they</td>\n",
              "      <td>thei</td>\n",
              "    </tr>\n",
              "    <tr>\n",
              "      <th>23</th>\n",
              "      <td>don't</td>\n",
              "      <td>don't</td>\n",
              "      <td>VBP</td>\n",
              "      <td>don't</td>\n",
              "      <td>don't</td>\n",
              "    </tr>\n",
              "    <tr>\n",
              "      <th>24</th>\n",
              "      <td>support</td>\n",
              "      <td>support</td>\n",
              "      <td>VB</td>\n",
              "      <td>support</td>\n",
              "      <td>support</td>\n",
              "    </tr>\n",
              "    <tr>\n",
              "      <th>25</th>\n",
              "      <td>each</td>\n",
              "      <td>each</td>\n",
              "      <td>DT</td>\n",
              "      <td>each</td>\n",
              "      <td>each</td>\n",
              "    </tr>\n",
              "    <tr>\n",
              "      <th>26</th>\n",
              "      <td>other</td>\n",
              "      <td>other</td>\n",
              "      <td>JJ</td>\n",
              "      <td>other</td>\n",
              "      <td>other</td>\n",
              "    </tr>\n",
              "    <tr>\n",
              "      <th>27</th>\n",
              "      <td>that</td>\n",
              "      <td>that</td>\n",
              "      <td>IN</td>\n",
              "      <td>that</td>\n",
              "      <td>that</td>\n",
              "    </tr>\n",
              "    <tr>\n",
              "      <th>28</th>\n",
              "      <td>much</td>\n",
              "      <td>much</td>\n",
              "      <td>JJ</td>\n",
              "      <td>much</td>\n",
              "      <td>much</td>\n",
              "    </tr>\n",
              "    <tr>\n",
              "      <th>29</th>\n",
              "      <td>.</td>\n",
              "      <td>.</td>\n",
              "      <td>.</td>\n",
              "      <td>.</td>\n",
              "      <td>.</td>\n",
              "    </tr>\n",
              "    <tr>\n",
              "      <th>30</th>\n",
              "      <td>Lucas</td>\n",
              "      <td>Lucas</td>\n",
              "      <td>NNP</td>\n",
              "      <td>Lucas</td>\n",
              "      <td>luca</td>\n",
              "    </tr>\n",
              "    <tr>\n",
              "      <th>31</th>\n",
              "      <td>Nogal</td>\n",
              "      <td>Nogal</td>\n",
              "      <td>NNP</td>\n",
              "      <td>Nogal</td>\n",
              "      <td>nogal</td>\n",
              "    </tr>\n",
              "    <tr>\n",
              "      <th>32</th>\n",
              "      <td>Dunbercker</td>\n",
              "      <td>Dunbercker</td>\n",
              "      <td>NNP</td>\n",
              "      <td>Dunbercker</td>\n",
              "      <td>dunberck</td>\n",
              "    </tr>\n",
              "    <tr>\n",
              "      <th>33</th>\n",
              "      <td>is</td>\n",
              "      <td>is</td>\n",
              "      <td>VBZ</td>\n",
              "      <td>be</td>\n",
              "      <td>i</td>\n",
              "    </tr>\n",
              "    <tr>\n",
              "      <th>34</th>\n",
              "      <td>no</td>\n",
              "      <td>no</td>\n",
              "      <td>DT</td>\n",
              "      <td>no</td>\n",
              "      <td>no</td>\n",
              "    </tr>\n",
              "    <tr>\n",
              "      <th>35</th>\n",
              "      <td>longer</td>\n",
              "      <td>longer</td>\n",
              "      <td>RB</td>\n",
              "      <td>long</td>\n",
              "      <td>longer</td>\n",
              "    </tr>\n",
              "    <tr>\n",
              "      <th>36</th>\n",
              "      <td>happy</td>\n",
              "      <td>happy</td>\n",
              "      <td>JJ</td>\n",
              "      <td>happy</td>\n",
              "      <td>happi</td>\n",
              "    </tr>\n",
              "    <tr>\n",
              "      <th>37</th>\n",
              "      <td>.</td>\n",
              "      <td>.</td>\n",
              "      <td>.</td>\n",
              "      <td>.</td>\n",
              "      <td>.</td>\n",
              "    </tr>\n",
              "    <tr>\n",
              "      <th>38</th>\n",
              "      <td>He</td>\n",
              "      <td>He</td>\n",
              "      <td>PRP</td>\n",
              "      <td>He</td>\n",
              "      <td>he</td>\n",
              "    </tr>\n",
              "    <tr>\n",
              "      <th>39</th>\n",
              "      <td>has</td>\n",
              "      <td>has</td>\n",
              "      <td>VBZ</td>\n",
              "      <td>have</td>\n",
              "      <td>ha</td>\n",
              "    </tr>\n",
              "    <tr>\n",
              "      <th>40</th>\n",
              "      <td>a</td>\n",
              "      <td>a</td>\n",
              "      <td>DT</td>\n",
              "      <td>a</td>\n",
              "      <td>a</td>\n",
              "    </tr>\n",
              "    <tr>\n",
              "      <th>41</th>\n",
              "      <td>good</td>\n",
              "      <td>good</td>\n",
              "      <td>JJ</td>\n",
              "      <td>good</td>\n",
              "      <td>good</td>\n",
              "    </tr>\n",
              "    <tr>\n",
              "      <th>42</th>\n",
              "      <td>car</td>\n",
              "      <td>car</td>\n",
              "      <td>NN</td>\n",
              "      <td>car</td>\n",
              "      <td>car</td>\n",
              "    </tr>\n",
              "    <tr>\n",
              "      <th>43</th>\n",
              "      <td>though</td>\n",
              "      <td>though</td>\n",
              "      <td>IN</td>\n",
              "      <td>though</td>\n",
              "      <td>though</td>\n",
              "    </tr>\n",
              "    <tr>\n",
              "      <th>44</th>\n",
              "      <td>.</td>\n",
              "      <td>.</td>\n",
              "      <td>.</td>\n",
              "      <td>.</td>\n",
              "      <td>.</td>\n",
              "    </tr>\n",
              "    <tr>\n",
              "      <th>45</th>\n",
              "      <td>Europe</td>\n",
              "      <td>Europe</td>\n",
              "      <td>NNP</td>\n",
              "      <td>Europe</td>\n",
              "      <td>europ</td>\n",
              "    </tr>\n",
              "    <tr>\n",
              "      <th>46</th>\n",
              "      <td>is</td>\n",
              "      <td>is</td>\n",
              "      <td>VBZ</td>\n",
              "      <td>be</td>\n",
              "      <td>i</td>\n",
              "    </tr>\n",
              "    <tr>\n",
              "      <th>47</th>\n",
              "      <td>very</td>\n",
              "      <td>very</td>\n",
              "      <td>RB</td>\n",
              "      <td>very</td>\n",
              "      <td>veri</td>\n",
              "    </tr>\n",
              "    <tr>\n",
              "      <th>48</th>\n",
              "      <td>culture</td>\n",
              "      <td>culture</td>\n",
              "      <td>RB</td>\n",
              "      <td>culture</td>\n",
              "      <td>cultur</td>\n",
              "    </tr>\n",
              "    <tr>\n",
              "      <th>49</th>\n",
              "      <td>rich</td>\n",
              "      <td>rich</td>\n",
              "      <td>JJ</td>\n",
              "      <td>rich</td>\n",
              "      <td>rich</td>\n",
              "    </tr>\n",
              "    <tr>\n",
              "      <th>50</th>\n",
              "      <td>.</td>\n",
              "      <td>.</td>\n",
              "      <td>.</td>\n",
              "      <td>.</td>\n",
              "      <td>.</td>\n",
              "    </tr>\n",
              "    <tr>\n",
              "      <th>51</th>\n",
              "      <td>There</td>\n",
              "      <td>There</td>\n",
              "      <td>EX</td>\n",
              "      <td>There</td>\n",
              "      <td>there</td>\n",
              "    </tr>\n",
              "    <tr>\n",
              "      <th>52</th>\n",
              "      <td>are</td>\n",
              "      <td>are</td>\n",
              "      <td>VBP</td>\n",
              "      <td>be</td>\n",
              "      <td>ar</td>\n",
              "    </tr>\n",
              "    <tr>\n",
              "      <th>53</th>\n",
              "      <td>huge</td>\n",
              "      <td>huge</td>\n",
              "      <td>JJ</td>\n",
              "      <td>huge</td>\n",
              "      <td>huge</td>\n",
              "    </tr>\n",
              "    <tr>\n",
              "      <th>54</th>\n",
              "      <td>churches</td>\n",
              "      <td>churches</td>\n",
              "      <td>NNS</td>\n",
              "      <td>church</td>\n",
              "      <td>church</td>\n",
              "    </tr>\n",
              "    <tr>\n",
              "      <th>55</th>\n",
              "      <td>!</td>\n",
              "      <td>!</td>\n",
              "      <td>.</td>\n",
              "      <td>!</td>\n",
              "      <td>!</td>\n",
              "    </tr>\n",
              "    <tr>\n",
              "      <th>56</th>\n",
              "      <td>and</td>\n",
              "      <td>and</td>\n",
              "      <td>CC</td>\n",
              "      <td>and</td>\n",
              "      <td>and</td>\n",
              "    </tr>\n",
              "    <tr>\n",
              "      <th>57</th>\n",
              "      <td>big</td>\n",
              "      <td>big</td>\n",
              "      <td>JJ</td>\n",
              "      <td>big</td>\n",
              "      <td>big</td>\n",
              "    </tr>\n",
              "    <tr>\n",
              "      <th>58</th>\n",
              "      <td>houses</td>\n",
              "      <td>houses</td>\n",
              "      <td>NNS</td>\n",
              "      <td>house</td>\n",
              "      <td>hous</td>\n",
              "    </tr>\n",
              "    <tr>\n",
              "      <th>59</th>\n",
              "      <td>!</td>\n",
              "      <td>!</td>\n",
              "      <td>.</td>\n",
              "      <td>!</td>\n",
              "      <td>!</td>\n",
              "    </tr>\n",
              "  </tbody>\n",
              "</table>\n",
              "</div>\n",
              "      <button class=\"colab-df-convert\" onclick=\"convertToInteractive('df-31803fa8-dbd5-4c90-a38b-b9f40fc4e8f9')\"\n",
              "              title=\"Convert this dataframe to an interactive table.\"\n",
              "              style=\"display:none;\">\n",
              "        \n",
              "  <svg xmlns=\"http://www.w3.org/2000/svg\" height=\"24px\"viewBox=\"0 0 24 24\"\n",
              "       width=\"24px\">\n",
              "    <path d=\"M0 0h24v24H0V0z\" fill=\"none\"/>\n",
              "    <path d=\"M18.56 5.44l.94 2.06.94-2.06 2.06-.94-2.06-.94-.94-2.06-.94 2.06-2.06.94zm-11 1L8.5 8.5l.94-2.06 2.06-.94-2.06-.94L8.5 2.5l-.94 2.06-2.06.94zm10 10l.94 2.06.94-2.06 2.06-.94-2.06-.94-.94-2.06-.94 2.06-2.06.94z\"/><path d=\"M17.41 7.96l-1.37-1.37c-.4-.4-.92-.59-1.43-.59-.52 0-1.04.2-1.43.59L10.3 9.45l-7.72 7.72c-.78.78-.78 2.05 0 2.83L4 21.41c.39.39.9.59 1.41.59.51 0 1.02-.2 1.41-.59l7.78-7.78 2.81-2.81c.8-.78.8-2.07 0-2.86zM5.41 20L4 18.59l7.72-7.72 1.47 1.35L5.41 20z\"/>\n",
              "  </svg>\n",
              "      </button>\n",
              "      \n",
              "  <style>\n",
              "    .colab-df-container {\n",
              "      display:flex;\n",
              "      flex-wrap:wrap;\n",
              "      gap: 12px;\n",
              "    }\n",
              "\n",
              "    .colab-df-convert {\n",
              "      background-color: #E8F0FE;\n",
              "      border: none;\n",
              "      border-radius: 50%;\n",
              "      cursor: pointer;\n",
              "      display: none;\n",
              "      fill: #1967D2;\n",
              "      height: 32px;\n",
              "      padding: 0 0 0 0;\n",
              "      width: 32px;\n",
              "    }\n",
              "\n",
              "    .colab-df-convert:hover {\n",
              "      background-color: #E2EBFA;\n",
              "      box-shadow: 0px 1px 2px rgba(60, 64, 67, 0.3), 0px 1px 3px 1px rgba(60, 64, 67, 0.15);\n",
              "      fill: #174EA6;\n",
              "    }\n",
              "\n",
              "    [theme=dark] .colab-df-convert {\n",
              "      background-color: #3B4455;\n",
              "      fill: #D2E3FC;\n",
              "    }\n",
              "\n",
              "    [theme=dark] .colab-df-convert:hover {\n",
              "      background-color: #434B5C;\n",
              "      box-shadow: 0px 1px 3px 1px rgba(0, 0, 0, 0.15);\n",
              "      filter: drop-shadow(0px 1px 2px rgba(0, 0, 0, 0.3));\n",
              "      fill: #FFFFFF;\n",
              "    }\n",
              "  </style>\n",
              "\n",
              "      <script>\n",
              "        const buttonEl =\n",
              "          document.querySelector('#df-31803fa8-dbd5-4c90-a38b-b9f40fc4e8f9 button.colab-df-convert');\n",
              "        buttonEl.style.display =\n",
              "          google.colab.kernel.accessAllowed ? 'block' : 'none';\n",
              "\n",
              "        async function convertToInteractive(key) {\n",
              "          const element = document.querySelector('#df-31803fa8-dbd5-4c90-a38b-b9f40fc4e8f9');\n",
              "          const dataTable =\n",
              "            await google.colab.kernel.invokeFunction('convertToInteractive',\n",
              "                                                     [key], {});\n",
              "          if (!dataTable) return;\n",
              "\n",
              "          const docLinkHtml = 'Like what you see? Visit the ' +\n",
              "            '<a target=\"_blank\" href=https://colab.research.google.com/notebooks/data_table.ipynb>data table notebook</a>'\n",
              "            + ' to learn more about interactive tables.';\n",
              "          element.innerHTML = '';\n",
              "          dataTable['output_type'] = 'display_data';\n",
              "          await google.colab.output.renderOutput(dataTable, element);\n",
              "          const docLink = document.createElement('div');\n",
              "          docLink.innerHTML = docLinkHtml;\n",
              "          element.appendChild(docLink);\n",
              "        }\n",
              "      </script>\n",
              "    </div>\n",
              "  </div>\n",
              "  "
            ],
            "text/plain": [
              "         token    corrected   POS      lemmas     stems\n",
              "0        Peter        Peter   NNP       Peter     peter\n",
              "1           is           is   VBZ          be         i\n",
              "2            a            a    DT           a         a\n",
              "3         very         very    RB        very      veri\n",
              "4         good         good    JJ        good      good\n",
              "5        persn       person    NN      person    person\n",
              "6            .            .     .           .         .\n",
              "7           My           My  PRP$          My        my\n",
              "8         life         life    NN        life      life\n",
              "9           in           in    IN          in        in\n",
              "10      Russia       Russia   NNP      Russia    russia\n",
              "11          is           is   VBZ          be         i\n",
              "12        very         very    RB        very      veri\n",
              "13  intersting  interesting    JJ    interest  interest\n",
              "14           .            .     .           .         .\n",
              "15        John         John   NNP        John      john\n",
              "16         and          and    CC         and       and\n",
              "17       Peter        Peter   NNP       Peter     peter\n",
              "18         are          are   VBP          be        ar\n",
              "19     brothrs       broths   NNS       broth     broth\n",
              "20           .            .     .           .         .\n",
              "21     However      However    RB     However     howev\n",
              "22        they         they   PRP        they      thei\n",
              "23       don't        don't   VBP       don't     don't\n",
              "24     support      support    VB     support   support\n",
              "25        each         each    DT        each      each\n",
              "26       other        other    JJ       other     other\n",
              "27        that         that    IN        that      that\n",
              "28        much         much    JJ        much      much\n",
              "29           .            .     .           .         .\n",
              "30       Lucas        Lucas   NNP       Lucas      luca\n",
              "31       Nogal        Nogal   NNP       Nogal     nogal\n",
              "32  Dunbercker   Dunbercker   NNP  Dunbercker  dunberck\n",
              "33          is           is   VBZ          be         i\n",
              "34          no           no    DT          no        no\n",
              "35      longer       longer    RB        long    longer\n",
              "36       happy        happy    JJ       happy     happi\n",
              "37           .            .     .           .         .\n",
              "38          He           He   PRP          He        he\n",
              "39         has          has   VBZ        have        ha\n",
              "40           a            a    DT           a         a\n",
              "41        good         good    JJ        good      good\n",
              "42         car          car    NN         car       car\n",
              "43      though       though    IN      though    though\n",
              "44           .            .     .           .         .\n",
              "45      Europe       Europe   NNP      Europe     europ\n",
              "46          is           is   VBZ          be         i\n",
              "47        very         very    RB        very      veri\n",
              "48     culture      culture    RB     culture    cultur\n",
              "49        rich         rich    JJ        rich      rich\n",
              "50           .            .     .           .         .\n",
              "51       There        There    EX       There     there\n",
              "52         are          are   VBP          be        ar\n",
              "53        huge         huge    JJ        huge      huge\n",
              "54    churches     churches   NNS      church    church\n",
              "55           !            !     .           !         !\n",
              "56         and          and    CC         and       and\n",
              "57         big          big    JJ         big       big\n",
              "58      houses       houses   NNS       house      hous\n",
              "59           !            !     .           !         !"
            ]
          },
          "metadata": {},
          "execution_count": 27
        }
      ]
    },
    {
      "cell_type": "code",
      "source": [
        "pipeline_dl = PretrainedPipeline('explain_document_dl', lang='en')"
      ],
      "metadata": {
        "colab": {
          "base_uri": "https://localhost:8080/"
        },
        "id": "0lzme7xBRWaJ",
        "outputId": "e0e044c5-16ab-45d9-f0b8-453ad75e2018"
      },
      "execution_count": null,
      "outputs": [
        {
          "output_type": "stream",
          "name": "stdout",
          "text": [
            "explain_document_dl download started this may take some time.\n",
            "Approx size to download 168.4 MB\n",
            "[OK!]\n"
          ]
        }
      ]
    },
    {
      "cell_type": "code",
      "source": [
        "pipeline_dl.model"
      ],
      "metadata": {
        "colab": {
          "base_uri": "https://localhost:8080/"
        },
        "id": "U4TUYQ4fixYR",
        "outputId": "de6ad920-fbf1-492c-d04f-7a5ce7596ac4"
      },
      "execution_count": null,
      "outputs": [
        {
          "output_type": "execute_result",
          "data": {
            "text/plain": [
              "pipeline_9e9d13784977"
            ]
          },
          "metadata": {},
          "execution_count": 29
        }
      ]
    },
    {
      "cell_type": "code",
      "source": [
        "pipeline_dl.model.stages"
      ],
      "metadata": {
        "colab": {
          "base_uri": "https://localhost:8080/"
        },
        "id": "eBQ_ZGz4TlP5",
        "outputId": "35110aed-3bf5-462e-f302-ee1a1f366775"
      },
      "execution_count": null,
      "outputs": [
        {
          "output_type": "execute_result",
          "data": {
            "text/plain": [
              "[document_7939d5bf1083,\n",
              " SENTENCE_05265b07c745,\n",
              " REGEX_TOKENIZER_b4f4b39b56e3,\n",
              " SPELL_e4ea67180337,\n",
              " LEMMATIZER_c62ad8f355f9,\n",
              " STEMMER_ba49f7631065,\n",
              " POS_29fd848601e6,\n",
              " WORD_EMBEDDINGS_MODEL_48cffc8b9a76,\n",
              " NerDLModel_d4424c9af5f4,\n",
              " NER_CONVERTER_a81db9af2d23]"
            ]
          },
          "metadata": {},
          "execution_count": 30
        }
      ]
    },
    {
      "cell_type": "code",
      "source": [
        "pipeline_dl.model.stages[-2]"
      ],
      "metadata": {
        "colab": {
          "base_uri": "https://localhost:8080/"
        },
        "id": "Kn-ybSS3Yqbq",
        "outputId": "6df178df-5a6f-49a4-8861-2b0bef851666"
      },
      "execution_count": null,
      "outputs": [
        {
          "output_type": "execute_result",
          "data": {
            "text/plain": [
              "NerDLModel_d4424c9af5f4"
            ]
          },
          "metadata": {},
          "execution_count": 31
        }
      ]
    },
    {
      "cell_type": "code",
      "source": [
        "pipeline_dl.model.stages[-2].getStorageRef()"
      ],
      "metadata": {
        "colab": {
          "base_uri": "https://localhost:8080/",
          "height": 35
        },
        "id": "3_SS55l-Yx0e",
        "outputId": "a208ea6a-c9bb-404b-bd16-c23a8250ab94"
      },
      "execution_count": null,
      "outputs": [
        {
          "output_type": "execute_result",
          "data": {
            "application/vnd.google.colaboratory.intrinsic+json": {
              "type": "string"
            },
            "text/plain": [
              "'glove_100d'"
            ]
          },
          "metadata": {},
          "execution_count": 32
        }
      ]
    },
    {
      "cell_type": "code",
      "source": [
        "pipeline_dl.model.stages[-2].getClasses()"
      ],
      "metadata": {
        "colab": {
          "base_uri": "https://localhost:8080/"
        },
        "id": "ltlLG74tY3D3",
        "outputId": "4db70cab-5bd0-485a-fe52-1863d4482c24"
      },
      "execution_count": null,
      "outputs": [
        {
          "output_type": "execute_result",
          "data": {
            "text/plain": [
              "['O', 'B-ORG', 'B-LOC', 'B-PER', 'I-PER', 'I-ORG', 'B-MISC', 'I-LOC', 'I-MISC']"
            ]
          },
          "metadata": {},
          "execution_count": 33
        }
      ]
    },
    {
      "cell_type": "code",
      "source": [
        "%%time\n",
        "\n",
        "result = pipeline_dl.annotate(testDoc)\n",
        "\n",
        "result.keys()"
      ],
      "metadata": {
        "colab": {
          "base_uri": "https://localhost:8080/"
        },
        "id": "ePNaFB4deS2J",
        "outputId": "3e854b6b-b6c6-44e1-bfa2-c1abeebdd981"
      },
      "execution_count": null,
      "outputs": [
        {
          "output_type": "stream",
          "name": "stdout",
          "text": [
            "CPU times: user 90.3 ms, sys: 31.6 ms, total: 122 ms\n",
            "Wall time: 1.41 s\n"
          ]
        }
      ]
    },
    {
      "cell_type": "code",
      "source": [
        "result.keys()"
      ],
      "metadata": {
        "colab": {
          "base_uri": "https://localhost:8080/"
        },
        "id": "IQf7CSM2fCxH",
        "outputId": "3f034206-f3eb-4a8c-b5a9-cf16d99bc4f7"
      },
      "execution_count": null,
      "outputs": [
        {
          "output_type": "execute_result",
          "data": {
            "text/plain": [
              "dict_keys(['entities', 'stem', 'checked', 'lemma', 'document', 'pos', 'token', 'ner', 'embeddings', 'sentence'])"
            ]
          },
          "metadata": {},
          "execution_count": 35
        }
      ]
    },
    {
      "cell_type": "code",
      "source": [
        "result['entities']"
      ],
      "metadata": {
        "colab": {
          "base_uri": "https://localhost:8080/"
        },
        "id": "hdkZVgBOfK6B",
        "outputId": "05825c88-dc82-44f5-a547-5f4c8cabe56f"
      },
      "execution_count": null,
      "outputs": [
        {
          "output_type": "execute_result",
          "data": {
            "text/plain": [
              "['Peter', 'Russia', 'John', 'Peter', 'Lucas Nogal Dunbercker', 'Europe']"
            ]
          },
          "metadata": {},
          "execution_count": 36
        }
      ]
    },
    {
      "cell_type": "code",
      "source": [
        "df = pd.DataFrame({'token':result['token'], 'ner_label':result['ner'],\n",
        "                      'spell_corrected':result['checked'], 'POS':result['pos'],\n",
        "                      'lemmas':result['lemma'], 'stems':result['stem']})\n",
        "\n",
        "df"
      ],
      "metadata": {
        "colab": {
          "base_uri": "https://localhost:8080/",
          "height": 1000
        },
        "id": "GwXzE6ptlisO",
        "outputId": "e4dc66ec-3095-48df-c668-389314ccbf6a"
      },
      "execution_count": null,
      "outputs": [
        {
          "output_type": "execute_result",
          "data": {
            "text/html": [
              "\n",
              "  <div id=\"df-9758c523-760c-4263-bf66-21565d1f4e54\">\n",
              "    <div class=\"colab-df-container\">\n",
              "      <div>\n",
              "<style scoped>\n",
              "    .dataframe tbody tr th:only-of-type {\n",
              "        vertical-align: middle;\n",
              "    }\n",
              "\n",
              "    .dataframe tbody tr th {\n",
              "        vertical-align: top;\n",
              "    }\n",
              "\n",
              "    .dataframe thead th {\n",
              "        text-align: right;\n",
              "    }\n",
              "</style>\n",
              "<table border=\"1\" class=\"dataframe\">\n",
              "  <thead>\n",
              "    <tr style=\"text-align: right;\">\n",
              "      <th></th>\n",
              "      <th>token</th>\n",
              "      <th>ner_label</th>\n",
              "      <th>spell_corrected</th>\n",
              "      <th>POS</th>\n",
              "      <th>lemmas</th>\n",
              "      <th>stems</th>\n",
              "    </tr>\n",
              "  </thead>\n",
              "  <tbody>\n",
              "    <tr>\n",
              "      <th>0</th>\n",
              "      <td>Peter</td>\n",
              "      <td>B-PER</td>\n",
              "      <td>Peter</td>\n",
              "      <td>NNP</td>\n",
              "      <td>Peter</td>\n",
              "      <td>peter</td>\n",
              "    </tr>\n",
              "    <tr>\n",
              "      <th>1</th>\n",
              "      <td>is</td>\n",
              "      <td>O</td>\n",
              "      <td>is</td>\n",
              "      <td>VBZ</td>\n",
              "      <td>be</td>\n",
              "      <td>i</td>\n",
              "    </tr>\n",
              "    <tr>\n",
              "      <th>2</th>\n",
              "      <td>a</td>\n",
              "      <td>O</td>\n",
              "      <td>a</td>\n",
              "      <td>DT</td>\n",
              "      <td>a</td>\n",
              "      <td>a</td>\n",
              "    </tr>\n",
              "    <tr>\n",
              "      <th>3</th>\n",
              "      <td>very</td>\n",
              "      <td>O</td>\n",
              "      <td>very</td>\n",
              "      <td>RB</td>\n",
              "      <td>very</td>\n",
              "      <td>veri</td>\n",
              "    </tr>\n",
              "    <tr>\n",
              "      <th>4</th>\n",
              "      <td>good</td>\n",
              "      <td>O</td>\n",
              "      <td>good</td>\n",
              "      <td>JJ</td>\n",
              "      <td>good</td>\n",
              "      <td>good</td>\n",
              "    </tr>\n",
              "    <tr>\n",
              "      <th>5</th>\n",
              "      <td>persn</td>\n",
              "      <td>O</td>\n",
              "      <td>person</td>\n",
              "      <td>NN</td>\n",
              "      <td>person</td>\n",
              "      <td>person</td>\n",
              "    </tr>\n",
              "    <tr>\n",
              "      <th>6</th>\n",
              "      <td>.</td>\n",
              "      <td>O</td>\n",
              "      <td>.</td>\n",
              "      <td>.</td>\n",
              "      <td>.</td>\n",
              "      <td>.</td>\n",
              "    </tr>\n",
              "    <tr>\n",
              "      <th>7</th>\n",
              "      <td>My</td>\n",
              "      <td>O</td>\n",
              "      <td>My</td>\n",
              "      <td>PRP$</td>\n",
              "      <td>My</td>\n",
              "      <td>my</td>\n",
              "    </tr>\n",
              "    <tr>\n",
              "      <th>8</th>\n",
              "      <td>life</td>\n",
              "      <td>O</td>\n",
              "      <td>life</td>\n",
              "      <td>NN</td>\n",
              "      <td>life</td>\n",
              "      <td>life</td>\n",
              "    </tr>\n",
              "    <tr>\n",
              "      <th>9</th>\n",
              "      <td>in</td>\n",
              "      <td>O</td>\n",
              "      <td>in</td>\n",
              "      <td>IN</td>\n",
              "      <td>in</td>\n",
              "      <td>in</td>\n",
              "    </tr>\n",
              "    <tr>\n",
              "      <th>10</th>\n",
              "      <td>Russia</td>\n",
              "      <td>B-LOC</td>\n",
              "      <td>Russia</td>\n",
              "      <td>NNP</td>\n",
              "      <td>Russia</td>\n",
              "      <td>russia</td>\n",
              "    </tr>\n",
              "    <tr>\n",
              "      <th>11</th>\n",
              "      <td>is</td>\n",
              "      <td>O</td>\n",
              "      <td>is</td>\n",
              "      <td>VBZ</td>\n",
              "      <td>be</td>\n",
              "      <td>i</td>\n",
              "    </tr>\n",
              "    <tr>\n",
              "      <th>12</th>\n",
              "      <td>very</td>\n",
              "      <td>O</td>\n",
              "      <td>very</td>\n",
              "      <td>RB</td>\n",
              "      <td>very</td>\n",
              "      <td>veri</td>\n",
              "    </tr>\n",
              "    <tr>\n",
              "      <th>13</th>\n",
              "      <td>intersting</td>\n",
              "      <td>O</td>\n",
              "      <td>interesting</td>\n",
              "      <td>JJ</td>\n",
              "      <td>interest</td>\n",
              "      <td>interest</td>\n",
              "    </tr>\n",
              "    <tr>\n",
              "      <th>14</th>\n",
              "      <td>.</td>\n",
              "      <td>O</td>\n",
              "      <td>.</td>\n",
              "      <td>.</td>\n",
              "      <td>.</td>\n",
              "      <td>.</td>\n",
              "    </tr>\n",
              "    <tr>\n",
              "      <th>15</th>\n",
              "      <td>John</td>\n",
              "      <td>B-PER</td>\n",
              "      <td>John</td>\n",
              "      <td>NNP</td>\n",
              "      <td>John</td>\n",
              "      <td>john</td>\n",
              "    </tr>\n",
              "    <tr>\n",
              "      <th>16</th>\n",
              "      <td>and</td>\n",
              "      <td>O</td>\n",
              "      <td>and</td>\n",
              "      <td>CC</td>\n",
              "      <td>and</td>\n",
              "      <td>and</td>\n",
              "    </tr>\n",
              "    <tr>\n",
              "      <th>17</th>\n",
              "      <td>Peter</td>\n",
              "      <td>B-PER</td>\n",
              "      <td>Peter</td>\n",
              "      <td>NNP</td>\n",
              "      <td>Peter</td>\n",
              "      <td>peter</td>\n",
              "    </tr>\n",
              "    <tr>\n",
              "      <th>18</th>\n",
              "      <td>are</td>\n",
              "      <td>O</td>\n",
              "      <td>are</td>\n",
              "      <td>VBP</td>\n",
              "      <td>be</td>\n",
              "      <td>ar</td>\n",
              "    </tr>\n",
              "    <tr>\n",
              "      <th>19</th>\n",
              "      <td>brothrs</td>\n",
              "      <td>O</td>\n",
              "      <td>broths</td>\n",
              "      <td>NNS</td>\n",
              "      <td>broth</td>\n",
              "      <td>broth</td>\n",
              "    </tr>\n",
              "    <tr>\n",
              "      <th>20</th>\n",
              "      <td>.</td>\n",
              "      <td>O</td>\n",
              "      <td>.</td>\n",
              "      <td>.</td>\n",
              "      <td>.</td>\n",
              "      <td>.</td>\n",
              "    </tr>\n",
              "    <tr>\n",
              "      <th>21</th>\n",
              "      <td>However</td>\n",
              "      <td>O</td>\n",
              "      <td>However</td>\n",
              "      <td>RB</td>\n",
              "      <td>However</td>\n",
              "      <td>howev</td>\n",
              "    </tr>\n",
              "    <tr>\n",
              "      <th>22</th>\n",
              "      <td>they</td>\n",
              "      <td>O</td>\n",
              "      <td>they</td>\n",
              "      <td>PRP</td>\n",
              "      <td>they</td>\n",
              "      <td>thei</td>\n",
              "    </tr>\n",
              "    <tr>\n",
              "      <th>23</th>\n",
              "      <td>don't</td>\n",
              "      <td>O</td>\n",
              "      <td>don't</td>\n",
              "      <td>VBP</td>\n",
              "      <td>don't</td>\n",
              "      <td>don't</td>\n",
              "    </tr>\n",
              "    <tr>\n",
              "      <th>24</th>\n",
              "      <td>support</td>\n",
              "      <td>O</td>\n",
              "      <td>support</td>\n",
              "      <td>VB</td>\n",
              "      <td>support</td>\n",
              "      <td>support</td>\n",
              "    </tr>\n",
              "    <tr>\n",
              "      <th>25</th>\n",
              "      <td>each</td>\n",
              "      <td>O</td>\n",
              "      <td>each</td>\n",
              "      <td>DT</td>\n",
              "      <td>each</td>\n",
              "      <td>each</td>\n",
              "    </tr>\n",
              "    <tr>\n",
              "      <th>26</th>\n",
              "      <td>other</td>\n",
              "      <td>O</td>\n",
              "      <td>other</td>\n",
              "      <td>JJ</td>\n",
              "      <td>other</td>\n",
              "      <td>other</td>\n",
              "    </tr>\n",
              "    <tr>\n",
              "      <th>27</th>\n",
              "      <td>that</td>\n",
              "      <td>O</td>\n",
              "      <td>that</td>\n",
              "      <td>IN</td>\n",
              "      <td>that</td>\n",
              "      <td>that</td>\n",
              "    </tr>\n",
              "    <tr>\n",
              "      <th>28</th>\n",
              "      <td>much</td>\n",
              "      <td>O</td>\n",
              "      <td>much</td>\n",
              "      <td>JJ</td>\n",
              "      <td>much</td>\n",
              "      <td>much</td>\n",
              "    </tr>\n",
              "    <tr>\n",
              "      <th>29</th>\n",
              "      <td>.</td>\n",
              "      <td>O</td>\n",
              "      <td>.</td>\n",
              "      <td>.</td>\n",
              "      <td>.</td>\n",
              "      <td>.</td>\n",
              "    </tr>\n",
              "    <tr>\n",
              "      <th>30</th>\n",
              "      <td>Lucas</td>\n",
              "      <td>B-ORG</td>\n",
              "      <td>Lucas</td>\n",
              "      <td>NNP</td>\n",
              "      <td>Lucas</td>\n",
              "      <td>luca</td>\n",
              "    </tr>\n",
              "    <tr>\n",
              "      <th>31</th>\n",
              "      <td>Nogal</td>\n",
              "      <td>I-ORG</td>\n",
              "      <td>Nogal</td>\n",
              "      <td>NNP</td>\n",
              "      <td>Nogal</td>\n",
              "      <td>nogal</td>\n",
              "    </tr>\n",
              "    <tr>\n",
              "      <th>32</th>\n",
              "      <td>Dunbercker</td>\n",
              "      <td>I-ORG</td>\n",
              "      <td>Dunbercker</td>\n",
              "      <td>NNP</td>\n",
              "      <td>Dunbercker</td>\n",
              "      <td>dunberck</td>\n",
              "    </tr>\n",
              "    <tr>\n",
              "      <th>33</th>\n",
              "      <td>is</td>\n",
              "      <td>O</td>\n",
              "      <td>is</td>\n",
              "      <td>VBZ</td>\n",
              "      <td>be</td>\n",
              "      <td>i</td>\n",
              "    </tr>\n",
              "    <tr>\n",
              "      <th>34</th>\n",
              "      <td>no</td>\n",
              "      <td>O</td>\n",
              "      <td>no</td>\n",
              "      <td>DT</td>\n",
              "      <td>no</td>\n",
              "      <td>no</td>\n",
              "    </tr>\n",
              "    <tr>\n",
              "      <th>35</th>\n",
              "      <td>longer</td>\n",
              "      <td>O</td>\n",
              "      <td>longer</td>\n",
              "      <td>RB</td>\n",
              "      <td>long</td>\n",
              "      <td>longer</td>\n",
              "    </tr>\n",
              "    <tr>\n",
              "      <th>36</th>\n",
              "      <td>happy</td>\n",
              "      <td>O</td>\n",
              "      <td>happy</td>\n",
              "      <td>JJ</td>\n",
              "      <td>happy</td>\n",
              "      <td>happi</td>\n",
              "    </tr>\n",
              "    <tr>\n",
              "      <th>37</th>\n",
              "      <td>.</td>\n",
              "      <td>O</td>\n",
              "      <td>.</td>\n",
              "      <td>.</td>\n",
              "      <td>.</td>\n",
              "      <td>.</td>\n",
              "    </tr>\n",
              "    <tr>\n",
              "      <th>38</th>\n",
              "      <td>He</td>\n",
              "      <td>O</td>\n",
              "      <td>He</td>\n",
              "      <td>PRP</td>\n",
              "      <td>He</td>\n",
              "      <td>he</td>\n",
              "    </tr>\n",
              "    <tr>\n",
              "      <th>39</th>\n",
              "      <td>has</td>\n",
              "      <td>O</td>\n",
              "      <td>has</td>\n",
              "      <td>VBZ</td>\n",
              "      <td>have</td>\n",
              "      <td>ha</td>\n",
              "    </tr>\n",
              "    <tr>\n",
              "      <th>40</th>\n",
              "      <td>a</td>\n",
              "      <td>O</td>\n",
              "      <td>a</td>\n",
              "      <td>DT</td>\n",
              "      <td>a</td>\n",
              "      <td>a</td>\n",
              "    </tr>\n",
              "    <tr>\n",
              "      <th>41</th>\n",
              "      <td>good</td>\n",
              "      <td>O</td>\n",
              "      <td>good</td>\n",
              "      <td>JJ</td>\n",
              "      <td>good</td>\n",
              "      <td>good</td>\n",
              "    </tr>\n",
              "    <tr>\n",
              "      <th>42</th>\n",
              "      <td>car</td>\n",
              "      <td>O</td>\n",
              "      <td>car</td>\n",
              "      <td>NN</td>\n",
              "      <td>car</td>\n",
              "      <td>car</td>\n",
              "    </tr>\n",
              "    <tr>\n",
              "      <th>43</th>\n",
              "      <td>though</td>\n",
              "      <td>O</td>\n",
              "      <td>though</td>\n",
              "      <td>IN</td>\n",
              "      <td>though</td>\n",
              "      <td>though</td>\n",
              "    </tr>\n",
              "    <tr>\n",
              "      <th>44</th>\n",
              "      <td>.</td>\n",
              "      <td>O</td>\n",
              "      <td>.</td>\n",
              "      <td>.</td>\n",
              "      <td>.</td>\n",
              "      <td>.</td>\n",
              "    </tr>\n",
              "    <tr>\n",
              "      <th>45</th>\n",
              "      <td>Europe</td>\n",
              "      <td>B-LOC</td>\n",
              "      <td>Europe</td>\n",
              "      <td>NNP</td>\n",
              "      <td>Europe</td>\n",
              "      <td>europ</td>\n",
              "    </tr>\n",
              "    <tr>\n",
              "      <th>46</th>\n",
              "      <td>is</td>\n",
              "      <td>O</td>\n",
              "      <td>is</td>\n",
              "      <td>VBZ</td>\n",
              "      <td>be</td>\n",
              "      <td>i</td>\n",
              "    </tr>\n",
              "    <tr>\n",
              "      <th>47</th>\n",
              "      <td>very</td>\n",
              "      <td>O</td>\n",
              "      <td>very</td>\n",
              "      <td>RB</td>\n",
              "      <td>very</td>\n",
              "      <td>veri</td>\n",
              "    </tr>\n",
              "    <tr>\n",
              "      <th>48</th>\n",
              "      <td>culture</td>\n",
              "      <td>O</td>\n",
              "      <td>culture</td>\n",
              "      <td>RB</td>\n",
              "      <td>culture</td>\n",
              "      <td>cultur</td>\n",
              "    </tr>\n",
              "    <tr>\n",
              "      <th>49</th>\n",
              "      <td>rich</td>\n",
              "      <td>O</td>\n",
              "      <td>rich</td>\n",
              "      <td>JJ</td>\n",
              "      <td>rich</td>\n",
              "      <td>rich</td>\n",
              "    </tr>\n",
              "    <tr>\n",
              "      <th>50</th>\n",
              "      <td>.</td>\n",
              "      <td>O</td>\n",
              "      <td>.</td>\n",
              "      <td>.</td>\n",
              "      <td>.</td>\n",
              "      <td>.</td>\n",
              "    </tr>\n",
              "    <tr>\n",
              "      <th>51</th>\n",
              "      <td>There</td>\n",
              "      <td>O</td>\n",
              "      <td>There</td>\n",
              "      <td>EX</td>\n",
              "      <td>There</td>\n",
              "      <td>there</td>\n",
              "    </tr>\n",
              "    <tr>\n",
              "      <th>52</th>\n",
              "      <td>are</td>\n",
              "      <td>O</td>\n",
              "      <td>are</td>\n",
              "      <td>VBP</td>\n",
              "      <td>be</td>\n",
              "      <td>ar</td>\n",
              "    </tr>\n",
              "    <tr>\n",
              "      <th>53</th>\n",
              "      <td>huge</td>\n",
              "      <td>O</td>\n",
              "      <td>huge</td>\n",
              "      <td>JJ</td>\n",
              "      <td>huge</td>\n",
              "      <td>huge</td>\n",
              "    </tr>\n",
              "    <tr>\n",
              "      <th>54</th>\n",
              "      <td>churches</td>\n",
              "      <td>O</td>\n",
              "      <td>churches</td>\n",
              "      <td>NNS</td>\n",
              "      <td>church</td>\n",
              "      <td>church</td>\n",
              "    </tr>\n",
              "    <tr>\n",
              "      <th>55</th>\n",
              "      <td>!</td>\n",
              "      <td>O</td>\n",
              "      <td>!</td>\n",
              "      <td>.</td>\n",
              "      <td>!</td>\n",
              "      <td>!</td>\n",
              "    </tr>\n",
              "    <tr>\n",
              "      <th>56</th>\n",
              "      <td>and</td>\n",
              "      <td>O</td>\n",
              "      <td>and</td>\n",
              "      <td>CC</td>\n",
              "      <td>and</td>\n",
              "      <td>and</td>\n",
              "    </tr>\n",
              "    <tr>\n",
              "      <th>57</th>\n",
              "      <td>big</td>\n",
              "      <td>O</td>\n",
              "      <td>big</td>\n",
              "      <td>JJ</td>\n",
              "      <td>big</td>\n",
              "      <td>big</td>\n",
              "    </tr>\n",
              "    <tr>\n",
              "      <th>58</th>\n",
              "      <td>houses</td>\n",
              "      <td>O</td>\n",
              "      <td>houses</td>\n",
              "      <td>NNS</td>\n",
              "      <td>house</td>\n",
              "      <td>hous</td>\n",
              "    </tr>\n",
              "    <tr>\n",
              "      <th>59</th>\n",
              "      <td>!</td>\n",
              "      <td>O</td>\n",
              "      <td>!</td>\n",
              "      <td>.</td>\n",
              "      <td>!</td>\n",
              "      <td>!</td>\n",
              "    </tr>\n",
              "  </tbody>\n",
              "</table>\n",
              "</div>\n",
              "      <button class=\"colab-df-convert\" onclick=\"convertToInteractive('df-9758c523-760c-4263-bf66-21565d1f4e54')\"\n",
              "              title=\"Convert this dataframe to an interactive table.\"\n",
              "              style=\"display:none;\">\n",
              "        \n",
              "  <svg xmlns=\"http://www.w3.org/2000/svg\" height=\"24px\"viewBox=\"0 0 24 24\"\n",
              "       width=\"24px\">\n",
              "    <path d=\"M0 0h24v24H0V0z\" fill=\"none\"/>\n",
              "    <path d=\"M18.56 5.44l.94 2.06.94-2.06 2.06-.94-2.06-.94-.94-2.06-.94 2.06-2.06.94zm-11 1L8.5 8.5l.94-2.06 2.06-.94-2.06-.94L8.5 2.5l-.94 2.06-2.06.94zm10 10l.94 2.06.94-2.06 2.06-.94-2.06-.94-.94-2.06-.94 2.06-2.06.94z\"/><path d=\"M17.41 7.96l-1.37-1.37c-.4-.4-.92-.59-1.43-.59-.52 0-1.04.2-1.43.59L10.3 9.45l-7.72 7.72c-.78.78-.78 2.05 0 2.83L4 21.41c.39.39.9.59 1.41.59.51 0 1.02-.2 1.41-.59l7.78-7.78 2.81-2.81c.8-.78.8-2.07 0-2.86zM5.41 20L4 18.59l7.72-7.72 1.47 1.35L5.41 20z\"/>\n",
              "  </svg>\n",
              "      </button>\n",
              "      \n",
              "  <style>\n",
              "    .colab-df-container {\n",
              "      display:flex;\n",
              "      flex-wrap:wrap;\n",
              "      gap: 12px;\n",
              "    }\n",
              "\n",
              "    .colab-df-convert {\n",
              "      background-color: #E8F0FE;\n",
              "      border: none;\n",
              "      border-radius: 50%;\n",
              "      cursor: pointer;\n",
              "      display: none;\n",
              "      fill: #1967D2;\n",
              "      height: 32px;\n",
              "      padding: 0 0 0 0;\n",
              "      width: 32px;\n",
              "    }\n",
              "\n",
              "    .colab-df-convert:hover {\n",
              "      background-color: #E2EBFA;\n",
              "      box-shadow: 0px 1px 2px rgba(60, 64, 67, 0.3), 0px 1px 3px 1px rgba(60, 64, 67, 0.15);\n",
              "      fill: #174EA6;\n",
              "    }\n",
              "\n",
              "    [theme=dark] .colab-df-convert {\n",
              "      background-color: #3B4455;\n",
              "      fill: #D2E3FC;\n",
              "    }\n",
              "\n",
              "    [theme=dark] .colab-df-convert:hover {\n",
              "      background-color: #434B5C;\n",
              "      box-shadow: 0px 1px 3px 1px rgba(0, 0, 0, 0.15);\n",
              "      filter: drop-shadow(0px 1px 2px rgba(0, 0, 0, 0.3));\n",
              "      fill: #FFFFFF;\n",
              "    }\n",
              "  </style>\n",
              "\n",
              "      <script>\n",
              "        const buttonEl =\n",
              "          document.querySelector('#df-9758c523-760c-4263-bf66-21565d1f4e54 button.colab-df-convert');\n",
              "        buttonEl.style.display =\n",
              "          google.colab.kernel.accessAllowed ? 'block' : 'none';\n",
              "\n",
              "        async function convertToInteractive(key) {\n",
              "          const element = document.querySelector('#df-9758c523-760c-4263-bf66-21565d1f4e54');\n",
              "          const dataTable =\n",
              "            await google.colab.kernel.invokeFunction('convertToInteractive',\n",
              "                                                     [key], {});\n",
              "          if (!dataTable) return;\n",
              "\n",
              "          const docLinkHtml = 'Like what you see? Visit the ' +\n",
              "            '<a target=\"_blank\" href=https://colab.research.google.com/notebooks/data_table.ipynb>data table notebook</a>'\n",
              "            + ' to learn more about interactive tables.';\n",
              "          element.innerHTML = '';\n",
              "          dataTable['output_type'] = 'display_data';\n",
              "          await google.colab.output.renderOutput(dataTable, element);\n",
              "          const docLink = document.createElement('div');\n",
              "          docLink.innerHTML = docLinkHtml;\n",
              "          element.appendChild(docLink);\n",
              "        }\n",
              "      </script>\n",
              "    </div>\n",
              "  </div>\n",
              "  "
            ],
            "text/plain": [
              "         token ner_label spell_corrected   POS      lemmas     stems\n",
              "0        Peter     B-PER           Peter   NNP       Peter     peter\n",
              "1           is         O              is   VBZ          be         i\n",
              "2            a         O               a    DT           a         a\n",
              "3         very         O            very    RB        very      veri\n",
              "4         good         O            good    JJ        good      good\n",
              "5        persn         O          person    NN      person    person\n",
              "6            .         O               .     .           .         .\n",
              "7           My         O              My  PRP$          My        my\n",
              "8         life         O            life    NN        life      life\n",
              "9           in         O              in    IN          in        in\n",
              "10      Russia     B-LOC          Russia   NNP      Russia    russia\n",
              "11          is         O              is   VBZ          be         i\n",
              "12        very         O            very    RB        very      veri\n",
              "13  intersting         O     interesting    JJ    interest  interest\n",
              "14           .         O               .     .           .         .\n",
              "15        John     B-PER            John   NNP        John      john\n",
              "16         and         O             and    CC         and       and\n",
              "17       Peter     B-PER           Peter   NNP       Peter     peter\n",
              "18         are         O             are   VBP          be        ar\n",
              "19     brothrs         O          broths   NNS       broth     broth\n",
              "20           .         O               .     .           .         .\n",
              "21     However         O         However    RB     However     howev\n",
              "22        they         O            they   PRP        they      thei\n",
              "23       don't         O           don't   VBP       don't     don't\n",
              "24     support         O         support    VB     support   support\n",
              "25        each         O            each    DT        each      each\n",
              "26       other         O           other    JJ       other     other\n",
              "27        that         O            that    IN        that      that\n",
              "28        much         O            much    JJ        much      much\n",
              "29           .         O               .     .           .         .\n",
              "30       Lucas     B-ORG           Lucas   NNP       Lucas      luca\n",
              "31       Nogal     I-ORG           Nogal   NNP       Nogal     nogal\n",
              "32  Dunbercker     I-ORG      Dunbercker   NNP  Dunbercker  dunberck\n",
              "33          is         O              is   VBZ          be         i\n",
              "34          no         O              no    DT          no        no\n",
              "35      longer         O          longer    RB        long    longer\n",
              "36       happy         O           happy    JJ       happy     happi\n",
              "37           .         O               .     .           .         .\n",
              "38          He         O              He   PRP          He        he\n",
              "39         has         O             has   VBZ        have        ha\n",
              "40           a         O               a    DT           a         a\n",
              "41        good         O            good    JJ        good      good\n",
              "42         car         O             car    NN         car       car\n",
              "43      though         O          though    IN      though    though\n",
              "44           .         O               .     .           .         .\n",
              "45      Europe     B-LOC          Europe   NNP      Europe     europ\n",
              "46          is         O              is   VBZ          be         i\n",
              "47        very         O            very    RB        very      veri\n",
              "48     culture         O         culture    RB     culture    cultur\n",
              "49        rich         O            rich    JJ        rich      rich\n",
              "50           .         O               .     .           .         .\n",
              "51       There         O           There    EX       There     there\n",
              "52         are         O             are   VBP          be        ar\n",
              "53        huge         O            huge    JJ        huge      huge\n",
              "54    churches         O        churches   NNS      church    church\n",
              "55           !         O               !     .           !         !\n",
              "56         and         O             and    CC         and       and\n",
              "57         big         O             big    JJ         big       big\n",
              "58      houses         O          houses   NNS       house      hous\n",
              "59           !         O               !     .           !         !"
            ]
          },
          "metadata": {},
          "execution_count": 37
        }
      ]
    },
    {
      "cell_type": "markdown",
      "source": [
        "RECOGNISE ENTITY DL"
      ],
      "metadata": {
        "id": "EtHqsWq4tYFy"
      }
    },
    {
      "cell_type": "code",
      "source": [
        "recognize_entities = PretrainedPipeline('recognize_entities_dl', lang='en')"
      ],
      "metadata": {
        "colab": {
          "base_uri": "https://localhost:8080/"
        },
        "id": "XRidDGNwmdY2",
        "outputId": "f142fbad-2b8b-468e-b000-7c6414ac6c8e"
      },
      "execution_count": null,
      "outputs": [
        {
          "output_type": "stream",
          "name": "stdout",
          "text": [
            "recognize_entities_dl download started this may take some time.\n",
            "Approx size to download 159 MB\n",
            "[OK!]\n"
          ]
        }
      ]
    },
    {
      "cell_type": "code",
      "source": [
        "recognize_entities.model.stages"
      ],
      "metadata": {
        "colab": {
          "base_uri": "https://localhost:8080/"
        },
        "id": "AtxHqQ55teBU",
        "outputId": "b709a459-02d1-4023-d1a3-8e88bfee9bbc"
      },
      "execution_count": null,
      "outputs": [
        {
          "output_type": "execute_result",
          "data": {
            "text/plain": [
              "[document_1c58bc1aca5d,\n",
              " SENTENCE_328d8a47c1a8,\n",
              " REGEX_TOKENIZER_e4d729e653b0,\n",
              " WORD_EMBEDDINGS_MODEL_48cffc8b9a76,\n",
              " NerDLModel_d4424c9af5f4,\n",
              " NER_CONVERTER_389b80afbf7d]"
            ]
          },
          "metadata": {},
          "execution_count": 39
        }
      ]
    },
    {
      "cell_type": "code",
      "source": [
        "recognize_entities.model.stages[3].getStorageRef()"
      ],
      "metadata": {
        "colab": {
          "base_uri": "https://localhost:8080/",
          "height": 35
        },
        "id": "J4ENVkkTtiQh",
        "outputId": "da8d185a-4680-4806-ed79-a8eca7fee571"
      },
      "execution_count": null,
      "outputs": [
        {
          "output_type": "execute_result",
          "data": {
            "application/vnd.google.colaboratory.intrinsic+json": {
              "type": "string"
            },
            "text/plain": [
              "'glove_100d'"
            ]
          },
          "metadata": {},
          "execution_count": 40
        }
      ]
    },
    {
      "cell_type": "code",
      "source": [
        "recognize_entities.model.stages[4].getClasses()"
      ],
      "metadata": {
        "colab": {
          "base_uri": "https://localhost:8080/"
        },
        "id": "mSVTxwgztnzS",
        "outputId": "8267f4bf-0e2b-4902-f1a3-cb1d1dc55407"
      },
      "execution_count": null,
      "outputs": [
        {
          "output_type": "execute_result",
          "data": {
            "text/plain": [
              "['O', 'B-ORG', 'B-LOC', 'B-PER', 'I-PER', 'I-ORG', 'B-MISC', 'I-LOC', 'I-MISC']"
            ]
          },
          "metadata": {},
          "execution_count": 41
        }
      ]
    },
    {
      "cell_type": "code",
      "source": [
        "testDoc = '''\n",
        "Peter is a very good persn.\n",
        "My life in Russia is very intersting.\n",
        "John and Peter are brothrs. However they don't support each other that much.\n",
        "Lucas Nogal Dunbercker is no longer happy. He has a good car though.\n",
        "Europe is very culture rich. There are huge churches! and big houses!\n",
        "'''\n",
        "\n",
        "result = recognize_entities.annotate(testDoc)\n",
        "\n",
        "list(zip(result['token'], result['ner']))"
      ],
      "metadata": {
        "id": "E2AcgLbxtsp7",
        "colab": {
          "base_uri": "https://localhost:8080/"
        },
        "outputId": "acc58089-ec95-46bd-85fc-949655fc9f97"
      },
      "execution_count": null,
      "outputs": [
        {
          "output_type": "execute_result",
          "data": {
            "text/plain": [
              "[('Peter', 'B-PER'),\n",
              " ('is', 'O'),\n",
              " ('a', 'O'),\n",
              " ('very', 'O'),\n",
              " ('good', 'O'),\n",
              " ('persn', 'O'),\n",
              " ('.', 'O'),\n",
              " ('My', 'O'),\n",
              " ('life', 'O'),\n",
              " ('in', 'O'),\n",
              " ('Russia', 'B-LOC'),\n",
              " ('is', 'O'),\n",
              " ('very', 'O'),\n",
              " ('intersting', 'O'),\n",
              " ('.', 'O'),\n",
              " ('John', 'B-PER'),\n",
              " ('and', 'O'),\n",
              " ('Peter', 'B-PER'),\n",
              " ('are', 'O'),\n",
              " ('brothrs', 'O'),\n",
              " ('.', 'O'),\n",
              " ('However', 'O'),\n",
              " ('they', 'O'),\n",
              " (\"don't\", 'O'),\n",
              " ('support', 'O'),\n",
              " ('each', 'O'),\n",
              " ('other', 'O'),\n",
              " ('that', 'O'),\n",
              " ('much', 'O'),\n",
              " ('.', 'O'),\n",
              " ('Lucas', 'B-ORG'),\n",
              " ('Nogal', 'I-ORG'),\n",
              " ('Dunbercker', 'I-ORG'),\n",
              " ('is', 'O'),\n",
              " ('no', 'O'),\n",
              " ('longer', 'O'),\n",
              " ('happy', 'O'),\n",
              " ('.', 'O'),\n",
              " ('He', 'O'),\n",
              " ('has', 'O'),\n",
              " ('a', 'O'),\n",
              " ('good', 'O'),\n",
              " ('car', 'O'),\n",
              " ('though', 'O'),\n",
              " ('.', 'O'),\n",
              " ('Europe', 'B-LOC'),\n",
              " ('is', 'O'),\n",
              " ('very', 'O'),\n",
              " ('culture', 'O'),\n",
              " ('rich', 'O'),\n",
              " ('.', 'O'),\n",
              " ('There', 'O'),\n",
              " ('are', 'O'),\n",
              " ('huge', 'O'),\n",
              " ('churches', 'O'),\n",
              " ('!', 'O'),\n",
              " ('and', 'O'),\n",
              " ('big', 'O'),\n",
              " ('houses', 'O'),\n",
              " ('!', 'O')]"
            ]
          },
          "metadata": {},
          "execution_count": 42
        }
      ]
    },
    {
      "cell_type": "markdown",
      "source": [
        "CLEAN STOPWORDS"
      ],
      "metadata": {
        "id": "PzSGDmat7W_R"
      }
    },
    {
      "cell_type": "code",
      "source": [
        "clean_stop = PretrainedPipeline('clean_stop',lang = 'en')"
      ],
      "metadata": {
        "colab": {
          "base_uri": "https://localhost:8080/"
        },
        "id": "kHLddi6i6aJa",
        "outputId": "5c2e79a9-7a8c-4d56-af33-d6f982efb3d3"
      },
      "execution_count": null,
      "outputs": [
        {
          "output_type": "stream",
          "name": "stdout",
          "text": [
            "clean_stop download started this may take some time.\n",
            "Approx size to download 12.4 KB\n",
            "[OK!]\n"
          ]
        }
      ]
    },
    {
      "cell_type": "code",
      "source": [
        "result = clean_stop.annotate(testDoc)\n",
        "result.keys()"
      ],
      "metadata": {
        "colab": {
          "base_uri": "https://localhost:8080/"
        },
        "id": "g9NGGWM78PGj",
        "outputId": "a86cfb52-c09e-496e-b823-377cdd474764"
      },
      "execution_count": null,
      "outputs": [
        {
          "output_type": "execute_result",
          "data": {
            "text/plain": [
              "dict_keys(['document', 'sentence', 'token', 'cleanTokens'])"
            ]
          },
          "metadata": {},
          "execution_count": 44
        }
      ]
    },
    {
      "cell_type": "code",
      "source": [
        "' '.join(result['cleanTokens'])"
      ],
      "metadata": {
        "colab": {
          "base_uri": "https://localhost:8080/",
          "height": 70
        },
        "id": "DApJJzEi9qqz",
        "outputId": "20f15a0d-9632-452a-cfb2-6b4a6e899a6e"
      },
      "execution_count": null,
      "outputs": [
        {
          "output_type": "execute_result",
          "data": {
            "application/vnd.google.colaboratory.intrinsic+json": {
              "type": "string"
            },
            "text/plain": [
              "\"Peter good persn . life Russia intersting . John Peter brothrs . don't support . Lucas Nogal Dunbercker longer happy . good car . Europe culture rich . huge churches ! big houses !\""
            ]
          },
          "metadata": {},
          "execution_count": 45
        }
      ]
    },
    {
      "cell_type": "markdown",
      "source": [
        "CLEAN SLANG"
      ],
      "metadata": {
        "id": "q4E9608--OOp"
      }
    },
    {
      "cell_type": "code",
      "source": [
        "clean_slang = PretrainedPipeline('clean_slang', lang = 'en')\n",
        "result = clean_slang.annotate(' Whatsup bro, call me ASAP')\n",
        "result.keys()"
      ],
      "metadata": {
        "colab": {
          "base_uri": "https://localhost:8080/"
        },
        "id": "kCY1DZDQ-IRZ",
        "outputId": "806b38af-5476-4c6f-c6ef-94f2b5b313b6"
      },
      "execution_count": null,
      "outputs": [
        {
          "output_type": "stream",
          "name": "stdout",
          "text": [
            "clean_slang download started this may take some time.\n",
            "Approx size to download 21.8 KB\n",
            "[OK!]\n"
          ]
        },
        {
          "output_type": "execute_result",
          "data": {
            "text/plain": [
              "dict_keys(['document', 'token', 'normal'])"
            ]
          },
          "metadata": {},
          "execution_count": 46
        }
      ]
    },
    {
      "cell_type": "code",
      "source": [
        "' '.join(result['normal'])"
      ],
      "metadata": {
        "colab": {
          "base_uri": "https://localhost:8080/",
          "height": 35
        },
        "id": "SmN3UEJn-nID",
        "outputId": "f42a080c-2a74-4b0a-b7dd-b813d14e9d29"
      },
      "execution_count": null,
      "outputs": [
        {
          "output_type": "execute_result",
          "data": {
            "application/vnd.google.colaboratory.intrinsic+json": {
              "type": "string"
            },
            "text/plain": [
              "'how are you friend call me as soon as possible'"
            ]
          },
          "metadata": {},
          "execution_count": 47
        }
      ]
    },
    {
      "cell_type": "code",
      "source": [
        "clean_slang.model.stages"
      ],
      "metadata": {
        "colab": {
          "base_uri": "https://localhost:8080/"
        },
        "id": "r-rPrZ1eCAe4",
        "outputId": "852dc618-3686-4b92-d2c4-db5df95a7587"
      },
      "execution_count": null,
      "outputs": [
        {
          "output_type": "execute_result",
          "data": {
            "text/plain": [
              "[document_d30c0ae7a10b, REGEX_TOKENIZER_4ec6a1a85734, NORMALIZER_64aaaca9eae5]"
            ]
          },
          "metadata": {},
          "execution_count": 48
        }
      ]
    },
    {
      "cell_type": "code",
      "source": [
        "clean_slang.model.stages[-1]"
      ],
      "metadata": {
        "colab": {
          "base_uri": "https://localhost:8080/"
        },
        "id": "czbyYYuhDUPJ",
        "outputId": "16f4fc85-20ae-4074-96ae-e737ac262533"
      },
      "execution_count": null,
      "outputs": [
        {
          "output_type": "execute_result",
          "data": {
            "text/plain": [
              "NORMALIZER_64aaaca9eae5"
            ]
          },
          "metadata": {},
          "execution_count": 49
        }
      ]
    },
    {
      "cell_type": "markdown",
      "source": [
        "### Spell Checker \n",
        "\n",
        "(Norvig Algo)\n",
        "\n",
        "ref: https://norvig.com/spell-correct.html"
      ],
      "metadata": {
        "id": "-TojWj8xE5zI"
      }
    },
    {
      "cell_type": "code",
      "source": [
        "check_spelling = PretrainedPipeline('check_spelling',lang = 'en')"
      ],
      "metadata": {
        "colab": {
          "base_uri": "https://localhost:8080/"
        },
        "id": "xMDF6bC5DbiV",
        "outputId": "2580624d-f8de-4fd4-bf19-46d484c7a123"
      },
      "execution_count": null,
      "outputs": [
        {
          "output_type": "stream",
          "name": "stdout",
          "text": [
            "check_spelling download started this may take some time.\n",
            "Approx size to download 892.6 KB\n",
            "[OK!]\n"
          ]
        }
      ]
    },
    {
      "cell_type": "code",
      "source": [
        "testDoc = '''\n",
        "Peter is a very good persn.\n",
        "My life in Russia is very intersting.\n",
        "John and Peter are brothrs. However they don't support each other that much.\n",
        "Lucas Nogal Dunbercker is no longer happy. He has a good car though.\n",
        "Europe is very culture rich. There are huge churches! and big houses!\n",
        "'''\n",
        "\n",
        "result = check_spelling.annotate(testDoc)\n",
        "\n",
        "result.keys()"
      ],
      "metadata": {
        "colab": {
          "base_uri": "https://localhost:8080/"
        },
        "id": "5_0FeueAFGE1",
        "outputId": "8f1439d6-a360-4077-c52b-176317170bcc"
      },
      "execution_count": null,
      "outputs": [
        {
          "output_type": "execute_result",
          "data": {
            "text/plain": [
              "dict_keys(['document', 'sentence', 'token', 'checked'])"
            ]
          },
          "metadata": {},
          "execution_count": 51
        }
      ]
    },
    {
      "cell_type": "code",
      "source": [
        "list(zip(result['token'], result['checked']))"
      ],
      "metadata": {
        "colab": {
          "base_uri": "https://localhost:8080/"
        },
        "id": "GQ_X0ze-FK1V",
        "outputId": "3eb7e313-0424-48c9-bc10-c91c698ce865"
      },
      "execution_count": null,
      "outputs": [
        {
          "output_type": "execute_result",
          "data": {
            "text/plain": [
              "[('Peter', 'Peter'),\n",
              " ('is', 'is'),\n",
              " ('a', 'a'),\n",
              " ('very', 'very'),\n",
              " ('good', 'good'),\n",
              " ('persn', 'person'),\n",
              " ('.', '.'),\n",
              " ('My', 'My'),\n",
              " ('life', 'life'),\n",
              " ('in', 'in'),\n",
              " ('Russia', 'Russia'),\n",
              " ('is', 'is'),\n",
              " ('very', 'very'),\n",
              " ('intersting', 'interesting'),\n",
              " ('.', '.'),\n",
              " ('John', 'John'),\n",
              " ('and', 'and'),\n",
              " ('Peter', 'Peter'),\n",
              " ('are', 'are'),\n",
              " ('brothrs', 'brothers'),\n",
              " ('.', '.'),\n",
              " ('However', 'However'),\n",
              " ('they', 'they'),\n",
              " (\"don't\", \"don't\"),\n",
              " ('support', 'support'),\n",
              " ('each', 'each'),\n",
              " ('other', 'other'),\n",
              " ('that', 'that'),\n",
              " ('much', 'much'),\n",
              " ('.', '.'),\n",
              " ('Lucas', 'Lucas'),\n",
              " ('Nogal', 'Nigel'),\n",
              " ('Dunbercker', 'Dunbercker'),\n",
              " ('is', 'is'),\n",
              " ('no', 'no'),\n",
              " ('longer', 'longer'),\n",
              " ('happy', 'happy'),\n",
              " ('.', '.'),\n",
              " ('He', 'He'),\n",
              " ('has', 'has'),\n",
              " ('a', 'a'),\n",
              " ('good', 'good'),\n",
              " ('car', 'car'),\n",
              " ('though', 'though'),\n",
              " ('.', '.'),\n",
              " ('Europe', 'Europe'),\n",
              " ('is', 'is'),\n",
              " ('very', 'very'),\n",
              " ('culture', 'culture'),\n",
              " ('rich', 'rich'),\n",
              " ('.', '.'),\n",
              " ('There', 'There'),\n",
              " ('are', 'are'),\n",
              " ('huge', 'huge'),\n",
              " ('churches', 'churches'),\n",
              " ('!', '!'),\n",
              " ('and', 'and'),\n",
              " ('big', 'big'),\n",
              " ('houses', 'houses'),\n",
              " ('!', '!')]"
            ]
          },
          "metadata": {},
          "execution_count": 52
        }
      ]
    },
    {
      "cell_type": "markdown",
      "source": [
        "### Spell Checker DL\n",
        "\n",
        "https://medium.com/spark-nlp/applying-context-aware-spell-checking-in-spark-nlp-3c29c46963bc"
      ],
      "metadata": {
        "id": "gGoSVBf8GhsU"
      }
    },
    {
      "cell_type": "code",
      "source": [
        "check_spelling_dl = PretrainedPipeline('check_spelling_dl', lang='en')"
      ],
      "metadata": {
        "colab": {
          "base_uri": "https://localhost:8080/"
        },
        "id": "kq63zYZNGZec",
        "outputId": "d82e391f-a496-48ad-f408-200f39c78d2e"
      },
      "execution_count": null,
      "outputs": [
        {
          "output_type": "stream",
          "name": "stdout",
          "text": [
            "check_spelling_dl download started this may take some time.\n",
            "Approx size to download 112.2 MB\n",
            "[OK!]\n"
          ]
        }
      ]
    },
    {
      "cell_type": "code",
      "source": [
        "text = 'We will go to swimming if the ueather is nice.'\n",
        "\n",
        "result = check_spelling_dl.annotate(text)\n",
        "\n",
        "list(zip(result['token'], result['checked']))"
      ],
      "metadata": {
        "colab": {
          "base_uri": "https://localhost:8080/"
        },
        "id": "558I5_SqGqNv",
        "outputId": "b3b37296-958b-4f12-c3b5-e08f8f2d0d70"
      },
      "execution_count": null,
      "outputs": [
        {
          "output_type": "execute_result",
          "data": {
            "text/plain": [
              "[('We', 'We'),\n",
              " ('will', 'will'),\n",
              " ('go', 'go'),\n",
              " ('to', 'to'),\n",
              " ('swimming', 'swimming'),\n",
              " ('if', 'if'),\n",
              " ('the', 'the'),\n",
              " ('ueather', 'Heather'),\n",
              " ('is', 'is'),\n",
              " ('nice', 'nice'),\n",
              " ('.', '.')]"
            ]
          },
          "metadata": {},
          "execution_count": 54
        }
      ]
    },
    {
      "cell_type": "code",
      "source": [
        "result.keys()"
      ],
      "metadata": {
        "colab": {
          "base_uri": "https://localhost:8080/"
        },
        "id": "sAyUy_CaGwX-",
        "outputId": "2c1e7967-8cd5-45da-966c-8193996b0499"
      },
      "execution_count": null,
      "outputs": [
        {
          "output_type": "execute_result",
          "data": {
            "text/plain": [
              "dict_keys(['document', 'sentences', 'token', 'checked'])"
            ]
          },
          "metadata": {},
          "execution_count": 55
        }
      ]
    },
    {
      "cell_type": "code",
      "source": [
        "# check for the different occurrences of the word \"ueather\"\n",
        "examples = ['We will go to swimming if the ueather is nice.',\\\n",
        "    \"I have a black ueather jacket, so nice.\",\\\n",
        "    \"I introduce you to my sister, she is called ueather.\"]\n",
        "\n",
        "results = check_spelling_dl.annotate(examples)\n",
        "\n",
        "for result in results:\n",
        "  print(list(zip(result['token'], result['checked'])))"
      ],
      "metadata": {
        "colab": {
          "base_uri": "https://localhost:8080/"
        },
        "id": "H-FteRo3G9fR",
        "outputId": "55384e78-c080-4f87-d226-7ada3b20825c"
      },
      "execution_count": null,
      "outputs": [
        {
          "output_type": "stream",
          "name": "stdout",
          "text": [
            "[('We', 'We'), ('will', 'will'), ('go', 'go'), ('to', 'to'), ('swimming', 'swimming'), ('if', 'if'), ('the', 'the'), ('ueather', 'Heather'), ('is', 'is'), ('nice', 'nice'), ('.', '.')]\n",
            "[('I', 'I'), ('have', 'have'), ('a', 'a'), ('black', 'black'), ('ueather', 'leather'), ('jacket', 'jacket'), (',', ','), ('so', 'so'), ('nice', 'nice'), ('.', '.')]\n",
            "[('I', 'I'), ('introduce', 'introduce'), ('you', 'you'), ('to', 'to'), ('my', 'my'), ('sister', 'sister'), (',', ','), ('she', 'she'), ('is', 'is'), ('called', 'called'), ('ueather', 'Heather'), ('.', '.')]\n"
          ]
        }
      ]
    },
    {
      "cell_type": "code",
      "source": [
        "for result in results:\n",
        " print(result['document'],'>>',[pairs for pairs in list(zip(result['token'], result['checked'])) if pairs[0]!=pairs[1]])"
      ],
      "metadata": {
        "colab": {
          "base_uri": "https://localhost:8080/"
        },
        "id": "3KXdCfNcJ41b",
        "outputId": "9e4cb366-037d-4ca5-d76f-d646d61560b0"
      },
      "execution_count": null,
      "outputs": [
        {
          "output_type": "stream",
          "name": "stdout",
          "text": [
            "['We will go to swimming if the ueather is nice.'] >> [('ueather', 'Heather')]\n",
            "['I have a black ueather jacket, so nice.'] >> [('ueather', 'leather')]\n",
            "['I introduce you to my sister, she is called ueather.'] >> [('ueather', 'Heather')]\n"
          ]
        }
      ]
    },
    {
      "cell_type": "code",
      "source": [
        "# if we had tried the same with spell_checker (previous version)\n",
        "\n",
        "results = check_spelling.annotate(examples)\n",
        "\n",
        "for result in results:\n",
        "  print (list(zip(result['token'], result['checked'])))"
      ],
      "metadata": {
        "colab": {
          "base_uri": "https://localhost:8080/"
        },
        "id": "J6J8JxtySuZT",
        "outputId": "b1b44f81-6857-468c-94b5-deb497d84d8a"
      },
      "execution_count": null,
      "outputs": [
        {
          "output_type": "stream",
          "name": "stdout",
          "text": [
            "[('We', 'We'), ('will', 'will'), ('go', 'go'), ('to', 'to'), ('swimming', 'swimming'), ('if', 'if'), ('the', 'the'), ('ueather', 'weather'), ('is', 'is'), ('nice', 'nice'), ('.', '.')]\n",
            "[('I', 'I'), ('have', 'have'), ('a', 'a'), ('black', 'black'), ('ueather', 'weather'), ('jacket', 'jacket'), (',', ','), ('so', 'so'), ('nice', 'nice'), ('.', '.')]\n",
            "[('I', 'I'), ('introduce', 'introduce'), ('you', 'you'), ('to', 'to'), ('my', 'my'), ('sister', 'sister'), (',', ','), ('she', 'she'), ('is', 'is'), ('called', 'called'), ('ueather', 'weather'), ('.', '.')]\n"
          ]
        }
      ]
    },
    {
      "cell_type": "code",
      "source": [
        "for result in results:\n",
        " print(result['document'],'>>',[pairs for pairs in list(zip(result['token'], result['checked'])) if pairs[0]!=pairs[1]])"
      ],
      "metadata": {
        "colab": {
          "base_uri": "https://localhost:8080/"
        },
        "id": "_o7-EdIHhRkE",
        "outputId": "f4516a51-33ea-45b0-c06b-c9f3fd37fd71"
      },
      "execution_count": null,
      "outputs": [
        {
          "output_type": "stream",
          "name": "stdout",
          "text": [
            "['We will go to swimming if the ueather is nice.'] >> [('ueather', 'weather')]\n",
            "['I have a black ueather jacket, so nice.'] >> [('ueather', 'weather')]\n",
            "['I introduce you to my sister, she is called ueather.'] >> [('ueather', 'weather')]\n"
          ]
        }
      ]
    },
    {
      "cell_type": "markdown",
      "source": [
        "Parsing a list of texts"
      ],
      "metadata": {
        "id": "kc0oABQ3ndrg"
      }
    },
    {
      "cell_type": "code",
      "source": [
        "testDoc_list = ['French author who helped pioner the science-fiction genre.',\n",
        "'Verne wrate about space, air, and underwater travel before navigable aircrast',\n",
        "'Practical submarines were invented, and before any means of space travel had been devised.']\n",
        "\n",
        "testDoc_list"
      ],
      "metadata": {
        "colab": {
          "base_uri": "https://localhost:8080/"
        },
        "id": "puDCceaynZks",
        "outputId": "de70234a-56a1-4f26-f79a-08074508988c"
      },
      "execution_count": null,
      "outputs": [
        {
          "output_type": "execute_result",
          "data": {
            "text/plain": [
              "['French author who helped pioner the science-fiction genre.',\n",
              " 'Verne wrate about space, air, and underwater travel before navigable aircrast',\n",
              " 'Practical submarines were invented, and before any means of space travel had been devised.']"
            ]
          },
          "metadata": {},
          "execution_count": 60
        }
      ]
    },
    {
      "cell_type": "code",
      "source": [
        "pipeline = PretrainedPipeline('explain_document_ml', lang='en')"
      ],
      "metadata": {
        "colab": {
          "base_uri": "https://localhost:8080/"
        },
        "id": "xmULa0JMsBLQ",
        "outputId": "ac90f1df-bd35-4046-cc69-996a3e6aef34"
      },
      "execution_count": null,
      "outputs": [
        {
          "output_type": "stream",
          "name": "stdout",
          "text": [
            "explain_document_ml download started this may take some time.\n",
            "Approx size to download 9.4 MB\n",
            "[OK!]\n"
          ]
        }
      ]
    },
    {
      "cell_type": "code",
      "source": [
        "result_list = pipeline.annotate(testDoc_list)\n",
        "#result_list\n",
        "len (result_list)"
      ],
      "metadata": {
        "colab": {
          "base_uri": "https://localhost:8080/"
        },
        "id": "j_DMngLPsE3M",
        "outputId": "19948a3d-754d-49eb-b610-33ca3c6bafbc"
      },
      "execution_count": null,
      "outputs": [
        {
          "output_type": "execute_result",
          "data": {
            "text/plain": [
              "3"
            ]
          },
          "metadata": {},
          "execution_count": 62
        }
      ]
    },
    {
      "cell_type": "code",
      "source": [
        "result_list[0]"
      ],
      "metadata": {
        "colab": {
          "base_uri": "https://localhost:8080/"
        },
        "id": "0Kx6ihc5sOeb",
        "outputId": "37932475-dc64-4db1-b4bd-c4d25b5c1092"
      },
      "execution_count": null,
      "outputs": [
        {
          "output_type": "execute_result",
          "data": {
            "text/plain": [
              "{'document': ['French author who helped pioner the science-fiction genre.'],\n",
              " 'lemmas': ['French',\n",
              "  'author',\n",
              "  'who',\n",
              "  'help',\n",
              "  'pioneer',\n",
              "  'the',\n",
              "  'sciencefiction',\n",
              "  'genre',\n",
              "  '.'],\n",
              " 'pos': ['JJ', 'NN', 'WP', 'VBD', 'NN', 'DT', 'NN', 'NN', '.'],\n",
              " 'sentence': ['French author who helped pioner the science-fiction genre.'],\n",
              " 'spell': ['French',\n",
              "  'author',\n",
              "  'who',\n",
              "  'helped',\n",
              "  'pioneer',\n",
              "  'the',\n",
              "  'sciencefiction',\n",
              "  'genre',\n",
              "  '.'],\n",
              " 'stems': ['french',\n",
              "  'author',\n",
              "  'who',\n",
              "  'help',\n",
              "  'pioneer',\n",
              "  'the',\n",
              "  'sciencefict',\n",
              "  'genr',\n",
              "  '.'],\n",
              " 'token': ['French',\n",
              "  'author',\n",
              "  'who',\n",
              "  'helped',\n",
              "  'pioner',\n",
              "  'the',\n",
              "  'science-fiction',\n",
              "  'genre',\n",
              "  '.']}"
            ]
          },
          "metadata": {},
          "execution_count": 63
        }
      ]
    },
    {
      "cell_type": "markdown",
      "source": [
        "### Using fullAnnotate to get more details\n",
        "\n",
        "```\n",
        "annotatorType: String, \n",
        "begin: Int, \n",
        "end: Int, \n",
        "result: String, (this is what annotate returns)\n",
        "metadata: Map[String, String], \n",
        "embeddings: Array[Float]\n",
        "```"
      ],
      "metadata": {
        "id": "9IrVKYeatVse"
      }
    },
    {
      "cell_type": "code",
      "source": [
        "text = 'Peter Parker is a nice guy and lives in New York'\n",
        "\n",
        "# pipeline_dl >> explain_document_dl\n",
        "\n",
        "detailed_result = pipeline_dl.fullAnnotate(text)\n",
        "detailed_result"
      ],
      "metadata": {
        "colab": {
          "base_uri": "https://localhost:8080/"
        },
        "id": "oJovm2lwtJoP",
        "outputId": "d94cae8c-9b18-4e52-f5fa-e31372933f84"
      },
      "execution_count": null,
      "outputs": [
        {
          "output_type": "execute_result",
          "data": {
            "text/plain": [
              "[{'checked': [Annotation(token, 0, 4, Peter, {'confidence': '1.0', 'sentence': '0'}),\n",
              "   Annotation(token, 6, 11, Parker, {'confidence': '1.0', 'sentence': '0'}),\n",
              "   Annotation(token, 13, 14, is, {'confidence': '1.0', 'sentence': '0'}),\n",
              "   Annotation(token, 16, 16, a, {'confidence': '1.0', 'sentence': '0'}),\n",
              "   Annotation(token, 18, 21, nice, {'confidence': '1.0', 'sentence': '0'}),\n",
              "   Annotation(token, 23, 25, guy, {'confidence': '1.0', 'sentence': '0'}),\n",
              "   Annotation(token, 27, 29, and, {'confidence': '1.0', 'sentence': '0'}),\n",
              "   Annotation(token, 31, 35, lives, {'confidence': '1.0', 'sentence': '0'}),\n",
              "   Annotation(token, 37, 38, in, {'confidence': '1.0', 'sentence': '0'}),\n",
              "   Annotation(token, 40, 42, New, {'confidence': '1.0', 'sentence': '0'}),\n",
              "   Annotation(token, 44, 47, York, {'confidence': '1.0', 'sentence': '0'})],\n",
              "  'document': [Annotation(document, 0, 47, Peter Parker is a nice guy and lives in New York, {})],\n",
              "  'embeddings': [Annotation(word_embeddings, 0, 4, Peter, {'isOOV': 'false', 'pieceId': '-1', 'isWordStart': 'true', 'token': 'Peter', 'sentence': '0'}),\n",
              "   Annotation(word_embeddings, 6, 11, Parker, {'isOOV': 'false', 'pieceId': '-1', 'isWordStart': 'true', 'token': 'Parker', 'sentence': '0'}),\n",
              "   Annotation(word_embeddings, 13, 14, is, {'isOOV': 'false', 'pieceId': '-1', 'isWordStart': 'true', 'token': 'is', 'sentence': '0'}),\n",
              "   Annotation(word_embeddings, 16, 16, a, {'isOOV': 'false', 'pieceId': '-1', 'isWordStart': 'true', 'token': 'a', 'sentence': '0'}),\n",
              "   Annotation(word_embeddings, 18, 21, nice, {'isOOV': 'false', 'pieceId': '-1', 'isWordStart': 'true', 'token': 'nice', 'sentence': '0'}),\n",
              "   Annotation(word_embeddings, 23, 25, guy, {'isOOV': 'false', 'pieceId': '-1', 'isWordStart': 'true', 'token': 'guy', 'sentence': '0'}),\n",
              "   Annotation(word_embeddings, 27, 29, and, {'isOOV': 'false', 'pieceId': '-1', 'isWordStart': 'true', 'token': 'and', 'sentence': '0'}),\n",
              "   Annotation(word_embeddings, 31, 35, lives, {'isOOV': 'false', 'pieceId': '-1', 'isWordStart': 'true', 'token': 'lives', 'sentence': '0'}),\n",
              "   Annotation(word_embeddings, 37, 38, in, {'isOOV': 'false', 'pieceId': '-1', 'isWordStart': 'true', 'token': 'in', 'sentence': '0'}),\n",
              "   Annotation(word_embeddings, 40, 42, New, {'isOOV': 'false', 'pieceId': '-1', 'isWordStart': 'true', 'token': 'New', 'sentence': '0'}),\n",
              "   Annotation(word_embeddings, 44, 47, York, {'isOOV': 'false', 'pieceId': '-1', 'isWordStart': 'true', 'token': 'York', 'sentence': '0'})],\n",
              "  'entities': [Annotation(chunk, 0, 11, Peter Parker, {'entity': 'PER', 'sentence': '0', 'chunk': '0'}),\n",
              "   Annotation(chunk, 40, 47, New York, {'entity': 'LOC', 'sentence': '0', 'chunk': '1'})],\n",
              "  'lemma': [Annotation(token, 0, 4, Peter, {'confidence': '1.0', 'sentence': '0'}),\n",
              "   Annotation(token, 6, 11, Parker, {'confidence': '1.0', 'sentence': '0'}),\n",
              "   Annotation(token, 13, 14, be, {'confidence': '1.0', 'sentence': '0'}),\n",
              "   Annotation(token, 16, 16, a, {'confidence': '1.0', 'sentence': '0'}),\n",
              "   Annotation(token, 18, 21, nice, {'confidence': '1.0', 'sentence': '0'}),\n",
              "   Annotation(token, 23, 25, guy, {'confidence': '1.0', 'sentence': '0'}),\n",
              "   Annotation(token, 27, 29, and, {'confidence': '1.0', 'sentence': '0'}),\n",
              "   Annotation(token, 31, 35, life, {'confidence': '1.0', 'sentence': '0'}),\n",
              "   Annotation(token, 37, 38, in, {'confidence': '1.0', 'sentence': '0'}),\n",
              "   Annotation(token, 40, 42, New, {'confidence': '1.0', 'sentence': '0'}),\n",
              "   Annotation(token, 44, 47, York, {'confidence': '1.0', 'sentence': '0'})],\n",
              "  'ner': [Annotation(named_entity, 0, 4, B-PER, {'word': 'Peter'}),\n",
              "   Annotation(named_entity, 6, 11, I-PER, {'word': 'Parker'}),\n",
              "   Annotation(named_entity, 13, 14, O, {'word': 'is'}),\n",
              "   Annotation(named_entity, 16, 16, O, {'word': 'a'}),\n",
              "   Annotation(named_entity, 18, 21, O, {'word': 'nice'}),\n",
              "   Annotation(named_entity, 23, 25, O, {'word': 'guy'}),\n",
              "   Annotation(named_entity, 27, 29, O, {'word': 'and'}),\n",
              "   Annotation(named_entity, 31, 35, O, {'word': 'lives'}),\n",
              "   Annotation(named_entity, 37, 38, O, {'word': 'in'}),\n",
              "   Annotation(named_entity, 40, 42, B-LOC, {'word': 'New'}),\n",
              "   Annotation(named_entity, 44, 47, I-LOC, {'word': 'York'})],\n",
              "  'pos': [Annotation(pos, 0, 4, NNP, {'word': 'Peter'}),\n",
              "   Annotation(pos, 6, 11, NNP, {'word': 'Parker'}),\n",
              "   Annotation(pos, 13, 14, VBZ, {'word': 'is'}),\n",
              "   Annotation(pos, 16, 16, DT, {'word': 'a'}),\n",
              "   Annotation(pos, 18, 21, JJ, {'word': 'nice'}),\n",
              "   Annotation(pos, 23, 25, NN, {'word': 'guy'}),\n",
              "   Annotation(pos, 27, 29, CC, {'word': 'and'}),\n",
              "   Annotation(pos, 31, 35, NNS, {'word': 'lives'}),\n",
              "   Annotation(pos, 37, 38, IN, {'word': 'in'}),\n",
              "   Annotation(pos, 40, 42, NNP, {'word': 'New'}),\n",
              "   Annotation(pos, 44, 47, NNP, {'word': 'York'})],\n",
              "  'sentence': [Annotation(document, 0, 47, Peter Parker is a nice guy and lives in New York, {'sentence': '0'})],\n",
              "  'stem': [Annotation(token, 0, 4, peter, {'confidence': '1.0', 'sentence': '0'}),\n",
              "   Annotation(token, 6, 11, parker, {'confidence': '1.0', 'sentence': '0'}),\n",
              "   Annotation(token, 13, 14, i, {'confidence': '1.0', 'sentence': '0'}),\n",
              "   Annotation(token, 16, 16, a, {'confidence': '1.0', 'sentence': '0'}),\n",
              "   Annotation(token, 18, 21, nice, {'confidence': '1.0', 'sentence': '0'}),\n",
              "   Annotation(token, 23, 25, gui, {'confidence': '1.0', 'sentence': '0'}),\n",
              "   Annotation(token, 27, 29, and, {'confidence': '1.0', 'sentence': '0'}),\n",
              "   Annotation(token, 31, 35, live, {'confidence': '1.0', 'sentence': '0'}),\n",
              "   Annotation(token, 37, 38, in, {'confidence': '1.0', 'sentence': '0'}),\n",
              "   Annotation(token, 40, 42, new, {'confidence': '1.0', 'sentence': '0'}),\n",
              "   Annotation(token, 44, 47, york, {'confidence': '1.0', 'sentence': '0'})],\n",
              "  'token': [Annotation(token, 0, 4, Peter, {'sentence': '0'}),\n",
              "   Annotation(token, 6, 11, Parker, {'sentence': '0'}),\n",
              "   Annotation(token, 13, 14, is, {'sentence': '0'}),\n",
              "   Annotation(token, 16, 16, a, {'sentence': '0'}),\n",
              "   Annotation(token, 18, 21, nice, {'sentence': '0'}),\n",
              "   Annotation(token, 23, 25, guy, {'sentence': '0'}),\n",
              "   Annotation(token, 27, 29, and, {'sentence': '0'}),\n",
              "   Annotation(token, 31, 35, lives, {'sentence': '0'}),\n",
              "   Annotation(token, 37, 38, in, {'sentence': '0'}),\n",
              "   Annotation(token, 40, 42, New, {'sentence': '0'}),\n",
              "   Annotation(token, 44, 47, York, {'sentence': '0'})]}]"
            ]
          },
          "metadata": {},
          "execution_count": 64
        }
      ]
    },
    {
      "cell_type": "code",
      "source": [
        "detailed_result[0]['entities']"
      ],
      "metadata": {
        "colab": {
          "base_uri": "https://localhost:8080/"
        },
        "id": "0f5KZR2iXx7y",
        "outputId": "89e58d02-7c4c-49c8-e0e2-2187aa9e1e68"
      },
      "execution_count": null,
      "outputs": [
        {
          "output_type": "execute_result",
          "data": {
            "text/plain": [
              "[Annotation(chunk, 0, 11, Peter Parker, {'entity': 'PER', 'sentence': '0', 'chunk': '0'}),\n",
              " Annotation(chunk, 40, 47, New York, {'entity': 'LOC', 'sentence': '0', 'chunk': '1'})]"
            ]
          },
          "metadata": {},
          "execution_count": 65
        }
      ]
    },
    {
      "cell_type": "code",
      "source": [
        "detailed_result[0]['entities'][0].result"
      ],
      "metadata": {
        "colab": {
          "base_uri": "https://localhost:8080/",
          "height": 35
        },
        "id": "byI1wAZFZBjv",
        "outputId": "12eca056-ea9f-4e0e-e2d5-21f9604723c4"
      },
      "execution_count": null,
      "outputs": [
        {
          "output_type": "execute_result",
          "data": {
            "application/vnd.google.colaboratory.intrinsic+json": {
              "type": "string"
            },
            "text/plain": [
              "'Peter Parker'"
            ]
          },
          "metadata": {},
          "execution_count": 66
        }
      ]
    },
    {
      "cell_type": "code",
      "source": [
        "chunks = []\n",
        "entities = []\n",
        "\n",
        "for n in detailed_result[0]['entities']:\n",
        "  chunks.append(n.result)\n",
        "  entities.append(n.metadata['entity'])\n",
        "\n",
        "df = pd.DataFrame({'chunks' : chunks,'entities' : entities})\n",
        "df"
      ],
      "metadata": {
        "colab": {
          "base_uri": "https://localhost:8080/",
          "height": 112
        },
        "id": "BkjAeMW7ZI9N",
        "outputId": "2db38775-3a6d-4aa3-c1c3-d9c97a3cdd80"
      },
      "execution_count": null,
      "outputs": [
        {
          "output_type": "execute_result",
          "data": {
            "text/html": [
              "\n",
              "  <div id=\"df-42df4165-96bb-4f37-9cae-2f70658e4d7d\">\n",
              "    <div class=\"colab-df-container\">\n",
              "      <div>\n",
              "<style scoped>\n",
              "    .dataframe tbody tr th:only-of-type {\n",
              "        vertical-align: middle;\n",
              "    }\n",
              "\n",
              "    .dataframe tbody tr th {\n",
              "        vertical-align: top;\n",
              "    }\n",
              "\n",
              "    .dataframe thead th {\n",
              "        text-align: right;\n",
              "    }\n",
              "</style>\n",
              "<table border=\"1\" class=\"dataframe\">\n",
              "  <thead>\n",
              "    <tr style=\"text-align: right;\">\n",
              "      <th></th>\n",
              "      <th>chunks</th>\n",
              "      <th>entities</th>\n",
              "    </tr>\n",
              "  </thead>\n",
              "  <tbody>\n",
              "    <tr>\n",
              "      <th>0</th>\n",
              "      <td>Peter Parker</td>\n",
              "      <td>PER</td>\n",
              "    </tr>\n",
              "    <tr>\n",
              "      <th>1</th>\n",
              "      <td>New York</td>\n",
              "      <td>LOC</td>\n",
              "    </tr>\n",
              "  </tbody>\n",
              "</table>\n",
              "</div>\n",
              "      <button class=\"colab-df-convert\" onclick=\"convertToInteractive('df-42df4165-96bb-4f37-9cae-2f70658e4d7d')\"\n",
              "              title=\"Convert this dataframe to an interactive table.\"\n",
              "              style=\"display:none;\">\n",
              "        \n",
              "  <svg xmlns=\"http://www.w3.org/2000/svg\" height=\"24px\"viewBox=\"0 0 24 24\"\n",
              "       width=\"24px\">\n",
              "    <path d=\"M0 0h24v24H0V0z\" fill=\"none\"/>\n",
              "    <path d=\"M18.56 5.44l.94 2.06.94-2.06 2.06-.94-2.06-.94-.94-2.06-.94 2.06-2.06.94zm-11 1L8.5 8.5l.94-2.06 2.06-.94-2.06-.94L8.5 2.5l-.94 2.06-2.06.94zm10 10l.94 2.06.94-2.06 2.06-.94-2.06-.94-.94-2.06-.94 2.06-2.06.94z\"/><path d=\"M17.41 7.96l-1.37-1.37c-.4-.4-.92-.59-1.43-.59-.52 0-1.04.2-1.43.59L10.3 9.45l-7.72 7.72c-.78.78-.78 2.05 0 2.83L4 21.41c.39.39.9.59 1.41.59.51 0 1.02-.2 1.41-.59l7.78-7.78 2.81-2.81c.8-.78.8-2.07 0-2.86zM5.41 20L4 18.59l7.72-7.72 1.47 1.35L5.41 20z\"/>\n",
              "  </svg>\n",
              "      </button>\n",
              "      \n",
              "  <style>\n",
              "    .colab-df-container {\n",
              "      display:flex;\n",
              "      flex-wrap:wrap;\n",
              "      gap: 12px;\n",
              "    }\n",
              "\n",
              "    .colab-df-convert {\n",
              "      background-color: #E8F0FE;\n",
              "      border: none;\n",
              "      border-radius: 50%;\n",
              "      cursor: pointer;\n",
              "      display: none;\n",
              "      fill: #1967D2;\n",
              "      height: 32px;\n",
              "      padding: 0 0 0 0;\n",
              "      width: 32px;\n",
              "    }\n",
              "\n",
              "    .colab-df-convert:hover {\n",
              "      background-color: #E2EBFA;\n",
              "      box-shadow: 0px 1px 2px rgba(60, 64, 67, 0.3), 0px 1px 3px 1px rgba(60, 64, 67, 0.15);\n",
              "      fill: #174EA6;\n",
              "    }\n",
              "\n",
              "    [theme=dark] .colab-df-convert {\n",
              "      background-color: #3B4455;\n",
              "      fill: #D2E3FC;\n",
              "    }\n",
              "\n",
              "    [theme=dark] .colab-df-convert:hover {\n",
              "      background-color: #434B5C;\n",
              "      box-shadow: 0px 1px 3px 1px rgba(0, 0, 0, 0.15);\n",
              "      filter: drop-shadow(0px 1px 2px rgba(0, 0, 0, 0.3));\n",
              "      fill: #FFFFFF;\n",
              "    }\n",
              "  </style>\n",
              "\n",
              "      <script>\n",
              "        const buttonEl =\n",
              "          document.querySelector('#df-42df4165-96bb-4f37-9cae-2f70658e4d7d button.colab-df-convert');\n",
              "        buttonEl.style.display =\n",
              "          google.colab.kernel.accessAllowed ? 'block' : 'none';\n",
              "\n",
              "        async function convertToInteractive(key) {\n",
              "          const element = document.querySelector('#df-42df4165-96bb-4f37-9cae-2f70658e4d7d');\n",
              "          const dataTable =\n",
              "            await google.colab.kernel.invokeFunction('convertToInteractive',\n",
              "                                                     [key], {});\n",
              "          if (!dataTable) return;\n",
              "\n",
              "          const docLinkHtml = 'Like what you see? Visit the ' +\n",
              "            '<a target=\"_blank\" href=https://colab.research.google.com/notebooks/data_table.ipynb>data table notebook</a>'\n",
              "            + ' to learn more about interactive tables.';\n",
              "          element.innerHTML = '';\n",
              "          dataTable['output_type'] = 'display_data';\n",
              "          await google.colab.output.renderOutput(dataTable, element);\n",
              "          const docLink = document.createElement('div');\n",
              "          docLink.innerHTML = docLinkHtml;\n",
              "          element.appendChild(docLink);\n",
              "        }\n",
              "      </script>\n",
              "    </div>\n",
              "  </div>\n",
              "  "
            ],
            "text/plain": [
              "         chunks entities\n",
              "0  Peter Parker      PER\n",
              "1      New York      LOC"
            ]
          },
          "metadata": {},
          "execution_count": 67
        }
      ]
    },
    {
      "cell_type": "code",
      "source": [
        "tuples = []\n",
        "\n",
        "for x,y,z in zip(detailed_result[0][\"token\"],detailed_result[0][\"pos\"],detailed_result[0][\"ner\"]):\n",
        "  tuples.append((int(x.metadata['sentence']),x.result,x.begin,x.end,y.result,z.result))\n",
        "\n",
        "df = pd.DataFrame(tuples, columns = ['sentence','token','start','end','pos','ner'])\n",
        "df"
      ],
      "metadata": {
        "colab": {
          "base_uri": "https://localhost:8080/",
          "height": 394
        },
        "id": "vDamXqD-co0I",
        "outputId": "c67db953-6565-41f8-a552-3d60de1594cd"
      },
      "execution_count": null,
      "outputs": [
        {
          "output_type": "execute_result",
          "data": {
            "text/html": [
              "\n",
              "  <div id=\"df-5a2623ae-347a-488b-a451-b9ba6fa1fb3d\">\n",
              "    <div class=\"colab-df-container\">\n",
              "      <div>\n",
              "<style scoped>\n",
              "    .dataframe tbody tr th:only-of-type {\n",
              "        vertical-align: middle;\n",
              "    }\n",
              "\n",
              "    .dataframe tbody tr th {\n",
              "        vertical-align: top;\n",
              "    }\n",
              "\n",
              "    .dataframe thead th {\n",
              "        text-align: right;\n",
              "    }\n",
              "</style>\n",
              "<table border=\"1\" class=\"dataframe\">\n",
              "  <thead>\n",
              "    <tr style=\"text-align: right;\">\n",
              "      <th></th>\n",
              "      <th>sentence</th>\n",
              "      <th>token</th>\n",
              "      <th>start</th>\n",
              "      <th>end</th>\n",
              "      <th>pos</th>\n",
              "      <th>ner</th>\n",
              "    </tr>\n",
              "  </thead>\n",
              "  <tbody>\n",
              "    <tr>\n",
              "      <th>0</th>\n",
              "      <td>0</td>\n",
              "      <td>Peter</td>\n",
              "      <td>0</td>\n",
              "      <td>4</td>\n",
              "      <td>NNP</td>\n",
              "      <td>B-PER</td>\n",
              "    </tr>\n",
              "    <tr>\n",
              "      <th>1</th>\n",
              "      <td>0</td>\n",
              "      <td>Parker</td>\n",
              "      <td>6</td>\n",
              "      <td>11</td>\n",
              "      <td>NNP</td>\n",
              "      <td>I-PER</td>\n",
              "    </tr>\n",
              "    <tr>\n",
              "      <th>2</th>\n",
              "      <td>0</td>\n",
              "      <td>is</td>\n",
              "      <td>13</td>\n",
              "      <td>14</td>\n",
              "      <td>VBZ</td>\n",
              "      <td>O</td>\n",
              "    </tr>\n",
              "    <tr>\n",
              "      <th>3</th>\n",
              "      <td>0</td>\n",
              "      <td>a</td>\n",
              "      <td>16</td>\n",
              "      <td>16</td>\n",
              "      <td>DT</td>\n",
              "      <td>O</td>\n",
              "    </tr>\n",
              "    <tr>\n",
              "      <th>4</th>\n",
              "      <td>0</td>\n",
              "      <td>nice</td>\n",
              "      <td>18</td>\n",
              "      <td>21</td>\n",
              "      <td>JJ</td>\n",
              "      <td>O</td>\n",
              "    </tr>\n",
              "    <tr>\n",
              "      <th>5</th>\n",
              "      <td>0</td>\n",
              "      <td>guy</td>\n",
              "      <td>23</td>\n",
              "      <td>25</td>\n",
              "      <td>NN</td>\n",
              "      <td>O</td>\n",
              "    </tr>\n",
              "    <tr>\n",
              "      <th>6</th>\n",
              "      <td>0</td>\n",
              "      <td>and</td>\n",
              "      <td>27</td>\n",
              "      <td>29</td>\n",
              "      <td>CC</td>\n",
              "      <td>O</td>\n",
              "    </tr>\n",
              "    <tr>\n",
              "      <th>7</th>\n",
              "      <td>0</td>\n",
              "      <td>lives</td>\n",
              "      <td>31</td>\n",
              "      <td>35</td>\n",
              "      <td>NNS</td>\n",
              "      <td>O</td>\n",
              "    </tr>\n",
              "    <tr>\n",
              "      <th>8</th>\n",
              "      <td>0</td>\n",
              "      <td>in</td>\n",
              "      <td>37</td>\n",
              "      <td>38</td>\n",
              "      <td>IN</td>\n",
              "      <td>O</td>\n",
              "    </tr>\n",
              "    <tr>\n",
              "      <th>9</th>\n",
              "      <td>0</td>\n",
              "      <td>New</td>\n",
              "      <td>40</td>\n",
              "      <td>42</td>\n",
              "      <td>NNP</td>\n",
              "      <td>B-LOC</td>\n",
              "    </tr>\n",
              "    <tr>\n",
              "      <th>10</th>\n",
              "      <td>0</td>\n",
              "      <td>York</td>\n",
              "      <td>44</td>\n",
              "      <td>47</td>\n",
              "      <td>NNP</td>\n",
              "      <td>I-LOC</td>\n",
              "    </tr>\n",
              "  </tbody>\n",
              "</table>\n",
              "</div>\n",
              "      <button class=\"colab-df-convert\" onclick=\"convertToInteractive('df-5a2623ae-347a-488b-a451-b9ba6fa1fb3d')\"\n",
              "              title=\"Convert this dataframe to an interactive table.\"\n",
              "              style=\"display:none;\">\n",
              "        \n",
              "  <svg xmlns=\"http://www.w3.org/2000/svg\" height=\"24px\"viewBox=\"0 0 24 24\"\n",
              "       width=\"24px\">\n",
              "    <path d=\"M0 0h24v24H0V0z\" fill=\"none\"/>\n",
              "    <path d=\"M18.56 5.44l.94 2.06.94-2.06 2.06-.94-2.06-.94-.94-2.06-.94 2.06-2.06.94zm-11 1L8.5 8.5l.94-2.06 2.06-.94-2.06-.94L8.5 2.5l-.94 2.06-2.06.94zm10 10l.94 2.06.94-2.06 2.06-.94-2.06-.94-.94-2.06-.94 2.06-2.06.94z\"/><path d=\"M17.41 7.96l-1.37-1.37c-.4-.4-.92-.59-1.43-.59-.52 0-1.04.2-1.43.59L10.3 9.45l-7.72 7.72c-.78.78-.78 2.05 0 2.83L4 21.41c.39.39.9.59 1.41.59.51 0 1.02-.2 1.41-.59l7.78-7.78 2.81-2.81c.8-.78.8-2.07 0-2.86zM5.41 20L4 18.59l7.72-7.72 1.47 1.35L5.41 20z\"/>\n",
              "  </svg>\n",
              "      </button>\n",
              "      \n",
              "  <style>\n",
              "    .colab-df-container {\n",
              "      display:flex;\n",
              "      flex-wrap:wrap;\n",
              "      gap: 12px;\n",
              "    }\n",
              "\n",
              "    .colab-df-convert {\n",
              "      background-color: #E8F0FE;\n",
              "      border: none;\n",
              "      border-radius: 50%;\n",
              "      cursor: pointer;\n",
              "      display: none;\n",
              "      fill: #1967D2;\n",
              "      height: 32px;\n",
              "      padding: 0 0 0 0;\n",
              "      width: 32px;\n",
              "    }\n",
              "\n",
              "    .colab-df-convert:hover {\n",
              "      background-color: #E2EBFA;\n",
              "      box-shadow: 0px 1px 2px rgba(60, 64, 67, 0.3), 0px 1px 3px 1px rgba(60, 64, 67, 0.15);\n",
              "      fill: #174EA6;\n",
              "    }\n",
              "\n",
              "    [theme=dark] .colab-df-convert {\n",
              "      background-color: #3B4455;\n",
              "      fill: #D2E3FC;\n",
              "    }\n",
              "\n",
              "    [theme=dark] .colab-df-convert:hover {\n",
              "      background-color: #434B5C;\n",
              "      box-shadow: 0px 1px 3px 1px rgba(0, 0, 0, 0.15);\n",
              "      filter: drop-shadow(0px 1px 2px rgba(0, 0, 0, 0.3));\n",
              "      fill: #FFFFFF;\n",
              "    }\n",
              "  </style>\n",
              "\n",
              "      <script>\n",
              "        const buttonEl =\n",
              "          document.querySelector('#df-5a2623ae-347a-488b-a451-b9ba6fa1fb3d button.colab-df-convert');\n",
              "        buttonEl.style.display =\n",
              "          google.colab.kernel.accessAllowed ? 'block' : 'none';\n",
              "\n",
              "        async function convertToInteractive(key) {\n",
              "          const element = document.querySelector('#df-5a2623ae-347a-488b-a451-b9ba6fa1fb3d');\n",
              "          const dataTable =\n",
              "            await google.colab.kernel.invokeFunction('convertToInteractive',\n",
              "                                                     [key], {});\n",
              "          if (!dataTable) return;\n",
              "\n",
              "          const docLinkHtml = 'Like what you see? Visit the ' +\n",
              "            '<a target=\"_blank\" href=https://colab.research.google.com/notebooks/data_table.ipynb>data table notebook</a>'\n",
              "            + ' to learn more about interactive tables.';\n",
              "          element.innerHTML = '';\n",
              "          dataTable['output_type'] = 'display_data';\n",
              "          await google.colab.output.renderOutput(dataTable, element);\n",
              "          const docLink = document.createElement('div');\n",
              "          docLink.innerHTML = docLinkHtml;\n",
              "          element.appendChild(docLink);\n",
              "        }\n",
              "      </script>\n",
              "    </div>\n",
              "  </div>\n",
              "  "
            ],
            "text/plain": [
              "    sentence   token  start  end  pos    ner\n",
              "0          0   Peter      0    4  NNP  B-PER\n",
              "1          0  Parker      6   11  NNP  I-PER\n",
              "2          0      is     13   14  VBZ      O\n",
              "3          0       a     16   16   DT      O\n",
              "4          0    nice     18   21   JJ      O\n",
              "5          0     guy     23   25   NN      O\n",
              "6          0     and     27   29   CC      O\n",
              "7          0   lives     31   35  NNS      O\n",
              "8          0      in     37   38   IN      O\n",
              "9          0     New     40   42  NNP  B-LOC\n",
              "10         0    York     44   47  NNP  I-LOC"
            ]
          },
          "metadata": {},
          "execution_count": 68
        }
      ]
    },
    {
      "cell_type": "markdown",
      "source": [
        "### Use pretrained match_chunk Pipeline for Individual Noun Phrase\n",
        "\n",
        "**Stages**\n",
        "- DocumentAssembler\n",
        "- SentenceDetector\n",
        "- Tokenizer\n",
        "- Part of Speech\n",
        "- Chunker\n",
        "\n",
        "Pipeline:\n",
        "\n",
        "- The pipeline uses regex `<DT>?<JJ>*<NN>+`\n",
        "- which states that whenever the chunk finds an optional determiner (DT) followed by any number of adjectives (JJ) and then a noun (NN) then the Noun Phrase(NP) chunk should be formed."
      ],
      "metadata": {
        "id": "-cm9vWDCgUgQ"
      }
    },
    {
      "cell_type": "code",
      "source": [
        "pipeline = PretrainedPipeline('match_chunks', lang='en')"
      ],
      "metadata": {
        "colab": {
          "base_uri": "https://localhost:8080/"
        },
        "id": "_MtlbksPevj9",
        "outputId": "35fe8e47-8879-4c37-eb87-42579a001894"
      },
      "execution_count": null,
      "outputs": [
        {
          "output_type": "stream",
          "name": "stdout",
          "text": [
            "match_chunks download started this may take some time.\n",
            "Approx size to download 4.3 MB\n",
            "[OK!]\n"
          ]
        }
      ]
    },
    {
      "cell_type": "code",
      "source": [
        "pipeline.model.stages"
      ],
      "metadata": {
        "colab": {
          "base_uri": "https://localhost:8080/"
        },
        "id": "CL0DKkw5nMjU",
        "outputId": "0e87cd6d-60b0-427a-bccc-e2b15f5a1ff7"
      },
      "execution_count": null,
      "outputs": [
        {
          "output_type": "execute_result",
          "data": {
            "text/plain": [
              "[document_07d28fdac7a8,\n",
              " SENTENCE_2b5ea649b767,\n",
              " REGEX_TOKENIZER_09632b6f1612,\n",
              " POS_29fd848601e6,\n",
              " CHUNKER_7c7ff8d3e0eb]"
            ]
          },
          "metadata": {},
          "execution_count": 70
        }
      ]
    },
    {
      "cell_type": "code",
      "source": [
        "result = pipeline.annotate(\"The book has many chapters\") # single noun phrase\n",
        "result"
      ],
      "metadata": {
        "colab": {
          "base_uri": "https://localhost:8080/"
        },
        "id": "Sjc1sbHUnVJO",
        "outputId": "e2f90e34-6f2d-4f48-cc98-c93e8b94dbc0"
      },
      "execution_count": null,
      "outputs": [
        {
          "output_type": "execute_result",
          "data": {
            "text/plain": [
              "{'chunk': ['The book'],\n",
              " 'document': ['The book has many chapters'],\n",
              " 'pos': ['DT', 'NN', 'VBZ', 'JJ', 'NNS'],\n",
              " 'sentence': ['The book has many chapters'],\n",
              " 'token': ['The', 'book', 'has', 'many', 'chapters']}"
            ]
          },
          "metadata": {},
          "execution_count": 71
        }
      ]
    },
    {
      "cell_type": "code",
      "source": [
        "result['chunk']"
      ],
      "metadata": {
        "colab": {
          "base_uri": "https://localhost:8080/"
        },
        "id": "5kMsNxm_nbQZ",
        "outputId": "2df77c87-bc98-4b15-953a-7d7072789ce5"
      },
      "execution_count": null,
      "outputs": [
        {
          "output_type": "execute_result",
          "data": {
            "text/plain": [
              "['The book']"
            ]
          },
          "metadata": {},
          "execution_count": 72
        }
      ]
    },
    {
      "cell_type": "code",
      "source": [
        "result = pipeline.annotate(\"the little yellow dog barked at the cat\") #multiple noune phrases\n",
        "result"
      ],
      "metadata": {
        "colab": {
          "base_uri": "https://localhost:8080/"
        },
        "id": "T7kqBvzZnmLs",
        "outputId": "214b3c00-423d-4e8f-cac5-b13e9ac247d1"
      },
      "execution_count": null,
      "outputs": [
        {
          "output_type": "execute_result",
          "data": {
            "text/plain": [
              "{'chunk': ['the little yellow dog', 'the cat'],\n",
              " 'document': ['the little yellow dog barked at the cat'],\n",
              " 'pos': ['DT', 'JJ', 'JJ', 'NN', 'JJ', 'IN', 'DT', 'NN'],\n",
              " 'sentence': ['the little yellow dog barked at the cat'],\n",
              " 'token': ['the', 'little', 'yellow', 'dog', 'barked', 'at', 'the', 'cat']}"
            ]
          },
          "metadata": {},
          "execution_count": 73
        }
      ]
    },
    {
      "cell_type": "code",
      "source": [
        "result['chunk']"
      ],
      "metadata": {
        "colab": {
          "base_uri": "https://localhost:8080/"
        },
        "id": "NmdeMByMnriN",
        "outputId": "3820fe94-5371-4ffa-a54f-b9ef60d658bb"
      },
      "execution_count": null,
      "outputs": [
        {
          "output_type": "execute_result",
          "data": {
            "text/plain": [
              "['the little yellow dog', 'the cat']"
            ]
          },
          "metadata": {},
          "execution_count": 74
        }
      ]
    },
    {
      "cell_type": "code",
      "source": [
        "pipeline = PretrainedPipeline('match_datetime', lang='en')"
      ],
      "metadata": {
        "colab": {
          "base_uri": "https://localhost:8080/"
        },
        "id": "Ee0uHilkoCdO",
        "outputId": "7bbbe581-96c1-4af4-aa35-4339379cc1d6"
      },
      "execution_count": null,
      "outputs": [
        {
          "output_type": "stream",
          "name": "stdout",
          "text": [
            "match_datetime download started this may take some time.\n",
            "Approx size to download 12.9 KB\n",
            "[OK!]\n"
          ]
        }
      ]
    },
    {
      "cell_type": "code",
      "source": [
        "result = pipeline.annotate(\"I saw him yesterday and he told me that he will visit us next week\")\n",
        "\n",
        "result"
      ],
      "metadata": {
        "colab": {
          "base_uri": "https://localhost:8080/"
        },
        "id": "tSKj3HrjIr1a",
        "outputId": "7c8b6aac-ca5b-46bf-8afa-79a62c1937df"
      },
      "execution_count": null,
      "outputs": [
        {
          "output_type": "execute_result",
          "data": {
            "text/plain": [
              "{'date': ['2022/03/17', '2022/03/09'],\n",
              " 'document': ['I saw him yesterday and he told me that he will visit us next week'],\n",
              " 'sentence': ['I saw him yesterday and he told me that he will visit us next week'],\n",
              " 'token': ['I',\n",
              "  'saw',\n",
              "  'him',\n",
              "  'yesterday',\n",
              "  'and',\n",
              "  'he',\n",
              "  'told',\n",
              "  'me',\n",
              "  'that',\n",
              "  'he',\n",
              "  'will',\n",
              "  'visit',\n",
              "  'us',\n",
              "  'next',\n",
              "  'week']}"
            ]
          },
          "metadata": {},
          "execution_count": 76
        }
      ]
    },
    {
      "cell_type": "code",
      "source": [
        "detailed_result = pipeline.fullAnnotate(\"I saw him yesterday and he told me that he will visit us next week\")\n",
        "\n",
        "detailed_result"
      ],
      "metadata": {
        "colab": {
          "base_uri": "https://localhost:8080/"
        },
        "id": "_hRKp0NRIv8i",
        "outputId": "755a5c5f-77e5-4b0e-f2ea-a1916eeb70e2"
      },
      "execution_count": null,
      "outputs": [
        {
          "output_type": "execute_result",
          "data": {
            "text/plain": [
              "[{'date': [Annotation(date, 57, 65, 2022/03/17, {'sentence': '0'}),\n",
              "   Annotation(date, 10, 18, 2022/03/09, {'sentence': '0'})],\n",
              "  'document': [Annotation(document, 0, 65, I saw him yesterday and he told me that he will visit us next week, {})],\n",
              "  'sentence': [Annotation(document, 0, 65, I saw him yesterday and he told me that he will visit us next week, {'sentence': '0'})],\n",
              "  'token': [Annotation(token, 0, 0, I, {'sentence': '0'}),\n",
              "   Annotation(token, 2, 4, saw, {'sentence': '0'}),\n",
              "   Annotation(token, 6, 8, him, {'sentence': '0'}),\n",
              "   Annotation(token, 10, 18, yesterday, {'sentence': '0'}),\n",
              "   Annotation(token, 20, 22, and, {'sentence': '0'}),\n",
              "   Annotation(token, 24, 25, he, {'sentence': '0'}),\n",
              "   Annotation(token, 27, 30, told, {'sentence': '0'}),\n",
              "   Annotation(token, 32, 33, me, {'sentence': '0'}),\n",
              "   Annotation(token, 35, 38, that, {'sentence': '0'}),\n",
              "   Annotation(token, 40, 41, he, {'sentence': '0'}),\n",
              "   Annotation(token, 43, 46, will, {'sentence': '0'}),\n",
              "   Annotation(token, 48, 52, visit, {'sentence': '0'}),\n",
              "   Annotation(token, 54, 55, us, {'sentence': '0'}),\n",
              "   Annotation(token, 57, 60, next, {'sentence': '0'}),\n",
              "   Annotation(token, 62, 65, week, {'sentence': '0'})]}]"
            ]
          },
          "metadata": {},
          "execution_count": 77
        }
      ]
    },
    {
      "cell_type": "code",
      "source": [
        "tuples = []\n",
        "\n",
        "for x in detailed_result[0][\"token\"]:\n",
        "\n",
        "  tuples.append((int(x.metadata['sentence']), x.result, x.begin, x.end))\n",
        "\n",
        "df = pd.DataFrame(tuples, columns=['sent_id','token','start','end'])\n",
        "\n",
        "df"
      ],
      "metadata": {
        "colab": {
          "base_uri": "https://localhost:8080/",
          "height": 520
        },
        "id": "9U_VVm55JbEQ",
        "outputId": "f8758f80-a361-4a72-dc1b-c0b7f1fc26b7"
      },
      "execution_count": null,
      "outputs": [
        {
          "output_type": "execute_result",
          "data": {
            "text/html": [
              "\n",
              "  <div id=\"df-b7f75334-2aae-4776-a104-278f76d2399f\">\n",
              "    <div class=\"colab-df-container\">\n",
              "      <div>\n",
              "<style scoped>\n",
              "    .dataframe tbody tr th:only-of-type {\n",
              "        vertical-align: middle;\n",
              "    }\n",
              "\n",
              "    .dataframe tbody tr th {\n",
              "        vertical-align: top;\n",
              "    }\n",
              "\n",
              "    .dataframe thead th {\n",
              "        text-align: right;\n",
              "    }\n",
              "</style>\n",
              "<table border=\"1\" class=\"dataframe\">\n",
              "  <thead>\n",
              "    <tr style=\"text-align: right;\">\n",
              "      <th></th>\n",
              "      <th>sent_id</th>\n",
              "      <th>token</th>\n",
              "      <th>start</th>\n",
              "      <th>end</th>\n",
              "    </tr>\n",
              "  </thead>\n",
              "  <tbody>\n",
              "    <tr>\n",
              "      <th>0</th>\n",
              "      <td>0</td>\n",
              "      <td>I</td>\n",
              "      <td>0</td>\n",
              "      <td>0</td>\n",
              "    </tr>\n",
              "    <tr>\n",
              "      <th>1</th>\n",
              "      <td>0</td>\n",
              "      <td>saw</td>\n",
              "      <td>2</td>\n",
              "      <td>4</td>\n",
              "    </tr>\n",
              "    <tr>\n",
              "      <th>2</th>\n",
              "      <td>0</td>\n",
              "      <td>him</td>\n",
              "      <td>6</td>\n",
              "      <td>8</td>\n",
              "    </tr>\n",
              "    <tr>\n",
              "      <th>3</th>\n",
              "      <td>0</td>\n",
              "      <td>yesterday</td>\n",
              "      <td>10</td>\n",
              "      <td>18</td>\n",
              "    </tr>\n",
              "    <tr>\n",
              "      <th>4</th>\n",
              "      <td>0</td>\n",
              "      <td>and</td>\n",
              "      <td>20</td>\n",
              "      <td>22</td>\n",
              "    </tr>\n",
              "    <tr>\n",
              "      <th>5</th>\n",
              "      <td>0</td>\n",
              "      <td>he</td>\n",
              "      <td>24</td>\n",
              "      <td>25</td>\n",
              "    </tr>\n",
              "    <tr>\n",
              "      <th>6</th>\n",
              "      <td>0</td>\n",
              "      <td>told</td>\n",
              "      <td>27</td>\n",
              "      <td>30</td>\n",
              "    </tr>\n",
              "    <tr>\n",
              "      <th>7</th>\n",
              "      <td>0</td>\n",
              "      <td>me</td>\n",
              "      <td>32</td>\n",
              "      <td>33</td>\n",
              "    </tr>\n",
              "    <tr>\n",
              "      <th>8</th>\n",
              "      <td>0</td>\n",
              "      <td>that</td>\n",
              "      <td>35</td>\n",
              "      <td>38</td>\n",
              "    </tr>\n",
              "    <tr>\n",
              "      <th>9</th>\n",
              "      <td>0</td>\n",
              "      <td>he</td>\n",
              "      <td>40</td>\n",
              "      <td>41</td>\n",
              "    </tr>\n",
              "    <tr>\n",
              "      <th>10</th>\n",
              "      <td>0</td>\n",
              "      <td>will</td>\n",
              "      <td>43</td>\n",
              "      <td>46</td>\n",
              "    </tr>\n",
              "    <tr>\n",
              "      <th>11</th>\n",
              "      <td>0</td>\n",
              "      <td>visit</td>\n",
              "      <td>48</td>\n",
              "      <td>52</td>\n",
              "    </tr>\n",
              "    <tr>\n",
              "      <th>12</th>\n",
              "      <td>0</td>\n",
              "      <td>us</td>\n",
              "      <td>54</td>\n",
              "      <td>55</td>\n",
              "    </tr>\n",
              "    <tr>\n",
              "      <th>13</th>\n",
              "      <td>0</td>\n",
              "      <td>next</td>\n",
              "      <td>57</td>\n",
              "      <td>60</td>\n",
              "    </tr>\n",
              "    <tr>\n",
              "      <th>14</th>\n",
              "      <td>0</td>\n",
              "      <td>week</td>\n",
              "      <td>62</td>\n",
              "      <td>65</td>\n",
              "    </tr>\n",
              "  </tbody>\n",
              "</table>\n",
              "</div>\n",
              "      <button class=\"colab-df-convert\" onclick=\"convertToInteractive('df-b7f75334-2aae-4776-a104-278f76d2399f')\"\n",
              "              title=\"Convert this dataframe to an interactive table.\"\n",
              "              style=\"display:none;\">\n",
              "        \n",
              "  <svg xmlns=\"http://www.w3.org/2000/svg\" height=\"24px\"viewBox=\"0 0 24 24\"\n",
              "       width=\"24px\">\n",
              "    <path d=\"M0 0h24v24H0V0z\" fill=\"none\"/>\n",
              "    <path d=\"M18.56 5.44l.94 2.06.94-2.06 2.06-.94-2.06-.94-.94-2.06-.94 2.06-2.06.94zm-11 1L8.5 8.5l.94-2.06 2.06-.94-2.06-.94L8.5 2.5l-.94 2.06-2.06.94zm10 10l.94 2.06.94-2.06 2.06-.94-2.06-.94-.94-2.06-.94 2.06-2.06.94z\"/><path d=\"M17.41 7.96l-1.37-1.37c-.4-.4-.92-.59-1.43-.59-.52 0-1.04.2-1.43.59L10.3 9.45l-7.72 7.72c-.78.78-.78 2.05 0 2.83L4 21.41c.39.39.9.59 1.41.59.51 0 1.02-.2 1.41-.59l7.78-7.78 2.81-2.81c.8-.78.8-2.07 0-2.86zM5.41 20L4 18.59l7.72-7.72 1.47 1.35L5.41 20z\"/>\n",
              "  </svg>\n",
              "      </button>\n",
              "      \n",
              "  <style>\n",
              "    .colab-df-container {\n",
              "      display:flex;\n",
              "      flex-wrap:wrap;\n",
              "      gap: 12px;\n",
              "    }\n",
              "\n",
              "    .colab-df-convert {\n",
              "      background-color: #E8F0FE;\n",
              "      border: none;\n",
              "      border-radius: 50%;\n",
              "      cursor: pointer;\n",
              "      display: none;\n",
              "      fill: #1967D2;\n",
              "      height: 32px;\n",
              "      padding: 0 0 0 0;\n",
              "      width: 32px;\n",
              "    }\n",
              "\n",
              "    .colab-df-convert:hover {\n",
              "      background-color: #E2EBFA;\n",
              "      box-shadow: 0px 1px 2px rgba(60, 64, 67, 0.3), 0px 1px 3px 1px rgba(60, 64, 67, 0.15);\n",
              "      fill: #174EA6;\n",
              "    }\n",
              "\n",
              "    [theme=dark] .colab-df-convert {\n",
              "      background-color: #3B4455;\n",
              "      fill: #D2E3FC;\n",
              "    }\n",
              "\n",
              "    [theme=dark] .colab-df-convert:hover {\n",
              "      background-color: #434B5C;\n",
              "      box-shadow: 0px 1px 3px 1px rgba(0, 0, 0, 0.15);\n",
              "      filter: drop-shadow(0px 1px 2px rgba(0, 0, 0, 0.3));\n",
              "      fill: #FFFFFF;\n",
              "    }\n",
              "  </style>\n",
              "\n",
              "      <script>\n",
              "        const buttonEl =\n",
              "          document.querySelector('#df-b7f75334-2aae-4776-a104-278f76d2399f button.colab-df-convert');\n",
              "        buttonEl.style.display =\n",
              "          google.colab.kernel.accessAllowed ? 'block' : 'none';\n",
              "\n",
              "        async function convertToInteractive(key) {\n",
              "          const element = document.querySelector('#df-b7f75334-2aae-4776-a104-278f76d2399f');\n",
              "          const dataTable =\n",
              "            await google.colab.kernel.invokeFunction('convertToInteractive',\n",
              "                                                     [key], {});\n",
              "          if (!dataTable) return;\n",
              "\n",
              "          const docLinkHtml = 'Like what you see? Visit the ' +\n",
              "            '<a target=\"_blank\" href=https://colab.research.google.com/notebooks/data_table.ipynb>data table notebook</a>'\n",
              "            + ' to learn more about interactive tables.';\n",
              "          element.innerHTML = '';\n",
              "          dataTable['output_type'] = 'display_data';\n",
              "          await google.colab.output.renderOutput(dataTable, element);\n",
              "          const docLink = document.createElement('div');\n",
              "          docLink.innerHTML = docLinkHtml;\n",
              "          element.appendChild(docLink);\n",
              "        }\n",
              "      </script>\n",
              "    </div>\n",
              "  </div>\n",
              "  "
            ],
            "text/plain": [
              "    sent_id      token  start  end\n",
              "0         0          I      0    0\n",
              "1         0        saw      2    4\n",
              "2         0        him      6    8\n",
              "3         0  yesterday     10   18\n",
              "4         0        and     20   22\n",
              "5         0         he     24   25\n",
              "6         0       told     27   30\n",
              "7         0         me     32   33\n",
              "8         0       that     35   38\n",
              "9         0         he     40   41\n",
              "10        0       will     43   46\n",
              "11        0      visit     48   52\n",
              "12        0         us     54   55\n",
              "13        0       next     57   60\n",
              "14        0       week     62   65"
            ]
          },
          "metadata": {},
          "execution_count": 78
        }
      ]
    },
    {
      "cell_type": "markdown",
      "source": [
        "### Sentiment Analysis"
      ],
      "metadata": {
        "id": "qWZl2G3RLzcn"
      }
    },
    {
      "cell_type": "code",
      "source": [
        "sentiment = PretrainedPipeline('analyze_sentiment', lang='en')"
      ],
      "metadata": {
        "colab": {
          "base_uri": "https://localhost:8080/"
        },
        "id": "HCEsjAmeJf1-",
        "outputId": "0c460584-1e38-45bc-c99c-b3f14cb59da2"
      },
      "execution_count": null,
      "outputs": [
        {
          "output_type": "stream",
          "name": "stdout",
          "text": [
            "analyze_sentiment download started this may take some time.\n",
            "Approx size to download 4.9 MB\n",
            "[OK!]\n"
          ]
        }
      ]
    },
    {
      "cell_type": "code",
      "source": [
        "result = sentiment.annotate(\"The movie I watched today was not a good one\")\n",
        "\n",
        "result['sentiment']"
      ],
      "metadata": {
        "colab": {
          "base_uri": "https://localhost:8080/"
        },
        "id": "jjFrjnXGL9VU",
        "outputId": "6878b0da-9965-4710-a1e8-eef168afba1d"
      },
      "execution_count": null,
      "outputs": [
        {
          "output_type": "execute_result",
          "data": {
            "text/plain": [
              "['negative']"
            ]
          },
          "metadata": {},
          "execution_count": 80
        }
      ]
    },
    {
      "cell_type": "markdown",
      "source": [
        "#### DL version (trained on imdb)"
      ],
      "metadata": {
        "id": "lo3U1BmJMDNT"
      }
    },
    {
      "cell_type": "code",
      "source": [
        "sentiment_imdb = PretrainedPipeline('analyze_sentimentdl_use_imdb', lang='en')"
      ],
      "metadata": {
        "colab": {
          "base_uri": "https://localhost:8080/"
        },
        "id": "0s6RElu_L_ie",
        "outputId": "93e3a55b-d9e7-4378-d83d-bcdaaa8b681d"
      },
      "execution_count": null,
      "outputs": [
        {
          "output_type": "stream",
          "name": "stdout",
          "text": [
            "analyze_sentimentdl_use_imdb download started this may take some time.\n",
            "Approx size to download 935.7 MB\n",
            "[OK!]\n"
          ]
        }
      ]
    },
    {
      "cell_type": "code",
      "source": [
        "sentiment_imdb_glove = PretrainedPipeline('analyze_sentimentdl_glove_imdb', lang='en')"
      ],
      "metadata": {
        "colab": {
          "base_uri": "https://localhost:8080/"
        },
        "id": "q0ewGUZgMGRJ",
        "outputId": "be6bc133-41b6-44e0-bca1-40d30b5af419"
      },
      "execution_count": null,
      "outputs": [
        {
          "output_type": "stream",
          "name": "stdout",
          "text": [
            "analyze_sentimentdl_glove_imdb download started this may take some time.\n",
            "Approx size to download 154 MB\n",
            "[OK!]\n"
          ]
        }
      ]
    },
    {
      "cell_type": "code",
      "source": [
        "comment = '''\n",
        "It's a very scary film but what impressed me was how true the film sticks to the original's tricks; it isn't filled with loud in-your-face jump scares, in fact, a lot of what makes this film scary is the slick cinematography and intricate shadow play. The use of lighting and creation of atmosphere is what makes this film so tense, which is why it's perfectly suited for those who like Horror movies but without the obnoxious gore.\n",
        "'''\n",
        "result = sentiment_imdb_glove.annotate(comment)\n",
        "\n",
        "result['sentiment']"
      ],
      "metadata": {
        "colab": {
          "base_uri": "https://localhost:8080/"
        },
        "id": "OJ01II10MwIQ",
        "outputId": "2fc0592a-5ea4-4bdb-f569-57d94d3ba7d2"
      },
      "execution_count": null,
      "outputs": [
        {
          "output_type": "execute_result",
          "data": {
            "text/plain": [
              "['pos']"
            ]
          },
          "metadata": {},
          "execution_count": 83
        }
      ]
    },
    {
      "cell_type": "code",
      "source": [
        "sentiment_imdb_glove.fullAnnotate(comment)[0]['sentiment']"
      ],
      "metadata": {
        "colab": {
          "base_uri": "https://localhost:8080/"
        },
        "id": "tjj9x6ujMwzx",
        "outputId": "216394b8-6284-400d-8a98-a351f49a40d0"
      },
      "execution_count": null,
      "outputs": [
        {
          "output_type": "execute_result",
          "data": {
            "text/plain": [
              "[Annotation(category, 0, 433, pos, {'sentence': '0', 'pos': '0.98675287', 'neg': '0.013247096'})]"
            ]
          },
          "metadata": {},
          "execution_count": 84
        }
      ]
    },
    {
      "cell_type": "code",
      "source": [
        ""
      ],
      "metadata": {
        "id": "4F02CQBsMzBb"
      },
      "execution_count": null,
      "outputs": []
    }
  ]
}