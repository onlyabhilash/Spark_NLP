{
  "nbformat": 4,
  "nbformat_minor": 0,
  "metadata": {
    "colab": {
      "name": "spark_03_SparkNLP_Pretrained_Models.ipynb",
      "provenance": [],
      "collapsed_sections": [],
      "authorship_tag": "ABX9TyNwYJFCY58C99oJZoeLKgtw",
      "include_colab_link": true
    },
    "kernelspec": {
      "name": "python3",
      "display_name": "Python 3"
    },
    "language_info": {
      "name": "python"
    },
    "accelerator": "GPU"
  },
  "cells": [
    {
      "cell_type": "markdown",
      "metadata": {
        "id": "view-in-github",
        "colab_type": "text"
      },
      "source": [
        "<a href=\"https://colab.research.google.com/github/onlyabhilash/Spark_NLP/blob/main/spark-nlp_basics/spark_03_SparkNLP_Pretrained_Models.ipynb\" target=\"_parent\"><img src=\"https://colab.research.google.com/assets/colab-badge.svg\" alt=\"Open In Colab\"/></a>"
      ]
    },
    {
      "cell_type": "code",
      "execution_count": 1,
      "metadata": {
        "colab": {
          "base_uri": "https://localhost:8080/"
        },
        "id": "EZ0NUTLlsfkV",
        "outputId": "4ce1040b-c9dc-4e5e-854c-f688d9041338"
      },
      "outputs": [
        {
          "output_type": "stream",
          "name": "stdout",
          "text": [
            "Mounted at /content/drive\n"
          ]
        }
      ],
      "source": [
        "from google.colab import drive\n",
        "drive.mount('/content/drive')"
      ]
    },
    {
      "cell_type": "code",
      "source": [
        "import os\n",
        "\n",
        "# Install java\n",
        "! apt-get update -qq\n",
        "! apt-get install -y openjdk-8-jdk-headless -qq > /dev/null\n",
        "\n",
        "!wget -q https://archive.apache.org/dist/spark/spark-2.3.0/spark-2.3.0-bin-hadoop2.7.tgz\n",
        "\n",
        "!tar xf spark-2.3.0-bin-hadoop2.7.tgz\n",
        "!pip install -q findspark\n",
        "\n",
        "os.environ[\"JAVA_HOME\"] = \"/usr/lib/jvm/java-8-openjdk-amd64\"\n",
        "os.environ[\"PATH\"] = os.environ[\"JAVA_HOME\"] + \"/bin:\" + os.environ[\"PATH\"]\n",
        "os.environ[\"SPARK_HOME\"] = \"/content/spark-2.3.0-bin-hadoop2.7\"\n",
        "! java -version\n",
        "\n",
        "import findspark\n",
        "findspark.init()\n",
        "from pyspark.sql import SparkSession\n",
        "\n",
        "! pip install --ignore-installed -q spark-nlp==2.7.5\n",
        "import sparknlp\n",
        "from sparknlp.base import *\n",
        "from sparknlp.annotator import *\n",
        "\n",
        "spark = sparknlp.start(spark23=True)"
      ],
      "metadata": {
        "colab": {
          "base_uri": "https://localhost:8080/"
        },
        "id": "mPNAyEZ5xBLc",
        "outputId": "d103aa98-9e72-4560-f587-4b8285507f1c"
      },
      "execution_count": 2,
      "outputs": [
        {
          "output_type": "stream",
          "name": "stdout",
          "text": [
            "openjdk version \"1.8.0_312\"\n",
            "OpenJDK Runtime Environment (build 1.8.0_312-8u312-b07-0ubuntu1~18.04-b07)\n",
            "OpenJDK 64-Bit Server VM (build 25.312-b07, mixed mode)\n",
            "\u001b[K     |████████████████████████████████| 139 kB 5.4 MB/s \n",
            "\u001b[?25h"
          ]
        }
      ]
    },
    {
      "cell_type": "markdown",
      "source": [
        "Spark NLP offers the following pre-trained models in 26 languages and all you need to do is to load the pre-trained model into your disk by specifying the model name and then configuring the model parameters as per your use case and dataset. Then you will not need to worry about training a new model from scratch and will be able to enjoy the pre-trained SOTA algorithms directly applied to your own data with transform().\n",
        "\n",
        "In the official documentation, you can find detailed information regarding how these models are trained by using which algorithms and datasets.\n",
        "\n",
        "https://github.com/JohnSnowLabs/spark-nlp-models\n"
      ],
      "metadata": {
        "id": "pOdABVoHxSOK"
      }
    },
    {
      "cell_type": "markdown",
      "source": [
        "## LemmatizerModel"
      ],
      "metadata": {
        "id": "McomRxmFyajn"
      }
    },
    {
      "cell_type": "code",
      "source": [
        "from pyspark.ml import Pipeline"
      ],
      "metadata": {
        "id": "boqALiJwxS97"
      },
      "execution_count": 3,
      "outputs": []
    },
    {
      "cell_type": "code",
      "source": [
        "!wget -q -O news_category_test.csv https://s3.amazonaws.com/auxdata.johnsnowlabs.com/public/resources/en/classifier-dl/news_Category/news_category_test.csv"
      ],
      "metadata": {
        "id": "PPlifINDyjDu"
      },
      "execution_count": 4,
      "outputs": []
    },
    {
      "cell_type": "code",
      "source": [
        "import pyspark.sql.functions as F\n",
        "\n",
        "news_df = spark.read\\\n",
        "                .option(\"header\", \"true\")\\\n",
        "                .csv(\"news_category_test.csv\")\\\n",
        "                .withColumnRenamed(\"description\", \"text\")\n",
        "\n",
        "news_df.show(truncate=50)"
      ],
      "metadata": {
        "id": "EMbJszOh0IkC",
        "colab": {
          "base_uri": "https://localhost:8080/"
        },
        "outputId": "c4813101-2df8-49d8-cce6-9b2fa303f8a7"
      },
      "execution_count": 5,
      "outputs": [
        {
          "output_type": "stream",
          "name": "stdout",
          "text": [
            "+--------+--------------------------------------------------+\n",
            "|category|                                              text|\n",
            "+--------+--------------------------------------------------+\n",
            "|Business|Unions representing workers at Turner   Newall ...|\n",
            "|Sci/Tech| TORONTO, Canada    A second team of rocketeers...|\n",
            "|Sci/Tech| A company founded by a chemistry researcher at...|\n",
            "|Sci/Tech| It's barely dawn when Mike Fitzpatrick starts ...|\n",
            "|Sci/Tech| Southern California's smog fighting agency wen...|\n",
            "|Sci/Tech|\"The British Department for Education and Skill...|\n",
            "|Sci/Tech|\"confessed author of the Netsky and Sasser viru...|\n",
            "|Sci/Tech|\\\\FOAF/LOAF  and bloom filters have a lot of in...|\n",
            "|Sci/Tech|\"Wiltshire Police warns about \"\"phishing\"\" afte...|\n",
            "|Sci/Tech|In its first two years, the UK's dedicated card...|\n",
            "|Sci/Tech| A group of technology companies  including Tex...|\n",
            "|Sci/Tech| Apple Computer Inc.&lt;AAPL.O&gt; on  Tuesday ...|\n",
            "|Sci/Tech| Free Record Shop, a Dutch music  retail chain,...|\n",
            "|Sci/Tech|A giant 100km colony of ants  which has been di...|\n",
            "|Sci/Tech|                      \"Dolphin groups, or \"\"pods\"\"|\n",
            "|Sci/Tech|Tyrannosaurus rex achieved its massive size due...|\n",
            "|Sci/Tech|  Scientists have discovered irregular lumps be...|\n",
            "|Sci/Tech|  ESAs Mars Express has relayed pictures from o...|\n",
            "|Sci/Tech|When did life begin? One evidential clue stems ...|\n",
            "|Sci/Tech|update Earnings per share rise compared with a ...|\n",
            "+--------+--------------------------------------------------+\n",
            "only showing top 20 rows\n",
            "\n"
          ]
        }
      ]
    },
    {
      "cell_type": "code",
      "source": [
        "lemmatizer = LemmatizerModel.pretrained('lemma_antbnc', 'en') \\\n",
        "    .setInputCols([\"token\"]) \\\n",
        "    .setOutputCol(\"lemma\") \\\n",
        "\n",
        "\n",
        "'''\n",
        "lemmatizer = Lemmatizer() \\\n",
        "    .setInputCols([\"token\"]) \\\n",
        "    .setOutputCol(\"lemma\") \\\n",
        "    .setDictionary(\"./AntBNC_lemmas_ver_001.txt\", value_delimiter =\"\\t\", key_delimiter = \"->\")\n",
        "'''"
      ],
      "metadata": {
        "id": "39xBCqUC0c4z",
        "colab": {
          "base_uri": "https://localhost:8080/",
          "height": 105
        },
        "outputId": "63d357c1-d8c3-43b6-ee34-31c94f112822"
      },
      "execution_count": 6,
      "outputs": [
        {
          "output_type": "stream",
          "name": "stdout",
          "text": [
            "lemma_antbnc download started this may take some time.\n",
            "Approximate size to download 907.6 KB\n",
            "[OK!]\n"
          ]
        },
        {
          "output_type": "execute_result",
          "data": {
            "text/plain": [
              "'\\nlemmatizer = Lemmatizer()     .setInputCols([\"token\"])     .setOutputCol(\"lemma\")     .setDictionary(\"./AntBNC_lemmas_ver_001.txt\", value_delimiter =\"\\t\", key_delimiter = \"->\")\\n'"
            ],
            "application/vnd.google.colaboratory.intrinsic+json": {
              "type": "string"
            }
          },
          "metadata": {},
          "execution_count": 6
        }
      ]
    },
    {
      "cell_type": "code",
      "source": [
        "!cd ~/cache_pretrained && ls -l"
      ],
      "metadata": {
        "id": "nNw8f3dh2YFu",
        "colab": {
          "base_uri": "https://localhost:8080/"
        },
        "outputId": "fbdf1869-c20b-42c6-e0e8-02223195b523"
      },
      "execution_count": 7,
      "outputs": [
        {
          "output_type": "stream",
          "name": "stdout",
          "text": [
            "total 4\n",
            "drwxr-xr-x 4 root root 4096 Mar 30 10:30 lemma_antbnc_en_2.0.2_2.4_1556480454569\n"
          ]
        }
      ]
    },
    {
      "cell_type": "code",
      "source": [
        "\n",
        "\n",
        "documentAssembler = DocumentAssembler()\\\n",
        "    .setInputCol(\"text\")\\\n",
        "    .setOutputCol(\"document\")\n",
        "\n",
        "tokenizer = Tokenizer() \\\n",
        "    .setInputCols([\"document\"]) \\\n",
        "    .setOutputCol(\"token\")\n",
        "\n",
        "stemmer = Stemmer() \\\n",
        "    .setInputCols([\"token\"]) \\\n",
        "    .setOutputCol(\"stem\")\n",
        "\n",
        "nlpPipeline = Pipeline(stages=[\n",
        " documentAssembler, \n",
        " tokenizer,\n",
        " stemmer,\n",
        " lemmatizer\n",
        " ])\n",
        "\n",
        "empty_df = spark.createDataFrame([['']]).toDF(\"text\")\n",
        "\n",
        "pipelineModel = nlpPipeline.fit(empty_df)"
      ],
      "metadata": {
        "id": "4DVOXw3E2lsJ"
      },
      "execution_count": 8,
      "outputs": []
    },
    {
      "cell_type": "code",
      "source": [
        "result = pipelineModel.transform(news_df)\n",
        "\n",
        "result.show(5)"
      ],
      "metadata": {
        "id": "hj5h3Xz62u1w",
        "colab": {
          "base_uri": "https://localhost:8080/"
        },
        "outputId": "f7f7c7ba-ac65-4cba-9ec1-c5f451d43536"
      },
      "execution_count": 9,
      "outputs": [
        {
          "output_type": "stream",
          "name": "stdout",
          "text": [
            "+--------+--------------------+--------------------+--------------------+--------------------+--------------------+\n",
            "|category|                text|            document|               token|                stem|               lemma|\n",
            "+--------+--------------------+--------------------+--------------------+--------------------+--------------------+\n",
            "|Business|Unions representi...|[[document, 0, 12...|[[token, 0, 5, Un...|[[token, 0, 5, un...|[[token, 0, 5, Un...|\n",
            "|Sci/Tech| TORONTO, Canada ...|[[document, 0, 22...|[[token, 1, 7, TO...|[[token, 1, 7, to...|[[token, 1, 7, TO...|\n",
            "|Sci/Tech| A company founde...|[[document, 0, 20...|[[token, 1, 1, A,...|[[token, 1, 1, a,...|[[token, 1, 1, A,...|\n",
            "|Sci/Tech| It's barely dawn...|[[document, 0, 26...|[[token, 1, 4, It...|[[token, 1, 4, it...|[[token, 1, 4, It...|\n",
            "|Sci/Tech| Southern Califor...|[[document, 0, 17...|[[token, 1, 8, So...|[[token, 1, 8, so...|[[token, 1, 8, So...|\n",
            "+--------+--------------------+--------------------+--------------------+--------------------+--------------------+\n",
            "only showing top 5 rows\n",
            "\n"
          ]
        }
      ]
    },
    {
      "cell_type": "code",
      "source": [
        "result.select('token.result','lemma.result').show(truncate = 100)"
      ],
      "metadata": {
        "id": "PV-xcBa53fd9",
        "colab": {
          "base_uri": "https://localhost:8080/"
        },
        "outputId": "72452c73-91ca-4ccb-cfdb-d9e42117f3f1"
      },
      "execution_count": 10,
      "outputs": [
        {
          "output_type": "stream",
          "name": "stdout",
          "text": [
            "+----------------------------------------------------------------------------------------------------+----------------------------------------------------------------------------------------------------+\n",
            "|                                                                                              result|                                                                                              result|\n",
            "+----------------------------------------------------------------------------------------------------+----------------------------------------------------------------------------------------------------+\n",
            "|[Unions, representing, workers, at, Turner, Newall, say, they, are, ', disappointed, ', after, ta...|[Unions, represent, worker, at, Turner, Newall, say, they, be, ', disappointed, ', after, talk, w...|\n",
            "|[TORONTO, ,, Canada, A, second, team, of, rocketeers, competing, for, the, #36;10, million, Ansar...|[TORONTO, ,, Canada, A, second, team, of, rocketeer, compete, for, the, #36;10, million, Ansari, ...|\n",
            "|[A, company, founded, by, a, chemistry, researcher, at, the, University, of, Louisville, won, a, ...|[A, company, founded, by, a, chemistry, researcher, at, the, University, of, Louisville, win, a, ...|\n",
            "|[It's, barely, dawn, when, Mike, Fitzpatrick, starts, his, shift, with, a, blur, of, colorful, ma...|[It's, barely, dawn, when, Mike, Fitzpatrick, start, he, shift, with, a, blur, of, colorful, map,...|\n",
            "|[Southern, California's, smog, fighting, agency, went, after, emissions, of, the, bovine, variety...|[Southern, California's, smog, fight, agency, go, after, emission, of, the, bovine, variety, Frid...|\n",
            "|[\", The, British, Department, for, Education, and, Skills, (, DfES, ), recently, launched, a, \"\",...|[\", The, British, Department, for, Education, and, Skills, (, DfES, ), recently, launch, a, \"\", M...|\n",
            "|[\", confessed, author, of, the, Netsky, and, Sasser, viruses, ,, is, responsible, for, 70, percen...|[\", confess, author, of, the, Netsky, and, Sasser, virus, ,, be, responsible, for, 70, percent, o...|\n",
            "|[\\\\FOAF/LOAF, and, bloom, filters, have, a, lot, of, interesting, properties, for, social\\network...|[\\\\FOAF/LOAF, and, bloom, filter, have, a, lot, of, interest, property, for, social\\network, and,...|\n",
            "|[\", Wiltshire, Police, warns, about, \"\", phishing, \"\", after, its, fraud, squad, chief, was, targ...|[\", Wiltshire, Police, warn, about, \"\", phishing, \"\", after, it, fraud, squad, chief, be, target,...|\n",
            "|[In, its, first, two, years, ,, the, UK's, dedicated, card, fraud, unit, ,, has, recovered, 36,00...|[In, it, first, two, year, ,, the, UK's, dedicate, card, fraud, unit, ,, have, recover, 36,000, s...|\n",
            "|[A, group, of, technology, companies, including, Texas, Instruments, Inc, ., &lt;TXN.N&gt, ;,, ST...|[A, group, of, technology, company, include, Texas, Instruments, Inc, ., &lt;TXN.N&gt, ;,, STMicr...|\n",
            "|[Apple, Computer, Inc.&lt;AAPL.O&gt, ;, on, Tuesday, began, shipping, a, new, program, designed, ...|[Apple, Computer, Inc.&lt;AAPL.O&gt, ;, on, Tuesday, begin, ship, a, new, program, design, to, le...|\n",
            "|[Free, Record, Shop, ,, a, Dutch, music, retail, chain, ,, beat, Apple, Computer, Inc, ., to, mar...|[Free, Record, Shop, ,, a, Dutch, music, retail, chain, ,, beat, Apple, Computer, Inc, ., to, mar...|\n",
            "|[A, giant, 100km, colony, of, ants, which, has, been, discovered, in, Melbourne, ,, Australia, ,,...|[A, giant, 100km, colony, of, ant, which, have, be, discover, in, Melbourne, ,, Australia, ,, cou...|\n",
            "|                                                           [\", Dolphin, groups, ,, or, \"\", pods, \"\"]|                                                             [\", Dolphin, group, ,, or, \"\", pod, \"\"]|\n",
            "|[Tyrannosaurus, rex, achieved, its, massive, size, due, to, an, enormous, growth, spurt, during, ...|[Tyrannosaurus, rex, achieve, it, massive, size, due, to, an, enormous, growth, spurt, during, it...|\n",
            "|[Scientists, have, discovered, irregular, lumps, beneath, the, icy, surface, of, Jupiter's, large...|[Scientists, have, discover, irregular, lump, beneath, the, icy, surface, of, Jupiter's, large, m...|\n",
            "|[ESAs, Mars, Express, has, relayed, pictures, from, one, of, NASA's, Mars, rovers, for, the, firs...|[ESAs, Mars, Express, have, relay, picture, from, one, of, NASA's, Mars, rover, for, the, first, ...|\n",
            "|[When, did, life, begin, ?, One, evidential, clue, stems, from, the, fossil, records, in, Western...|[When, do, life, begin, ?, One, evidential, clue, stem, from, the, fossil, record, in, Western, A...|\n",
            "|[update, Earnings, per, share, rise, compared, with, a, year, ago, ,, but, company, misses, analy...|[update, Earnings, per, share, rise, compare, with, a, year, ago, ,, but, company, miss, analyst,...|\n",
            "+----------------------------------------------------------------------------------------------------+----------------------------------------------------------------------------------------------------+\n",
            "only showing top 20 rows\n",
            "\n"
          ]
        }
      ]
    },
    {
      "cell_type": "markdown",
      "source": [
        "## PerceptronModel (POS - Part of speech tags)"
      ],
      "metadata": {
        "id": "evl0Witi4GHh"
      }
    },
    {
      "cell_type": "code",
      "source": [
        "import pandas as pd\n",
        "\n",
        "pos_df= pd.read_html('https://www.ling.upenn.edu/courses/Fall_2003/ling001/penn_treebank_pos.html')\n",
        "\n",
        "pos_df[0]"
      ],
      "metadata": {
        "id": "1PUF7jqD3t5l",
        "colab": {
          "base_uri": "https://localhost:8080/",
          "height": 1000
        },
        "outputId": "3d11bb8c-62f8-451b-e15a-21d073f57059"
      },
      "execution_count": 11,
      "outputs": [
        {
          "output_type": "execute_result",
          "data": {
            "text/plain": [
              "         0     1                                         2\n",
              "0   Number   Tag                               Description\n",
              "1       1.    CC                  Coordinating conjunction\n",
              "2       2.    CD                           Cardinal number\n",
              "3       3.    DT                                Determiner\n",
              "4       4.    EX                         Existential there\n",
              "5       5.    FW                              Foreign word\n",
              "6       6.    IN  Preposition or subordinating conjunction\n",
              "7       7.    JJ                                 Adjective\n",
              "8       8.   JJR                    Adjective, comparative\n",
              "9       9.   JJS                    Adjective, superlative\n",
              "10     10.    LS                          List item marker\n",
              "11     11.    MD                                     Modal\n",
              "12     12.    NN                    Noun, singular or mass\n",
              "13     13.   NNS                              Noun, plural\n",
              "14     14.   NNP                     Proper noun, singular\n",
              "15     15.  NNPS                       Proper noun, plural\n",
              "16     16.   PDT                             Predeterminer\n",
              "17     17.   POS                         Possessive ending\n",
              "18     18.   PRP                          Personal pronoun\n",
              "19     19.  PRP$                        Possessive pronoun\n",
              "20     20.    RB                                    Adverb\n",
              "21     21.   RBR                       Adverb, comparative\n",
              "22     22.   RBS                       Adverb, superlative\n",
              "23     23.    RP                                  Particle\n",
              "24     24.   SYM                                    Symbol\n",
              "25     25.    TO                                        to\n",
              "26     26.    UH                              Interjection\n",
              "27     27.    VB                           Verb, base form\n",
              "28     28.   VBD                          Verb, past tense\n",
              "29     29.   VBG        Verb, gerund or present participle\n",
              "30     30.   VBN                     Verb, past participle\n",
              "31     31.   VBP     Verb, non-3rd person singular present\n",
              "32     32.   VBZ         Verb, 3rd person singular present\n",
              "33     33.   WDT                             Wh-determiner\n",
              "34     34.    WP                                Wh-pronoun\n",
              "35     35.   WP$                     Possessive wh-pronoun\n",
              "36     36.   WRB                                 Wh-adverb"
            ],
            "text/html": [
              "\n",
              "  <div id=\"df-1b431026-cbed-42af-9908-3a6e00183660\">\n",
              "    <div class=\"colab-df-container\">\n",
              "      <div>\n",
              "<style scoped>\n",
              "    .dataframe tbody tr th:only-of-type {\n",
              "        vertical-align: middle;\n",
              "    }\n",
              "\n",
              "    .dataframe tbody tr th {\n",
              "        vertical-align: top;\n",
              "    }\n",
              "\n",
              "    .dataframe thead th {\n",
              "        text-align: right;\n",
              "    }\n",
              "</style>\n",
              "<table border=\"1\" class=\"dataframe\">\n",
              "  <thead>\n",
              "    <tr style=\"text-align: right;\">\n",
              "      <th></th>\n",
              "      <th>0</th>\n",
              "      <th>1</th>\n",
              "      <th>2</th>\n",
              "    </tr>\n",
              "  </thead>\n",
              "  <tbody>\n",
              "    <tr>\n",
              "      <th>0</th>\n",
              "      <td>Number</td>\n",
              "      <td>Tag</td>\n",
              "      <td>Description</td>\n",
              "    </tr>\n",
              "    <tr>\n",
              "      <th>1</th>\n",
              "      <td>1.</td>\n",
              "      <td>CC</td>\n",
              "      <td>Coordinating conjunction</td>\n",
              "    </tr>\n",
              "    <tr>\n",
              "      <th>2</th>\n",
              "      <td>2.</td>\n",
              "      <td>CD</td>\n",
              "      <td>Cardinal number</td>\n",
              "    </tr>\n",
              "    <tr>\n",
              "      <th>3</th>\n",
              "      <td>3.</td>\n",
              "      <td>DT</td>\n",
              "      <td>Determiner</td>\n",
              "    </tr>\n",
              "    <tr>\n",
              "      <th>4</th>\n",
              "      <td>4.</td>\n",
              "      <td>EX</td>\n",
              "      <td>Existential there</td>\n",
              "    </tr>\n",
              "    <tr>\n",
              "      <th>5</th>\n",
              "      <td>5.</td>\n",
              "      <td>FW</td>\n",
              "      <td>Foreign word</td>\n",
              "    </tr>\n",
              "    <tr>\n",
              "      <th>6</th>\n",
              "      <td>6.</td>\n",
              "      <td>IN</td>\n",
              "      <td>Preposition or subordinating conjunction</td>\n",
              "    </tr>\n",
              "    <tr>\n",
              "      <th>7</th>\n",
              "      <td>7.</td>\n",
              "      <td>JJ</td>\n",
              "      <td>Adjective</td>\n",
              "    </tr>\n",
              "    <tr>\n",
              "      <th>8</th>\n",
              "      <td>8.</td>\n",
              "      <td>JJR</td>\n",
              "      <td>Adjective, comparative</td>\n",
              "    </tr>\n",
              "    <tr>\n",
              "      <th>9</th>\n",
              "      <td>9.</td>\n",
              "      <td>JJS</td>\n",
              "      <td>Adjective, superlative</td>\n",
              "    </tr>\n",
              "    <tr>\n",
              "      <th>10</th>\n",
              "      <td>10.</td>\n",
              "      <td>LS</td>\n",
              "      <td>List item marker</td>\n",
              "    </tr>\n",
              "    <tr>\n",
              "      <th>11</th>\n",
              "      <td>11.</td>\n",
              "      <td>MD</td>\n",
              "      <td>Modal</td>\n",
              "    </tr>\n",
              "    <tr>\n",
              "      <th>12</th>\n",
              "      <td>12.</td>\n",
              "      <td>NN</td>\n",
              "      <td>Noun, singular or mass</td>\n",
              "    </tr>\n",
              "    <tr>\n",
              "      <th>13</th>\n",
              "      <td>13.</td>\n",
              "      <td>NNS</td>\n",
              "      <td>Noun, plural</td>\n",
              "    </tr>\n",
              "    <tr>\n",
              "      <th>14</th>\n",
              "      <td>14.</td>\n",
              "      <td>NNP</td>\n",
              "      <td>Proper noun, singular</td>\n",
              "    </tr>\n",
              "    <tr>\n",
              "      <th>15</th>\n",
              "      <td>15.</td>\n",
              "      <td>NNPS</td>\n",
              "      <td>Proper noun, plural</td>\n",
              "    </tr>\n",
              "    <tr>\n",
              "      <th>16</th>\n",
              "      <td>16.</td>\n",
              "      <td>PDT</td>\n",
              "      <td>Predeterminer</td>\n",
              "    </tr>\n",
              "    <tr>\n",
              "      <th>17</th>\n",
              "      <td>17.</td>\n",
              "      <td>POS</td>\n",
              "      <td>Possessive ending</td>\n",
              "    </tr>\n",
              "    <tr>\n",
              "      <th>18</th>\n",
              "      <td>18.</td>\n",
              "      <td>PRP</td>\n",
              "      <td>Personal pronoun</td>\n",
              "    </tr>\n",
              "    <tr>\n",
              "      <th>19</th>\n",
              "      <td>19.</td>\n",
              "      <td>PRP$</td>\n",
              "      <td>Possessive pronoun</td>\n",
              "    </tr>\n",
              "    <tr>\n",
              "      <th>20</th>\n",
              "      <td>20.</td>\n",
              "      <td>RB</td>\n",
              "      <td>Adverb</td>\n",
              "    </tr>\n",
              "    <tr>\n",
              "      <th>21</th>\n",
              "      <td>21.</td>\n",
              "      <td>RBR</td>\n",
              "      <td>Adverb, comparative</td>\n",
              "    </tr>\n",
              "    <tr>\n",
              "      <th>22</th>\n",
              "      <td>22.</td>\n",
              "      <td>RBS</td>\n",
              "      <td>Adverb, superlative</td>\n",
              "    </tr>\n",
              "    <tr>\n",
              "      <th>23</th>\n",
              "      <td>23.</td>\n",
              "      <td>RP</td>\n",
              "      <td>Particle</td>\n",
              "    </tr>\n",
              "    <tr>\n",
              "      <th>24</th>\n",
              "      <td>24.</td>\n",
              "      <td>SYM</td>\n",
              "      <td>Symbol</td>\n",
              "    </tr>\n",
              "    <tr>\n",
              "      <th>25</th>\n",
              "      <td>25.</td>\n",
              "      <td>TO</td>\n",
              "      <td>to</td>\n",
              "    </tr>\n",
              "    <tr>\n",
              "      <th>26</th>\n",
              "      <td>26.</td>\n",
              "      <td>UH</td>\n",
              "      <td>Interjection</td>\n",
              "    </tr>\n",
              "    <tr>\n",
              "      <th>27</th>\n",
              "      <td>27.</td>\n",
              "      <td>VB</td>\n",
              "      <td>Verb, base form</td>\n",
              "    </tr>\n",
              "    <tr>\n",
              "      <th>28</th>\n",
              "      <td>28.</td>\n",
              "      <td>VBD</td>\n",
              "      <td>Verb, past tense</td>\n",
              "    </tr>\n",
              "    <tr>\n",
              "      <th>29</th>\n",
              "      <td>29.</td>\n",
              "      <td>VBG</td>\n",
              "      <td>Verb, gerund or present participle</td>\n",
              "    </tr>\n",
              "    <tr>\n",
              "      <th>30</th>\n",
              "      <td>30.</td>\n",
              "      <td>VBN</td>\n",
              "      <td>Verb, past participle</td>\n",
              "    </tr>\n",
              "    <tr>\n",
              "      <th>31</th>\n",
              "      <td>31.</td>\n",
              "      <td>VBP</td>\n",
              "      <td>Verb, non-3rd person singular present</td>\n",
              "    </tr>\n",
              "    <tr>\n",
              "      <th>32</th>\n",
              "      <td>32.</td>\n",
              "      <td>VBZ</td>\n",
              "      <td>Verb, 3rd person singular present</td>\n",
              "    </tr>\n",
              "    <tr>\n",
              "      <th>33</th>\n",
              "      <td>33.</td>\n",
              "      <td>WDT</td>\n",
              "      <td>Wh-determiner</td>\n",
              "    </tr>\n",
              "    <tr>\n",
              "      <th>34</th>\n",
              "      <td>34.</td>\n",
              "      <td>WP</td>\n",
              "      <td>Wh-pronoun</td>\n",
              "    </tr>\n",
              "    <tr>\n",
              "      <th>35</th>\n",
              "      <td>35.</td>\n",
              "      <td>WP$</td>\n",
              "      <td>Possessive wh-pronoun</td>\n",
              "    </tr>\n",
              "    <tr>\n",
              "      <th>36</th>\n",
              "      <td>36.</td>\n",
              "      <td>WRB</td>\n",
              "      <td>Wh-adverb</td>\n",
              "    </tr>\n",
              "  </tbody>\n",
              "</table>\n",
              "</div>\n",
              "      <button class=\"colab-df-convert\" onclick=\"convertToInteractive('df-1b431026-cbed-42af-9908-3a6e00183660')\"\n",
              "              title=\"Convert this dataframe to an interactive table.\"\n",
              "              style=\"display:none;\">\n",
              "        \n",
              "  <svg xmlns=\"http://www.w3.org/2000/svg\" height=\"24px\"viewBox=\"0 0 24 24\"\n",
              "       width=\"24px\">\n",
              "    <path d=\"M0 0h24v24H0V0z\" fill=\"none\"/>\n",
              "    <path d=\"M18.56 5.44l.94 2.06.94-2.06 2.06-.94-2.06-.94-.94-2.06-.94 2.06-2.06.94zm-11 1L8.5 8.5l.94-2.06 2.06-.94-2.06-.94L8.5 2.5l-.94 2.06-2.06.94zm10 10l.94 2.06.94-2.06 2.06-.94-2.06-.94-.94-2.06-.94 2.06-2.06.94z\"/><path d=\"M17.41 7.96l-1.37-1.37c-.4-.4-.92-.59-1.43-.59-.52 0-1.04.2-1.43.59L10.3 9.45l-7.72 7.72c-.78.78-.78 2.05 0 2.83L4 21.41c.39.39.9.59 1.41.59.51 0 1.02-.2 1.41-.59l7.78-7.78 2.81-2.81c.8-.78.8-2.07 0-2.86zM5.41 20L4 18.59l7.72-7.72 1.47 1.35L5.41 20z\"/>\n",
              "  </svg>\n",
              "      </button>\n",
              "      \n",
              "  <style>\n",
              "    .colab-df-container {\n",
              "      display:flex;\n",
              "      flex-wrap:wrap;\n",
              "      gap: 12px;\n",
              "    }\n",
              "\n",
              "    .colab-df-convert {\n",
              "      background-color: #E8F0FE;\n",
              "      border: none;\n",
              "      border-radius: 50%;\n",
              "      cursor: pointer;\n",
              "      display: none;\n",
              "      fill: #1967D2;\n",
              "      height: 32px;\n",
              "      padding: 0 0 0 0;\n",
              "      width: 32px;\n",
              "    }\n",
              "\n",
              "    .colab-df-convert:hover {\n",
              "      background-color: #E2EBFA;\n",
              "      box-shadow: 0px 1px 2px rgba(60, 64, 67, 0.3), 0px 1px 3px 1px rgba(60, 64, 67, 0.15);\n",
              "      fill: #174EA6;\n",
              "    }\n",
              "\n",
              "    [theme=dark] .colab-df-convert {\n",
              "      background-color: #3B4455;\n",
              "      fill: #D2E3FC;\n",
              "    }\n",
              "\n",
              "    [theme=dark] .colab-df-convert:hover {\n",
              "      background-color: #434B5C;\n",
              "      box-shadow: 0px 1px 3px 1px rgba(0, 0, 0, 0.15);\n",
              "      filter: drop-shadow(0px 1px 2px rgba(0, 0, 0, 0.3));\n",
              "      fill: #FFFFFF;\n",
              "    }\n",
              "  </style>\n",
              "\n",
              "      <script>\n",
              "        const buttonEl =\n",
              "          document.querySelector('#df-1b431026-cbed-42af-9908-3a6e00183660 button.colab-df-convert');\n",
              "        buttonEl.style.display =\n",
              "          google.colab.kernel.accessAllowed ? 'block' : 'none';\n",
              "\n",
              "        async function convertToInteractive(key) {\n",
              "          const element = document.querySelector('#df-1b431026-cbed-42af-9908-3a6e00183660');\n",
              "          const dataTable =\n",
              "            await google.colab.kernel.invokeFunction('convertToInteractive',\n",
              "                                                     [key], {});\n",
              "          if (!dataTable) return;\n",
              "\n",
              "          const docLinkHtml = 'Like what you see? Visit the ' +\n",
              "            '<a target=\"_blank\" href=https://colab.research.google.com/notebooks/data_table.ipynb>data table notebook</a>'\n",
              "            + ' to learn more about interactive tables.';\n",
              "          element.innerHTML = '';\n",
              "          dataTable['output_type'] = 'display_data';\n",
              "          await google.colab.output.renderOutput(dataTable, element);\n",
              "          const docLink = document.createElement('div');\n",
              "          docLink.innerHTML = docLinkHtml;\n",
              "          element.appendChild(docLink);\n",
              "        }\n",
              "      </script>\n",
              "    </div>\n",
              "  </div>\n",
              "  "
            ]
          },
          "metadata": {},
          "execution_count": 11
        }
      ]
    },
    {
      "cell_type": "code",
      "source": [
        "pos = PerceptronModel.pretrained(\"pos_anc\", 'en')\\\n",
        "      .setInputCols(\"document\", \"token\")\\\n",
        "      .setOutputCol(\"pos\")"
      ],
      "metadata": {
        "id": "EGV38Tyf6cC3",
        "colab": {
          "base_uri": "https://localhost:8080/"
        },
        "outputId": "0a29cee7-2f68-4d47-ebac-ba9f83b6034e"
      },
      "execution_count": 12,
      "outputs": [
        {
          "output_type": "stream",
          "name": "stdout",
          "text": [
            "pos_anc download started this may take some time.\n",
            "Approximate size to download 4.3 MB\n",
            "[OK!]\n"
          ]
        }
      ]
    },
    {
      "cell_type": "code",
      "source": [
        "!cd ~/cache_pretrained && ls -l"
      ],
      "metadata": {
        "id": "-tJgVKFi6i3E",
        "colab": {
          "base_uri": "https://localhost:8080/"
        },
        "outputId": "c4bc45aa-8596-4ce6-81a4-71bf3187fbb6"
      },
      "execution_count": 13,
      "outputs": [
        {
          "output_type": "stream",
          "name": "stdout",
          "text": [
            "total 8\n",
            "drwxr-xr-x 4 root root 4096 Mar 30 10:30 lemma_antbnc_en_2.0.2_2.4_1556480454569\n",
            "drwxr-xr-x 4 root root 4096 Mar 30 10:31 pos_anc_en_2.0.2_2.4_1556659930154\n"
          ]
        }
      ]
    },
    {
      "cell_type": "code",
      "source": [
        "nlpPipeline = Pipeline(stages=[\n",
        " documentAssembler, \n",
        " tokenizer,\n",
        " stemmer,\n",
        " lemmatizer,\n",
        " pos\n",
        " ])\n",
        "\n",
        "empty_df = spark.createDataFrame([['']]).toDF(\"text\")\n",
        "\n",
        "pipelineModel = nlpPipeline.fit(empty_df)"
      ],
      "metadata": {
        "id": "wdNKCjIm6mo2"
      },
      "execution_count": 14,
      "outputs": []
    },
    {
      "cell_type": "code",
      "source": [
        "result = pipelineModel.transform(news_df)\n",
        "\n",
        "result.show(5)"
      ],
      "metadata": {
        "id": "2wLVHSMV6vg6",
        "colab": {
          "base_uri": "https://localhost:8080/"
        },
        "outputId": "d6e750f5-95f8-409a-a428-1d9d819bb51f"
      },
      "execution_count": 15,
      "outputs": [
        {
          "output_type": "stream",
          "name": "stdout",
          "text": [
            "+--------+--------------------+--------------------+--------------------+--------------------+--------------------+--------------------+\n",
            "|category|                text|            document|               token|                stem|               lemma|                 pos|\n",
            "+--------+--------------------+--------------------+--------------------+--------------------+--------------------+--------------------+\n",
            "|Business|Unions representi...|[[document, 0, 12...|[[token, 0, 5, Un...|[[token, 0, 5, un...|[[token, 0, 5, Un...|[[pos, 0, 5, NNP,...|\n",
            "|Sci/Tech| TORONTO, Canada ...|[[document, 0, 22...|[[token, 1, 7, TO...|[[token, 1, 7, to...|[[token, 1, 7, TO...|[[pos, 1, 7, NNP,...|\n",
            "|Sci/Tech| A company founde...|[[document, 0, 20...|[[token, 1, 1, A,...|[[token, 1, 1, a,...|[[token, 1, 1, A,...|[[pos, 1, 1, DT, ...|\n",
            "|Sci/Tech| It's barely dawn...|[[document, 0, 26...|[[token, 1, 4, It...|[[token, 1, 4, it...|[[token, 1, 4, It...|[[pos, 1, 4, NNP,...|\n",
            "|Sci/Tech| Southern Califor...|[[document, 0, 17...|[[token, 1, 8, So...|[[token, 1, 8, so...|[[token, 1, 8, So...|[[pos, 1, 8, NNP,...|\n",
            "+--------+--------------------+--------------------+--------------------+--------------------+--------------------+--------------------+\n",
            "only showing top 5 rows\n",
            "\n"
          ]
        }
      ]
    },
    {
      "cell_type": "code",
      "source": [
        "result.select('token.result','pos.result').show(5, truncate=100)"
      ],
      "metadata": {
        "id": "XjX_wtsS6x2v",
        "colab": {
          "base_uri": "https://localhost:8080/"
        },
        "outputId": "859fde1a-ee35-43eb-de27-ef68e32bfa57"
      },
      "execution_count": 16,
      "outputs": [
        {
          "output_type": "stream",
          "name": "stdout",
          "text": [
            "+----------------------------------------------------------------------------------------------------+----------------------------------------------------------------------------------------------------+\n",
            "|                                                                                              result|                                                                                              result|\n",
            "+----------------------------------------------------------------------------------------------------+----------------------------------------------------------------------------------------------------+\n",
            "|[Unions, representing, workers, at, Turner, Newall, say, they, are, ', disappointed, ', after, ta...|    [NNP, VBG, NNS, IN, NNP, NNP, VBP, PRP, VBP, POS, JJ, POS, IN, NNS, IN, NN, NN, NN, NNP, NNP, .]|\n",
            "|[TORONTO, ,, Canada, A, second, team, of, rocketeers, competing, for, the, #36;10, million, Ansar...|[NNP, ,, NNP, DT, JJ, NN, IN, NNS, VBG, IN, DT, NN, CD, NNP, NNP, NNP, ,, DT, NN, IN, RB, JJ, JJ,...|\n",
            "|[A, company, founded, by, a, chemistry, researcher, at, the, University, of, Louisville, won, a, ...|[DT, NN, VBN, IN, DT, NN, NN, IN, DT, NNP, IN, NNP, VBD, DT, NN, TO, VB, DT, NN, IN, VBG, JJR, NN...|\n",
            "|[It's, barely, dawn, when, Mike, Fitzpatrick, starts, his, shift, with, a, blur, of, colorful, ma...|[NNP, RB, NN, WRB, NNP, NNP, VBZ, PRP$, NN, IN, DT, NN, IN, JJ, NNS, ,, NNS, CC, JJ, NNS, ,, CC, ...|\n",
            "|[Southern, California's, smog, fighting, agency, went, after, emissions, of, the, bovine, variety...|[NNP, NNP, NN, VBG, NN, VBD, IN, NNS, IN, DT, NN, NN, NNP, ,, VBG, DT, NN, JJ, NNS, TO, VB, NN, N...|\n",
            "+----------------------------------------------------------------------------------------------------+----------------------------------------------------------------------------------------------------+\n",
            "only showing top 5 rows\n",
            "\n"
          ]
        }
      ]
    },
    {
      "cell_type": "code",
      "source": [
        "# applying this pipeline to top 100 rows and then converting to Pandas\n",
        "\n",
        "result = pipelineModel.transform(news_df.limit(100))\n",
        "\n",
        "#result_df = result.select(F.explode(F.arrays_zip('token.result', 'token.begin', 'token.end', 'stem.result',  'lemma.result', 'pos.result')).alias(\"cols\")) \\\n",
        "#.select(F.expr(\"cols['0']\").alias(\"token\"),\n",
        "#        F.expr(\"cols['1']\").alias(\"begin\"),\n",
        "#        F.expr(\"cols['2']\").alias(\"end\"),\n",
        "#       F.expr(\"cols['3']\").alias(\"stem\"),\n",
        "#        F.expr(\"cols['4']\").alias(\"lemma\"),\n",
        "#        F.expr(\"cols['5']\").alias(\"pos\")).toPandas()\n",
        "\n",
        "#result_df.head(10) "
      ],
      "metadata": {
        "id": "LIJYMQOW7C5U"
      },
      "execution_count": 17,
      "outputs": []
    },
    {
      "cell_type": "code",
      "source": [
        "# same in LightPipeline\n",
        "\n",
        "light_model = LightPipeline(pipelineModel)\n",
        "\n",
        "light_result = light_model.annotate('Unions representing workers at Turner   Newall say they are disappointed after talks with stricken parent firm Federal Mogul.')\n",
        "\n",
        "list(zip(light_result['token'], light_result['stem'], light_result['lemma'], light_result['pos']))"
      ],
      "metadata": {
        "id": "8Sqc7TmP77wB",
        "colab": {
          "base_uri": "https://localhost:8080/"
        },
        "outputId": "81a608ef-e3bf-47d5-ca8e-a50d652a8a27"
      },
      "execution_count": 18,
      "outputs": [
        {
          "output_type": "execute_result",
          "data": {
            "text/plain": [
              "[('Unions', 'union', 'Unions', 'NNP'),\n",
              " ('representing', 'repres', 'represent', 'VBG'),\n",
              " ('workers', 'worker', 'worker', 'NNS'),\n",
              " ('at', 'at', 'at', 'IN'),\n",
              " ('Turner', 'turner', 'Turner', 'NNP'),\n",
              " ('Newall', 'newal', 'Newall', 'NNP'),\n",
              " ('say', 'sai', 'say', 'VBP'),\n",
              " ('they', 'thei', 'they', 'PRP'),\n",
              " ('are', 'ar', 'be', 'VBP'),\n",
              " ('disappointed', 'disappoint', 'disappointed', 'VBN'),\n",
              " ('after', 'after', 'after', 'IN'),\n",
              " ('talks', 'talk', 'talk', 'NNS'),\n",
              " ('with', 'with', 'with', 'IN'),\n",
              " ('stricken', 'stricken', 'stricken', 'NN'),\n",
              " ('parent', 'parent', 'parent', 'NN'),\n",
              " ('firm', 'firm', 'firm', 'NN'),\n",
              " ('Federal', 'feder', 'Federal', 'NNP'),\n",
              " ('Mogul', 'mogul', 'Mogul', 'NNP'),\n",
              " ('.', '.', '.', '.')]"
            ]
          },
          "metadata": {},
          "execution_count": 18
        }
      ]
    },
    {
      "cell_type": "markdown",
      "source": [
        "## Chunker\n",
        "\n",
        "Meaningful phrase matching\n",
        "\n",
        "This annotator matches a pattern of part-of-speech tags in order to return meaningful phrases from document\n",
        "\n",
        "Output type: Chunk\n",
        "\n",
        "Input types: Document, POS\n",
        "\n",
        "Functions:\n",
        "\n",
        "`setRegexParsers(patterns)`: A list of regex patterns to match chunks, for example: Array(“‹DT›?‹JJ›*‹NN›\n",
        "\n",
        "`addRegexParser(patterns)`: adds a pattern to the current list of chunk patterns, for example: “‹DT›?‹JJ›*‹NN›”"
      ],
      "metadata": {
        "id": "BXQIexjKANNK"
      }
    },
    {
      "cell_type": "code",
      "source": [
        "# applying POS chunker to find a custom pattern\n",
        "\n",
        "chunker = Chunker()\\\n",
        "    .setInputCols([\"document\", \"pos\"])\\\n",
        "    .setOutputCol(\"chunk\")\\\n",
        "    .setRegexParsers([\"<NNP>+\", \"<DT>?<JJ>*<NN>\"])\n",
        "\n",
        "# NNP: Proper Noun\n",
        "# NN: COmmon Noun\n",
        "# DT: Determinator (e.g. the)\n",
        "# JJ: Adjective\n",
        "\n",
        "chunker.extractParamMap()"
      ],
      "metadata": {
        "id": "ubQ-PpeHAB-p",
        "colab": {
          "base_uri": "https://localhost:8080/"
        },
        "outputId": "45116843-b064-4edc-b11f-d5839bed4604"
      },
      "execution_count": 19,
      "outputs": [
        {
          "output_type": "execute_result",
          "data": {
            "text/plain": [
              "{Param(parent='Chunker_46eab51cdd95772f1598', name='inputCols', doc='previous annotations columns, if renamed'): ['document',\n",
              "  'pos'],\n",
              " Param(parent='Chunker_46eab51cdd95772f1598', name='lazyAnnotator', doc='Whether this AnnotatorModel acts as lazy in RecursivePipelines'): False,\n",
              " Param(parent='Chunker_46eab51cdd95772f1598', name='outputCol', doc='output annotation column. can be left default.'): 'chunk',\n",
              " Param(parent='Chunker_46eab51cdd95772f1598', name='regexParsers', doc='an array of grammar based chunk parsers'): ['<NNP>+',\n",
              "  '<DT>?<JJ>*<NN>']}"
            ]
          },
          "metadata": {},
          "execution_count": 19
        }
      ]
    },
    {
      "cell_type": "code",
      "source": [
        "\n",
        "nlpPipeline = Pipeline(stages=[\n",
        " documentAssembler, \n",
        " tokenizer,\n",
        " stemmer,\n",
        " lemmatizer,\n",
        " pos,\n",
        " chunker\n",
        " ])\n",
        "\n",
        "empty_df = spark.createDataFrame([['']]).toDF(\"text\")\n",
        "\n",
        "pipelineModel = nlpPipeline.fit(empty_df)"
      ],
      "metadata": {
        "id": "rHOBrw-WD7TQ"
      },
      "execution_count": 20,
      "outputs": []
    },
    {
      "cell_type": "code",
      "source": [
        "result = pipelineModel.transform(news_df.limit(100))\n",
        "\n",
        "result.show(5)"
      ],
      "metadata": {
        "id": "Ps8Q_q9QFCmu",
        "colab": {
          "base_uri": "https://localhost:8080/"
        },
        "outputId": "b2b11507-811c-41e5-8a81-b3f3f42e1fc9"
      },
      "execution_count": 21,
      "outputs": [
        {
          "output_type": "stream",
          "name": "stdout",
          "text": [
            "+--------+--------------------+--------------------+--------------------+--------------------+--------------------+--------------------+--------------------+\n",
            "|category|                text|            document|               token|                stem|               lemma|                 pos|               chunk|\n",
            "+--------+--------------------+--------------------+--------------------+--------------------+--------------------+--------------------+--------------------+\n",
            "|Business|Unions representi...|[[document, 0, 12...|[[token, 0, 5, Un...|[[token, 0, 5, un...|[[token, 0, 5, Un...|[[pos, 0, 5, NNP,...|[[chunk, 0, 5, Un...|\n",
            "|Sci/Tech| TORONTO, Canada ...|[[document, 0, 22...|[[token, 1, 7, TO...|[[token, 1, 7, to...|[[token, 1, 7, TO...|[[pos, 1, 7, NNP,...|[[chunk, 1, 7, TO...|\n",
            "|Sci/Tech| A company founde...|[[document, 0, 20...|[[token, 1, 1, A,...|[[token, 1, 1, a,...|[[token, 1, 1, A,...|[[pos, 1, 1, DT, ...|[[chunk, 52, 61, ...|\n",
            "|Sci/Tech| It's barely dawn...|[[document, 0, 26...|[[token, 1, 4, It...|[[token, 1, 4, it...|[[token, 1, 4, It...|[[pos, 1, 4, NNP,...|[[chunk, 1, 4, It...|\n",
            "|Sci/Tech| Southern Califor...|[[document, 0, 17...|[[token, 1, 8, So...|[[token, 1, 8, so...|[[token, 1, 8, So...|[[pos, 1, 8, NNP,...|[[chunk, 1, 21, S...|\n",
            "+--------+--------------------+--------------------+--------------------+--------------------+--------------------+--------------------+--------------------+\n",
            "only showing top 5 rows\n",
            "\n"
          ]
        }
      ]
    },
    {
      "cell_type": "code",
      "source": [
        "#result_df = result.select(F.explode(F.arrays_zip('chunk.result', 'chunk.begin',  'chunk.end')).alias(\"cols\")) \\\n",
        "#.select(F.expr(\"cols['0']\").alias(\"chunk\"),\n",
        "#        F.expr(\"cols['1']\").alias(\"begin\"),\n",
        "#        F.expr(\"cols['2']\").alias(\"end\")).toPandas()\n",
        "\n",
        "#result_df.head(10)"
      ],
      "metadata": {
        "id": "p0wRAQN2FEYD"
      },
      "execution_count": 22,
      "outputs": []
    },
    {
      "cell_type": "markdown",
      "source": [
        "## Dependency Parser"
      ],
      "metadata": {
        "id": "h1YpB_CtFfjx"
      }
    },
    {
      "cell_type": "code",
      "source": [
        "dep_parser = DependencyParserModel.pretrained('dependency_conllu')\\\n",
        "        .setInputCols([\"document\", \"pos\", \"token\"])\\\n",
        "        .setOutputCol(\"dependency\")"
      ],
      "metadata": {
        "id": "L8CB_21TFYgQ",
        "colab": {
          "base_uri": "https://localhost:8080/"
        },
        "outputId": "7f3edd88-cd84-4567-f41c-ac3f3643dd3c"
      },
      "execution_count": 23,
      "outputs": [
        {
          "output_type": "stream",
          "name": "stdout",
          "text": [
            "dependency_conllu download started this may take some time.\n",
            "Approximate size to download 16.6 MB\n",
            "[OK!]\n"
          ]
        }
      ]
    },
    {
      "cell_type": "code",
      "source": [
        "typed_dep_parser = TypedDependencyParserModel.pretrained('dependency_typed_conllu')\\\n",
        "        .setInputCols([\"token\", \"pos\", \"dependency\"])\\\n",
        "        .setOutputCol(\"dependency_type\")"
      ],
      "metadata": {
        "id": "6o9UF48OFmEf",
        "colab": {
          "base_uri": "https://localhost:8080/"
        },
        "outputId": "f0f56823-e7c2-4be3-9334-bca0e2f9c78a"
      },
      "execution_count": 24,
      "outputs": [
        {
          "output_type": "stream",
          "name": "stdout",
          "text": [
            "dependency_typed_conllu download started this may take some time.\n",
            "Approximate size to download 257.4 KB\n",
            "[OK!]\n"
          ]
        }
      ]
    },
    {
      "cell_type": "code",
      "source": [
        "nlpPipeline = Pipeline(stages=[\n",
        " documentAssembler, \n",
        " tokenizer,\n",
        " stemmer,\n",
        " lemmatizer,\n",
        " pos,\n",
        " dep_parser,\n",
        " typed_dep_parser\n",
        " ])\n",
        "\n",
        "empty_df = spark.createDataFrame([['']]).toDF(\"text\")\n",
        "\n",
        "pipelineModel = nlpPipeline.fit(empty_df)"
      ],
      "metadata": {
        "id": "3FcZjz0LFrM_"
      },
      "execution_count": 25,
      "outputs": []
    },
    {
      "cell_type": "code",
      "source": [
        "result = pipelineModel.transform(news_df.limit(100))\n",
        "\n",
        "#result_df = result.select(F.explode(F.arrays_zip('token.result', 'token.begin',  'token.end', 'dependency.result', 'dependency_type.result')).alias(\"cols\")) \\\n",
        "#.select(F.expr(\"cols['0']\").alias(\"chunk\"),\n",
        "#        F.expr(\"cols['1']\").alias(\"begin\"),\n",
        "#        F.expr(\"cols['2']\").alias(\"end\"),\n",
        "#        F.expr(\"cols['3']\").alias(\"dependency\"),\n",
        "#        F.expr(\"cols['4']\").alias(\"dependency_type\")).toPandas()\n",
        "\n",
        "#result_df.head(10)"
      ],
      "metadata": {
        "id": "0bO2b6iiFu-h"
      },
      "execution_count": 26,
      "outputs": []
    },
    {
      "cell_type": "markdown",
      "source": [
        "## StopWordsCleaner\n",
        "\n",
        "`stopwords_fr`, `stopwords_de`, `stopwords_en`, `stopwords_it`, `stopwords_af` .... over 40 languages "
      ],
      "metadata": {
        "id": "M26YgmjdGYgO"
      }
    },
    {
      "cell_type": "code",
      "source": [
        "\n",
        "stopwords_cleaner = StopWordsCleaner.pretrained('stopwords_en','en')\\\n",
        "        .setInputCols(\"token\")\\\n",
        "        .setOutputCol(\"cleanTokens\")\\\n",
        "        .setCaseSensitive(False)"
      ],
      "metadata": {
        "id": "0NMJemIyF0NF",
        "colab": {
          "base_uri": "https://localhost:8080/"
        },
        "outputId": "28f6a941-7c65-4041-a6fb-64ca288050ce"
      },
      "execution_count": 27,
      "outputs": [
        {
          "output_type": "stream",
          "name": "stdout",
          "text": [
            "stopwords_en download started this may take some time.\n",
            "Approximate size to download 2.9 KB\n",
            "[OK!]\n"
          ]
        }
      ]
    },
    {
      "cell_type": "code",
      "source": [
        "# we can also get the list of stopwords EX : in Spanish\n",
        "\n",
        "stopwords_cleaner_es = StopWordsCleaner.pretrained('stopwords_es','es')\\\n",
        "        .setInputCols(\"token\")\\\n",
        "        .setOutputCol(\"cleanTokens\")\\\n",
        "        .setCaseSensitive(False)\n",
        "\n",
        "stopwords_cleaner_es.getStopWords()[:10]"
      ],
      "metadata": {
        "id": "ce7aO3VqH-7K",
        "colab": {
          "base_uri": "https://localhost:8080/"
        },
        "outputId": "f9456300-df96-4d13-f9e8-4eb2bd8bea89"
      },
      "execution_count": 28,
      "outputs": [
        {
          "output_type": "stream",
          "name": "stdout",
          "text": [
            "stopwords_es download started this may take some time.\n",
            "Approximate size to download 2.2 KB\n",
            "[OK!]\n"
          ]
        },
        {
          "output_type": "execute_result",
          "data": {
            "text/plain": [
              "['a',\n",
              " 'acuerdo',\n",
              " 'adelante',\n",
              " 'ademas',\n",
              " 'además',\n",
              " 'adrede',\n",
              " 'ahi',\n",
              " 'ahí',\n",
              " 'ahora',\n",
              " 'al']"
            ]
          },
          "metadata": {},
          "execution_count": 28
        }
      ]
    },
    {
      "cell_type": "code",
      "source": [
        "# we can also get the list of stopwords EX: In German\n",
        "\n",
        "stopwords_cleaner_de = StopWordsCleaner.pretrained('stopwords_de','de')\\\n",
        "        .setInputCols(\"token\")\\\n",
        "        .setOutputCol(\"cleanTokens\")\\\n",
        "        .setCaseSensitive(False)\n",
        "\n",
        "stopwords_cleaner_de.getStopWords()[:10]"
      ],
      "metadata": {
        "id": "EL6QfXlYIEsL",
        "colab": {
          "base_uri": "https://localhost:8080/"
        },
        "outputId": "35825a7a-c108-422d-a593-57afdfa9d241"
      },
      "execution_count": 29,
      "outputs": [
        {
          "output_type": "stream",
          "name": "stdout",
          "text": [
            "stopwords_de download started this may take some time.\n",
            "Approximate size to download 2.9 KB\n",
            "[OK!]\n"
          ]
        },
        {
          "output_type": "execute_result",
          "data": {
            "text/plain": [
              "['a',\n",
              " 'ab',\n",
              " 'aber',\n",
              " 'aber',\n",
              " 'ach',\n",
              " 'acht',\n",
              " 'achte',\n",
              " 'achten',\n",
              " 'achter',\n",
              " 'achtes']"
            ]
          },
          "metadata": {},
          "execution_count": 29
        }
      ]
    },
    {
      "cell_type": "code",
      "source": [
        "token_assembler = TokenAssembler() \\\n",
        "    .setInputCols([\"document\", \"cleanTokens\"]) \\\n",
        "    .setOutputCol(\"clean_text\")\n",
        "\n",
        "nlpPipeline = Pipeline(stages=[\n",
        " documentAssembler, \n",
        " tokenizer,\n",
        " stopwords_cleaner,\n",
        " token_assembler\n",
        "\n",
        " ])\n",
        "\n",
        "empty_df = spark.createDataFrame([['']]).toDF(\"text\")\n",
        "\n",
        "pipelineModel = nlpPipeline.fit(empty_df)\n",
        "\n",
        "# same in LightPipeline\n",
        "\n",
        "light_model = LightPipeline(pipelineModel)\n",
        "\n",
        "light_result = light_model.annotate('Peter Parker is a nice person and a friend of mine.')\n",
        "\n",
        "light_result['clean_text']\n"
      ],
      "metadata": {
        "id": "ngsDEVO0IZ0l",
        "colab": {
          "base_uri": "https://localhost:8080/"
        },
        "outputId": "ca338744-1197-4c52-af47-ca4e0490494a"
      },
      "execution_count": 30,
      "outputs": [
        {
          "output_type": "execute_result",
          "data": {
            "text/plain": [
              "['Peter Parker nice person friend mine.']"
            ]
          },
          "metadata": {},
          "execution_count": 30
        }
      ]
    },
    {
      "cell_type": "markdown",
      "source": [
        "### Spell Checker\n",
        "\n",
        "### Norvig Spell Checker\n",
        "\n",
        "This annotator retrieves tokens and makes corrections automatically if not found in an English dictionary"
      ],
      "metadata": {
        "id": "Q0XNiQZ5Izt6"
      }
    },
    {
      "cell_type": "code",
      "source": [
        "spell_checker_norvig = NorvigSweetingModel.pretrained('spellcheck_norvig')\\\n",
        "        .setInputCols(\"token\")\\\n",
        "        .setOutputCol(\"corrected\")\n"
      ],
      "metadata": {
        "id": "FDO97k7jIs5E",
        "colab": {
          "base_uri": "https://localhost:8080/"
        },
        "outputId": "80c71989-0c3b-44cd-a0a9-37e64a1a10ec"
      },
      "execution_count": 31,
      "outputs": [
        {
          "output_type": "stream",
          "name": "stdout",
          "text": [
            "spellcheck_norvig download started this may take some time.\n",
            "Approximate size to download 4.2 MB\n",
            "[OK!]\n"
          ]
        }
      ]
    },
    {
      "cell_type": "code",
      "source": [
        "  from pyspark.sql.types import StringType\n",
        "\n",
        "text_list = ['Peter Parker is a nice persn and lives in New York.', 'Bruce Wayne is also a nice guy and lives in Gotham City.']\n",
        "\n",
        "spark_df = spark.createDataFrame(text_list, StringType()).toDF(\"text\")\n",
        "\n",
        "spark_df.show(truncate=80)"
      ],
      "metadata": {
        "id": "ZHGMWfSFJULx",
        "colab": {
          "base_uri": "https://localhost:8080/"
        },
        "outputId": "8153576e-cea7-44d6-b608-660845f400b3"
      },
      "execution_count": 32,
      "outputs": [
        {
          "output_type": "stream",
          "name": "stdout",
          "text": [
            "+--------------------------------------------------------+\n",
            "|                                                    text|\n",
            "+--------------------------------------------------------+\n",
            "|     Peter Parker is a nice persn and lives in New York.|\n",
            "|Bruce Wayne is also a nice guy and lives in Gotham City.|\n",
            "+--------------------------------------------------------+\n",
            "\n"
          ]
        }
      ]
    },
    {
      "cell_type": "code",
      "source": [
        "  nlpPipeline = Pipeline(stages=[\n",
        " documentAssembler, \n",
        " tokenizer,\n",
        " stemmer,\n",
        " lemmatizer,\n",
        " pos,\n",
        " spell_checker_norvig\n",
        " ])\n",
        "\n",
        "empty_df = spark.createDataFrame([['']]).toDF(\"text\")\n",
        "\n",
        "pipelineModel = nlpPipeline.fit(empty_df)"
      ],
      "metadata": {
        "id": "i__J82iRJajq"
      },
      "execution_count": 33,
      "outputs": []
    },
    {
      "cell_type": "code",
      "source": [
        "result = pipelineModel.transform(spark_df)"
      ],
      "metadata": {
        "id": "zc2_nUosJiAt"
      },
      "execution_count": 34,
      "outputs": []
    },
    {
      "cell_type": "code",
      "source": [
        "#from pyspark.sql import functions as F\n",
        "\n",
        "#result_df = result.select(F.explode(F.arrays_zip('token.result', 'corrected.result', 'stem.result',  'lemma.result', 'pos.result')).alias(\"cols\")) \\\n",
        "#.select(F.expr(\"cols['0']\").alias(\"token\"),\n",
        "#        F.expr(\"cols['1']\").alias(\"corrected\"),\n",
        "#        F.expr(\"cols['2']\").alias(\"stem\"),\n",
        "#        F.expr(\"cols['3']\").alias(\"lemma\"),\n",
        "#        F.expr(\"cols['4']\").alias(\"pos\")).toPandas()\n",
        "\n",
        "#result_df.head(10)"
      ],
      "metadata": {
        "id": "pv2FCEOlJkma"
      },
      "execution_count": 35,
      "outputs": []
    },
    {
      "cell_type": "code",
      "source": [
        "# same in LightPipeline\n",
        "\n",
        "light_model = LightPipeline(pipelineModel)\n",
        "\n",
        "light_result = light_model.annotate('The patint has pain and headace')\n",
        "\n",
        "list(zip(light_result['token'], light_result['corrected']))"
      ],
      "metadata": {
        "id": "FgklYgkGJsAp",
        "colab": {
          "base_uri": "https://localhost:8080/"
        },
        "outputId": "cb4c0dee-378e-4751-c0f1-0b4aac5f840c"
      },
      "execution_count": 36,
      "outputs": [
        {
          "output_type": "execute_result",
          "data": {
            "text/plain": [
              "[('The', 'The'),\n",
              " ('patint', 'patient'),\n",
              " ('has', 'has'),\n",
              " ('pain', 'pain'),\n",
              " ('and', 'and'),\n",
              " ('headace', 'headache')]"
            ]
          },
          "metadata": {},
          "execution_count": 36
        }
      ]
    },
    {
      "cell_type": "markdown",
      "source": [
        "### Context SpellChecker\n",
        "\n",
        "The idea for this annotator is to have a flexible, configurable and \"re-usable by parts\" model.\n",
        "\n",
        "Flexibility is the ability to accommodate different use cases for spell checking like OCR text, keyboard-input text, ASR text, and general spelling problems due to orthographic errors.\n",
        "\n",
        "We say this is a configurable annotator, as you can adapt it yourself to different use cases avoiding re-training as much as possible.\n",
        "\n",
        "Spell Checking at three levels: The final ranking of a correction sequence is affected by three things,\n",
        "\n",
        "Different correction candidates for each word - **word level**.\n",
        "\n",
        "The surrounding text of each word, i.e. it's context - **sentence level**.\n",
        "\n",
        "The relative cost of different correction candidates according to the edit operations at the character level it requires - **subword level**.\n"
      ],
      "metadata": {
        "id": "m1pPkeznMDR6"
      }
    },
    {
      "cell_type": "code",
      "source": [
        "\n",
        "spellModel = ContextSpellCheckerModel.pretrained('spellcheck_dl')\\\n",
        "    .setInputCols(\"token\")\\\n",
        "    .setOutputCol(\"checked\")\n",
        "\n",
        "finisher = Finisher()\\\n",
        "    .setInputCols(\"checked\")\n",
        "\n",
        "pipeline = Pipeline(\n",
        "    stages = [\n",
        "    documentAssembler,\n",
        "    tokenizer,\n",
        "    spellModel,\n",
        "    finisher\n",
        "  ])\n",
        "\n",
        "empty_ds = spark.createDataFrame([[\"\"]]).toDF(\"text\")\n",
        "\n",
        "sc_model = pipeline.fit(empty_ds)\n",
        "lp = LightPipeline(sc_model)"
      ],
      "metadata": {
        "id": "YPuER7gkJy42",
        "colab": {
          "base_uri": "https://localhost:8080/"
        },
        "outputId": "f83f339b-1639-43ef-91f0-efca7b8078e3"
      },
      "execution_count": 37,
      "outputs": [
        {
          "output_type": "stream",
          "name": "stdout",
          "text": [
            "spellcheck_dl download started this may take some time.\n",
            "Approximate size to download 112.2 MB\n",
            "[OK!]\n"
          ]
        }
      ]
    },
    {
      "cell_type": "code",
      "source": [
        "lp.annotate(\"Plaese alliow me tao introdduce myhelf, I am a man of waelth und tiaste\")"
      ],
      "metadata": {
        "id": "pmz4kATMNLz2",
        "colab": {
          "base_uri": "https://localhost:8080/"
        },
        "outputId": "09833eb5-5eb2-4143-a53d-4cea7bf0dd95"
      },
      "execution_count": 38,
      "outputs": [
        {
          "output_type": "execute_result",
          "data": {
            "text/plain": [
              "{'checked': ['Please',\n",
              "  'allow',\n",
              "  'me',\n",
              "  'to',\n",
              "  'introduce',\n",
              "  'myself',\n",
              "  ',',\n",
              "  'I',\n",
              "  'am',\n",
              "  'a',\n",
              "  'man',\n",
              "  'of',\n",
              "  'wealth',\n",
              "  'und',\n",
              "  'taste']}"
            ]
          },
          "metadata": {},
          "execution_count": 38
        }
      ]
    },
    {
      "cell_type": "code",
      "source": [
        "examples = ['We will go to swimming if the ueather is nice.',\\\n",
        "    \"I have a black ueather jacket, so nice.\",\\\n",
        "    \"I introduce you to my sister, she is called ueather.\"]\n",
        "\n",
        "spark_df = spark.createDataFrame(examples, StringType()).toDF(\"text\")\n",
        "\n",
        "results = sc_model.transform(spark_df)\n",
        "\n",
        "results.show(truncate=False)"
      ],
      "metadata": {
        "id": "V1AEwJljO_8J",
        "colab": {
          "base_uri": "https://localhost:8080/"
        },
        "outputId": "00205440-5fdb-4b32-ce16-558a351adb62"
      },
      "execution_count": 39,
      "outputs": [
        {
          "output_type": "stream",
          "name": "stdout",
          "text": [
            "+----------------------------------------------------+-------------------------------------------------------------------+\n",
            "|text                                                |finished_checked                                                   |\n",
            "+----------------------------------------------------+-------------------------------------------------------------------+\n",
            "|We will go to swimming if the ueather is nice.      |[We, will, go, to, swimming, if, the, Heather, is, nice, .]        |\n",
            "|I have a black ueather jacket, so nice.             |[I, have, a, black, leather, jacket, ,, so, nice, .]               |\n",
            "|I introduce you to my sister, she is called ueather.|[I, introduce, you, to, my, sister, ,, she, is, called, Heather, .]|\n",
            "+----------------------------------------------------+-------------------------------------------------------------------+\n",
            "\n"
          ]
        }
      ]
    },
    {
      "cell_type": "markdown",
      "source": [
        "### Language Detector\n",
        "\n",
        "Language detection and identification is the task of automatically detecting the language(s) present in a document based on the content of the document. `LanguageDetectorDL` is an annotator that detects the language of documents or sentences depending on the inputCols. In addition, LanguageDetetorDL can accurately detect language from documents with mixed languages by coalescing sentences and select the best candidate."
      ],
      "metadata": {
        "id": "7T4uasr4Q6YB"
      }
    },
    {
      "cell_type": "code",
      "source": [
        "LanguageDetectorDL().extractParamMap()"
      ],
      "metadata": {
        "id": "Iv2gWDtcPkH6",
        "colab": {
          "base_uri": "https://localhost:8080/"
        },
        "outputId": "3d6f0ece-772d-407a-f32c-e7ca94011785"
      },
      "execution_count": 40,
      "outputs": [
        {
          "output_type": "execute_result",
          "data": {
            "text/plain": [
              "{Param(parent='LanguageDetectorDL_41b88a90455fb1352f8c', name='coalesceSentences', doc='If sets to true the output of all sentences will be averaged to one output instead of one output per sentence. Default to false.'): True,\n",
              " Param(parent='LanguageDetectorDL_41b88a90455fb1352f8c', name='lazyAnnotator', doc='Whether this AnnotatorModel acts as lazy in RecursivePipelines'): False,\n",
              " Param(parent='LanguageDetectorDL_41b88a90455fb1352f8c', name='threshold', doc='The minimum threshold for the final result otheriwse it will be either neutral or the value set in thresholdLabel.'): 0.5,\n",
              " Param(parent='LanguageDetectorDL_41b88a90455fb1352f8c', name='thresholdLabel', doc='In case the score is less than threshold, what should be the label. Default is neutral.'): 'Unknown'}"
            ]
          },
          "metadata": {},
          "execution_count": 40
        }
      ]
    },
    {
      "cell_type": "code",
      "source": [
        "documentAssembler = DocumentAssembler()\\\n",
        "    .setInputCol(\"text\")\\\n",
        "    .setOutputCol(\"document\")\n",
        "\n",
        "\n",
        "languageDetector = LanguageDetectorDL.pretrained(\"ld_wiki_tatoeba_cnn_375\", lang = \"xx\")\\\n",
        "      .setInputCols(\"document\")\\\n",
        "      .setOutputCol(\"language\")\\\n",
        "      .setThreshold(0.5)\\\n",
        "      .setCoalesceSentences(True)\n",
        "\n",
        "nlpPipeline = Pipeline(stages=[\n",
        " documentAssembler, \n",
        " languageDetector\n",
        " ])\n",
        "\n",
        "empty_df = spark.createDataFrame([['']]).toDF(\"text\")\n",
        "\n",
        "pipelineModel = nlpPipeline.fit(empty_df)\n"
      ],
      "metadata": {
        "id": "ei4cuKRxRGMM",
        "colab": {
          "base_uri": "https://localhost:8080/"
        },
        "outputId": "10c17dc6-2a3c-4830-ad36-3fa519abd40d"
      },
      "execution_count": 41,
      "outputs": [
        {
          "output_type": "stream",
          "name": "stdout",
          "text": [
            "ld_wiki_tatoeba_cnn_375 download started this may take some time.\n",
            "Approximate size to download 8.8 MB\n",
            "[OK!]\n"
          ]
        }
      ]
    },
    {
      "cell_type": "code",
      "source": [
        "light_model = LightPipeline(pipelineModel)"
      ],
      "metadata": {
        "id": "4f5Ct199a7kg"
      },
      "execution_count": 42,
      "outputs": []
    },
    {
      "cell_type": "code",
      "source": [
        "text_en = \"William Henry Gates III (born October 28, 1955) is an American business magnate, software developer, investor, and philanthropist. He is best known as the co-founder of Microsoft Corporation. During his career at Microsoft, Gates held the positions of chairman, chief executive officer (CEO), president and chief software architect, while also being the largest individual shareholder until May 2014.\"\n",
        "\n",
        "text_de = 'Als Sebastian Thrun 2007 bei Google anfing, an selbstfahrenden Autos zu arbeiten, nahmen ihn nur wenige Leute außerhalb des Unternehmens ernst.'\n",
        "\n",
        "text_es = \"La historia del procesamiento del lenguaje natural generalmente comenzó en la década de 1950, aunque se puede encontrar trabajo de períodos anteriores. En 1950, Alan Turing publicó un artículo titulado 'Maquinaria de computación e inteligencia' que proponía lo que ahora se llama la prueba de Turing como criterio de inteligencia\"\n",
        "\n",
        "text_it = \"Geoffrey Everest Hinton è uno psicologo cognitivo e uno scienziato informatico canadese inglese, noto soprattutto per il suo lavoro sulle reti neurali artificiali. Dal 2013 divide il suo tempo lavorando per Google e l'Università di Toronto. Nel 2017 è stato cofondatore ed è diventato Chief Scientific Advisor del Vector Institute di Toronto.\"\n",
        "\n",
        "text_tr = 'Doğal Dil İşleme (NLP), bilgisayar biliminin, insanlar doğal olarak konuşup yazdıkça insan dilini anlamasını sağlayan bilgisayar biliminin alt alanıdır. '"
      ],
      "metadata": {
        "id": "R43ebPiieUGE"
      },
      "execution_count": 43,
      "outputs": []
    },
    {
      "cell_type": "code",
      "source": [
        "light_model.annotate(text_tr)['language']"
      ],
      "metadata": {
        "id": "4EwssDN-ecCG",
        "colab": {
          "base_uri": "https://localhost:8080/"
        },
        "outputId": "d29edc05-7b48-4589-b4c3-f133487e6aa7"
      },
      "execution_count": 44,
      "outputs": [
        {
          "output_type": "execute_result",
          "data": {
            "text/plain": [
              "['tr']"
            ]
          },
          "metadata": {},
          "execution_count": 44
        }
      ]
    },
    {
      "cell_type": "code",
      "source": [
        "light_model.fullAnnotate(text_es)[0]['language']"
      ],
      "metadata": {
        "id": "9_FycOghfmG4",
        "colab": {
          "base_uri": "https://localhost:8080/"
        },
        "outputId": "413153ce-084e-4e01-c7e6-3d04f5062cd4"
      },
      "execution_count": 45,
      "outputs": [
        {
          "output_type": "execute_result",
          "data": {
            "text/plain": [
              "[Annotation(language, 0, 328, es, {'avk': '3.2227773E-25', 'toki': '0.0', 'dng': '0.0', 'hy': '0.0', 'bua': '0.0', 'pcd': '1.925592E-31', 'se': '3.0613952E-33', 'nlv': '0.0', 'ku': '1.6084451E-30', 'gcf': '0.0', 'xmf': '0.0', 'rue': '0.0', 'lou': '0.0', 'crh': '0.0', 'lkt': '0.0', 'oar': '0.0', 'aoz': '0.0', 'ss': '0.0', 'st': '0.0', 'ota': '0.0', 'bs': '7.278715E-36', 'cho': '0.0', 'stq': '0.0', 'kaa': '0.0', 'ba': '0.0', 'ngu': '0.0', 'pfl': '0.0', 'lb': '6.1421093E-24', 'hr': '3.8482914E-28', 'ta': '0.0', 'ka': '0.0', 'ar': '0.0', 'lzz': '0.0', 'swh': '0.0', 'hbo': '0.0', 'pi': '0.0', 'nov': '9.6963065E-25', 'yue': '0.0', 'ty': '0.0', 'fr': '2.2967522E-22', 'lfn': '5.509995E-9', 'is': '1.7047718E-29', 'urh': '0.0', 'mgm': '0.0', 'nah': '0.0', 'ug': '0.0', 'otk': '0.0', 'lv': '0.0', 'tmw': '0.0', 'eu': '1.03383036E-22', 'mdf': '0.0', 'got': '0.0', 'kl': '0.0', 'rn': '0.0', 'emx': '0.0', 'vep': '0.0', 'am': '0.0', 'hif': '0.0', 'mt': '4.717723E-21', 'krc': '0.0', 'bn': '0.0', 'rw': '0.0', 'gsw': '0.0', 'apc': '0.0', 'uz': '0.0', 'csb': '0.0', 'ckt': '0.0', 'aii': '0.0', 'bho': '0.0', 'uk': '0.0', 'chg': '0.0', 'co': '0.0', 'fj': '0.0', 'zlm': '0.0', 'toi': '0.0', 'si': '0.0', 'dsb': '0.0', 'lld': '0.0', 'ky': '0.0', 'enm': '0.0', 'ksh': '0.0', 'bvy': '0.0', 'pa': '0.0', 'ga': '7.15406E-31', 'gan': '0.0', 'ceb': '0.0', 'br': '8.016619E-19', 'lmo': '0.0', 'rap': '0.0', 'bal': '0.0', 'ady': '0.0', 'nys': '0.0', 'tt': '0.0', 'war': '5.471905E-35', 'so': '0.0', 'tts': '0.0', 'mwl': '0.0', 'pt': '6.489547E-14', 'tpi': '0.0', 'cs': '1.0178266E-20', 'phn': '0.0', 'zu': '0.0', 'lo': '0.0', 'gl': '1.5889116E-8', 'gn': '0.0', 'sux': '0.0', 'ban': '0.0', 'ny': '0.0', 'nds': '2.8447118E-31', 'cjy': '0.0', 'fuc': '0.0', 'sr': '1.6595062E-26', 'nog': '0.0', 'ts': '0.0', 'chn': '0.0', 'el': '0.0', 'tpw': '0.0', 'it': '2.1318946E-13', 'sc': '0.0', 'su': '0.0', 'ber': '1.9663569E-26', 'ca': '1.6977338E-10', 'rel': '0.0', 'os': '0.0', 'hnj': '0.0', 'vi': '0.0', 'mnc': '0.0', 'aln': '0.0', 'la': '2.1372422E-15', 'nch': '0.0', 'ltg': '0.0', 'ab': '0.0', 'tg': '0.0', 'mg': '0.0', 'as': '0.0', 'kam': '0.0', 'yo': '0.0', 'tzl': '2.683327E-26', 'min': '0.0', 'shs': '0.0', 'dv': '0.0', 'pdc': '0.0', 'cay': '0.0', 'tl': '1.0409808E-23', 'nl': '1.8647921E-28', 'ike': '0.0', 'jpa': '0.0', 'bg': '0.0', 'gv': '0.0', 'bi': '0.0', 'swg': '0.0', 'hil': '0.0', 'ko': '0.0', 'rm': '0.0', 'or': '0.0', 'eo': '1.4023826E-13', 'tk': '3.6414057E-35', 'cyo': '0.0', 'rom': '4.664236E-36', 'mk': '0.0', 'dtp': '0.0', 'gil': '0.0', 'fkv': '0.0', 'oc': '1.7036886E-11', 'haw': '0.0', 'egl': '0.0', 'umb': '0.0', 'et': '3.80267E-30', 'pau': '0.0', 'af': '5.8317244E-36', 'gag': '0.0', 'laa': '0.0', 'de': '1.2161509E-26', 'bm': '0.0', 'xh': '0.0', 'dws': '0.0', 'ps': '0.0', 'scn': '0.0', 'ch': '2.7466978E-34', 'yi': '0.0', 'qya': '0.0', 'ha': '0.0', 'cy': '3.639509E-32', 'myv': '0.0', 'nb': '2.7764617E-31', 'sn': '0.0', 'to': '0.0', 'rif': '0.0', 'bjn': '0.0', 'fro': '0.0', 'pap': '0.0', 'ig': '0.0', 'frr': '0.0', 'kxi': '0.0', 'bzt': '0.0', 'zza': '0.0', 'arq': '0.0', 'cv': '0.0', 'ur': '0.0', 'mfe': '0.0', 'oj': '0.0', 'pam': '0.0', 'quc': '0.0', 'fy': '0.0', 'ln': '0.0', 'jv': '2.8774635E-32', 'jbo': '1.3549087E-27', 'afh': '0.0', 'jdt': '0.0', 'ru': '1.6341114E-37', 'ht': '7.9929254E-26', 'vro': '0.0', 'kw': '3.1891775E-28', 'ml': '0.0', 'th': '0.0', 'tly': '0.0', 'drt': '0.0', 'id': '1.0684691E-35', 'ce': '0.0', 'pnb': '0.0', 'sq': '1.9903843E-35', 'kha': '0.0', 'ia': '3.723646E-8', 'arz': '0.0', 'lzh': '0.0', 'max': '0.0', 'pag': '0.0', 'sv': '1.5181038E-26', 'ppl': '0.0', 'udm': '0.0', 'tr': '1.3081725E-27', 'ain': '0.0', 'da': '1.2120395E-24', 'my': '0.0', 'gbm': '0.0', 'liv': '0.0', 'kzj': '0.0', 'zsm': '0.0', 'sg': '0.0', 'chr': '0.0', 'kek': '0.0', 'wo': '0.0', 'awa': '0.0', 'lg': '0.0', 'mh': '0.0', 'xal': '0.0', 'sm': '0.0', 'en': '1.6624443E-28', 'gu': '0.0', 'tn': '0.0', 'he': '0.0', 'sah': '0.0', 'tet': '0.0', 'new': '0.0', 'ilo': '3.3793208E-34', 'kn': '0.0', 'gd': '0.0', 'syc': '0.0', 'sk': '5.776495E-17', 'orv': '0.0', 'fur': '0.0', 'ary': '0.0', 'mrj': '0.0', 'krl': '0.0', 'bar': '0.0', 'lvs': '1.3227742E-36', 'na': '0.0', 'tig': '0.0', 'kpv': '0.0', 'lad': '4.582317E-6', 'sma': '0.0', 'az': '0.0', 'mic': '0.0', 'iba': '0.0', 'wa': '8.01678E-32', 'hoc': '0.0', 'lij': '2.7668552E-28', 'es': '0.9999949', 'mvv': '0.0', 'fo': '1.9281377E-36', 'hsn': '0.0', 'prg': '0.0', 'mai': '0.0', 'hi': '0.0', 'vo': '2.4248794E-32', 'gom': '0.0', 'bcl': '0.0', 'te': '0.0', 'mr': '0.0', 'tlh': '1.7962606E-38', 'ie': '2.6994945E-13', 'ext': '5.7854057E-24', 'tkl': '0.0', 'an': '1.859455E-8', 'sco': '0.0', 'nn': '3.8007597E-28', 'kjh': '0.0', 'io': '2.8876567E-17', 'sw': '9.545265E-37', 'mww': '0.0', 'be': '0.0', 'qu': '1.381481E-9', 'sgs': '0.0', 'kum': '0.0', 'mnw': '0.0', 'cbk': '6.1433343E-7', 'sd': '0.0', 'osp': '5.093505E-38', 'ang': '0.0', 'izh': '0.0', 'mi': '0.0', 'kab': '1.1073481E-25', 'hsb': '0.0', 'ja': '0.0', 'cpi': '0.0', 'sa': '0.0', 'moh': '0.0', 'acm': '0.0', 'ast': '1.2008109E-8', 'jam': '0.0', 'sjn': '0.0', 'grc': '0.0', 'fi': '4.1400016E-35', 'bo': '0.0', 'cycl': '0.0', 'tyv': '0.0', 'ro': '3.3371775E-17', 'evn': '0.0', 'tvl': '0.0', 'ngt': '0.0', 'cmo': '0.0', 'brx': '0.0', 'frm': '0.0', 'ryu': '0.0', 'afb': '0.0', 'ne': '0.0', 'ee': '0.0', 'gaa': '0.0', 'fuv': '0.0', 'mhr': '0.0', 'lt': '7.4077635E-21', 'no': '0.0', 'wuu': '0.0', 'npi': '0.0', 'nst': '0.0', 'tmr': '0.0', 'vec': '0.0', 'koi': '0.0', 'km': '0.0', 'gos': '0.0', 'kk': '0.0', 'sl': '1.5304573E-22', 'pms': '2.1088961E-23', 'ay': '0.0', 'thv': '0.0', 'ti': '0.0', 'ii': '0.0', 'hak': '0.0', 'non': '0.0', 'fa': '0.0', 'mn': '0.0', 'zh': '0.0', 'osx': '0.0', 'shy': '0.0', 'ms': '0.0', 'ldn': '0.0', 'sentence': '0', 'hu': '9.299107E-22', 'nv': '0.0', 'akl': '0.0', 'pl': '1.00265134E-19', 'mad': '0.0', 'ks': '0.0', 'hrx': '0.0', 'niu': '0.0', 'crs': '0.0'})]"
            ]
          },
          "metadata": {},
          "execution_count": 45
        }
      ]
    },
    {
      "cell_type": "code",
      "source": [
        "from sparknlp.pretrained import PretrainedPipeline\n",
        "\n",
        "pipeline = PretrainedPipeline(\"detect_language_220\", lang = \"xx\")\n",
        "\n",
        "pipeline.annotate(\"French author who helped pioneer the science-fiction genre.\")"
      ],
      "metadata": {
        "id": "lMMxE-YchB9M",
        "colab": {
          "base_uri": "https://localhost:8080/"
        },
        "outputId": "aeb46270-99a9-451c-96ae-dd4cc1eecddb"
      },
      "execution_count": 46,
      "outputs": [
        {
          "output_type": "stream",
          "name": "stdout",
          "text": [
            "detect_language_220 download started this may take some time.\n",
            "Approx size to download 9.1 MB\n",
            "[OK!]\n"
          ]
        },
        {
          "output_type": "execute_result",
          "data": {
            "text/plain": [
              "{'document': ['French author who helped pioneer the science-fiction genre.'],\n",
              " 'language': ['en'],\n",
              " 'sentence': ['French author who helped pioneer the science-fiction genre.']}"
            ]
          },
          "metadata": {},
          "execution_count": 46
        }
      ]
    },
    {
      "cell_type": "markdown",
      "source": [
        "## Embeddings\n",
        "\n",
        "### Word Embeddings (Glove)"
      ],
      "metadata": {
        "id": "zfnHaCpcjCTi"
      }
    },
    {
      "cell_type": "code",
      "source": [
        "glove_embeddings = WordEmbeddingsModel.pretrained('glove_100d')\\\n",
        "          .setInputCols([\"document\", \"token\"])\\\n",
        "          .setOutputCol(\"embeddings\")"
      ],
      "metadata": {
        "id": "z5VvNgpXi6dN",
        "colab": {
          "base_uri": "https://localhost:8080/"
        },
        "outputId": "e023f329-3470-4221-dbc8-575e3ca3d530"
      },
      "execution_count": 47,
      "outputs": [
        {
          "output_type": "stream",
          "name": "stdout",
          "text": [
            "glove_100d download started this may take some time.\n",
            "Approximate size to download 145.3 MB\n",
            "[OK!]\n"
          ]
        }
      ]
    },
    {
      "cell_type": "code",
      "source": [
        "nlpPipeline = Pipeline(stages=[\n",
        " documentAssembler, \n",
        " tokenizer,\n",
        " glove_embeddings\n",
        " ])\n",
        "\n",
        "empty_df = spark.createDataFrame([['']]).toDF(\"text\")\n",
        "\n",
        "pipelineModel = nlpPipeline.fit(empty_df)"
      ],
      "metadata": {
        "id": "cbw2ZSMsjr-S"
      },
      "execution_count": 48,
      "outputs": []
    },
    {
      "cell_type": "code",
      "source": [
        "result = pipelineModel.transform(news_df.limit(10))"
      ],
      "metadata": {
        "id": "JE8watgwjypy"
      },
      "execution_count": 49,
      "outputs": []
    },
    {
      "cell_type": "code",
      "source": [
        "result.select('embeddings.embeddings').take(1)"
      ],
      "metadata": {
        "id": "nsPalfcOj1IC",
        "colab": {
          "base_uri": "https://localhost:8080/"
        },
        "outputId": "4d400b3f-098b-4480-af31-5e2759d25c7a"
      },
      "execution_count": 50,
      "outputs": [
        {
          "output_type": "execute_result",
          "data": {
            "text/plain": [
              "[Row(embeddings=[[0.7186499834060669, 0.8075399994850159, -1.1786999702453613, 0.271450012922287, -0.48833000659942627, -0.1893800050020218, -1.1789000034332275, 0.1783600002527237, -0.21995000541210175, -0.7215999960899353, -0.5354200005531311, -0.7507500052452087, 0.41176000237464905, 0.18951000273227692, -0.5093500018119812, -0.735010027885437, 0.33823999762535095, 0.3451400101184845, -0.16735999286174774, 0.130390003323555, 1.1055999994277954, 0.5508400201797485, -0.01406800001859665, -0.5322800278663635, -0.23598000407218933, -1.0496000051498413, -0.6549199819564819, -0.17997999489307404, 0.10341999679803848, -0.315530002117157, 0.31481000781059265, 0.8438799977302551, 0.305400013923645, -1.158400058746338, 0.047777000814676285, -0.04945499822497368, 0.7908999919891357, -0.22619999945163727, -0.6294800043106079, 0.3116999864578247, -0.7399600148200989, 0.1283400058746338, 0.10723999887704849, 0.3257099986076355, -0.2687300145626068, -0.70169997215271, 0.16669000685214996, 0.3308899998664856, -0.04666899889707565, 0.13434000313282013, -0.3903599977493286, 0.35043999552726746, -0.6380500197410583, 1.0003999471664429, -0.1405400037765503, -0.6695600152015686, 0.29333001375198364, -0.04130199924111366, 1.5181000232696533, 0.9282100200653076, -0.0594559982419014, -0.8433300256729126, -0.21630999445915222, -0.364329993724823, 0.0641229972243309, -0.0647289976477623, -0.32370999455451965, 0.32034000754356384, 0.9140099883079529, -0.8716099858283997, 0.14883999526500702, -0.4030100107192993, -1.2542999982833862, -0.7203999757766724, 0.22737999260425568, -0.27138999104499817, 0.25005999207496643, -1.037500023841858, -1.256500005722046, -0.12337999790906906, -0.09109599888324738, -0.980970025062561, 0.20313000679016113, -0.4651400148868561, -1.8416999578475952, -0.6694599986076355, 0.013848000206053257, 1.0679999589920044, -0.08525200188159943, -0.5746700167655945, 0.5118200182914734, -0.6081799864768982, -1.0676000118255615, 0.2016499936580658, -0.13197000324726105, 0.41545000672340393, -0.17709000408649445, 0.5877199769020081, 1.126099944114685, -0.5484700202941895], [0.2567099928855896, 0.30035001039505005, -0.1800599992275238, 0.4666599929332733, 0.985010027885437, 0.2320999950170517, -0.349590003490448, 0.26996999979019165, -0.9966700077056885, -0.43404000997543335, -0.17270000278949738, -1.267799973487854, 0.6458699703216553, -0.08055999875068665, -0.10688000172376633, -0.6668199896812439, 0.12387000024318695, 0.4363200068473816, -0.42590999603271484, 0.23579999804496765, 0.291949987411499, 0.22596000134944916, 0.5508999824523926, -0.42719000577926636, -0.38655999302864075, -0.827970027923584, 0.5543400049209595, -0.13357999920845032, 0.38161998987197876, -0.3511199951171875, 0.688979983329773, 0.2200700044631958, 0.2505500018596649, -0.6122499704360962, 0.2902100086212158, -0.33941999077796936, 0.4240800142288208, 0.7613300085067749, 0.08363699913024902, 2.965199928439688e-05, -0.482369989156723, -0.5486500263214111, 0.3570300042629242, 0.11528000235557556, -0.02913600020110607, 0.11303000152111053, 0.06495899707078934, -0.2025900036096573, -0.5543599724769592, 0.05228099972009659, 0.2602599859237671, -0.19032999873161316, 0.44394999742507935, 0.4488700032234192, -0.5525699853897095, -0.8007299900054932, -0.23316000401973724, -0.5227100253105164, 1.0738999843597412, 0.7515199780464172, -0.043306998908519745, 0.14406999945640564, 0.01055500004440546, 0.06772799789905548, 0.10349000245332718, -0.10739000141620636, 0.30557000637054443, 0.9226899743080139, 0.3269599974155426, 0.1467200070619583, 0.1668899953365326, 0.416269987821579, -0.7763100266456604, 0.2741599977016449, 0.5012400150299072, -0.05087300017476082, 0.053603000938892365, -0.6662099957466125, -1.0152000188827515, -0.46022000908851624, -0.1068200021982193, 0.11057999730110168, -0.12228000164031982, -0.3601199984550476, -0.5704500079154968, -0.567110002040863, -0.45089998841285706, 0.011590000241994858, 0.7907800078392029, -0.19756999611854553, 0.11934000253677368, -0.5461699962615967, -0.4099999964237213, -0.29580000042915344, -0.4774700105190277, -0.092399001121521, -0.507669985294342, -0.053971000015735626, 1.0384999513626099, -0.6452800035476685], [0.5059199929237366, 0.717170000076294, -0.6723600029945374, -0.3211199939250946, -0.5828499794006348, -0.4797700047492981, -0.5024300217628479, 0.6059399843215942, 0.2570900022983551, 0.039739999920129776, -0.03192700073122978, -0.30160999298095703, 0.9995200037956238, 0.010672000236809254, -0.4207099974155426, -0.8516799807548523, 0.6623200178146362, -0.12134999781847, -0.21413999795913696, -0.11890000104904175, 1.055400013923645, 0.43880000710487366, 0.4526999890804291, -0.027317000553011894, -0.3484100103378296, -0.9506000280380249, -0.5811399817466736, -0.018124999478459358, 0.0834140032529831, -0.44440001249313354, 0.3066999912261963, 0.5232599973678589, -0.39351001381874084, -0.40887999534606934, -0.3237999975681305, -0.3342199921607971, 0.0872030034661293, 0.2745499908924103, 0.26190000772476196, 0.029593000188469887, -0.808489978313446, -0.4887700080871582, 0.05382699891924858, 0.00015449999773409218, 0.4752599895000458, 0.03002000041306019, -0.5453600287437439, 0.10292000323534012, -0.11695999652147293, -0.07692000269889832, -0.5880399942398071, -0.6906399726867676, -1.1171000003814697, 1.704800009727478, -0.5256900191307068, -0.6114699840545654, -0.2827399969100952, -0.8695099949836731, 2.5090999603271484, 0.2172500044107437, 0.0027075998950749636, 0.19708000123500824, -0.025436000898480415, -0.45805999636650085, 0.5940200090408325, 0.0884770005941391, 0.5312299728393555, -0.14328999817371368, 0.7018300294876099, -0.5690799951553345, -0.2890099883079529, 0.0835610032081604, -1.1719000339508057, -0.5269100069999695, 0.9336100220680237, 0.5628799796104431, 0.8940799832344055, 0.004341599997133017, -0.8695799708366394, -0.1148499995470047, 0.7176700234413147, -0.2693899869918823, -0.4161800146102905, -0.29308998584747314, -2.13319993019104, -0.5161100029945374, 0.17951999604701996, 0.5551199913024902, -0.44345998764038086, -0.11869999766349792, 1.0706000328063965, -0.7666900157928467, -0.027691999450325966, 0.008368399925529957, -0.7859399914741516, -0.023787999525666237, -0.038107000291347504, 0.5258499979972839, 1.0542000532150269, -0.49779999256134033], [0.17659999430179596, 0.0938510000705719, 0.24350999295711517, 0.4431299865245819, -0.3903700113296509, 0.1252399981021881, -0.199180006980896, 0.598550021648407, -0.8203499913215637, 0.2800599932670593, 0.5423099994659424, 0.023079000413417816, 0.128370001912117, -0.044488999992609024, 0.38370001316070557, -0.7565900087356567, 0.402539998292923, -0.44620001316070557, -0.8159899711608887, -0.00915130041539669, 0.6521900296211243, -0.04365599900484085, 0.5491899847984314, -0.1669600009918213, 0.7302799820899963, -0.20702999830245972, -0.06986299902200699, -0.31259000301361084, 0.27226001024246216, 0.0849049985408783, -0.6049799919128418, 0.4282599985599518, 0.6013399958610535, 0.5095300078392029, -0.39072999358177185, 0.4460799992084503, -0.3633100092411041, 0.5085800290107727, -0.20307999849319458, -0.4350300133228302, -0.08682700246572495, -0.865809977054596, -1.0151000022888184, -0.35725000500679016, -0.12993000447750092, 0.33239999413490295, 0.3025999963283539, 0.06727699935436249, -0.52947998046875, -0.8122299909591675, 0.3956199884414673, -0.7953699827194214, 0.24331000447273254, 1.250599980354309, -1.0168999433517456, -3.339099884033203, -0.7969099879264832, -0.3387700021266937, 1.3660000562667847, 0.8751299977302551, -0.6370099782943726, 0.6838099956512451, -0.05743199959397316, 0.12541000545024872, -0.8258000016212463, -0.5611699819564819, 0.30807000398635864, 0.15449999272823334, 0.6147300004959106, 0.6740300059318542, -0.6083300113677979, -0.2591100037097931, -0.3561899960041046, -0.7118899822235107, -0.31207001209259033, 0.03523800149559975, 0.22487999498844147, -0.3349199891090393, -1.1585999727249146, -0.1737300008535385, 0.9593700170516968, 0.2447900027036667, -0.4620499908924103, -0.07594099640846252, -1.0844000577926636, 0.09367600083351135, 0.4854600131511688, 0.13007999956607819, 0.23454999923706055, -0.27963998913764954, -0.24481000006198883, -0.01621299982070923, 0.463019996881485, 1.029099941253662, -0.8181700110435486, 0.17521999776363373, 0.06797000020742416, 0.05630499869585037, 1.2311999797821045, 0.4069499969482422], [0.5163400173187256, -0.37185999751091003, -0.21775999665260315, -1.0115000009536743, 0.40139999985694885, -0.48410001397132874, 0.36274001002311707, -0.295199990272522, -0.4225800037384033, -0.6284400224685669, 0.677079975605011, 0.1855199933052063, -0.4560000002384186, -0.27423998713493347, 0.1948699951171875, -0.5341399908065796, 0.2921000123023987, 0.006397299934178591, -0.4053399860858917, 0.5121300220489502, -0.5194399952888489, 0.3393799960613251, 0.20580999553203583, 0.011291000060737133, 0.638159990310669, 0.014355000108480453, 0.38120999932289124, 0.43830999732017517, 0.17278000712394714, 0.4677099883556366, 0.17659999430179596, 1.063599944114685, 0.375789999961853, -0.32771000266075134, 0.07033199816942215, -0.06979800015687943, 0.16213999688625336, 0.47082000970840454, -0.15928000211715698, 0.008898500353097916, 0.29624998569488525, 0.01586499996483326, -0.2184399962425232, 0.47314000129699707, -0.6265900135040283, 0.6628699898719788, -0.28477001190185547, -0.5817899703979492, 0.8282600045204163, -0.5599899888038635, -0.09991899877786636, -0.12115000188350677, 0.6798499822616577, -0.010594000108540058, 0.33733999729156494, -1.8145999908447266, 0.12054000049829483, -0.4724299907684326, 0.23309999704360962, 0.3434399962425232, 0.4185599982738495, 0.49876999855041504, 0.3278700113296509, -0.16469000279903412, 0.6084700226783752, -0.0990080013871193, 0.7826200127601624, 0.9123899936676025, -0.32385000586509705, 0.5744799971580505, 0.0430929996073246, -0.007449700031429529, -0.3242799937725067, 0.13481000065803528, 0.293969988822937, -0.4789600074291229, -0.08049900084733963, 0.0689380019903183, -0.4150199890136719, 0.43048998713493347, 0.18953999876976013, -0.2772499918937683, 0.6576300263404846, -0.29875001311302185, -0.4518899917602539, -0.1478700041770935, -0.04415399953722954, -0.34918999671936035, 0.015381000004708767, 0.06195800006389618, 0.4260999858379364, -0.6062099933624268, 0.13437999784946442, -0.05736999958753586, -0.2874299883842468, 0.018695000559091568, -0.04918399825692177, 0.025245999917387962, 0.11162000149488449, 0.17564000189304352], [-0.38857001066207886, -1.1448999643325806, -0.4173699915409088, -0.3196899890899658, -0.165460005402565, -0.7044000029563904, 0.1287499964237213, -0.2604700028896332, 0.072843998670578, -0.13313999772071838, 0.30695000290870667, 0.30621999502182007, -0.8055999875068665, 0.14076000452041626, 0.5093799829483032, 0.42829999327659607, -0.38648998737335205, -0.12078999727964401, 0.2690100073814392, 0.15445999801158905, -0.9643399715423584, 0.2184399962425232, 0.16495999693870544, -0.40257999300956726, 0.6275100111961365, 0.32618001103401184, 0.18004000186920166, 0.638480007648468, -0.14651000499725342, -0.10473000258207321, 0.36970001459121704, 0.0886709988117218, -0.02137799933552742, 0.08805199712514877, -0.48030000925064087, -0.4234499931335449, 0.10125000029802322, -0.4432399868965149, 0.37178000807762146, 0.3024100065231323, 0.3133299946784973, 0.7542200088500977, -0.7046700119972229, -0.021052999421954155, -0.3361999988555908, 0.5351099967956543, 0.0952330008149147, 0.5565699934959412, 0.48232001066207886, 0.07991600036621094, -0.2377299964427948, -0.11638999730348587, -0.17384999990463257, -0.02286599949002266, -0.10662999749183655, 0.08519899845123291, 0.2601099908351898, -0.231330007314682, -0.9035699963569641, -0.42778998613357544, 0.7268999814987183, -0.3881799876689911, 0.017417000606656075, 0.711329996585846, 0.4788999855518341, 0.16690999269485474, 0.0955440029501915, 0.5983399748802185, 0.28762000799179077, 0.35558000206947327, 0.3403699994087219, -0.4964100122451782, -0.21911999583244324, 0.120619997382164, -0.15283000469207764, 0.5616300106048584, 0.14643999934196472, 0.23893000185489655, 0.6222500205039978, 0.10824000090360641, -0.06342200189828873, -0.16155000030994415, 0.5354899764060974, 0.06302300095558167, 0.5450999736785889, -0.01792999915778637, 0.2535499930381775, -0.5223199725151062, 0.17302000522613525, 0.145579993724823, -0.23666000366210938, -0.799239993095398, 0.013623000122606754, 0.18332000076770782, 0.7623199820518494, 0.020555999130010605, -0.08327099680900574, 0.4963800013065338, 0.32493001222610474, 0.04841899871826172], [-0.09168200194835663, 0.5810499787330627, 0.40476998686790466, -0.41978999972343445, -0.8511099815368652, -0.2871899902820587, -0.4194900095462799, -0.10424000024795532, 0.4531700015068054, -0.09907300025224686, -0.1378600001335144, 0.4999000132083893, 0.5004900097846985, -0.2404100000858307, -0.3510099947452545, -0.22020000219345093, -0.06305500119924545, 0.23212000727653503, -0.6916199922561646, 0.7367100119590759, 0.5555499792098999, 0.20746999979019165, 0.11246000230312347, -0.2594200074672699, -0.6325600147247314, 0.12417999655008316, -0.3407500088214874, -0.8563799858093262, 0.10582000017166138, -0.6459000110626221, 0.5820099711418152, 0.6431400179862976, 0.07336899638175964, 0.2123900055885315, 0.029330000281333923, 0.19413000345230103, 0.003222400089725852, 0.48618000745773315, 0.5226699709892273, -0.2737799882888794, -0.874970018863678, -0.13734999299049377, 0.022004999220371246, -0.42271000146865845, -0.5339999794960022, -0.5925400257110596, 0.2692900002002716, -0.3820599913597107, -0.23627999424934387, -0.9333000183105469, 0.3929100036621094, -0.05321599915623665, -0.2512800097465515, 1.0638999938964844, -0.4897100031375885, -2.078900098800659, -0.09421300143003464, -0.21049000322818756, 1.4549000263214111, 0.6456999778747559, -0.3437800109386444, 0.6449999809265137, -0.04327400028705597, -0.5112000107765198, 0.7958199977874756, 0.2083899974822998, 0.7155500054359436, 0.7110900282859802, -0.2954699993133545, -0.06414400041103363, 0.21279999613761902, -0.4695099890232086, -0.35920000076293945, -0.5095700025558472, -0.33882999420166016, -0.21740999817848206, 0.3600499927997589, -0.13832999765872955, -1.0957000255584717, -0.07588399946689606, 1.087499976158142, -0.48247000575065613, -0.5852199792861938, -0.41196000576019287, -2.060800075531006, -0.42155998945236206, 0.0884459987282753, 0.16319000720977783, -0.5987100005149841, -0.08922100067138672, 0.5861899852752686, -0.41773998737335205, -0.30713000893592834, -0.5583800077438354, -0.6597499847412109, -0.08092600107192993, -0.34134000539779663, -0.3874100148677826, 0.3469499945640564, 0.2290000021457672], [-0.07953999936580658, 0.30171000957489014, 0.07951600104570389, -0.7466199994087219, -0.6787899732589722, 0.3502900004386902, -0.19754000008106232, 0.492900013923645, 0.1416199952363968, -0.23789000511169434, 0.10938999801874161, 0.23465000092983246, 0.7776299715042114, 0.12745000422000885, 0.1087300032377243, -0.6802399754524231, 0.2569600045681, 0.5398100018501282, -0.9229400157928467, 0.08830899745225906, 0.5523999929428101, 0.0733409970998764, 0.6342399716377258, -0.09483399987220764, -0.06898800283670425, -0.1128700003027916, -0.1932000070810318, -0.6123300194740295, 0.16718000173568726, -0.4310699999332428, 0.2935500144958496, 0.4258800148963928, -0.22193999588489532, 0.1478700041770935, 0.5369300246238708, 0.12846000492572784, 0.12732000648975372, 0.5089899897575378, 0.24079999327659607, -0.3513000011444092, -0.5248600244522095, -0.37476998567581177, -0.08438199758529663, -0.3959299921989441, -0.14876000583171844, -0.03095100075006485, 0.48431000113487244, -0.24677999317646027, 0.1234700009226799, -1.103700041770935, -0.094930000603199, -0.03843899816274643, 0.10750000178813934, 1.6517000198364258, -0.10341999679803848, -2.433199882507324, 0.04048600047826767, -0.3916400074958801, 1.5943000316619873, 0.9589099884033203, -0.5249599814414978, 1.1476000547409058, -0.5750200152397156, 0.044766999781131744, 1.097000002861023, -0.15884000062942505, 0.5974299907684326, 0.6671199798583984, -0.09516800194978714, -0.5617300271987915, -0.06752300262451172, -0.7989400029182434, 0.06640499830245972, -0.8259099721908569, -0.5870100259780884, 0.180649995803833, -0.28442999720573425, -0.0916450023651123, -1.0480999946594238, -0.05198799818754196, 0.7593600153923035, -0.039712000638246536, -0.9376000165939331, 0.056432999670505524, -2.162600040435791, -0.6435499787330627, 0.42302000522613525, -0.10571999847888947, -0.7261099815368652, -0.12939999997615814, -0.38102999329566956, -0.7458999752998352, -0.009676399640738964, -0.16204999387264252, -1.0562000274658203, -0.11998999863862991, -0.6090899705886841, -0.16730999946594238, 0.653439998626709, 0.3659999966621399], [-0.5153300166130066, 0.8318600058555603, 0.22457000613212585, -0.7386500239372253, 0.18717999756336212, 0.2602100074291229, -0.4256399869918823, 0.671209990978241, -0.31084001064300537, -0.6127499938011169, 0.08952599763870239, -0.24010999500751495, 1.1878000497817993, 0.6760900020599365, -0.022885000333189964, -0.9253299832344055, 0.0711740031838417, 0.38837000727653503, -0.42923998832702637, 0.37143999338150024, 0.3267099857330322, 0.431410014629364, 0.8749499917030334, 0.3400900065898895, -0.2318899929523468, -0.41144001483917236, 0.4906100034713745, -0.32905998826026917, -0.49108999967575073, -0.18987999856472015, 0.3340800106525421, -0.21244999766349792, -0.3838599920272827, -0.08054699748754501, 1.1160999536514282, 0.2361699938774109, 0.3133299946784973, 0.49285998940467834, 0.10000000149011612, -0.151309996843338, -0.14176000654697418, -0.2802000045776367, -0.23880000412464142, -0.35486000776290894, 0.18282000720500946, -0.19133999943733215, 0.6054400205612183, 0.07457300275564194, -0.2073100060224533, -0.6096500158309937, 0.19908000528812408, -0.5702400207519531, -0.17427000403404236, 1.4419000148773193, -0.25018998980522156, -1.864799976348877, 0.4167099893093109, -0.246069997549057, 1.5010000467300415, 0.8741499781608582, -0.6713500022888184, 1.2762000560760498, -0.2721000015735626, 0.17583000659942627, 1.2242000102996826, 0.28242000937461853, 0.6237499713897705, 0.6395099759101868, 0.36913999915122986, -0.8467699885368347, -0.32269999384880066, -0.6715199947357178, -0.19634999334812164, -0.4078899919986725, -0.20965999364852905, -0.1962299942970276, 0.041884999722242355, 0.5396699905395508, -1.1104999780654907, -0.39515000581741333, 0.6658999919891357, -0.2329999953508377, -1.0820000171661377, 0.04646499827504158, -2.099299907684326, -0.2849299907684326, 0.08002500236034393, -0.12962999939918518, -0.30011001229286194, -0.4676400125026703, -0.818310022354126, -0.04850900173187256, -0.3223299980163574, -0.32012999057769775, -1.1207000017166138, -0.05678800120949745, -0.7300400137901306, -1.2023999691009521, 1.1303999423980713, 0.34790000319480896], [-0.3456200063228607, -0.2499299943447113, 0.5867800116539001, -0.8911899924278259, -1.0953999757766724, -0.4507800042629242, -0.07454899698495865, -0.4477899968624115, -0.38492000102996826, -0.49233999848365784, -0.4565599858760834, -0.13328999280929565, 0.18579000234603882, 0.5662999749183655, -0.20201000571250916, -0.3950600028038025, 0.2179100066423416, 1.0369000434875488, -0.27008000016212463, 0.5163000226020813, 0.9096300005912781, 0.6380000114440918, 0.06831599771976471, 0.3900099992752075, 0.2454500049352646, 0.23652000725269318, -0.45475998520851135, -0.6232500076293945, 0.3883500099182129, -0.33044999837875366, 0.8034899830818176, 0.3418000042438507, -0.4699000120162964, 0.41376999020576477, -0.07501000165939331, -0.36963000893592834, -0.2709900140762329, 1.2762000560760498, -0.21642999351024628, -0.40139999985694885, 0.2618100047111511, -0.04493800178170204, 0.32548001408576965, 0.040403999388217926, 0.6220800280570984, -0.19769999384880066, -1.1014000177383423, -0.20589999854564667, 0.8350899815559387, -0.5019199848175049, -0.6549400091171265, 0.42921000719070435, -0.329259991645813, 1.4270999431610107, -1.4865000247955322, -2.397900104522705, 0.9349300265312195, 0.22123000025749207, 1.382099986076355, 0.03232799842953682, -0.3801000118255615, 0.7457699775695801, -0.28080999851226807, -0.9026899933815002, 0.8893100023269653, 0.16672000288963318, 0.5924000144004822, 0.2685999870300293, -0.7648199796676636, -0.21684999763965607, -0.09033799916505814, 0.45489999651908875, -0.7797799706459045, -1.3977999687194824, -0.20202000439167023, -0.3510900139808655, 0.08754800260066986, 0.08208099752664566, -1.1562999486923218, -0.47655999660491943, 1.0377999544143677, 0.11394999921321869, 0.11529000103473663, -0.7287600040435791, -2.191999912261963, -0.1832599937915802, -0.3607499897480011, -0.5494999885559082, 0.3326599895954132, 0.7166399955749512, -0.3002200126647949, -0.06874699890613556, -0.014708000235259533, 0.5183799862861633, -0.020844999700784683, -0.42555001378059387, -0.1932400017976761, -1.3106000423431396, 1.0293999910354614, -0.05879399925470352], [-0.007581300102174282, 0.14488999545574188, 0.6421599984169006, -0.27101001143455505, -1.2273000478744507, -0.16433000564575195, -0.37713998556137085, 0.2883000075817108, 0.26732999086380005, -0.6085100173950195, 0.1693899929523468, 0.28415000438690186, 0.29412999749183655, -1.3288999795913696, -0.7658600211143494, -0.06884100288152695, -1.2421000003814697, -0.055720001459121704, -0.006532900035381317, 0.7798100113868713, 0.4120599925518036, 0.17375999689102173, 0.020843999460339546, 0.08718200027942657, -0.11784999817609787, -0.001383200054988265, 0.1587900072336197, -0.03622300177812576, 0.7257400155067444, 0.1632699966430664, 0.011711999773979187, 0.5464000105857849, -0.0407009981572628, 0.04538000002503395, 0.216839998960495, 0.19634999334812164, -0.1286800056695938, 0.5867099761962891, -0.09666000306606293, -0.4260900020599365, -0.6967700123786926, -0.2946000099182129, 0.5299999713897705, -0.28022000193595886, -0.11022999882698059, -0.3430800139904022, 0.7914000153541565, 0.5018600225448608, 0.2590999901294708, -1.2170000076293945, 0.5778700113296509, -0.5953599810600281, 0.36410000920295715, 0.0779310017824173, -0.5644199848175049, -1.4220999479293823, -0.006037299986928701, 0.3448199927806854, 0.5694699883460999, -0.08419399708509445, -0.31286999583244324, -0.16097000241279602, -0.6402900218963623, 0.037696000188589096, -0.018492000177502632, -0.6342800259590149, 0.4007599949836731, 1.253499984741211, -0.12849999964237213, -0.3964900076389313, 0.4749700129032135, 0.060458000749349594, -0.31859999895095825, -0.4398300051689148, -0.017193999141454697, 0.5263299942016602, 0.3165999948978424, 0.22609999775886536, -0.42333999276161194, -0.24880999326705933, -0.035027001053094864, -0.1817999929189682, -0.6664599776268005, -0.0346670001745224, -1.5872000455856323, -0.9776899814605713, -0.482479989528656, 0.04678399860858917, -1.0400999784469604, -0.6004999876022339, -0.08064600080251694, -0.4371100068092346, -0.3274399936199188, 0.16690999269485474, -0.42034998536109924, 0.5533400177955627, -0.1695600003004074, 0.6168400049209595, -0.4226300120353699, 0.36438998579978943], [-0.3456200063228607, -0.2499299943447113, 0.5867800116539001, -0.8911899924278259, -1.0953999757766724, -0.4507800042629242, -0.07454899698495865, -0.4477899968624115, -0.38492000102996826, -0.49233999848365784, -0.4565599858760834, -0.13328999280929565, 0.18579000234603882, 0.5662999749183655, -0.20201000571250916, -0.3950600028038025, 0.2179100066423416, 1.0369000434875488, -0.27008000016212463, 0.5163000226020813, 0.9096300005912781, 0.6380000114440918, 0.06831599771976471, 0.3900099992752075, 0.2454500049352646, 0.23652000725269318, -0.45475998520851135, -0.6232500076293945, 0.3883500099182129, -0.33044999837875366, 0.8034899830818176, 0.3418000042438507, -0.4699000120162964, 0.41376999020576477, -0.07501000165939331, -0.36963000893592834, -0.2709900140762329, 1.2762000560760498, -0.21642999351024628, -0.40139999985694885, 0.2618100047111511, -0.04493800178170204, 0.32548001408576965, 0.040403999388217926, 0.6220800280570984, -0.19769999384880066, -1.1014000177383423, -0.20589999854564667, 0.8350899815559387, -0.5019199848175049, -0.6549400091171265, 0.42921000719070435, -0.329259991645813, 1.4270999431610107, -1.4865000247955322, -2.397900104522705, 0.9349300265312195, 0.22123000025749207, 1.382099986076355, 0.03232799842953682, -0.3801000118255615, 0.7457699775695801, -0.28080999851226807, -0.9026899933815002, 0.8893100023269653, 0.16672000288963318, 0.5924000144004822, 0.2685999870300293, -0.7648199796676636, -0.21684999763965607, -0.09033799916505814, 0.45489999651908875, -0.7797799706459045, -1.3977999687194824, -0.20202000439167023, -0.3510900139808655, 0.08754800260066986, 0.08208099752664566, -1.1562999486923218, -0.47655999660491943, 1.0377999544143677, 0.11394999921321869, 0.11529000103473663, -0.7287600040435791, -2.191999912261963, -0.1832599937915802, -0.3607499897480011, -0.5494999885559082, 0.3326599895954132, 0.7166399955749512, -0.3002200126647949, -0.06874699890613556, -0.014708000235259533, 0.5183799862861633, -0.020844999700784683, -0.42555001378059387, -0.1932400017976761, -1.3106000423431396, 1.0293999910354614, -0.05879399925470352], [0.37711000442504883, -0.34470999240875244, 0.13404999673366547, -0.011710000224411488, -0.19426999986171722, 0.41464000940322876, 0.4060800075531006, 0.43062999844551086, -0.05705999955534935, -0.1992100030183792, 0.432669997215271, -0.016269000247120857, 0.21709999442100525, -0.002614900004118681, 0.39423999190330505, -0.42803001403808594, -0.01749500073492527, -0.5665799975395203, -0.44558000564575195, -0.18528999388217926, 0.26732000708580017, -0.1571200042963028, 0.21657000482082367, 0.7971400022506714, 0.6962299942970276, 0.2040500044822693, -0.4990699887275696, -0.4551900029182434, 0.382099986076355, 0.2060299962759018, -0.21605999767780304, 0.10092999786138535, -0.501479983329773, -0.11057999730110168, -0.4345499873161316, -0.26785001158714294, -0.2023400068283081, 0.0038320000749081373, -0.49107998609542847, -0.17642000317573547, -0.889710009098053, -0.27900001406669617, 0.8638700246810913, -0.01735600084066391, 0.31209999322891235, 0.4100399911403656, 0.2319899946451187, -0.6081200242042542, 0.44762998819351196, -0.8957899808883667, -0.03849099949002266, -0.2577199935913086, 0.394679993391037, 1.6186000108718872, -0.5488200187683105, -3.029099941253662, -0.7784500122070312, -0.3246299922466278, 1.7657999992370605, 0.9730299711227417, -0.39342001080513, 0.5481100082397461, 0.013163999654352665, 0.3785000145435333, 0.2453799992799759, 0.031078999862074852, 0.23627999424934387, 0.2890099883079529, 0.02704700082540512, 0.28984999656677246, -0.7452300190925598, 0.011517000384628773, -0.3945600092411041, -0.5770599842071533, -0.6360399723052979, 0.31022000312805176, -0.3831700086593628, -0.07766299694776535, -1.3538999557495117, 0.018008999526500702, 0.8564599752426147, 0.03825899958610535, -0.3943699896335602, 0.4433099925518036, -1.080199956893921, -0.4315899908542633, 0.1439100056886673, 0.11853999644517899, -0.5645899772644043, -0.4796600043773651, 0.22859999537467957, -0.24368999898433685, -0.4282299876213074, 1.0365999937057495, -0.8307099938392639, 0.12460000067949295, 0.20630000531673431, 0.5423200130462646, 0.11424999684095383, -0.6692699790000916], [-0.5788900256156921, -0.40292999148368835, 0.41172000765800476, 1.2513999938964844, 0.35229000449180603, -1.3415000438690186, 0.2820200026035309, 0.1426900029182434, 0.10179000347852707, -0.6770700216293335, -0.2632099986076355, 0.5232099890708923, 1.0801000595092773, 0.6777899861335754, -0.3607900142669678, 0.12962999939918518, -0.8265799880027771, -0.9217000007629395, -0.4011400043964386, -0.6662099957466125, -0.10221000015735626, -0.3951700031757355, 0.19452999532222748, 0.15584999322891235, 0.12239000201225281, -0.12654000520706177, -0.5379199981689453, 0.19035999476909637, 0.11736000329256058, -0.12353000044822693, -1.2188999652862549, 0.1775200068950653, 0.06288599967956543, -0.35837000608444214, 0.02927199937403202, 0.4806100130081177, 0.8622599840164185, -0.3111500144004822, -0.4609200060367584, -0.12143000215291977, -0.9769300222396851, -0.040437001734972, 0.8862800002098083, 0.2273399978876114, -0.4742799997329712, -0.4021899998188019, -0.5615900158882141, 0.02390499971807003, 0.2302599996328354, -0.4801900088787079, 0.22432999312877655, -0.30320000648498535, -0.0944259986281395, 0.990119993686676, -0.05650800094008446, -2.3129000663757324, -0.6858500242233276, -0.15794000029563904, 1.3258999586105347, 0.733299970626831, -0.5356699824333191, 0.19133999943733215, -0.5324900150299072, -1.1269999742507935, 0.13673999905586243, 0.45662999153137207, 0.26684999465942383, 1.2177000045776367, -0.5628600120544434, -0.41683998703956604, 0.42114999890327454, -0.9482200145721436, -0.742389976978302, -1.5937999486923218, -0.2850100100040436, 0.23683999478816986, -0.45396000146865845, -0.30959001183509827, -1.5928000211715698, -0.0904499962925911, 0.6240599751472473, -0.11638999730348587, 0.48917001485824585, -0.11948999762535095, -1.0465999841690063, 0.5319899916648865, 0.03388499841094017, 0.8753499984741211, -0.019832000136375427, -0.8773800134658813, -0.028149999678134918, 0.051107000559568405, -1.166100025177002, 0.3783999979496002, -0.6783499717712402, 0.5486199855804443, 0.36230000853538513, 0.3414599895477295, 1.1259000301361084, 0.6499599814414978], [-0.4360800087451935, 0.39103999733924866, 0.516569972038269, -0.13861000537872314, 0.2029000073671341, 0.5072299838066101, -0.012543999589979649, 0.22947999835014343, -0.631600022315979, 0.21198999881744385, -0.018043000251054764, -0.39364001154899597, 0.7416399717330933, 0.3022100031375885, 0.5179200172424316, -0.251910001039505, 0.25372999906539917, -0.6518399715423584, -0.42963001132011414, 0.009362200275063515, 0.023334000259637833, -0.3924500048160553, 0.349480003118515, 0.21217000484466553, 0.7346000075340271, -0.2196200042963028, -0.02861100062727928, -0.34641000628471375, -0.20934000611305237, -0.27090999484062195, -0.17636999487876892, 0.82396000623703, -0.08233900368213654, -0.0348690003156662, 0.07972200214862823, 0.3484100103378296, 0.6088700294494629, 0.22811000049114227, -0.2963300049304962, 0.18633000552654266, 0.23399999737739563, -0.709659993648529, 0.16312000155448914, -0.20857000350952148, 0.09236899763345718, -0.07543499767780304, -0.13905000686645508, -0.35120999813079834, -0.19971999526023865, -0.41686999797821045, -0.31485000252723694, 0.16122999787330627, 0.038881998509168625, 1.6654000282287598, -0.12400999665260315, -3.341900110244751, 0.1092899963259697, -0.02619899995625019, 1.24399995803833, 0.8437399864196777, -0.15679000318050385, 0.7904099822044373, -0.042433001101017, 0.18884000182151794, 0.06434500217437744, -0.1168299987912178, 1.0467000007629395, 0.7181299924850464, 0.5783399939537048, 0.27013999223709106, -0.5090799927711487, -0.08399499952793121, -0.1437000036239624, -0.7640799880027771, 0.27417999505996704, 0.5681399703025818, -0.39375001192092896, -0.32558000087738037, -0.9285399913787842, -0.1309799998998642, 1.3277000188827515, 0.11851000040769577, -0.15550999343395233, 0.5971999764442444, -1.0839999914169312, -0.05813699960708618, 0.23885999619960785, 0.145579993724823, -0.5930299758911133, -0.4751099944114685, -0.22064000368118286, -0.3759100139141083, -0.7964900135993958, 0.013465000316500664, -0.4459500014781952, -0.34623000025749207, -0.7539799809455872, -0.3517000079154968, 0.9945600032806396, 0.08819600194692612], [-0.11282999813556671, 0.7653300166130066, 0.6446700096130371, 0.1842699944972992, -0.19002999365329742, 0.23714999854564667, -0.05802600085735321, -0.14211000502109528, 0.38468998670578003, 0.6078900098800659, -0.3142000138759613, 0.5435100197792053, 0.030271999537944794, -0.4512900114059448, 0.017520999535918236, -0.5222300291061401, 0.7859500050544739, -0.7816600203514099, -0.24677999317646027, 0.04839500039815903, -0.0034568000119179487, 0.5400500297546387, 0.2959100008010864, -0.057238999754190445, 0.05564900115132332, 0.33103999495506287, -0.8218500018119812, 0.6083899736404419, -0.1834699958562851, 0.44029998779296875, 0.7214400172233582, -0.18605999648571014, 0.7125200033187866, 0.12815000116825104, -0.9749299883842468, 0.03708000108599663, 0.38256001472473145, 0.23534999787807465, -0.28571999073028564, 0.12335000187158585, -0.8108299970626831, -0.1057400032877922, 0.06492999941110611, -0.336650013923645, 1.2943999767303467, 0.5556899905204773, 0.008269700221717358, 0.49107998609542847, 0.2354699969291687, -0.1401199996471405, -0.9315800070762634, 0.43898001313209534, 0.05976000055670738, 0.3922500014305115, 0.09828700125217438, -0.6474000215530396, -0.2717300057411194, -0.280349999666214, 0.8560600280761719, 0.5214599967002869, 0.31942999362945557, 0.9513700008392334, 0.32190999388694763, -0.25523999333381653, 0.06370700150728226, 1.0686999559402466, -0.5587199926376343, 0.21604999899864197, 0.06790199875831604, -0.7274199724197388, -0.31683000922203064, -0.2653299868106842, -0.615119993686676, -0.06509999930858612, 1.0200999975204468, 1.0283000469207764, -0.05609399825334549, 0.7148500084877014, -0.39399999380111694, -0.39678001403808594, 0.5613899827003479, 0.4387100040912628, -0.3796199858188629, 0.22363999485969543, -0.5209900140762329, -0.12427999824285507, -0.021245000883936882, 0.13744999468326569, -1.1241999864578247, -0.35401999950408936, 0.028768999502062798, 0.04729299992322922, 0.49494999647140503, -0.15660999715328217, -0.25148001313209534, 0.9825500249862671, 0.06425400078296661, 0.3996100127696991, -0.5863699913024902, -0.754040002822876], [0.8168200254440308, -0.08447899669408798, 0.10582000017166138, -0.09696800261735916, -0.40623000264167786, 0.245619997382164, -0.26368001103401184, -0.11647000163793564, -0.2964800000190735, -0.19724999368190765, 0.40206998586654663, -0.34876999258995056, 0.7182599902153015, -0.3012300133705139, -0.20430999994277954, -0.7391499876976013, 0.17750999331474304, -0.24796000123023987, 0.45302000641822815, 0.81836998462677, -0.4276700019836426, 0.16498999297618866, -0.26282998919487, 0.7226499915122986, 0.08420900255441666, 0.046858999878168106, 0.3475799858570099, 0.030100999400019646, -0.3721800148487091, 0.64860999584198, 0.769320011138916, 1.3483999967575073, 0.09092999994754791, -0.6919199824333191, -0.16141000390052795, 0.39381998777389526, 0.5805799961090088, 0.18976999819278717, 0.6922399997711182, -0.3671799898147583, 0.4923200011253357, 0.3575400114059448, -0.6515200138092041, -0.026580000296235085, -0.21254000067710876, 0.7483900189399719, -0.18776999413967133, 0.6740000247955322, -0.14350999891757965, -0.669950008392334, -0.22032000124454498, -0.37264999747276306, -0.27452000975608826, 0.09581500291824341, 0.23343999683856964, -1.3949999809265137, -0.09892000257968903, -0.22578999400138855, 1.7908999919891357, 0.7389199733734131, 0.9982799887657166, -0.07462199777364731, 0.33131998777389526, -0.382779985666275, 0.5643200278282166, 0.21172000467777252, -0.10023999959230423, 0.7872200012207031, 0.24145999550819397, 0.2962999939918518, -0.2787199914455414, -0.2325199991464615, -0.17858999967575073, -0.4784199893474579, 0.26076000928878784, 0.4000000059604645, -0.07991400361061096, -1.2007999420166016, -1.0312000513076782, -0.18729999661445618, -0.3384700119495392, 0.11706999689340591, 0.09044100344181061, 0.7994599938392639, -1.1026999950408936, -0.4706900119781494, -0.024952000007033348, -0.11112000048160553, 0.7003700137138367, -0.32471001148223877, -0.27511000633239746, -0.2017499953508377, 0.6383299827575684, -0.21296000480651855, -0.4768199920654297, 0.5130400061607361, 0.21166999638080597, -0.41019999980926514, 0.4440299868583679, -0.46713998913764954], [0.09685300290584564, -0.12647999823093414, -0.7963200211524963, -0.19088000059127808, 0.02132599987089634, -0.9179400205612183, -0.18299999833106995, -0.29989999532699585, -0.4381699860095978, 0.22019000351428986, 0.7611100077629089, -0.41628000140190125, 0.6470000147819519, -0.1420699954032898, -0.7948899865150452, -0.4664599895477295, 0.5280699729919434, -0.47560998797416687, 0.10277000069618225, 0.19182999432086945, -0.1151299998164177, 0.21091000735759735, 0.22474999725818634, -0.14677999913692474, -0.374889999628067, -0.10542000085115433, 0.16820000112056732, 0.028082000091671944, -0.973330020904541, -0.4029799997806549, 0.2537800073623657, 1.1639000177383423, 0.01032899972051382, -0.08742199838161469, -0.3755500018596649, 0.29506999254226685, 0.32027000188827515, -0.24422000348567963, 0.6087200045585632, -0.4664599895477295, 0.5277199745178223, -0.5432000160217285, -0.03254900127649307, -0.367000013589859, -0.4566200077533722, -0.6264700293540955, 0.048037998378276825, 0.2033900022506714, -0.09445399791002274, -0.6043800115585327, 0.31393998861312866, -0.3930400013923645, 0.6108300089836121, 0.4789600074291229, -0.20492999255657196, -2.4286999702453613, -0.4542199969291687, -0.4212000072002411, 1.6721999645233154, 0.3998199999332428, 0.492900013923645, -0.7272899746894836, -0.2064799964427948, 0.3360399901866913, -0.16369999945163727, -0.3383699953556061, 0.1383100003004074, 0.7547600269317627, 0.32701000571250916, 0.3006899952888489, -0.44321998953819275, 0.7955700159072876, -1.2070000171661377, -0.6233100295066833, 0.09158600121736526, -0.6909000277519226, 0.03573700040578842, -0.6994400024414062, -0.9071900248527527, 0.02001499943435192, 1.4825999736785889, 0.5405799746513367, -0.4018799960613251, 0.7540299892425537, -0.45576000213623047, -0.7686499953269958, 0.5347999930381775, 0.04707200080156326, -0.00986700039356947, -0.7246800065040588, -0.26603999733924866, -0.41631001234054565, 0.14382000267505646, -0.4056299924850464, 0.08776199817657471, 0.8262799978256226, -0.2647700011730194, -0.3682900071144104, 0.28839001059532166, 0.5906400084495544], [0.5341299772262573, -0.33316999673843384, 0.5725600123405457, -0.22958999872207642, 0.4509199857711792, 0.03400399908423424, -1.0741000175476074, 0.30035001039505005, -0.47394001483917236, -0.11800000071525574, -0.1035899966955185, 0.2716600000858307, -0.7885500192642212, 0.23797999322414398, -0.29203000664711, -0.01610100083053112, 0.8705400228500366, 0.41280999779701233, -0.4311400055885315, -0.06515700370073318, 0.1333799958229065, 0.007348599843680859, 0.5308200120925903, -0.16487999260425568, -1.0752999782562256, -0.5021600127220154, -0.23265999555587769, -1.2865999937057495, -1.0568000078201294, 0.1265999972820282, 1.0740000009536743, 0.30191999673843384, -0.38124001026153564, -0.2962999939918518, -0.47137001156806946, 0.03184499964118004, 0.06343799829483032, -0.20970000326633453, 0.818589985370636, 0.6564900279045105, -0.24178999662399292, -0.8293300271034241, -0.05778000131249428, 0.2862899899482727, 0.3564800024032593, -0.2803899943828583, 0.15298999845981598, -1.0049999952316284, -0.4476900100708008, -0.605400025844574, 0.39632999897003174, -0.643339991569519, 0.5058299899101257, 0.8031799793243408, -0.2038400024175644, -1.6425000429153442, 0.544979989528656, -0.8424299955368042, 2.668800115585327, 0.6750100255012512, -0.20239000022411346, -0.017822999507188797, 0.34902000427246094, 0.09205000102519989, 0.9571899771690369, -0.35905998945236206, -0.5443999767303467, 0.510420024394989, 0.41343000531196594, 0.47315001487731934, 0.27612999081611633, -0.41464999318122864, -0.24532000720500946, -0.05082099884748459, -0.06980500370264053, -0.1627500057220459, -0.2372400015592575, -0.19682000577449799, -1.4853999614715576, -0.31099000573158264, 0.870959997177124, -0.21449999511241913, -0.36243000626564026, -0.2530199885368347, -1.1050000190734863, -0.07546299695968628, 0.2842400074005127, 0.3709999918937683, -0.07353600114583969, -0.6071400046348572, 0.31883999705314636, -1.0821000337600708, -1.0324000120162964, -0.16986000537872314, 0.006710300222039223, 0.32649001479148865, 0.7165899872779846, 0.21640999615192413, 0.5339199900627136, -0.6038399934768677], [0.5300599932670593, -0.039771001785993576, 0.6609100103378296, -0.39517998695373535, 0.1505099982023239, -0.31801000237464905, -0.3871400058269501, -0.6244000196456909, -0.2819199860095978, 0.19884000718593597, 0.8210099935531616, 0.06665199995040894, -0.021601999178528786, -1.1535999774932861, -0.07554599642753601, -0.34220001101493835, 0.2962700128555298, -0.921239972114563, -0.26883000135421753, 0.4619799852371216, -0.3386000096797943, 0.5033400058746338, -0.4065299928188324, -0.15029999613761902, 0.15489999949932098, 0.07020100206136703, 0.476610004901886, 0.1934099942445755, -0.4388900101184845, -0.7623199820518494, 0.8357399702072144, 0.8544399738311768, 0.06573300063610077, -0.0927790030837059, 0.4584699869155884, 0.5056099891662598, -0.30379000306129456, -0.49884000420570374, -0.33878999948501587, 0.09720899909734726, 0.4219599962234497, 0.4309200048446655, 0.05464800074696541, -0.1897599995136261, -0.18380999565124512, -0.3343600034713745, -0.543429970741272, -0.05595500022172928, 0.709659993648529, 0.058329999446868896, -0.8664100170135498, 0.18694999814033508, 0.6684600114822388, 0.07206200063228607, 0.47819000482559204, -0.9133700132369995, -1.4018000364303589, 0.5366600155830383, 0.5212900042533875, 0.3445500135421753, 0.45173001289367676, 0.18334999680519104, 0.3103100061416626, 0.08829300105571747, 0.2728999853134155, 0.029765000566840172, 1.3869999647140503, 0.7267000079154968, -0.6606400012969971, -0.005873799789696932, -0.5245800018310547, -0.17780999839305878, -0.5523300170898438, 0.3324599862098694, -1.3636000156402588, -1.09089994430542, 0.493120014667511, -0.06805899739265442, 0.3252300024032593, 0.4070900082588196, 0.47154000401496887, -0.2348099946975708, 0.7739400267601013, 0.7327399849891663, 0.2750599980354309, -0.13979999721050262, -0.9348700046539307, -0.26467999815940857, 0.10312999784946442, -0.7406700253486633, 1.2403000593185425, -0.3475100100040436, -0.1599300056695938, -0.02994599938392639, 0.9991400241851807, -0.14665000140666962, 0.29930999875068665, -0.5475299954414368, 0.22777000069618225, -0.6036900281906128], [-0.3397899866104126, 0.20940999686717987, 0.46347999572753906, -0.6479200124740601, -0.3837699890136719, 0.038033999502658844, 0.1712699979543686, 0.15977999567985535, 0.46619001030921936, -0.019169000908732414, 0.41479000449180603, -0.34349000453948975, 0.26872000098228455, 0.04464000090956688, 0.4213100075721741, -0.4103200137615204, 0.15458999574184418, 0.022238999605178833, -0.6465299725532532, 0.25255998969078064, 0.043136000633239746, -0.1944500058889389, 0.4651600122451782, 0.4565100073814392, 0.6858800053596497, 0.09129499644041061, 0.21875, -0.7035099864006042, 0.16785000264644623, -0.35078999400138855, -0.12634000182151794, 0.6638399958610535, -0.2581999897956848, 0.03654199838638306, -0.1360500007867813, 0.4025300145149231, 0.14289000630378723, 0.3813199996948242, -0.12283000349998474, -0.45886000990867615, -0.2528199851512909, -0.30432000756263733, -0.11214999854564667, -0.261819988489151, -0.22482000291347504, -0.44554001092910767, 0.29910001158714294, -0.8561199903488159, -0.14503000676631927, -0.4908599853515625, 0.008297299966216087, -0.17490999400615692, 0.2752400040626526, 1.4400999546051025, -0.2123900055885315, -2.8434998989105225, -0.2795799970626831, -0.4572199881076813, 1.6385999917984009, 0.7880799770355225, -0.552619993686676, 0.6499999761581421, 0.08642599731683731, 0.3901199996471405, 1.0631999969482422, -0.3537899851799011, 0.4832800030708313, 0.34599998593330383, 0.8417400121688843, 0.09870699793100357, -0.24212999641895294, -0.27052998542785645, 0.04528699815273285, -0.40147000551223755, 0.11394999921321869, 0.006222600117325783, 0.03667299821972847, 0.018518000841140747, -1.021299958229065, -0.20805999636650085, 0.640720009803772, -0.06876300275325775, -0.5863500237464905, 0.33476001024246216, -1.1432000398635864, -0.11479999870061874, -0.2509100139141083, -0.45906999707221985, -0.09681899845600128, -0.17946000397205353, -0.06335099786520004, -0.6741200089454651, -0.06889499723911285, 0.5360400080680847, -0.8777300119400024, 0.3180199861526489, -0.3924199938774109, -0.2339400053024292, 0.47297999262809753, -0.02880300022661686]])]"
            ]
          },
          "metadata": {},
          "execution_count": 50
        }
      ]
    },
    {
      "cell_type": "code",
      "source": [
        "result = pipelineModel.transform(news_df.limit(10))\n",
        "\n",
        "#result_df = result.select(F.explode(F.arrays_zip('token.result', 'embeddings.embeddings')).alias(\"cols\")) \\\n",
        "#.select(F.expr(\"cols['0']\").alias(\"token\"),\n",
        "#        F.expr(\"cols['1']\").alias(\"embeddings\"))\n",
        "\n",
        "#result_df.show(10, truncate=100)"
      ],
      "metadata": {
        "id": "qIZ0IF6TkMNZ"
      },
      "execution_count": 51,
      "outputs": []
    },
    {
      "cell_type": "markdown",
      "source": [
        "#### Using your own Word embeddings in Spark NLP"
      ],
      "metadata": {
        "id": "pg0T3rnJmeiD"
      }
    },
    {
      "cell_type": "code",
      "source": [
        "! wget https://dl.fbaipublicfiles.com/fasttext/vectors-crawl/cc.nl.300.vec.gz"
      ],
      "metadata": {
        "id": "tfF_kFJwmWa7",
        "colab": {
          "base_uri": "https://localhost:8080/"
        },
        "outputId": "112cae8b-08c8-413d-84d7-daee659d1fa8"
      },
      "execution_count": 52,
      "outputs": [
        {
          "output_type": "stream",
          "name": "stdout",
          "text": [
            "--2022-03-30 10:32:53--  https://dl.fbaipublicfiles.com/fasttext/vectors-crawl/cc.nl.300.vec.gz\n",
            "Resolving dl.fbaipublicfiles.com (dl.fbaipublicfiles.com)... 172.67.9.4, 104.22.74.142, 104.22.75.142, ...\n",
            "Connecting to dl.fbaipublicfiles.com (dl.fbaipublicfiles.com)|172.67.9.4|:443... connected.\n",
            "HTTP request sent, awaiting response... 200 OK\n",
            "Length: 1255218462 (1.2G) [binary/octet-stream]\n",
            "Saving to: ‘cc.nl.300.vec.gz’\n",
            "\n",
            "cc.nl.300.vec.gz    100%[===================>]   1.17G  44.6MB/s    in 32s     \n",
            "\n",
            "2022-03-30 10:33:25 (37.8 MB/s) - ‘cc.nl.300.vec.gz’ saved [1255218462/1255218462]\n",
            "\n"
          ]
        }
      ]
    },
    {
      "cell_type": "code",
      "source": [
        "!gunzip cc.nl.300.vec.gz"
      ],
      "metadata": {
        "id": "6KdElGxYm2et"
      },
      "execution_count": 53,
      "outputs": []
    },
    {
      "cell_type": "code",
      "source": [
        "custom_embeddings = WordEmbeddings()\\\n",
        "  .setInputCols([\"document\", \"token\"])\\\n",
        "  .setOutputCol(\"my_embeddings\")\\\n",
        "  .setStoragePath('cc.nl.300.vec', \"TEXT\")\\\n",
        "  .setDimension(300)\n",
        "\n",
        "custom_embeddings_model = custom_embeddings.fit(result.limit(10))# any df would be fine as long as it had document and token columns thru Spark NLP"
      ],
      "metadata": {
        "id": "Krd3dmuSm6W0"
      },
      "execution_count": 54,
      "outputs": []
    },
    {
      "cell_type": "code",
      "source": [
        "custom_embeddings_model.transform(result.limit(10)).select('my_embeddings.embeddings').take(1)"
      ],
      "metadata": {
        "id": "DJjnllkGoKUF",
        "colab": {
          "base_uri": "https://localhost:8080/"
        },
        "outputId": "fa8ae4f3-d69a-4b2a-857a-765f66a6571d"
      },
      "execution_count": 55,
      "outputs": [
        {
          "output_type": "execute_result",
          "data": {
            "text/plain": [
              "[Row(embeddings=[[-0.07240000367164612, -0.015599999576807022, -0.03099999949336052, -0.02850000001490116, 0.003700000001117587, 0.009100000374019146, -0.052400000393390656, -0.052799999713897705, -0.05719999969005585, -0.09749999642372131, 0.015599999576807022, -0.07909999787807465, 0.12839999794960022, -0.07090000063180923, 0.0017000000225380063, -0.0860000029206276, -0.0357000008225441, 0.004000000189989805, -0.03480000048875809, 0.11509999632835388, 0.019700000062584877, -0.10520000010728836, 0.09200000017881393, -0.041099999099969864, 0.0348999984562397, 0.05889999866485596, 0.007899999618530273, 0.05009999871253967, -0.05609999969601631, 0.029899999499320984, -0.04010000079870224, 0.007899999618530273, -0.05480000004172325, 0.025699999183416367, 0.10140000283718109, -0.009600000455975533, 0.09130000323057175, 0.04960000142455101, -0.0035000001080334187, -0.053700000047683716, 0.00419999985024333, 0.06840000301599503, -0.041200000792741776, -0.00800000037997961, 0.04520000144839287, 0.03819999843835831, 0.017000000923871994, 0.025699999183416367, 0.1339000016450882, 0.03290000185370445, -0.015200000256299973, -0.04800000041723251, -0.0035000001080334187, 0.05469999834895134, 0.007699999958276749, -0.039000000804662704, 0.0007999999797903001, -0.011599999852478504, -0.03480000048875809, -0.08839999884366989, 0.01510000042617321, -0.0333000011742115, -0.10289999842643738, -0.10840000212192535, -0.007799999788403511, 0.05900000035762787, 0.08460000157356262, -0.02280000038444996, -0.04740000143647194, 0.04699999839067459, -0.05920000001788139, -0.017500000074505806, 0.07280000299215317, -0.014800000004470348, -0.07680000364780426, -0.010400000028312206, -0.0681999996304512, -0.13500000536441803, -0.14749999344348907, 0.011599999852478504, 0.021900000050663948, -0.022600000724196434, 0.041600000113248825, 0.05119999870657921, -0.04439999908208847, 0.031599998474121094, -0.013700000010430813, 0.016699999570846558, -0.05260000005364418, 0.03700000047683716, 0.03739999979734421, -0.01549999974668026, -0.12280000001192093, -0.024900000542402267, 0.06679999828338623, 0.009200000204145908, 0.017400000244379044, -0.12770000100135803, -0.022299999371170998, 0.05090000107884407, 0.03480000048875809, 0.002300000051036477, 0.0617000013589859, -0.07180000096559525, -0.035599999129772186, 0.06440000236034393, 0.09260000288486481, 0.02979999966919422, 0.004000000189989805, -0.0003000000142492354, -0.030400000512599945, 0.08030000329017639, -0.00570000009611249, -0.017799999564886093, 0.07680000364780426, 0.021700000390410423, -0.03680000081658363, -0.044599998742341995, 0.0340999998152256, -0.049400001764297485, -0.07119999825954437, 0.06360000371932983, -0.03799999877810478, 0.05779999867081642, 0.05290000140666962, -0.052799999713897705, -0.06669999659061432, 0.045099999755620956, -0.04179999977350235, 0.0771000012755394, -0.014000000432133675, 0.07079999893903732, -0.049800001084804535, 0.01489999983459711, -0.05249999836087227, 0.004699999932199717, 0.16329999268054962, 0.12129999697208405, -0.03420000150799751, 0.0012000000569969416, 0.0568000003695488, 0.007400000002235174, -0.01759999990463257, -0.0007999999797903001, -0.01510000042617321, -0.051500000059604645, 0.058400001376867294, 0.03280000016093254, -0.01140000019222498, -0.13210000097751617, -0.024000000208616257, -0.05220000073313713, 0.05570000037550926, -0.035100001841783524, 0.13019999861717224, 0.05530000105500221, 0.0632999986410141, 0.0640999972820282, 0.05689999833703041, -0.033799998462200165, -0.08869999647140503, 0.05079999938607216, -0.0430000014603138, 0.057100001722574234, -0.021800000220537186, -0.028300000354647636, 0.009999999776482582, 0.07880000025033951, 0.10499999672174454, 0.0649000033736229, -0.01640000008046627, 0.10750000178813934, -9.999999747378752e-05, -0.06700000166893005, -0.009600000455975533, 0.07280000299215317, -0.02370000071823597, 0.11420000344514847, 0.011300000362098217, -0.05730000138282776, 0.02500000037252903, 0.03709999844431877, 0.06530000269412994, 0.008200000040233135, 0.02969999983906746, 0.012400000356137753, 0.014499999582767487, 0.012600000016391277, 0.09520000219345093, 0.0203000009059906, 0.03099999949336052, 0.07349999994039536, -0.010400000028312206, -0.020899999886751175, -0.02630000002682209, -0.06360000371932983, 0.029500000178813934, -0.0551999993622303, 0.09969999641180038, -0.01679999940097332, 0.08990000188350677, 0.020099999383091927, -0.024000000208616257, -0.052299998700618744, 0.03370000049471855, -0.016300000250339508, 0.13439999520778656, -0.053199999034404755, -0.13989999890327454, 0.04149999842047691, 0.035999998450279236, 0.008299999870359898, -0.008100000210106373, -0.03189999982714653, -0.00839999970048666, -0.017400000244379044, 0.012299999594688416, 0.0044999998062849045, 0.023499999195337296, -0.03790000081062317, -0.02590000070631504, 0.016499999910593033, -0.05829999968409538, 0.06449999660253525, 0.021900000050663948, 0.0010000000474974513, -0.04399999976158142, -0.07829999923706055, 0.016499999910593033, -0.051500000059604645, 0.01119999960064888, -0.01140000019222498, 0.029200000688433647, 0.04100000113248825, -0.027699999511241913, -0.06599999964237213, 0.008700000122189522, 0.06400000303983688, 0.009399999864399433, -0.0885000005364418, -0.007499999832361937, -0.18299999833106995, 0.006899999920278788, 0.00430000014603138, -0.04399999976158142, 0.033799998462200165, -0.023800000548362732, -0.04399999976158142, -0.03849999979138374, 0.048700001090765, -0.12780000269412994, -0.03959999978542328, 0.021400000900030136, 0.016300000250339508, -0.03920000046491623, 0.08070000261068344, -0.0722000002861023, -0.024800000712275505, -0.004600000102072954, -0.059300001710653305, -0.08820000290870667, -0.07000000029802322, -0.023800000548362732, -0.1264999955892563, -0.08290000259876251, -0.025299999862909317, -0.0006000000284984708, 0.09019999951124191, 0.037300001829862595, -0.0551999993622303, 0.033399999141693115, -0.013399999588727951, 0.01640000008046627, -0.09049999713897705, 0.04800000041723251, -0.08550000190734863, 0.002899999963119626, 0.043800000101327896, -0.024800000712275505, -0.0471000000834465, 0.008500000461935997, 0.053300000727176666, -0.06040000170469284, -0.1736000031232834, -0.00839999970048666, 0.0357000008225441, -0.04100000113248825, -0.0044999998062849045, -0.027799999341368675, -0.0034000000450760126, -0.050200000405311584, -0.012299999594688416, -0.053199999034404755, -0.05900000035762787, -0.01080000028014183, 0.04399999976158142, -0.1080000028014183, 0.006399999838322401, -0.06449999660253525, 0.0038999998942017555], [-0.01899999938905239, -0.02759999968111515, 0.017500000074505806, 0.015599999576807022, 0.004399999976158142, 0.02969999983906746, -0.01720000058412552, -0.0032999999821186066, -0.008799999952316284, -0.020099999383091927, -0.006800000090152025, 0.01269999984651804, -0.016599999740719795, 0.013199999928474426, 0.006800000090152025, 0.014499999582767487, 0.023399999365210533, -0.006099999882280827, 0.012299999594688416, 0.018799999728798866, -0.000699999975040555, 0.00019999999494757503, 0.0031999999191612005, 0.008799999952316284, 0.0005000000237487257, 0.012199999764561653, -0.0406000018119812, 0.019200000911951065, -0.007199999876320362, -0.013799999840557575, -0.005499999970197678, 0.016300000250339508, 0.010200000368058681, 0.013299999758601189, 0.010300000198185444, -0.012600000016391277, -0.00930000003427267, 0.00139999995008111, -0.005200000014156103, -0.0010999999940395355, -0.022299999371170998, -0.040300000458955765, -0.01489999983459711, -0.014999999664723873, -0.008500000461935997, 0.009800000116229057, -0.008100000210106373, 0.008999999612569809, -0.012799999676644802, 0.024000000208616257, 0.025200000032782555, 0.018699999898672104, -0.026399999856948853, 0.027699999511241913, 0.00430000014603138, 0.000699999975040555, 0.0024999999441206455, -0.04129999876022339, -0.0357000008225441, -0.019999999552965164, 0.004900000058114529, -0.012400000356137753, -0.007199999876320362, -0.039400000125169754, 0.014299999922513962, -0.014700000174343586, 0.010499999858438969, -0.024700000882148743, 0.02370000071823597, 0.003000000026077032, 0.004000000189989805, -0.0017999999690800905, 0.02199999988079071, 0.01850000023841858, -0.01679999940097332, -0.010900000110268593, -0.013000000268220901, -0.009700000286102295, -0.039500001817941666, 0.00860000029206276, 0.03139999881386757, -0.006599999964237213, -0.02070000022649765, 0.010599999688565731, 0.006200000178068876, -0.0017000000225380063, -0.02280000038444996, 0.00139999995008111, 0.014800000004470348, -0.0003000000142492354, -0.006200000178068876, -0.012199999764561653, 0.007799999788403511, 0.03880000114440918, 0.00839999970048666, 0.01679999940097332, 0.00930000003427267, -0.007199999876320362, 9.999999747378752e-05, 0.01600000075995922, -0.0006000000284984708, -0.013299999758601189, 0.029999999329447746, -0.011800000444054604, 0.020500000566244125, -0.001500000013038516, -0.02410000003874302, 0.01850000023841858, -0.052400000393390656, 0.027300000190734863, 0.011300000362098217, 0.007400000002235174, -0.002099999925121665, -0.021199999377131462, 0.012799999676644802, -0.0006000000284984708, -0.014000000432133675, -0.00860000029206276, 0.025100000202655792, -0.0008999999845400453, -0.007600000128149986, -0.003800000064074993, -0.014700000174343586, 0.01209999993443489, -0.013500000350177288, -0.01549999974668026, -0.006300000008195639, 0.019099999219179153, -0.019500000402331352, -0.0333000011742115, 0.006800000090152025, -0.002300000051036477, -0.010900000110268593, 0.00570000009611249, 0.00559999980032444, -0.010400000028312206, 0.040300000458955765, 0.02280000038444996, -0.011699999682605267, 0.018200000748038292, 0.03139999881386757, 0.006300000008195639, 0.002199999988079071, -0.010400000028312206, -0.01810000091791153, 0.029400000348687172, -0.015699999406933784, 9.999999747378752e-05, -0.02759999968111515, -0.06960000097751617, 0.01720000058412552, 0.05299999937415123, 0.023499999195337296, -0.04820000007748604, -0.030500000342726707, -0.0006000000284984708, -0.0008999999845400453, 0.016100000590085983, -0.03959999978542328, -0.006000000052154064, -0.031300000846385956, -0.002300000051036477, 0.02280000038444996, 0.0052999998442828655, -0.04340000078082085, -0.02239999920129776, -0.00139999995008111, -0.00559999980032444, 0.030799999833106995, -0.012799999676644802, -0.010599999688565731, -0.01269999984651804, -0.009100000374019146, -0.024800000712275505, 0.007499999832361937, -0.016599999740719795, -0.025200000032782555, -0.014800000004470348, -0.02669999934732914, 0.0052999998442828655, 0.0026000000070780516, 0.011500000022351742, 0.02319999970495701, 0.01080000028014183, 0.030300000682473183, -0.0006000000284984708, -0.0071000000461936, 0.017100000753998756, 0.019700000062584877, 0.020099999383091927, 0.009999999776482582, 0.007600000128149986, -9.999999747378752e-05, 0.0032999999821186066, -0.010599999688565731, -0.0017000000225380063, 0.016599999740719795, 0.019200000911951065, -0.00800000037997961, -0.0032999999821186066, 0.03200000151991844, -0.007000000216066837, -0.023499999195337296, -0.00039999998989515007, -0.020400000736117363, -0.0035000001080334187, -0.01860000006854534, -0.0038999998942017555, -0.0272000003606081, 0.03310000151395798, 0.023800000548362732, 0.02410000003874302, -0.01080000028014183, 0.006500000134110451, 0.003599999938160181, -0.03189999982714653, -0.014600000344216824, -0.017999999225139618, 0.004699999932199717, 0.01889999955892563, -0.008200000040233135, 0.02710000053048134, -0.0017000000225380063, 0.01769999973475933, 0.011599999852478504, -0.019899999722838402, 0.01679999940097332, -0.013700000010430813, 0.01679999940097332, -0.042100001126527786, 0.023600000888109207, 0.01510000042617321, 0.0027000000700354576, 0.009700000286102295, -0.03440000116825104, 0.006599999964237213, 0.005400000140070915, 0.005100000184029341, 0.01730000041425228, -0.007400000002235174, 0.031700000166893005, -0.05959999933838844, 0.0035000001080334187, 0.004999999888241291, -0.016100000590085983, 0.018200000748038292, 0.027300000190734863, -0.021199999377131462, 0.018400000408291817, -0.030300000682473183, -0.04280000180006027, 0.004600000102072954, 0.0044999998062849045, 0.02710000053048134, -0.010599999688565731, 0.03620000183582306, -0.013000000268220901, 0.016699999570846558, 0.012600000016391277, 0.017100000753998756, 0.007499999832361937, -0.0031999999191612005, 0.00800000037997961, -0.035999998450279236, -0.010400000028312206, -0.012500000186264515, -0.014499999582767487, -0.004600000102072954, 0.008899999782443047, -0.03319999948143959, 0.007699999958276749, 0.03280000016093254, -0.04639999940991402, -0.009100000374019146, -0.011500000022351742, -0.05380000174045563, -0.002099999925121665, 0.01759999990463257, -0.00989999994635582, -0.015699999406933784, -0.017100000753998756, 0.004999999888241291, -0.0013000000035390258, -0.05400000140070915, -0.018400000408291817, -0.016100000590085983, 0.011900000274181366, -0.015699999406933784, -0.003800000064074993, 0.023099999874830246, 0.008299999870359898, 0.0026000000070780516, 0.028999999165534973, 0.007899999618530273, -0.011500000022351742, -0.006599999964237213, 0.007400000002235174, -0.019700000062584877, -0.03500000014901161, 0.01979999989271164], [-0.025200000032782555, -0.03290000185370445, -0.003700000001117587, 0.019999999552965164, 0.0015999999595806003, 0.005799999926239252, -0.07370000332593918, -0.020500000566244125, -0.014499999582767487, 0.0006000000284984708, -0.024000000208616257, -0.05209999904036522, 0.01679999940097332, 0.05119999870657921, 0.039400000125169754, -0.006800000090152025, 0.04820000007748604, -0.020800000056624413, 0.011500000022351742, 0.04879999905824661, 0.007000000216066837, -0.02630000002682209, -0.010499999858438969, -0.049800001084804535, -0.025699999183416367, -0.06069999933242798, -0.08079999685287476, -0.014100000262260437, 0.01269999984651804, 0.00800000037997961, -0.037700001150369644, -0.014399999752640724, 0.06270000338554382, -0.021299999207258224, 0.06430000066757202, -0.04430000111460686, 0.003800000064074993, 0.024000000208616257, 0.00860000029206276, -0.093299999833107, -0.038100000470876694, -0.009399999864399433, -0.017000000923871994, -0.02290000021457672, -0.043699998408555984, -0.0340999998152256, 0.006500000134110451, -0.041600000113248825, -0.039400000125169754, 0.07370000332593918, 0.004100000020116568, -0.02160000056028366, -0.01140000019222498, 0.01850000023841858, 0.029600000008940697, 0.004399999976158142, -0.02969999983906746, -0.021800000220537186, -0.06300000101327896, -0.08420000225305557, -0.008899999782443047, 0.004100000020116568, -0.07819999754428864, -0.1264999955892563, 0.02800000086426735, -0.022099999710917473, 0.0006000000284984708, 0.04729999974370003, -0.025299999862909317, 0.05860000103712082, -0.06480000168085098, 0.012900000438094139, 0.00019999999494757503, -0.002899999963119626, 0.026499999687075615, -0.0032999999821186066, -0.05469999834895134, -0.08810000121593475, -0.004600000102072954, -0.003700000001117587, 0.009499999694526196, -0.04859999939799309, 0.06530000269412994, 0.0005000000237487257, 0.02329999953508377, 0.04410000145435333, -0.005400000140070915, -9.999999747378752e-05, 0.026399999856948853, 0.0015999999595806003, 0.008200000040233135, 0.020400000736117363, -0.045499999076128006, 0.09529999643564224, -9.999999747378752e-05, -0.0, -0.027899999171495438, -0.030400000512599945, -0.00839999970048666, 0.01489999983459711, 0.10499999672174454, -0.09430000185966492, -0.029600000008940697, -0.04809999838471413, 0.08110000193119049, -0.04619999974966049, -0.03370000049471855, 0.014399999752640724, -0.05380000174045563, -0.001500000013038516, -0.004999999888241291, 0.03150000050663948, 0.05739999935030937, -0.0017000000225380063, 0.019300000742077827, -0.039500001817941666, 0.05900000035762787, -0.01119999960064888, 0.027000000700354576, -0.0551999993622303, -0.09549999982118607, 0.08169999718666077, 0.0044999998062849045, 0.049400001764297485, -0.07119999825954437, 0.031700000166893005, -0.05829999968409538, -0.010300000198185444, -0.051500000059604645, 0.026200000196695328, 0.021700000390410423, 0.06369999796152115, -0.003800000064074993, -0.01590000092983246, -0.05480000004172325, -0.009700000286102295, 0.1453000009059906, 0.028999999165534973, -0.014399999752640724, -0.07050000131130219, 0.043699998408555984, 0.023600000888109207, 0.01640000008046627, -0.05180000141263008, 0.027300000190734863, 0.06310000270605087, 0.010499999858438969, 0.0034000000450760126, -0.047200001776218414, -0.13169999420642853, 0.01140000019222498, 0.06419999897480011, 0.062199998646974564, -0.09210000187158585, 0.01600000075995922, 0.0860000029206276, 0.04809999838471413, -0.023600000888109207, 0.008299999870359898, -0.06509999930858612, -0.05040000006556511, 0.012299999594688416, -0.03060000017285347, 0.052400000393390656, -0.05700000002980232, -0.016899999231100082, -0.006899999920278788, 0.03970000147819519, 0.0017999999690800905, 0.03840000182390213, -0.031099999323487282, -0.012299999594688416, -0.031599998474121094, 0.017400000244379044, -0.05400000140070915, 0.008100000210106373, -0.09440000355243683, 0.05609999969601631, -0.013799999840557575, -0.005900000222027302, 0.04690000042319298, 0.05979999899864197, 0.000699999975040555, 0.010999999940395355, 0.03189999982714653, 0.007699999958276749, 0.025599999353289604, -0.07989999651908875, 0.10649999976158142, 0.0008999999845400453, 0.010099999606609344, -0.020800000056624413, 0.009600000455975533, -0.050200000405311584, 0.029100000858306885, 0.10760000348091125, -0.021199999377131462, 0.0003000000142492354, 0.0421999990940094, 0.04230000078678131, 0.09600000083446503, 0.0421999990940094, -0.02590000070631504, -0.0471000000834465, 0.01119999960064888, -0.028999999165534973, 0.047200001776218414, -0.030700000002980232, -0.1216999962925911, 0.026599999517202377, 0.051899999380111694, 0.021700000390410423, -0.016100000590085983, -0.02710000053048134, 0.07090000063180923, -0.10289999842643738, 0.03229999914765358, -0.0015999999595806003, -0.005799999926239252, -0.015399999916553497, -0.07360000163316727, -0.0052999998442828655, -0.07329999655485153, 0.0729999989271164, 0.03830000013113022, -0.06909999996423721, -0.01510000042617321, -0.018200000748038292, 0.03220000118017197, -0.09790000319480896, 0.019999999552965164, 0.07999999821186066, 0.03909999877214432, -0.020099999383091927, -0.04780000075697899, -0.06300000101327896, -0.016100000590085983, 0.06430000066757202, -0.011800000444054604, -0.029200000688433647, -0.09799999743700027, -0.1543000042438507, 0.08399999886751175, 0.038600001484155655, 0.016899999231100082, 0.03290000185370445, -0.033900000154972076, 0.06289999932050705, 0.04430000111460686, -0.008700000122189522, -0.08190000057220459, 0.023099999874830246, 0.04619999974966049, -0.039000000804662704, 0.005400000140070915, -0.07620000094175339, 0.045899998396635056, -0.021199999377131462, -0.08129999786615372, -0.0027000000700354576, -0.05260000005364418, -0.030500000342726707, 0.08139999955892563, -0.05990000069141388, 0.0066999997943639755, -0.06970000267028809, -0.09430000185966492, 0.021700000390410423, 0.03519999980926514, -0.057500001043081284, 0.03500000014901161, 0.00019999999494757503, -0.06400000303983688, -9.999999747378752e-05, -0.0551999993622303, -0.06469999998807907, 0.03830000013113022, -0.009999999776482582, 0.05009999871253967, 0.02979999966919422, 0.000699999975040555, 0.03669999912381172, -0.03440000116825104, -0.14650000631809235, 0.053199999034404755, 0.02969999983906746, -0.08420000225305557, -0.028300000354647636, -0.029200000688433647, -0.002400000113993883, 0.027499999850988388, -0.0052999998442828655, -0.0820000022649765, -0.04520000144839287, 0.03970000147819519, 0.04410000145435333, -0.030500000342726707, -0.09889999777078629, -0.04859999939799309, 0.05220000073313713], [-0.13809999823570251, 0.12809999287128448, 0.03920000046491623, 0.0658000037074089, -0.16339999437332153, 0.032099999487400055, -0.15620000660419464, 0.13349999487400055, -0.1274999976158142, -0.41359999775886536, 0.07400000095367432, -0.04619999974966049, -0.19979999959468842, -0.02329999953508377, 0.24269999563694, -0.12070000171661377, 0.13249999284744263, -0.21230000257492065, 0.14579999446868896, 0.46219998598098755, 0.0771000012755394, 0.039500001817941666, -0.04740000143647194, 0.0414000004529953, -0.21170000731945038, 0.003700000001117587, -0.07649999856948853, 0.07680000364780426, 0.18469999730587006, -0.08560000360012054, -0.0034000000450760126, -0.08320000022649765, 0.3427000045776367, 0.3431999981403351, -0.03579999879002571, 0.0575999990105629, -0.08889999985694885, -0.10289999842643738, 0.10930000245571136, -0.006300000008195639, 0.5152999758720398, 0.25540000200271606, 0.059700001031160355, 0.06620000302791595, 0.025699999183416367, 0.08510000258684158, 0.10930000245571136, -0.17820000648498535, -0.1088000014424324, -0.00559999980032444, -0.030400000512599945, -0.1145000010728836, 0.290800005197525, 0.039400000125169754, -0.009100000374019146, -0.06949999928474426, 0.01720000058412552, -0.397599995136261, -0.5232999920845032, 0.10429999977350235, -0.23520000278949738, 0.18619999289512634, -0.22789999842643738, -0.03200000151991844, 0.364300012588501, 0.023499999195337296, 0.22190000116825104, 0.002099999925121665, 0.1371999979019165, -0.08479999750852585, -0.001500000013038516, 0.09510000050067902, 0.14900000393390656, -0.11569999903440475, -0.12770000100135803, -0.16279999911785126, -0.30090001225471497, -0.08209999650716782, 0.40070000290870667, 0.18080000579357147, -0.23229999840259552, 0.34529998898506165, -0.04650000110268593, 0.05640000104904175, 0.002099999925121665, -0.04839999973773956, -0.06800000369548798, 0.07289999723434448, 0.20000000298023224, 0.1200999990105629, -0.25859999656677246, 0.05689999833703041, 0.2168000042438507, 0.04149999842047691, -0.017500000074505806, 0.005499999970197678, -0.1023000031709671, 0.030799999833106995, 0.02070000022649765, -0.2190999984741211, 0.012299999594688416, -0.44749999046325684, -0.18459999561309814, -0.15889999270439148, -0.11129999905824661, -0.07850000262260437, -0.1589999943971634, 0.10220000147819519, -0.015399999916553497, -0.2176000028848648, 0.17159999907016754, -0.05990000069141388, 0.12549999356269836, -0.045899998396635056, -0.08209999650716782, 0.0203000009059906, -0.3012999892234802, 0.065700002014637, 0.03799999877810478, -0.03449999913573265, 0.3248000144958496, 0.44589999318122864, -0.12210000306367874, -0.031199999153614044, -0.15230000019073486, -0.15680000185966492, -0.050999999046325684, 0.09149999916553497, 0.23409999907016754, -0.023800000548362732, 0.012199999764561653, 0.0917000025510788, 0.22280000150203705, -0.11339999735355377, -0.1429000049829483, -0.2529999911785126, -0.25519999861717224, 0.0771000012755394, 0.1388999968767166, 0.11209999769926071, -0.6274999976158142, 0.6290000081062317, -0.10859999805688858, 0.10769999772310257, 0.17870000004768372, -0.04569999873638153, -0.10700000077486038, -0.09790000319480896, 0.1615000069141388, -1.2373000383377075, -0.1678999960422516, -0.15230000019073486, 0.010099999606609344, -0.15549999475479126, -0.2721000015735626, 0.12919999659061432, 0.1242000013589859, -0.14159999787807465, 0.3257000148296356, 0.060100000351667404, -0.19750000536441803, -0.017799999564886093, 0.06939999759197235, -0.31369999051094055, 0.05180000141263008, 0.13429999351501465, -0.2498999983072281, 0.04170000180602074, -0.7875999808311462, 0.21619999408721924, -0.11550000309944153, -0.08150000125169754, 0.027499999850988388, 0.24549999833106995, -0.26170000433921814, 0.034299999475479126, 0.17870000004768372, -0.29429998993873596, -0.2847000062465668, 0.14810000360012054, 0.2540999948978424, -0.46619999408721924, 0.1664000004529953, -0.20280000567436218, -0.08959999680519104, -0.11990000307559967, 0.07159999758005142, -0.014999999664723873, 0.15790000557899475, 0.23350000381469727, -0.02280000038444996, 0.035100001841783524, 0.23649999499320984, 0.2298000007867813, -0.11900000274181366, -0.1379999965429306, -0.219200000166893, -0.47130000591278076, -0.010099999606609344, 0.1054999977350235, 0.29670000076293945, -0.11270000040531158, -0.14169999957084656, 0.017999999225139618, -0.006899999920278788, -1.0657999515533447, -0.28040000796318054, -0.1597999930381775, -0.1501999944448471, 0.07419999688863754, -0.11479999870061874, -0.1996999979019165, -0.13590000569820404, -0.2126999944448471, -0.32589998841285706, -0.0006000000284984708, -0.06599999964237213, 0.08240000158548355, 0.011300000362098217, 0.11209999769926071, -0.156700000166893, -0.17550000548362732, -0.05869999900460243, 0.28610000014305115, 0.2540999948978424, -0.37599998712539673, -0.1005999967455864, 0.164000004529953, 0.26420000195503235, -0.5575000047683716, 0.07010000199079514, -0.36410000920295715, -0.048500001430511475, -0.2371000051498413, 0.045099999755620956, 0.006300000008195639, -0.08789999783039093, 0.10339999943971634, 0.37959998846054077, -0.22089999914169312, -0.12549999356269836, -0.03840000182390213, 0.29330000281333923, -0.026599999517202377, -0.33889999985694885, 0.1858000010251999, -0.19750000536441803, 0.05380000174045563, -0.05829999968409538, -0.39399999380111694, 0.19259999692440033, -0.2727999985218048, 0.06499999761581421, 0.3237000107765198, -0.16670000553131104, -0.23569999635219574, 0.06129999831318855, -0.12929999828338623, -0.12200000137090683, -0.19769999384880066, -0.18970000743865967, 0.0421999990940094, 0.013500000350177288, 0.3190999925136566, 0.08299999684095383, -0.29409998655319214, 0.1331000030040741, 0.08820000290870667, -0.22630000114440918, -0.18940000236034393, 0.04899999871850014, -0.1023000031709671, 0.8287000060081482, -0.1527000069618225, 0.14309999346733093, -0.24969999492168427, 0.13230000436306, 0.24140000343322754, 0.07689999788999557, -0.02800000086426735, -0.18170000612735748, 0.3490999937057495, -0.042100001126527786, -0.7526000142097473, 0.16339999437332153, 0.023800000548362732, 0.28839999437332153, -0.30959999561309814, -0.28439998626708984, -0.052000001072883606, -0.02539999969303608, -0.08320000022649765, 0.17239999771118164, -0.030300000682473183, -0.18860000371932983, 0.07150000333786011, -0.024900000542402267, 0.36149999499320984, 0.3203999996185303, 0.02539999969303608], [0.039500001817941666, -0.010400000028312206, 0.028200000524520874, 0.016499999910593033, 0.07159999758005142, -0.0414000004529953, -0.019500000402331352, -0.08229999989271164, -0.04270000010728836, -0.18410000205039978, -0.038600001484155655, 0.006399999838322401, -0.07779999822378159, -0.05380000174045563, -0.04280000180006027, 0.07029999792575836, 0.010999999940395355, 0.17630000412464142, 0.03020000085234642, 0.043699998408555984, -0.05660000070929527, -0.016100000590085983, 0.004600000102072954, 0.022299999371170998, 0.033900000154972076, 0.03959999978542328, -0.041600000113248825, 0.023900000378489494, -0.03920000046491623, -0.02290000021457672, 0.06859999895095825, -0.023800000548362732, -0.03680000081658363, -0.03150000050663948, 0.006200000178068876, 0.07959999889135361, -0.024900000542402267, -0.05389999970793724, -0.07989999651908875, -0.008999999612569809, -0.027799999341368675, 0.07020000368356705, -0.10869999974966049, -0.003700000001117587, 0.060100000351667404, -0.01860000006854534, -0.004900000058114529, 0.005200000014156103, -0.019600000232458115, -0.01679999940097332, -0.013500000350177288, -0.05689999833703041, -0.014700000174343586, 0.061900001019239426, -0.024299999698996544, 0.07760000228881836, 0.004000000189989805, 0.07739999890327454, -0.10140000283718109, 0.07959999889135361, -0.03830000013113022, -0.012799999676644802, -0.0925000011920929, -0.10859999805688858, -0.04470000043511391, -0.07500000298023224, 0.04170000180602074, -0.17479999363422394, 0.02280000038444996, 0.0203000009059906, -0.005100000184029341, 0.06199999898672104, -0.006200000178068876, 0.02759999968111515, 0.0731000006198883, 0.05700000002980232, 0.006399999838322401, -0.027699999511241913, -0.01640000008046627, 0.013000000268220901, -0.003800000064074993, 0.01810000091791153, -0.013500000350177288, 0.040800001472234726, 0.051500000059604645, -0.0406000018119812, 0.018400000408291817, 0.07490000128746033, 0.00430000014603138, -0.03189999982714653, -0.012299999594688416, 0.019999999552965164, -0.028200000524520874, 0.013500000350177288, 0.012299999594688416, 0.06310000270605087, -0.06080000102519989, 0.03739999979734421, -0.05770000070333481, -0.030500000342726707, 0.08380000293254852, -0.05469999834895134, -0.06650000065565109, 0.00800000037997961, -0.004100000020116568, -0.06109999865293503, 0.015200000256299973, -0.026599999517202377, -0.03920000046491623, 0.01549999974668026, 0.0032999999821186066, -0.09149999916553497, -0.013299999758601189, -0.01140000019222498, 0.10999999940395355, -0.008200000040233135, -0.09220000356435776, 0.014000000432133675, -0.030500000342726707, -0.04259999841451645, -0.003100000089034438, -0.08780000358819962, 0.0012000000569969416, -0.015799999237060547, -0.016200000420212746, 0.09139999747276306, -0.00839999970048666, -0.08389999717473984, 0.06920000165700912, 0.003599999938160181, 0.09860000014305115, -0.014800000004470348, -0.027899999171495438, 0.05290000140666962, -0.03370000049471855, -0.08489999920129776, -0.03139999881386757, 0.0681999996304512, -0.06499999761581421, -0.02319999970495701, 0.11699999868869781, -0.048900000751018524, 0.05860000103712082, -0.00279999990016222, -0.007300000172108412, 0.05490000173449516, -0.015200000256299973, 0.014700000174343586, -0.009200000204145908, -0.11620000004768372, 0.026499999687075615, -0.0722000002861023, 0.024900000542402267, -0.1281999945640564, 0.04179999977350235, 0.03150000050663948, -0.04010000079870224, 0.07020000368356705, 0.09629999846220016, -0.04809999838471413, -0.15449999272823334, -0.03689999878406525, 0.10920000076293945, -0.053599998354911804, 0.016599999740719795, -0.039900001138448715, 0.023000000044703484, 0.0215000007301569, -0.027699999511241913, 0.00800000037997961, 0.027499999850988388, -0.005900000222027302, -0.01769999973475933, -0.00930000003427267, -0.02459999918937683, -0.02290000021457672, -0.12129999697208405, 0.014100000262260437, -0.03689999878406525, -0.00930000003427267, 0.1046999990940094, -0.08209999650716782, 0.0010999999940395355, -0.014399999752640724, 0.10429999977350235, -0.04170000180602074, -0.04490000009536743, -0.008100000210106373, -0.0658000037074089, -0.03550000116229057, 0.05169999971985817, -0.013500000350177288, 0.04399999976158142, -0.07530000060796738, -0.015799999237060547, 0.058400001376867294, 0.06019999831914902, -0.028300000354647636, 0.046799998730421066, -0.06970000267028809, -0.009600000455975533, 0.031700000166893005, -0.0714000016450882, -0.009600000455975533, 0.030300000682473183, -0.04699999839067459, 0.06939999759197235, -0.019600000232458115, -0.016899999231100082, 0.025800000876188278, 0.04520000144839287, 0.04619999974966049, 0.04839999973773956, -0.0012000000569969416, -0.058800000697374344, -0.08020000159740448, -0.013399999588727951, 0.007699999958276749, -0.12960000336170197, -0.023399999365210533, 0.062199998646974564, -0.020999999716877937, 0.07490000128746033, 0.019899999722838402, -0.008999999612569809, 0.019999999552965164, 0.03440000116825104, 0.044599998742341995, -0.07329999655485153, -0.08139999955892563, -0.06400000303983688, -0.08619999885559082, 0.027000000700354576, -0.03700000047683716, 0.006099999882280827, -0.027699999511241913, -0.08649999648332596, 0.06639999896287918, -0.017999999225139618, 0.007400000002235174, -0.014800000004470348, 0.009600000455975533, 0.031300000846385956, 0.03420000150799751, -0.07249999791383743, 0.056299999356269836, 0.020099999383091927, -0.04490000009536743, -0.028699999675154686, 0.004100000020116568, -0.03620000183582306, -0.037300001829862595, 0.012199999764561653, 0.039000000804662704, -0.09210000187158585, 0.11590000241994858, -0.07410000264644623, -0.03819999843835831, 0.08789999783039093, -0.020500000566244125, 0.05310000106692314, 0.060499999672174454, -0.05339999869465828, -0.09910000115633011, 0.012799999676644802, -0.010400000028312206, 0.017999999225139618, -0.013700000010430813, 0.03020000085234642, -0.03449999913573265, 0.006099999882280827, 0.0019000000320374966, -0.026599999517202377, 0.02319999970495701, 0.0032999999821186066, -0.0017000000225380063, -0.03660000115633011, 0.01119999960064888, -0.005400000140070915, -0.030400000512599945, -0.08969999849796295, 0.10199999809265137, -0.0052999998442828655, -0.014999999664723873, 0.004900000058114529, 0.029899999499320984, -0.045499999076128006, 0.07400000095367432, -0.07919999957084656, -0.013500000350177288, 0.012500000186264515, -0.021800000220537186, 0.008700000122189522, 0.03700000047683716, 0.010099999606609344, 0.02500000037252903, -0.019099999219179153, -0.0010999999940395355, 0.08789999783039093, 0.00989999994635582], [-0.0066999997943639755, 0.02979999966919422, 0.00559999980032444, 0.013199999928474426, 0.01720000058412552, 0.019899999722838402, 0.028999999165534973, -0.11540000140666962, 0.012000000104308128, -0.14470000565052032, -0.014100000262260437, 0.06469999998807907, -0.009399999864399433, 0.04230000078678131, -0.02160000056028366, -0.04349999874830246, -0.00559999980032444, 0.014999999664723873, 0.03720000013709068, 0.03020000085234642, 0.01489999983459711, -0.05829999968409538, -0.04580000042915344, 0.004399999976158142, 0.0203000009059906, 0.03440000116825104, -0.0731000006198883, 0.04490000009536743, -0.10679999738931656, 0.03709999844431877, -0.023600000888109207, -0.008700000122189522, -0.05249999836087227, 0.04969999939203262, 0.025599999353289604, 0.004800000227987766, -0.0430000014603138, 0.028300000354647636, -0.10520000010728836, -0.05469999834895134, -0.07599999755620956, 0.00019999999494757503, -0.03970000147819519, -0.03999999910593033, 0.014700000174343586, 0.03189999982714653, 0.026100000366568565, 0.008700000122189522, -0.015799999237060547, 0.01140000019222498, 0.01489999983459711, -0.1492999941110611, 0.03530000150203705, 0.004000000189989805, 0.013899999670684338, 0.06780000030994415, -0.02070000022649765, 0.0333000011742115, -0.15530000627040863, -0.039799999445676804, -0.01209999993443489, -0.08269999921321869, -0.08730000257492065, 0.02930000051856041, 0.023000000044703484, 0.0272000003606081, 0.025299999862909317, -0.04960000142455101, 0.044599998742341995, -0.015399999916553497, 0.002099999925121665, -0.012900000438094139, -0.00019999999494757503, -0.0007999999797903001, -0.0333000011742115, 0.05959999933838844, 0.01979999989271164, 0.000699999975040555, -0.05909999832510948, -0.00930000003427267, 0.03550000116229057, -0.1388999968767166, -0.011800000444054604, 0.017000000923871994, -0.034299999475479126, -0.03759999945759773, -0.00419999985024333, -0.037300001829862595, -0.016200000420212746, -0.04820000007748604, -0.09440000355243683, -0.01510000042617321, -0.040800001472234726, 0.024900000542402267, 0.0649000033736229, 0.05009999871253967, -0.013399999588727951, 0.0272000003606081, -0.04820000007748604, 0.061400000005960464, -0.010400000028312206, -0.024000000208616257, -0.021900000050663948, -0.028999999165534973, 0.030899999663233757, -0.09860000014305115, -0.03550000116229057, 0.053300000727176666, -0.08560000360012054, -0.013799999840557575, 0.033900000154972076, -0.018799999728798866, 0.04230000078678131, -0.032099999487400055, 0.023800000548362732, -0.03139999881386757, 0.013199999928474426, 0.01640000008046627, 0.01850000023841858, 0.0052999998442828655, 0.011800000444054604, -0.02370000071823597, -0.0035000001080334187, -0.05730000138282776, -0.09989999979734421, 0.10369999706745148, 0.023800000548362732, 0.010700000450015068, 0.04270000010728836, -0.012900000438094139, 0.08190000057220459, -0.022600000724196434, 0.04149999842047691, -0.0210999995470047, 0.03720000013709068, -0.08129999786615372, -0.019300000742077827, 0.02879999950528145, -0.03709999844431877, 0.0737999975681305, 0.0471000000834465, -0.029500000178813934, -0.014800000004470348, 0.016899999231100082, -0.009800000116229057, -0.024800000712275505, -0.029899999499320984, 0.023600000888109207, -0.06419999897480011, -0.13930000364780426, -0.06239999830722809, -0.0066999997943639755, 0.08179999887943268, -0.06120000034570694, -0.012000000104308128, 0.04439999908208847, 0.12099999934434891, 0.0803999975323677, -0.01860000006854534, 0.02370000071823597, 0.009700000286102295, -0.019600000232458115, 0.0608999989926815, -0.003599999938160181, -0.012199999764561653, -0.06360000371932983, 0.01850000023841858, -0.02500000037252903, 0.046300001442432404, -0.007600000128149986, 0.00860000029206276, 0.003700000001117587, -0.03849999979138374, 0.03830000013113022, -0.04340000078082085, 0.04089999943971634, -0.0007999999797903001, 0.018799999728798866, 0.022099999710917473, 0.03139999881386757, 0.0406000018119812, 0.04320000112056732, 0.004600000102072954, -0.09920000284910202, 0.12049999833106995, -0.015799999237060547, 0.018699999898672104, 0.044199999421834946, 0.014499999582767487, -0.06310000270605087, 0.05889999866485596, 0.03139999881386757, 0.02199999988079071, -0.04170000180602074, -0.010599999688565731, 0.013000000268220901, 0.017100000753998756, -0.06509999930858612, 0.051600001752376556, 0.05570000037550926, 0.07440000027418137, -0.03590000048279762, -0.03590000048279762, -0.05649999901652336, 0.0034000000450760126, -0.019099999219179153, 0.007799999788403511, -0.04699999839067459, -0.03920000046491623, -0.005499999970197678, 0.03200000151991844, 0.06970000267028809, -0.016899999231100082, 0.0035000001080334187, 0.052799999713897705, -0.12380000203847885, 0.04749999940395355, -0.04399999976158142, -0.0006000000284984708, -0.03229999914765358, -0.0032999999821186066, 0.008700000122189522, -0.005799999926239252, 0.0364999994635582, 0.07109999656677246, -0.0203000009059906, 0.05000000074505806, -0.006599999964237213, 0.011500000022351742, -0.015399999916553497, 0.0032999999821186066, -0.07850000262260437, 0.1428000032901764, 0.01119999960064888, -0.013799999840557575, 0.07249999791383743, -0.1054999977350235, -0.05609999969601631, -0.009200000204145908, 0.039900001138448715, -0.033399999141693115, -0.0010999999940395355, 0.07750000059604645, 0.016899999231100082, 0.028599999845027924, 0.023399999365210533, -0.009100000374019146, 0.07760000228881836, -0.000699999975040555, 0.05040000006556511, -0.05000000074505806, 0.05460000038146973, -0.09000000357627869, -0.04050000011920929, -0.06719999760389328, 0.13120000064373016, -0.019099999219179153, 0.06520000100135803, 0.03920000046491623, -0.052299998700618744, -0.03359999880194664, -0.0771000012755394, -0.021800000220537186, -0.04010000079870224, -0.03240000084042549, -0.01209999993443489, -0.04910000041127205, 0.019500000402331352, -0.03150000050663948, -0.025299999862909317, -0.08460000157356262, -0.05350000038743019, -0.04580000042915344, 0.010400000028312206, -0.05260000005364418, 0.016899999231100082, -0.0007999999797903001, -0.01979999989271164, 0.004699999932199717, 0.0340999998152256, -0.06480000168085098, 0.07429999858140945, -0.07479999959468842, -0.026200000196695328, -0.00039999998989515007, -0.034299999475479126, -0.05090000107884407, 0.019300000742077827, -0.0019000000320374966, 0.01080000028014183, -0.031099999323487282, -0.04879999905824661, -0.021800000220537186, -0.028699999675154686, -0.01119999960064888, 0.002400000113993883, -0.03849999979138374, -0.017100000753998756, -0.012199999764561653, 0.017000000923871994], [-0.0052999998442828655, -0.007699999958276749, 0.1875, 0.1818999946117401, 0.17630000412464142, 0.08550000190734863, 0.11720000207424164, 0.002199999988079071, 0.03480000048875809, -0.12809999287128448, -0.029200000688433647, -0.0348999984562397, 0.041999999433755875, 0.05270000174641609, 0.04830000177025795, -0.04100000113248825, -0.11429999768733978, -0.03180000185966492, 0.065700002014637, 0.13619999587535858, 0.09480000287294388, -0.041999999433755875, -0.09669999778270721, -0.04179999977350235, -0.09149999916553497, 0.08460000157356262, 0.13269999623298645, -0.11060000211000443, 0.07090000063180923, -0.13850000500679016, 0.1972000002861023, 0.1551000028848648, 0.05180000141263008, 0.007499999832361937, 0.08070000261068344, 0.09009999781847, 0.22939999401569366, -0.07649999856948853, -0.12439999729394913, 0.27880001068115234, -0.10899999737739563, 0.15240000188350677, -0.09120000153779984, -0.15219999849796295, -0.029400000348687172, -0.06279999762773514, -0.09430000185966492, 0.003700000001117587, -0.09839999675750732, -0.11559999734163284, 0.09109999984502792, -0.17110000550746918, 0.07569999992847443, 0.061000000685453415, 0.03440000116825104, 0.0738999992609024, -0.03629999980330467, -0.029100000858306885, -0.22759999334812164, -0.0019000000320374966, -0.12530000507831573, 0.00839999970048666, -0.05920000001788139, 0.1420000046491623, -0.04089999943971634, -0.21480000019073486, -0.08699999749660492, -0.21389999985694885, 0.04650000110268593, -0.03180000185966492, 0.11580000072717667, 0.00430000014603138, -0.031700000166893005, -0.04800000041723251, -0.13079999387264252, 0.11720000207424164, 0.20180000364780426, 0.07689999788999557, 0.15800000727176666, 0.07819999754428864, 0.07580000162124634, -0.2093999981880188, -0.021700000390410423, 0.10530000180006027, -0.0989999994635582, 0.06889999657869339, -0.004900000058114529, -0.10750000178813934, 0.039500001817941666, -0.10320000350475311, -0.0502999983727932, -0.07090000063180923, 0.015300000086426735, 0.0877000018954277, 0.033900000154972076, -0.1826999932527542, 0.07750000059604645, -0.09099999815225601, 0.12970000505447388, -0.09929999709129333, -0.008200000040233135, -0.20669999718666077, 0.009399999864399433, -0.15929999947547913, 0.258899986743927, -0.08839999884366989, 0.12160000205039978, 0.16259999573230743, -0.4487999975681305, -0.006399999838322401, -0.30489999055862427, -0.060499999672174454, 0.030700000002980232, 0.006099999882280827, 0.03290000185370445, -0.053300000727176666, -0.03099999949336052, 0.02539999969303608, 0.15680000185966492, -0.04670000076293945, -0.290800005197525, -0.13249999284744263, -0.12370000034570694, 0.05869999900460243, -0.12020000070333481, -0.07959999889135361, -0.0478999987244606, 0.052000001072883606, -0.27300000190734863, 0.23960000276565552, 0.0031999999191612005, 0.13860000669956207, 0.1225999966263771, 0.020600000396370888, -0.07699999958276749, 0.0778999999165535, 0.1762000024318695, 0.09570000320672989, -0.07370000332593918, -0.14949999749660492, -0.2621000111103058, -0.01850000023841858, 0.08349999785423279, -0.029600000008940697, 0.01810000091791153, -0.09799999743700027, 0.03790000081062317, 0.009100000374019146, 0.041099999099969864, -0.4690999984741211, 0.20520000159740448, 0.048900000751018524, 0.03420000150799751, -0.4973999857902527, -0.06480000168085098, 0.07959999889135361, 0.013899999670684338, -0.0640999972820282, -0.1454000025987625, -0.11410000175237656, -0.6424000263214111, 0.08479999750852585, 0.11890000104904175, -0.005200000014156103, -0.07750000059604645, -0.05909999832510948, -0.13840000331401825, -0.021900000050663948, -0.06989999860525131, 0.03620000183582306, -0.14949999749660492, 0.02250000089406967, -0.09030000120401382, -0.10760000348091125, -0.12559999525547028, -0.156700000166893, -0.1216999962925911, -0.10040000081062317, 0.005100000184029341, 0.011300000362098217, -0.15680000185966492, 0.2809000015258789, 0.2874000072479248, 0.0722000002861023, -0.14740000665187836, 0.026499999687075615, -0.11420000344514847, -0.0031999999191612005, 0.02879999950528145, 0.1632000058889389, 0.2012999951839447, 0.07880000025033951, 0.007199999876320362, 0.02410000003874302, -0.07760000228881836, 0.025699999183416367, -0.22599999606609344, -0.07339999824762344, -0.07199999690055847, 0.003100000089034438, -0.27090001106262207, -0.09700000286102295, -0.3774999976158142, 0.08110000193119049, -0.11150000244379044, -0.3327000141143799, 0.10999999940395355, -0.049400001764297485, -0.17010000348091125, 0.28929999470710754, 0.12200000137090683, 0.11050000041723251, -0.13830000162124634, -0.0005000000237487257, -0.056699998676776886, -0.09239999949932098, 0.10580000281333923, -0.018300000578165054, 0.01850000023841858, 0.04360000044107437, -0.039000000804662704, 0.11110000312328339, 0.024800000712275505, 0.3082999885082245, -0.05460000038146973, 0.12389999628067017, -0.0820000022649765, 0.0892999991774559, 0.03350000083446503, -0.050599999725818634, 0.10429999977350235, -0.04439999908208847, 0.1850000023841858, 0.06509999930858612, 0.13009999692440033, -0.007000000216066837, 0.020400000736117363, 0.04050000011920929, 0.12870000302791595, 0.037300001829862595, 0.15309999883174896, -0.20970000326633453, 0.12380000203847885, -0.13210000097751617, -0.02850000001490116, 0.1446000039577484, 0.04670000076293945, -0.12020000070333481, 0.12729999423027039, -0.31540000438690186, -0.05050000175833702, -0.013100000098347664, 0.07639999687671661, 0.08649999648332596, 0.39500001072883606, -0.12219999730587006, -0.10750000178813934, 0.1678999960422516, -0.014399999752640724, -0.11320000141859055, 0.219200000166893, -0.10459999740123749, 0.10170000046491623, -0.19990000128746033, 0.07050000131130219, -0.13259999454021454, 0.0027000000700354576, -0.1137000024318695, 0.0013000000035390258, -0.061799999326467514, 0.049400001764297485, -0.023099999874830246, 0.08110000193119049, 0.07509999722242355, -0.08179999887943268, -0.06840000301599503, -0.09189999848604202, 0.14110000431537628, 0.041200000792741776, -0.05990000069141388, 0.2987000048160553, 0.11559999734163284, 0.012400000356137753, -0.16179999709129333, 0.04399999976158142, 0.028200000524520874, -0.04610000178217888, -0.16290000081062317, -0.021900000050663948, -0.052000001072883606, -0.1876000016927719, 0.029999999329447746, -0.09520000219345093, 0.023000000044703484, -0.1266999989748001, -0.0982000008225441, -0.04360000044107437, 0.08410000056028366, -0.060100000351667404, 0.18129999935626984], [-0.042500000447034836, -0.06560000032186508, -0.07020000368356705, 0.07559999823570251, 0.045099999755620956, 0.021299999207258224, 0.023900000378489494, -0.08399999886751175, -0.028699999675154686, -0.14730000495910645, -0.08190000057220459, 0.08550000190734863, 0.011699999682605267, -0.013100000098347664, 0.1379999965429306, 0.006500000134110451, 0.12919999659061432, 0.06419999897480011, -0.023000000044703484, 0.10899999737739563, 0.0746999979019165, -0.0357000008225441, 0.01850000023841858, -0.05649999901652336, 0.05990000069141388, 0.0778999999165535, -0.06769999861717224, -0.0868000015616417, -0.008299999870359898, 0.003000000026077032, -0.09690000116825104, 0.07119999825954437, 0.09449999779462814, 0.09160000085830688, 0.1670999974012375, -0.02199999988079071, -0.016100000590085983, -0.133200004696846, -0.07620000094175339, 0.06159999966621399, 0.02969999983906746, 0.10599999874830246, 0.03590000048279762, -0.07620000094175339, 0.06949999928474426, 0.11190000176429749, 0.0007999999797903001, -0.04479999840259552, -0.003800000064074993, 0.020500000566244125, 0.04280000180006027, -0.1868000030517578, 0.03660000115633011, 0.03229999914765358, -0.02410000003874302, 0.060600001364946365, -0.0828000009059906, 0.4855000078678131, -0.21389999985694885, 0.08399999886751175, -0.06780000030994415, -0.022299999371170998, -0.1720000058412552, -0.02290000021457672, 0.04780000075697899, -0.131400004029274, -0.013399999588727951, -0.058800000697374344, -0.008200000040233135, -0.03420000150799751, 0.018699999898672104, 0.04639999940991402, 0.11169999837875366, 0.0414000004529953, -0.031099999323487282, 0.09749999642372131, -0.019899999722838402, -0.07339999824762344, 0.06109999865293503, 0.002400000113993883, 0.19499999284744263, -0.034699998795986176, -0.014600000344216824, 0.10100000351667404, 0.07999999821186066, 0.07010000199079514, -0.08129999786615372, -0.0697999969124794, 0.03370000049471855, -0.016100000590085983, 0.015799999237060547, 0.011900000274181366, -0.2554999887943268, -0.00139999995008111, 0.03889999911189079, 0.08540000021457672, -0.043800000101327896, -0.1459999978542328, 0.1128000020980835, -0.043699998408555984, 0.10000000149011612, -0.1257999986410141, -0.11729999631643295, -0.04989999905228615, 0.1882999986410141, -0.13670000433921814, -0.07999999821186066, 0.14900000393390656, -0.26499998569488525, -0.03310000151395798, 0.027000000700354576, 0.010400000028312206, 0.0019000000320374966, -0.04259999841451645, 0.040300000458955765, -0.08179999887943268, -0.0649000033736229, -0.02850000001490116, 0.45829999446868896, -0.08869999647140503, -0.10830000042915344, -0.2345000058412552, -0.00139999995008111, 0.08470000326633453, -0.01730000041425228, 0.050200000405311584, -0.08820000290870667, -0.0763000026345253, -0.004699999932199717, -0.06030000001192093, 0.06560000032186508, 0.07360000163316727, -0.050999999046325684, -0.08950000256299973, 0.002899999963119626, 0.018300000578165054, -0.0551999993622303, 0.05350000038743019, -0.010099999606609344, 0.026100000366568565, -0.05119999870657921, 0.07580000162124634, 0.09719999879598618, 0.007699999958276749, 0.02710000053048134, 0.08910000324249268, 0.03849999979138374, 0.012199999764561653, 0.061000000685453415, -0.38089999556541443, 0.02449999935925007, -0.05169999971985817, 0.05249999836087227, -0.21250000596046448, -0.025800000876188278, 0.14560000598430634, -0.03449999913573265, -0.009200000204145908, 0.010499999858438969, 0.07729999721050262, -0.28929999470710754, 0.07109999656677246, 0.007499999832361937, 0.00019999999494757503, -0.10239999741315842, -0.025699999183416367, -0.1023000031709671, -0.011599999852478504, 0.040300000458955765, 0.13199999928474426, -0.03480000048875809, 0.05820000171661377, -0.05420000106096268, -0.09730000048875809, 0.02449999935925007, 0.0560000017285347, -0.06920000165700912, 0.054099999368190765, -0.17659999430179596, 0.12240000069141388, 0.0471000000834465, 0.26919999718666077, 0.15240000188350677, -0.13750000298023224, -0.05380000174045563, -0.0869000032544136, 0.02370000071823597, -0.18639999628067017, 0.10050000250339508, 0.04170000180602074, 0.10679999738931656, -0.013700000010430813, -0.11050000041723251, -0.054099999368190765, -0.010700000450015068, 0.015200000256299973, -0.043299999088048935, -0.1712000072002411, 0.005900000222027302, -0.03849999979138374, -0.060499999672174454, -0.024800000712275505, -0.1509000062942505, 0.044199999421834946, -0.000699999975040555, -0.2768999934196472, -0.004900000058114529, -0.14550000429153442, -0.23549999296665192, 0.06530000269412994, 0.15809999406337738, 0.12200000137090683, -0.009200000204145908, -0.08340000361204147, -0.025499999523162842, -0.09319999814033508, -0.01810000091791153, 0.05299999937415123, 0.022199999541044235, 0.047200001776218414, -0.06319999694824219, 0.061500001698732376, 0.07479999959468842, 0.059700001031160355, -0.02500000037252903, 0.02239999920129776, -0.08479999750852585, -0.020500000566244125, 0.12070000171661377, -0.09830000251531601, -0.01360000018030405, 0.03620000183582306, 0.05169999971985817, 0.018400000408291817, -0.0925000011920929, 0.055399999022483826, 0.14270000159740448, -0.013100000098347664, 0.013500000350177288, -0.04540000110864639, -0.042899999767541885, -0.22130000591278076, 0.08799999952316284, -0.11890000104904175, -0.06870000064373016, 0.03229999914765358, -0.00419999985024333, 0.03779999911785126, -0.019500000402331352, -0.16220000386238098, -0.0364999994635582, 0.005100000184029341, 0.05380000174045563, 0.0658000037074089, 0.10750000178813934, -0.01510000042617321, -0.035999998450279236, 0.03099999949336052, 0.0502999983727932, 0.01549999974668026, -0.05590000003576279, 0.07490000128746033, 0.13279999792575836, -0.3012999892234802, 0.06780000030994415, 0.03350000083446503, -0.11289999634027481, 0.050999999046325684, 0.05620000138878822, 0.026799999177455902, 0.08889999985694885, -0.018799999728798866, -0.1251000016927719, 0.0052999998442828655, 0.017500000074505806, -0.009800000116229057, -0.02019999921321869, 0.06350000202655792, 0.053199999034404755, 0.023399999365210533, 0.054099999368190765, 0.07069999724626541, -0.041099999099969864, -0.07180000096559525, -0.0010000000474974513, -0.013799999840557575, 0.09200000017881393, -0.13269999623298645, 0.012199999764561653, 0.016499999910593033, -0.006399999838322401, -0.06400000303983688, -0.09059999883174896, 0.012400000356137753, -0.034299999475479126, -0.07620000094175339, 0.03319999948143959, -0.03869999945163727, -0.08869999647140503, 0.08340000361204147], [-0.06870000064373016, 0.1378999948501587, -0.1906999945640564, -0.004999999888241291, 0.02810000069439411, 0.029400000348687172, -0.05719999969005585, -0.009700000286102295, -0.09749999642372131, -0.14560000598430634, -0.12449999898672104, 0.05979999899864197, -0.006599999964237213, -0.054999999701976776, 0.1623000055551529, -0.015399999916553497, 0.04500000178813934, 0.019200000911951065, -0.07039999961853027, 0.2401999980211258, 0.13009999692440033, 0.049400001764297485, 0.04699999839067459, -0.09470000118017197, -0.006099999882280827, -0.017999999225139618, 0.012199999764561653, -0.05339999869465828, -0.05609999969601631, 0.0340999998152256, 0.08789999783039093, 0.16210000216960907, 0.08969999849796295, 0.021199999377131462, 0.06859999895095825, 0.0738999992609024, 0.019099999219179153, -0.05090000107884407, 0.0005000000237487257, 0.09229999780654907, 0.27649998664855957, 0.24650000035762787, 0.051500000059604645, -0.06360000371932983, 0.048900000751018524, 0.0471000000834465, 0.013199999928474426, 0.01549999974668026, 0.043299999088048935, 0.1680999994277954, 0.23729999363422394, -0.10180000215768814, -0.012799999676644802, 0.05739999935030937, 0.0885000005364418, -0.014000000432133675, -0.09290000051259995, 0.1371999979019165, -0.26809999346733093, -0.03280000016093254, 0.08309999853372574, 0.16329999268054962, -0.304500013589859, -0.15160000324249268, 0.11110000312328339, -0.1949000060558319, -0.16619999706745148, 0.18389999866485596, -0.18870000541210175, -0.17720000445842743, -0.025699999183416367, 0.07670000195503235, -0.013299999758601189, 0.05480000004172325, -0.20090000331401825, 0.13230000436306, -0.00279999990016222, 0.01269999984651804, 0.033900000154972076, -0.013000000268220901, -0.07609999924898148, 0.007699999958276749, -0.01679999940097332, 0.16419999301433563, -0.0478999987244606, -0.05299999937415123, -0.1006999984383583, -0.09139999747276306, 0.06909999996423721, 0.12710000574588776, -0.09350000321865082, -0.0697999969124794, -0.07540000230073929, 0.0005000000237487257, 0.07699999958276749, 0.21799999475479126, 0.03449999913573265, -0.06759999692440033, 0.20430000126361847, 0.006899999920278788, 0.15770000219345093, -0.12389999628067017, -0.12449999898672104, -0.05730000138282776, 0.19789999723434448, -0.09809999912977219, -0.28760001063346863, 0.10429999977350235, -0.2354000061750412, 0.009399999864399433, 0.19380000233650208, 0.019500000402331352, -0.008200000040233135, -0.2565999925136566, 0.04410000145435333, -0.09179999679327011, 0.06319999694824219, -0.009700000286102295, 0.4821999967098236, -0.18330000340938568, -0.11829999834299088, -0.24120000004768372, -0.054099999368190765, -0.04879999905824661, -0.21250000596046448, -0.10509999841451645, -0.10320000350475311, -0.06210000067949295, -0.015300000086426735, 0.08590000122785568, -0.07199999690055847, 0.0706000030040741, -0.10329999774694443, -0.08980000019073486, 0.052400000393390656, 0.023000000044703484, 0.04479999840259552, -0.035599999129772186, 0.021700000390410423, -0.10140000283718109, 0.00930000003427267, 0.09099999815225601, 0.16680000722408295, -0.03020000085234642, 0.06880000233650208, 0.2085999995470047, -0.03240000084042549, 0.07859999686479568, -0.05389999970793724, -0.42579999566078186, -0.042899999767541885, -0.004399999976158142, 0.1949000060558319, -0.31369999051094055, 0.12970000505447388, 0.06669999659061432, -0.0803999975323677, -0.08479999750852585, 0.15889999270439148, 0.03060000017285347, -0.20000000298023224, 0.181099995970726, -0.0414000004529953, 0.05350000038743019, -0.1703999936580658, -0.008100000210106373, 0.024700000882148743, 0.004900000058114529, 0.2353000044822693, 0.17489999532699585, -0.04399999976158142, -0.03550000116229057, -0.07760000228881836, 0.061400000005960464, -0.029899999499320984, 0.0015999999595806003, 0.10520000010728836, 0.18050000071525574, -0.028999999165534973, -0.07649999856948853, -0.029600000008940697, 0.4424000084400177, 0.22920000553131104, -0.04820000007748604, 0.1006999984383583, 0.021400000900030136, -0.1096000000834465, -0.027899999171495438, 0.4934000074863434, 0.002400000113993883, 0.1720999926328659, -0.019999999552965164, -0.08030000329017639, -0.03350000083446503, 0.10339999943971634, 0.004399999976158142, -0.025299999862909317, 0.09049999713897705, 0.06019999831914902, -0.024399999529123306, 0.0860000029206276, -0.12780000269412994, -0.0729999989271164, -0.043699998408555984, 0.09380000084638596, -0.5522000193595886, 0.12520000338554382, -0.059700001031160355, -0.2921000123023987, 0.20919999480247498, 0.23880000412464142, 0.12150000035762787, -0.059300001710653305, -0.07930000126361847, -0.10279999673366547, -0.15000000596046448, -0.16949999332427979, -0.05640000104904175, -0.10300000011920929, 0.01889999955892563, -0.016300000250339508, 0.11900000274181366, -0.04309999942779541, 0.13770000636577606, 0.07980000227689743, -0.09239999949932098, -0.0005000000237487257, 0.08669999986886978, 0.1088000014424324, 0.05460000038146973, -0.03909999877214432, -0.0869000032544136, 0.02319999970495701, 0.07840000092983246, -0.08129999786615372, 0.06199999898672104, -0.02500000037252903, 0.06369999796152115, 0.06809999793767929, -0.011900000274181366, 0.0215000007301569, -0.1835000067949295, 0.06419999897480011, -0.12290000170469284, -0.08500000089406967, 0.210099995136261, -0.14219999313354492, 0.03189999982714653, -0.211899995803833, -0.04969999939203262, -0.07989999651908875, -0.13289999961853027, 0.06809999793767929, 0.12950000166893005, 0.19099999964237213, 0.012299999594688416, -0.13940000534057617, 0.09640000015497208, 0.0997999981045723, -0.04230000078678131, -0.20200000703334808, 0.03310000151395798, 0.0478999987244606, -0.3382999897003174, -0.07699999958276749, -0.13809999823570251, -0.029200000688433647, 0.03229999914765358, -0.13050000369548798, -0.08240000158548355, 0.06610000133514404, 0.020099999383091927, -0.09350000321865082, 0.0803999975323677, -0.015200000256299973, -0.08720000088214874, 0.05920000001788139, 0.010999999940395355, -0.04600000008940697, -0.048900000751018524, 0.26429998874664307, 0.11940000206232071, 0.06379999965429306, -0.33090001344680786, 0.09269999712705612, 0.12309999763965607, -0.1031000018119812, -0.09570000320672989, 0.06239999830722809, 0.09730000048875809, 0.014800000004470348, 0.013700000010430813, -0.13230000436306, 0.02329999953508377, -0.15889999270439148, -0.006599999964237213, 0.10029999911785126, 0.06870000064373016, -0.17339999973773956, 0.18870000541210175], [-0.1363999992609024, 0.026900000870227814, 0.08389999717473984, -0.09589999914169312, 0.10080000013113022, 0.02500000037252903, -0.024000000208616257, -0.04800000041723251, 0.10109999775886536, -0.0019000000320374966, -0.09030000120401382, -0.041600000113248825, -0.013100000098347664, -0.06729999929666519, -0.15479999780654907, -0.0284000001847744, 0.1542000025510788, -0.07150000333786011, 0.17149999737739563, 0.16130000352859497, 0.10809999704360962, 0.11969999969005585, 0.08669999986886978, -0.0008999999845400453, -0.11299999803304672, 0.0406000018119812, 0.08560000360012054, -0.08640000224113464, -0.039799999445676804, 0.020600000396370888, 0.03799999877810478, 0.2312999963760376, 0.08049999922513962, -0.08860000222921371, -0.10949999839067459, -0.07010000199079514, 0.09279999881982803, -0.06560000032186508, -0.049300000071525574, 0.08299999684095383, 0.27950000762939453, 0.11659999936819077, 0.06199999898672104, -0.014600000344216824, 0.11869999766349792, -0.11079999804496765, -0.2320999950170517, 0.053700000047683716, -0.015200000256299973, -0.07479999959468842, -0.14509999752044678, -0.09880000352859497, 0.05779999867081642, 0.004399999976158142, -0.08370000123977661, -0.039500001817941666, 0.15880000591278076, 0.19259999692440033, -0.39469999074935913, 0.019300000742077827, -0.3346000015735626, -0.0010999999940395355, -0.061000000685453415, 0.08829999715089798, 0.04010000079870224, 0.11729999631643295, 0.2312999963760376, 0.1736000031232834, 0.14110000431537628, -0.0012000000569969416, -0.11079999804496765, 0.1459999978542328, 0.03229999914765358, -0.05920000001788139, -0.06650000065565109, 0.05009999871253967, -0.0957999974489212, 0.08250000327825546, 0.02250000089406967, 0.20739999413490295, -0.2777999937534332, -0.11249999701976776, 0.19130000472068787, -0.11909999698400497, 0.08730000257492065, -0.048700001090765, -0.06989999860525131, -0.031599998474121094, 0.000699999975040555, 0.0406000018119812, -0.11079999804496765, 0.028300000354647636, -0.0421999990940094, 0.031300000846385956, 0.07199999690055847, -0.21400000154972076, -0.03620000183582306, -0.04879999905824661, 0.2459000051021576, -0.08760000020265579, 0.3174999952316284, 0.03229999914765358, -0.024700000882148743, -0.04899999871850014, -0.04560000076889992, -0.013700000010430813, 0.07370000332593918, -0.005900000222027302, -0.16750000417232513, -0.25270000100135803, 0.07329999655485153, 0.0494999997317791, -0.11860000342130661, 0.07460000365972519, 0.09870000183582306, -0.019999999552965164, -0.06729999929666519, -0.10939999669790268, -0.0917000025510788, -0.04309999942779541, -0.3176000118255615, -0.20800000429153442, 0.023800000548362732, -0.007000000216066837, -0.22089999914169312, 0.08990000188350677, -0.0820000022649765, -0.12240000069141388, -0.10329999774694443, -0.04270000010728836, -0.02969999983906746, -0.07349999994039536, -0.047200001776218414, 0.11349999904632568, 0.020099999383091927, 0.07100000232458115, 0.0071000000461936, 0.03530000150203705, 0.018799999728798866, -0.10480000078678131, -0.2842999994754791, 0.1111999973654747, 0.00279999990016222, -0.016100000590085983, -0.012500000186264515, -0.10689999908208847, 0.057500001043081284, 0.0771000012755394, 0.19370000064373016, -0.715399980545044, -0.03350000083446503, 0.10970000177621841, 0.03550000116229057, 0.007199999876320362, -0.0697999969124794, 0.16290000081062317, -0.13109999895095825, 0.1428000032901764, -0.0203000009059906, 0.06880000233650208, 0.2393999993801117, -0.06279999762773514, 0.07970000058412552, 0.2021999955177307, 0.006099999882280827, 0.015699999406933784, -0.01720000058412552, -0.021700000390410423, -0.02410000003874302, 0.0786999985575676, 0.020400000736117363, 0.042500000447034836, 0.0706000030040741, 0.19419999420642853, 0.10570000112056732, -0.019600000232458115, 0.03819999843835831, -0.08309999853372574, -0.15360000729560852, 0.11720000207424164, 0.10450000315904617, -0.18639999628067017, -0.15929999947547913, 0.018799999728798866, -0.024399999529123306, 0.052400000393390656, 0.00860000029206276, -0.1469999998807907, -0.039400000125169754, -0.0019000000320374966, 0.04919999837875366, -0.02280000038444996, -0.1274999976158142, 0.2994000017642975, -0.10180000215768814, 0.0575999990105629, -0.014700000174343586, -0.11760000139474869, 0.013799999840557575, 0.2125999927520752, -0.260699987411499, -0.10260000079870224, 0.11180000007152557, -0.011699999682605267, 0.030400000512599945, -1.1979000568389893, -0.0024999999441206455, -0.02969999983906746, -0.27230000495910645, -0.052000001072883606, 0.15889999270439148, -0.13359999656677246, -0.026799999177455902, 0.004600000102072954, -0.12349999696016312, 0.04179999977350235, -0.0026000000070780516, -0.08940000087022781, 0.1046999990940094, -0.28299999237060547, 0.24269999563694, -0.02290000021457672, 0.06549999862909317, 0.5468999743461609, -0.046300001442432404, -0.019999999552965164, -0.026499999687075615, -0.09759999811649323, -0.20479999482631683, -0.04390000179409981, 0.09059999883174896, 0.047200001776218414, -0.11969999969005585, 0.09920000284910202, 0.013799999840557575, -0.01769999973475933, 0.12070000171661377, -0.01119999960064888, -0.09189999848604202, -0.053199999034404755, -0.012900000438094139, 0.1655000001192093, 0.037700001150369644, -0.06210000067949295, 0.2378000020980835, -0.041200000792741776, 0.0632999986410141, 0.025599999353289604, 0.11140000075101852, -0.0828000009059906, 0.02979999966919422, -0.008200000040233135, 0.01549999974668026, 0.026000000536441803, -0.0006000000284984708, -0.0892999991774559, -0.02930000051856041, 0.023800000548362732, 0.12559999525547028, 0.06589999794960022, -0.09600000083446503, 0.04399999976158142, 0.02669999934732914, 0.156700000166893, 0.009999999776482582, -0.021700000390410423, -0.04610000178217888, -0.03400000184774399, -0.12060000002384186, -0.040800001472234726, -0.002300000051036477, 0.0794999971985817, -0.01080000028014183, -0.10599999874830246, -0.023499999195337296, 0.05389999970793724, -0.1046999990940094, -0.11879999935626984, 0.012299999594688416, 0.01140000019222498, 0.1809999942779541, -0.011099999770522118, -0.004999999888241291, 0.04839999973773956, 0.004100000020116568, -0.11330000311136246, -0.011699999682605267, -0.5521000027656555, -0.06549999862909317, -0.04560000076889992, -0.02459999918937683, -0.023800000548362732, 0.09640000015497208, -0.09229999780654907, -0.027499999850988388, 0.037700001150369644, 0.03440000116825104, 0.07569999992847443, -0.1145000010728836, -0.32339999079704285], [-0.003100000089034438, 0.020999999716877937, -0.013000000268220901, 0.052000001072883606, 0.019200000911951065, 0.04780000075697899, -0.023099999874830246, -0.02590000070631504, -0.041600000113248825, -0.012400000356137753, -0.0019000000320374966, 0.006300000008195639, -0.006899999920278788, 0.05090000107884407, 0.000699999975040555, 0.00430000014603138, 0.007000000216066837, 0.0044999998062849045, -0.0007999999797903001, 0.035999998450279236, 0.014399999752640724, 0.005499999970197678, -0.031199999153614044, -0.00860000029206276, 0.0024999999441206455, -0.002899999963119626, -0.03779999911785126, -0.04619999974966049, -0.003700000001117587, -0.01769999973475933, 0.0007999999797903001, 0.09130000323057175, -0.004800000227987766, -0.012400000356137753, 0.016200000420212746, 0.007899999618530273, -0.02160000056028366, 0.0005000000237487257, -0.02669999934732914, -0.03790000081062317, 0.03590000048279762, -0.017799999564886093, 0.014999999664723873, -0.018200000748038292, 0.009499999694526196, 0.010700000450015068, 0.021800000220537186, -0.003800000064074993, -0.02370000071823597, -0.00019999999494757503, 0.05660000070929527, -0.03970000147819519, -0.012400000356137753, 0.058400001376867294, 0.04600000008940697, 0.041600000113248825, -0.01269999984651804, -0.03790000081062317, -0.04600000008940697, 0.01080000028014183, 0.04600000008940697, 0.02019999921321869, -0.030799999833106995, 0.0012000000569969416, 0.03060000017285347, -0.04529999941587448, 0.01979999989271164, -0.03440000116825104, 0.005200000014156103, -0.013899999670684338, -0.002899999963119626, -0.004800000227987766, 0.007600000128149986, -0.013100000098347664, -0.014999999664723873, 0.02370000071823597, 0.003700000001117587, -0.00419999985024333, 0.01679999940097332, 0.057100001722574234, 0.05860000103712082, -0.026399999856948853, -0.015300000086426735, 0.02500000037252903, 0.023499999195337296, 0.007400000002235174, 0.03200000151991844, -0.008100000210106373, 0.03680000081658363, 0.004800000227987766, -0.027899999171495438, -0.008299999870359898, 0.031199999153614044, 0.012500000186264515, 0.009200000204145908, 0.02590000070631504, -0.007300000172108412, -0.008100000210106373, 0.04470000043511391, 0.037700001150369644, -0.050200000405311584, 0.035999998450279236, 0.006500000134110451, -0.02459999918937683, 0.005499999970197678, -0.023499999195337296, -0.008700000122189522, -0.023499999195337296, -0.0478999987244606, 0.019300000742077827, -0.01590000092983246, 0.014499999582767487, 0.006399999838322401, -0.03849999979138374, -0.0017999999690800905, -0.039900001138448715, -0.04320000112056732, -0.009100000374019146, 0.031300000846385956, -0.03759999945759773, 0.010700000450015068, 0.003599999938160181, 0.02500000037252903, -0.02419999986886978, 0.01119999960064888, 0.02280000038444996, -0.01940000057220459, -0.00860000029206276, 0.019300000742077827, 0.04800000041723251, -0.00800000037997961, -0.002899999963119626, -0.029600000008940697, 0.022099999710917473, 0.00039999998989515007, 0.007699999958276749, 0.04390000179409981, -0.008500000461935997, -0.011599999852478504, 0.00839999970048666, -0.0020000000949949026, -0.007300000172108412, -0.026000000536441803, 0.022700000554323196, 0.04830000177025795, 0.021299999207258224, -0.0071000000461936, 0.02879999950528145, 0.012799999676644802, -0.08810000121593475, 0.011699999682605267, 0.026499999687075615, 0.02199999988079071, -0.08799999952316284, -0.015799999237060547, 0.00279999990016222, 0.007600000128149986, -0.007300000172108412, -0.0010999999940395355, -0.010599999688565731, -0.002199999988079071, 0.006399999838322401, 0.048900000751018524, -0.024900000542402267, -0.0032999999821186066, 0.03929999843239784, 0.003800000064074993, -0.017000000923871994, 0.01640000008046627, 0.04879999905824661, -0.0015999999595806003, 0.017899999395012856, 0.011500000022351742, -0.013100000098347664, -0.01940000057220459, 0.017100000753998756, 0.02419999986886978, -0.06520000100135803, -0.03700000047683716, 0.014000000432133675, -0.03629999980330467, 0.07039999961853027, 0.018400000408291817, -0.01510000042617321, 0.004699999932199717, -0.0052999998442828655, -0.03669999912381172, -0.02710000053048134, -0.002099999925121665, 0.010200000368058681, 0.032499998807907104, 0.005100000184029341, -0.02879999950528145, 0.02070000022649765, 0.003800000064074993, 0.010400000028312206, 0.004600000102072954, 0.010700000450015068, -0.008500000461935997, -0.0044999998062849045, -0.014499999582767487, -0.002300000051036477, -0.043299999088048935, 0.006800000090152025, -0.018300000578165054, 0.003100000089034438, -0.0017000000225380063, -0.005400000140070915, -0.050999999046325684, -0.006099999882280827, 0.044599998742341995, 0.012400000356137753, -0.0071000000461936, -0.07119999825954437, -0.018799999728798866, -0.014000000432133675, -0.01679999940097332, -0.012000000104308128, 0.015599999576807022, -0.028999999165534973, 0.008100000210106373, 0.003700000001117587, -0.0003000000142492354, 0.01590000092983246, 0.026100000366568565, 0.003599999938160181, -0.0203000009059906, 0.01209999993443489, -0.025699999183416367, -0.027499999850988388, -0.014700000174343586, 0.013700000010430813, -0.006200000178068876, -0.008999999612569809, -0.013700000010430813, 0.020500000566244125, 0.03180000185966492, -0.032099999487400055, 0.03920000046491623, 0.005499999970197678, -0.004699999932199717, 0.0003000000142492354, 0.05389999970793724, -0.03920000046491623, 0.0013000000035390258, -0.012500000186264515, 0.013000000268220901, 0.03020000085234642, 0.012900000438094139, -0.04659999907016754, 0.002199999988079071, -0.0024999999441206455, -0.0008999999845400453, 0.017100000753998756, 0.04820000007748604, 0.0003000000142492354, -0.04800000041723251, 0.020999999716877937, 0.030400000512599945, 0.05389999970793724, -0.030799999833106995, 0.013399999588727951, 0.01489999983459711, -0.023800000548362732, 0.03269999846816063, -0.00419999985024333, -0.028200000524520874, 0.009999999776482582, -0.04879999905824661, 0.010999999940395355, 0.051100000739097595, 0.0008999999845400453, -0.002099999925121665, 0.03060000017285347, 0.03909999877214432, 0.012299999594688416, -0.03849999979138374, 0.03550000116229057, 0.004800000227987766, 9.999999747378752e-05, -0.003599999938160181, 0.03819999843835831, -0.005799999926239252, -0.02889999933540821, -0.02239999920129776, -0.0005000000237487257, 0.022099999710917473, -0.06350000202655792, -0.007400000002235174, -0.013199999928474426, -0.017799999564886093, -0.024800000712275505, -0.004800000227987766, 0.048700001090765, -0.025200000032782555, -0.052299998700618744, -0.03790000081062317, -0.010200000368058681, -0.011900000274181366, 0.02019999921321869], [-0.1363999992609024, 0.026900000870227814, 0.08389999717473984, -0.09589999914169312, 0.10080000013113022, 0.02500000037252903, -0.024000000208616257, -0.04800000041723251, 0.10109999775886536, -0.0019000000320374966, -0.09030000120401382, -0.041600000113248825, -0.013100000098347664, -0.06729999929666519, -0.15479999780654907, -0.0284000001847744, 0.1542000025510788, -0.07150000333786011, 0.17149999737739563, 0.16130000352859497, 0.10809999704360962, 0.11969999969005585, 0.08669999986886978, -0.0008999999845400453, -0.11299999803304672, 0.0406000018119812, 0.08560000360012054, -0.08640000224113464, -0.039799999445676804, 0.020600000396370888, 0.03799999877810478, 0.2312999963760376, 0.08049999922513962, -0.08860000222921371, -0.10949999839067459, -0.07010000199079514, 0.09279999881982803, -0.06560000032186508, -0.049300000071525574, 0.08299999684095383, 0.27950000762939453, 0.11659999936819077, 0.06199999898672104, -0.014600000344216824, 0.11869999766349792, -0.11079999804496765, -0.2320999950170517, 0.053700000047683716, -0.015200000256299973, -0.07479999959468842, -0.14509999752044678, -0.09880000352859497, 0.05779999867081642, 0.004399999976158142, -0.08370000123977661, -0.039500001817941666, 0.15880000591278076, 0.19259999692440033, -0.39469999074935913, 0.019300000742077827, -0.3346000015735626, -0.0010999999940395355, -0.061000000685453415, 0.08829999715089798, 0.04010000079870224, 0.11729999631643295, 0.2312999963760376, 0.1736000031232834, 0.14110000431537628, -0.0012000000569969416, -0.11079999804496765, 0.1459999978542328, 0.03229999914765358, -0.05920000001788139, -0.06650000065565109, 0.05009999871253967, -0.0957999974489212, 0.08250000327825546, 0.02250000089406967, 0.20739999413490295, -0.2777999937534332, -0.11249999701976776, 0.19130000472068787, -0.11909999698400497, 0.08730000257492065, -0.048700001090765, -0.06989999860525131, -0.031599998474121094, 0.000699999975040555, 0.0406000018119812, -0.11079999804496765, 0.028300000354647636, -0.0421999990940094, 0.031300000846385956, 0.07199999690055847, -0.21400000154972076, -0.03620000183582306, -0.04879999905824661, 0.2459000051021576, -0.08760000020265579, 0.3174999952316284, 0.03229999914765358, -0.024700000882148743, -0.04899999871850014, -0.04560000076889992, -0.013700000010430813, 0.07370000332593918, -0.005900000222027302, -0.16750000417232513, -0.25270000100135803, 0.07329999655485153, 0.0494999997317791, -0.11860000342130661, 0.07460000365972519, 0.09870000183582306, -0.019999999552965164, -0.06729999929666519, -0.10939999669790268, -0.0917000025510788, -0.04309999942779541, -0.3176000118255615, -0.20800000429153442, 0.023800000548362732, -0.007000000216066837, -0.22089999914169312, 0.08990000188350677, -0.0820000022649765, -0.12240000069141388, -0.10329999774694443, -0.04270000010728836, -0.02969999983906746, -0.07349999994039536, -0.047200001776218414, 0.11349999904632568, 0.020099999383091927, 0.07100000232458115, 0.0071000000461936, 0.03530000150203705, 0.018799999728798866, -0.10480000078678131, -0.2842999994754791, 0.1111999973654747, 0.00279999990016222, -0.016100000590085983, -0.012500000186264515, -0.10689999908208847, 0.057500001043081284, 0.0771000012755394, 0.19370000064373016, -0.715399980545044, -0.03350000083446503, 0.10970000177621841, 0.03550000116229057, 0.007199999876320362, -0.0697999969124794, 0.16290000081062317, -0.13109999895095825, 0.1428000032901764, -0.0203000009059906, 0.06880000233650208, 0.2393999993801117, -0.06279999762773514, 0.07970000058412552, 0.2021999955177307, 0.006099999882280827, 0.015699999406933784, -0.01720000058412552, -0.021700000390410423, -0.02410000003874302, 0.0786999985575676, 0.020400000736117363, 0.042500000447034836, 0.0706000030040741, 0.19419999420642853, 0.10570000112056732, -0.019600000232458115, 0.03819999843835831, -0.08309999853372574, -0.15360000729560852, 0.11720000207424164, 0.10450000315904617, -0.18639999628067017, -0.15929999947547913, 0.018799999728798866, -0.024399999529123306, 0.052400000393390656, 0.00860000029206276, -0.1469999998807907, -0.039400000125169754, -0.0019000000320374966, 0.04919999837875366, -0.02280000038444996, -0.1274999976158142, 0.2994000017642975, -0.10180000215768814, 0.0575999990105629, -0.014700000174343586, -0.11760000139474869, 0.013799999840557575, 0.2125999927520752, -0.260699987411499, -0.10260000079870224, 0.11180000007152557, -0.011699999682605267, 0.030400000512599945, -1.1979000568389893, -0.0024999999441206455, -0.02969999983906746, -0.27230000495910645, -0.052000001072883606, 0.15889999270439148, -0.13359999656677246, -0.026799999177455902, 0.004600000102072954, -0.12349999696016312, 0.04179999977350235, -0.0026000000070780516, -0.08940000087022781, 0.1046999990940094, -0.28299999237060547, 0.24269999563694, -0.02290000021457672, 0.06549999862909317, 0.5468999743461609, -0.046300001442432404, -0.019999999552965164, -0.026499999687075615, -0.09759999811649323, -0.20479999482631683, -0.04390000179409981, 0.09059999883174896, 0.047200001776218414, -0.11969999969005585, 0.09920000284910202, 0.013799999840557575, -0.01769999973475933, 0.12070000171661377, -0.01119999960064888, -0.09189999848604202, -0.053199999034404755, -0.012900000438094139, 0.1655000001192093, 0.037700001150369644, -0.06210000067949295, 0.2378000020980835, -0.041200000792741776, 0.0632999986410141, 0.025599999353289604, 0.11140000075101852, -0.0828000009059906, 0.02979999966919422, -0.008200000040233135, 0.01549999974668026, 0.026000000536441803, -0.0006000000284984708, -0.0892999991774559, -0.02930000051856041, 0.023800000548362732, 0.12559999525547028, 0.06589999794960022, -0.09600000083446503, 0.04399999976158142, 0.02669999934732914, 0.156700000166893, 0.009999999776482582, -0.021700000390410423, -0.04610000178217888, -0.03400000184774399, -0.12060000002384186, -0.040800001472234726, -0.002300000051036477, 0.0794999971985817, -0.01080000028014183, -0.10599999874830246, -0.023499999195337296, 0.05389999970793724, -0.1046999990940094, -0.11879999935626984, 0.012299999594688416, 0.01140000019222498, 0.1809999942779541, -0.011099999770522118, -0.004999999888241291, 0.04839999973773956, 0.004100000020116568, -0.11330000311136246, -0.011699999682605267, -0.5521000027656555, -0.06549999862909317, -0.04560000076889992, -0.02459999918937683, -0.023800000548362732, 0.09640000015497208, -0.09229999780654907, -0.027499999850988388, 0.037700001150369644, 0.03440000116825104, 0.07569999992847443, -0.1145000010728836, -0.32339999079704285], [0.04470000043511391, 0.029999999329447746, 0.0364999994635582, 0.09769999980926514, 0.0024999999441206455, 0.03189999982714653, 0.08550000190734863, 0.047600001096725464, -0.05609999969601631, -0.029600000008940697, -0.009499999694526196, 0.024299999698996544, 0.012299999594688416, -0.017899999395012856, -0.004100000020116568, -0.023399999365210533, -0.0066999997943639755, -0.02239999920129776, 0.012799999676644802, 0.09019999951124191, -0.07750000059604645, -0.0617000013589859, -0.012799999676644802, -0.03359999880194664, 0.0007999999797903001, -0.031199999153614044, -0.025699999183416367, -0.03689999878406525, -0.08470000326633453, -0.04470000043511391, 0.039799999445676804, 0.041200000792741776, 0.05139999836683273, 0.0017000000225380063, 0.10620000213384628, 0.01360000018030405, -0.025599999353289604, 0.023399999365210533, 0.03319999948143959, 0.01769999973475933, -0.045899998396635056, -0.0738999992609024, 0.012000000104308128, -0.026200000196695328, -0.05050000175833702, -0.023099999874830246, 0.0035000001080334187, 0.00570000009611249, -0.0714000016450882, -0.07940000295639038, 0.1307000070810318, -0.05959999933838844, 0.036400001496076584, 0.11270000040531158, 0.06939999759197235, -0.01769999973475933, -0.05770000070333481, -0.047600001096725464, -0.1527000069618225, 0.045899998396635056, 0.10429999977350235, 0.11699999868869781, -0.08799999952316284, -0.027499999850988388, -0.04969999939203262, 0.0017999999690800905, -0.019899999722838402, -0.09080000221729279, 0.09830000251531601, -0.05460000038146973, -0.0032999999821186066, -0.11760000139474869, 0.030899999663233757, 0.007300000172108412, -0.07150000333786011, -0.11219999939203262, -0.06939999759197235, -0.06159999966621399, -0.052299998700618744, 0.048500001430511475, 0.1500999927520752, 0.06880000233650208, 0.03009999915957451, 0.08659999817609787, 0.04780000075697899, -0.10490000247955322, -0.045899998396635056, -0.03739999979734421, 0.005400000140070915, 0.04619999974966049, -0.06599999964237213, 0.039500001817941666, 0.09950000047683716, 0.03959999978542328, 0.05810000002384186, 0.03269999846816063, -0.02290000021457672, -0.040800001472234726, -0.08330000191926956, -0.052799999713897705, 0.25209999084472656, -0.05590000003576279, 0.01360000018030405, 0.031199999153614044, 0.011699999682605267, -0.04780000075697899, -0.11129999905824661, -0.008799999952316284, -0.04490000009536743, 0.053300000727176666, -0.06440000236034393, -0.1006999984383583, -0.004600000102072954, -0.09390000253915787, 0.032999999821186066, -0.05490000173449516, -0.0658000037074089, -0.06210000067949295, 0.10450000315904617, 0.038600001484155655, -0.08550000190734863, 0.03189999982714653, -0.019600000232458115, 0.042399998754262924, -0.14239999651908875, -0.03440000116825104, 0.00279999990016222, 0.015799999237060547, 0.16019999980926514, -0.06369999796152115, -0.03200000151991844, 0.029500000178813934, 0.025800000876188278, -0.06800000369548798, 0.004600000102072954, -0.017899999395012856, 0.09200000017881393, -0.03020000085234642, -0.04390000179409981, 0.024700000882148743, -0.07890000194311142, 0.05950000137090683, 0.06069999933242798, -0.05209999904036522, 0.0020000000949949026, 0.04050000011920929, -0.030799999833106995, -0.0034000000450760126, -0.025100000202655792, -0.18780000507831573, 0.03849999979138374, 0.04149999842047691, 0.03020000085234642, -0.07190000265836716, 0.00019999999494757503, -0.046799998730421066, -0.0210999995470047, -0.041999999433755875, -0.00019999999494757503, 0.005100000184029341, -0.10729999840259552, -0.09759999811649323, 0.03449999913573265, -0.009200000204145908, -0.017899999395012856, 0.09080000221729279, -0.04529999941587448, 0.045899998396635056, -0.005400000140070915, 0.038100000470876694, -0.03920000046491623, 0.049800001084804535, 0.010499999858438969, -0.012400000356137753, -0.09290000051259995, 0.002899999963119626, -0.026000000536441803, -0.06260000169277191, -0.07010000199079514, 0.003100000089034438, -0.06939999759197235, 0.07039999961853027, -0.03519999980926514, -0.005100000184029341, 0.12430000305175781, 0.029500000178813934, -0.01269999984651804, -0.02630000002682209, 0.08510000258684158, 0.03840000182390213, 0.07959999889135361, 0.029600000008940697, -0.011800000444054604, 0.09130000323057175, -0.053599998354911804, -0.0031999999191612005, -0.017799999564886093, -0.1469999998807907, -0.04690000042319298, -0.019899999722838402, 0.003599999938160181, 0.08179999887943268, -0.021800000220537186, -0.03220000118017197, -0.07840000092983246, -0.2515000104904175, -0.09319999814033508, 0.007400000002235174, -0.07329999655485153, -0.02419999986886978, 0.15320000052452087, -0.006300000008195639, -0.08190000057220459, -0.003599999938160181, -0.08110000193119049, -0.0007999999797903001, -0.04650000110268593, 0.01899999938905239, 0.045899998396635056, 0.04569999873638153, 0.0142000000923872, -0.0203000009059906, -0.015200000256299973, 0.17399999499320984, 0.035100001841783524, -0.050599999725818634, -0.07039999961853027, 0.021700000390410423, 0.07989999651908875, -0.07320000231266022, -0.002199999988079071, -0.0006000000284984708, -0.0017999999690800905, -0.03830000013113022, -0.06509999930858612, 0.010900000110268593, -0.002899999963119626, -0.039400000125169754, 0.06840000301599503, 0.07800000160932541, 0.008200000040233135, -0.14309999346733093, 0.06340000033378601, -0.08089999854564667, -0.019600000232458115, -0.0949999988079071, 0.021299999207258224, -0.019999999552965164, 0.06120000034570694, -0.08780000358819962, -0.04769999906420708, -0.057100001722574234, 0.08250000327825546, 0.025800000876188278, 0.044599998742341995, 0.0608999989926815, 0.07569999992847443, -0.06719999760389328, -0.01759999990463257, 0.00989999994635582, -0.0020000000949949026, 0.053599998354911804, 0.010999999940395355, -0.17260000109672546, 0.1128000020980835, -0.07190000265836716, -0.12919999659061432, 0.01080000028014183, 0.005400000140070915, -0.0737999975681305, 0.07460000365972519, -0.03370000049471855, 0.003100000089034438, -0.02879999950528145, -0.06340000033378601, -0.010099999606609344, -0.07360000163316727, 0.03759999945759773, 0.034699998795986176, -0.07029999792575836, -0.0012000000569969416, 0.11640000343322754, -0.04670000076293945, -0.15629999339580536, -0.11079999804496765, -0.016699999570846558, 0.06459999829530716, -0.02800000086426735, 0.0284000001847744, -0.03909999877214432, 0.06300000101327896, -0.04309999942779541, -0.04670000076293945, -0.004600000102072954, 0.018400000408291817, 0.0925000011920929, -0.10260000079870224, -0.02710000053048134, -0.00839999970048666, 0.08839999884366989], [-0.07490000128746033, 0.10209999978542328, 0.033799998462200165, -0.05460000038146973, 0.06120000034570694, -0.04639999940991402, -0.013100000098347664, 0.0008999999845400453, -0.06459999829530716, -0.05570000037550926, 0.006000000052154064, 0.0868000015616417, -0.05730000138282776, -0.002899999963119626, 0.012500000186264515, -0.029600000008940697, 0.10679999738931656, -0.07150000333786011, -0.028200000524520874, 0.02669999934732914, 0.08900000154972076, 0.041600000113248825, 0.017899999395012856, 0.09539999812841415, 0.025299999862909317, 0.039000000804662704, -0.06669999659061432, 0.025200000032782555, -0.03359999880194664, -0.02800000086426735, -0.08489999920129776, 0.005400000140070915, 0.09220000356435776, 0.09300000220537186, -0.017899999395012856, 0.09529999643564224, -0.15399999916553497, 0.0015999999595806003, -0.08160000294446945, -0.11249999701976776, -0.05770000070333481, -0.07620000094175339, 0.04839999973773956, 0.011800000444054604, -0.06390000134706497, 0.017899999395012856, 0.008100000210106373, -0.1370999962091446, -0.06109999865293503, 0.08049999922513962, 0.10140000283718109, -0.0010999999940395355, 0.0714000016450882, -0.01940000057220459, 0.1762000024318695, 0.12070000171661377, -0.0026000000070780516, -0.04749999940395355, -0.1632000058889389, -0.02370000071823597, -0.02969999983906746, -0.022099999710917473, -0.05270000174641609, -0.08860000222921371, 0.04270000010728836, -0.028599999845027924, -0.023099999874830246, 0.06520000100135803, -0.030799999833106995, 0.03449999913573265, -0.052299998700618744, -0.02850000001490116, 0.06199999898672104, -0.15289999544620514, -0.01360000018030405, 0.08160000294446945, -0.0006000000284984708, 0.025699999183416367, 0.0031999999191612005, 0.0738999992609024, 0.10509999841451645, -0.08739999681711197, 0.06400000303983688, -0.02879999950528145, -0.04520000144839287, -0.005100000184029341, -0.009600000455975533, -0.02889999933540821, 0.050700001418590546, 0.055799998342990875, 0.14139999449253082, 0.10859999805688858, -0.05460000038146973, 0.014700000174343586, 0.022099999710917473, 0.04839999973773956, 0.11860000342130661, -0.0771000012755394, -0.0681999996304512, 0.019200000911951065, 0.04820000007748604, -0.057100001722574234, 0.05790000036358833, 0.03610000014305115, 0.0771000012755394, 0.06390000134706497, -0.13459999859333038, -0.03689999878406525, -0.12860000133514404, -0.035999998450279236, -0.0348999984562397, -0.07639999687671661, -0.09709999710321426, -0.09759999811649323, 0.1590999960899353, -0.10760000348091125, -0.008700000122189522, -0.10830000042915344, 0.059700001031160355, -0.08030000329017639, -0.008700000122189522, 0.013500000350177288, -0.03819999843835831, 0.05609999969601631, -0.09600000083446503, -0.02329999953508377, 0.08410000056028366, 0.003100000089034438, 0.0034000000450760126, 0.01889999955892563, 0.01979999989271164, -0.010200000368058681, 0.04619999974966049, -0.06069999933242798, -0.03500000014901161, 0.01140000019222498, 0.16699999570846558, 0.04050000011920929, 0.08649999648332596, -0.003800000064074993, 0.06530000269412994, -0.0010000000474974513, 0.035599999129772186, -0.046300001442432404, -0.15919999778270721, -0.04729999974370003, -0.021700000390410423, -0.07720000296831131, 0.05829999968409538, -0.18960000574588776, -0.027400000020861626, 0.06769999861717224, 0.022600000724196434, -0.08780000358819962, 0.02449999935925007, 0.07880000025033951, 0.002199999988079071, 0.0005000000237487257, -0.010599999688565731, 0.007300000172108412, 0.00570000009611249, 0.026200000196695328, 0.12300000339746475, 0.017000000923871994, 0.04170000180602074, 0.02710000053048134, 0.02930000051856041, -0.01979999989271164, -0.026100000366568565, 0.0284000001847744, -0.031199999153614044, -0.07880000025033951, 0.025499999523162842, -0.05810000002384186, -0.02370000071823597, -0.045899998396635056, -0.13989999890327454, 0.0649000033736229, -0.04500000178813934, 0.2093999981880188, 0.06589999794960022, 0.06790000200271606, 0.039500001817941666, 0.0689999982714653, 0.15690000355243683, 0.04650000110268593, 0.0027000000700354576, -0.024000000208616257, 0.11490000039339066, -0.0008999999845400453, 0.10890000313520432, 0.02979999966919422, 0.029200000688433647, 0.047200001776218414, 0.09650000184774399, 0.13529999554157257, -0.08810000121593475, -0.03060000017285347, -0.07590000331401825, -0.029899999499320984, 0.10520000010728836, 0.06509999930858612, -0.015599999576807022, 0.056299999356269836, 0.061799999326467514, -0.06589999794960022, 0.03680000081658363, -0.1096000000834465, -0.04129999876022339, -0.0746999979019165, 0.10849999636411667, 0.010499999858438969, -0.1477999985218048, -0.17569999396800995, 0.04259999841451645, 0.06700000166893005, 0.00570000009611249, -0.026900000870227814, -0.049800001084804535, 0.049800001084804535, -0.01360000018030405, -0.11739999800920486, -0.13910000026226044, 0.10689999908208847, -0.018699999898672104, 0.12970000505447388, -0.055399999022483826, 0.021199999377131462, -0.017799999564886093, -0.05180000141263008, -0.009200000204145908, 0.014000000432133675, 0.0674000009894371, -0.07109999656677246, 0.06669999659061432, -0.11900000274181366, 0.009100000374019146, 0.12349999696016312, 0.03229999914765358, 0.17659999430179596, -0.01489999983459711, -0.2125999927520752, -0.017899999395012856, -0.11810000240802765, 0.0421999990940094, 0.12049999833106995, 0.006800000090152025, -0.10440000146627426, -0.02280000038444996, -0.11159999668598175, -0.09019999951124191, -0.06030000001192093, 0.10509999841451645, -0.08460000157356262, 0.17919999361038208, 0.0544000007212162, -0.03610000014305115, -0.02759999968111515, 0.02759999968111515, -0.018400000408291817, 0.060600001364946365, -0.033799998462200165, -0.03139999881386757, -0.028200000524520874, -0.041099999099969864, -0.11749999970197678, -0.10329999774694443, 0.01080000028014183, -0.02410000003874302, -0.14229999482631683, 0.10999999940395355, 0.049800001084804535, -0.05869999900460243, 0.03799999877810478, -0.1046999990940094, 0.022199999541044235, 0.0071000000461936, -0.036400001496076584, 0.10289999842643738, 0.04520000144839287, 0.0017999999690800905, 0.09000000357627869, -0.023600000888109207, -0.12370000034570694, 0.05920000001788139, -0.13179999589920044, -0.06970000267028809, -0.04019999876618385, 0.021700000390410423, -0.07880000025033951, 0.056299999356269836, -0.006200000178068876, 0.057500001043081284, -0.0835999995470047, 0.12189999967813492, 0.00930000003427267, -0.00930000003427267, 0.05640000104904175, -0.023099999874830246, 0.10260000079870224], [-0.07530000060796738, 0.01720000058412552, -0.005400000140070915, 0.12999999523162842, 0.09989999979734421, 0.10679999738931656, -0.052400000393390656, 0.03680000081658363, -0.007799999788403511, -0.039799999445676804, -0.018400000408291817, 0.08380000293254852, 0.031599998474121094, -0.043299999088048935, 0.09830000251531601, 0.021700000390410423, 0.07509999722242355, 0.04769999906420708, 0.09220000356435776, 0.1281999945640564, 0.035100001841783524, 0.0632999986410141, 0.04039999842643738, 0.003599999938160181, 0.06069999933242798, -0.0, -0.08649999648332596, -0.009100000374019146, 0.04520000144839287, 0.06880000233650208, 0.07240000367164612, 0.12710000574588776, 0.05739999935030937, 0.016499999910593033, 0.02630000002682209, 0.05350000038743019, -0.09220000356435776, -0.03929999843239784, 0.014999999664723873, -0.07880000025033951, 0.027300000190734863, 0.026799999177455902, 0.05689999833703041, -0.05810000002384186, -0.10520000010728836, -0.061500001698732376, -0.055399999022483826, 0.008200000040233135, -0.04360000044107437, 0.13979999721050262, 0.1517000049352646, -0.07829999923706055, -0.04820000007748604, 0.03290000185370445, 0.1080000028014183, -0.025200000032782555, -0.0478999987244606, -0.1088000014424324, -0.24950000643730164, -0.019899999722838402, 0.20679999887943268, 0.019200000911951065, -0.01209999993443489, -0.019899999722838402, 0.02419999986886978, -0.11089999973773956, -0.04800000041723251, -0.19519999623298645, 0.020999999716877937, -0.046799998730421066, -0.044199999421834946, 0.03280000016093254, 0.06800000369548798, -0.010300000198185444, 0.0015999999595806003, -0.05169999971985817, -0.057100001722574234, -0.00860000029206276, 0.023099999874830246, 0.06960000097751617, 0.13529999554157257, -0.002899999963119626, -0.07609999924898148, 0.01600000075995922, 0.026799999177455902, -0.12639999389648438, -0.06750000268220901, -0.024900000542402267, 0.06650000065565109, 0.07760000228881836, -0.0625, 0.016499999910593033, 0.290800005197525, 0.0024999999441206455, 0.03830000013113022, -0.14830000698566437, -0.05869999900460243, -0.040800001472234726, -0.12439999729394913, 0.06390000134706497, -0.01899999938905239, -0.16760000586509705, 0.042899999767541885, -0.07850000262260437, 0.05909999832510948, -0.11169999837875366, 0.03700000047683716, 0.09359999746084213, -0.012600000016391277, 0.04740000143647194, -0.005200000014156103, 0.008100000210106373, -0.019300000742077827, 0.008299999870359898, 0.05959999933838844, -0.022199999541044235, -0.017799999564886093, 0.07050000131130219, 0.032099999487400055, -0.07109999656677246, -0.050700001418590546, 0.027400000020861626, 0.01769999973475933, 0.015599999576807022, -0.027799999341368675, -0.04580000042915344, -0.012199999764561653, -0.04010000079870224, -0.017400000244379044, 0.042899999767541885, -0.03889999911189079, 0.017899999395012856, -0.010400000028312206, 0.004999999888241291, 0.07739999890327454, 0.05860000103712082, 0.00039999998989515007, 0.017999999225139618, -0.0052999998442828655, -0.02239999920129776, -0.02630000002682209, 0.019899999722838402, 0.043800000101327896, 0.05299999937415123, 0.1071000024676323, 0.07639999687671661, -0.08579999953508377, 0.06300000101327896, -0.0024999999441206455, -0.2635999917984009, 0.05730000138282776, 0.05889999866485596, 0.0031999999191612005, -0.10499999672174454, -0.010400000028312206, 0.1128000020980835, -0.02539999969303608, -0.0885000005364418, -0.035100001841783524, 0.02070000022649765, 0.024900000542402267, 0.050999999046325684, 0.030300000682473183, 0.00989999994635582, -0.046799998730421066, 0.04540000110864639, -0.028699999675154686, -0.0754999965429306, -0.006099999882280827, 0.04190000146627426, 0.02319999970495701, -0.011699999682605267, -0.0723000019788742, -0.07280000299215317, 0.07349999994039536, 0.004800000227987766, -0.02239999920129776, -0.01119999960064888, -0.10909999907016754, 0.05550000071525574, -0.014000000432133675, 0.04230000078678131, 0.19449999928474426, 0.003700000001117587, 0.0333000011742115, -0.2248000055551529, 0.03579999879002571, -0.007400000002235174, 0.26840001344680786, 0.058400001376867294, -0.006800000090152025, 0.0560000017285347, 0.042100001126527786, 0.04699999839067459, 0.001500000013038516, -0.05290000140666962, -0.033399999141693115, 0.013299999758601189, -0.025699999183416367, -0.08839999884366989, -0.019099999219179153, -0.026100000366568565, -0.07530000060796738, 0.013500000350177288, -0.006500000134110451, -0.5478000044822693, 0.022600000724196434, -0.048900000751018524, -0.16509999334812164, 0.04919999837875366, 0.11900000274181366, 0.02019999921321869, 0.012500000186264515, -0.06019999831914902, -0.013899999670684338, -0.0560000017285347, -0.08190000057220459, 0.016699999570846558, -0.021700000390410423, 0.002300000051036477, -0.020600000396370888, 0.010999999940395355, 0.013700000010430813, 0.2084999978542328, -0.024000000208616257, -0.0746999979019165, -0.002899999963119626, 0.04600000008940697, 0.10890000313520432, -0.13930000364780426, 0.04699999839067459, -0.010400000028312206, 0.02459999918937683, -0.044599998742341995, -0.002199999988079071, 0.06300000101327896, -0.1412000060081482, 0.07320000231266022, 0.02239999920129776, 0.02800000086426735, 0.011699999682605267, -0.21250000596046448, 0.07199999690055847, -0.0925000011920929, -0.0007999999797903001, 0.006899999920278788, 0.01810000091791153, 0.032999999821186066, -0.000699999975040555, -0.03790000081062317, -0.08950000256299973, 0.01140000019222498, -0.042899999767541885, -0.012199999764561653, -0.04809999838471413, 0.054099999368190765, 0.039900001138448715, 0.054499998688697815, 0.14820000529289246, 0.07739999890327454, 0.11240000277757645, 0.008200000040233135, 0.0348999984562397, -0.10480000078678131, -0.026799999177455902, -0.04520000144839287, -0.0005000000237487257, -0.04050000011920929, -0.0843999981880188, -0.04540000110864639, 0.042399998754262924, 0.0697999969124794, -0.04490000009536743, -0.025200000032782555, -0.07569999992847443, -0.14139999449253082, -0.07370000332593918, 0.05939999967813492, -0.015200000256299973, 0.013199999928474426, 0.041200000792741776, 0.06300000101327896, 0.045899998396635056, -0.3449999988079071, -0.011599999852478504, 0.03480000048875809, -0.1468999981880188, -0.006300000008195639, 0.016300000250339508, -0.0038999998942017555, -0.007799999788403511, -0.023900000378489494, 0.040800001472234726, 0.024399999529123306, -0.04280000180006027, 0.021400000900030136, -0.14650000631809235, -0.0851999968290329, -0.05730000138282776, 0.11490000039339066], [-0.018699999898672104, 0.04010000079870224, -0.030500000342726707, 0.00860000029206276, 0.02930000051856041, 0.023800000548362732, 0.004100000020116568, 0.00419999985024333, 0.021700000390410423, -0.03400000184774399, -0.009800000116229057, -0.010400000028312206, -0.007199999876320362, -0.00039999998989515007, -0.010300000198185444, 0.025499999523162842, 0.05649999901652336, -0.025299999862909317, 0.02290000021457672, 0.00019999999494757503, -0.054999999701976776, 0.010099999606609344, 0.0066999997943639755, -0.013199999928474426, 0.008299999870359898, -0.016100000590085983, -0.004900000058114529, -0.03579999879002571, -0.005400000140070915, 0.032099999487400055, 0.05990000069141388, 0.0010000000474974513, 0.020999999716877937, -0.024399999529123306, 0.00019999999494757503, -0.05979999899864197, 0.021199999377131462, 0.017999999225139618, -0.009399999864399433, -0.01720000058412552, -0.001500000013038516, -0.0003000000142492354, 0.03240000084042549, -0.012299999594688416, 0.022199999541044235, 0.04010000079870224, -0.0019000000320374966, -0.006099999882280827, 0.04089999943971634, 0.008200000040233135, 0.012799999676644802, -0.008200000040233135, -0.00419999985024333, 0.008799999952316284, -0.0003000000142492354, -0.01899999938905239, -0.017500000074505806, -0.033399999141693115, -0.048900000751018524, -0.011099999770522118, 0.0364999994635582, -0.01940000057220459, -0.023099999874830246, -0.002899999963119626, -0.01360000018030405, 0.051100000739097595, 0.004699999932199717, 0.0012000000569969416, -0.0003000000142492354, 0.02930000051856041, 0.01360000018030405, -0.00989999994635582, 0.0026000000070780516, -0.04320000112056732, -0.09149999916553497, -0.014100000262260437, 0.026499999687075615, -0.03909999877214432, 0.005200000014156103, -0.01590000092983246, 0.037300001829862595, -0.021400000900030136, -0.015200000256299973, -0.004800000227987766, 0.02800000086426735, -0.0697999969124794, -0.014000000432133675, -0.031300000846385956, 0.015799999237060547, 0.005799999926239252, 0.01640000008046627, -0.0032999999821186066, -0.0340999998152256, -0.011900000274181366, -0.016499999910593033, -0.009200000204145908, 0.006300000008195639, 0.026599999517202377, 0.019500000402331352, 0.011300000362098217, 0.04769999906420708, 0.03269999846816063, -0.026200000196695328, -0.020099999383091927, -0.014399999752640724, 0.023900000378489494, -0.061500001698732376, 0.008899999782443047, -0.07280000299215317, 0.007300000172108412, 0.03150000050663948, 0.018799999728798866, -0.003000000026077032, -0.01640000008046627, 0.016599999740719795, 0.01850000023841858, 0.01860000006854534, -0.00019999999494757503, 0.026499999687075615, -0.01600000075995922, -0.026900000870227814, -0.004100000020116568, 0.006800000090152025, 0.03539999946951866, -0.008299999870359898, -0.026399999856948853, 0.002099999925121665, 0.0007999999797903001, -0.00430000014603138, 0.02019999921321869, 0.04129999876022339, -0.033900000154972076, 0.02979999966919422, -0.03200000151991844, -0.015200000256299973, -0.01899999938905239, 0.04309999942779541, -0.013500000350177288, 0.00039999998989515007, 0.009200000204145908, 0.058800000697374344, -0.01549999974668026, 0.02410000003874302, 0.03020000085234642, -0.008200000040233135, 0.04490000009536743, -0.013100000098347664, 0.027000000700354576, 0.01590000092983246, -0.0430000014603138, 0.022600000724196434, -0.022099999710917473, 0.02239999920129776, -0.025800000876188278, -0.004000000189989805, 0.031099999323487282, 0.05139999836683273, 0.021299999207258224, 0.041999999433755875, -0.004000000189989805, -0.0414000004529953, -0.018400000408291817, 0.030899999663233757, -0.040699999779462814, 0.005900000222027302, 0.0066999997943639755, -0.00039999998989515007, 0.01769999973475933, 0.0008999999845400453, 0.0010000000474974513, 0.012199999764561653, 0.017000000923871994, 0.007199999876320362, -0.050700001418590546, 0.00139999995008111, -0.03350000083446503, -0.0421999990940094, -0.03689999878406525, -0.022199999541044235, -0.01080000028014183, 0.018799999728798866, 0.0723000019788742, 0.054099999368190765, 0.018799999728798866, 0.007499999832361937, -0.020899999886751175, 0.025499999523162842, 0.01119999960064888, 0.014700000174343586, -0.01940000057220459, 0.02290000021457672, 0.01860000006854534, -0.005400000140070915, -0.0071000000461936, -0.01489999983459711, -0.010200000368058681, 0.003800000064074993, 0.014600000344216824, -0.013199999928474426, 0.040300000458955765, 0.03139999881386757, -0.007799999788403511, -0.02239999920129776, 0.01360000018030405, -0.03420000150799751, 0.016200000420212746, 0.05719999969005585, -0.03970000147819519, -0.008700000122189522, -0.03400000184774399, 0.05570000037550926, 0.03610000014305115, 0.007699999958276749, -0.00039999998989515007, 0.042399998754262924, 0.008700000122189522, 0.034699998795986176, -0.051100000739097595, -0.008500000461935997, -0.00039999998989515007, -0.012600000016391277, 0.02539999969303608, 0.02710000053048134, 0.00839999970048666, 0.023499999195337296, 0.017999999225139618, 0.0210999995470047, 0.0284000001847744, 0.01600000075995922, -0.015300000086426735, -0.028200000524520874, 0.03229999914765358, 0.013000000268220901, -0.011699999682605267, -0.02630000002682209, 0.014800000004470348, -0.04659999907016754, 0.005100000184029341, 0.05209999904036522, 0.024900000542402267, -0.0031999999191612005, -0.050999999046325684, 0.032099999487400055, -0.003800000064074993, -0.03359999880194664, 0.0066999997943639755, -0.018699999898672104, 0.004000000189989805, -0.03319999948143959, -0.05570000037550926, -0.10869999974966049, 0.029200000688433647, 0.04670000076293945, 0.011900000274181366, 0.03269999846816063, -0.014999999664723873, -0.005499999970197678, 0.004999999888241291, -0.010200000368058681, -0.00019999999494757503, -0.06909999996423721, 0.029600000008940697, -0.0008999999845400453, -0.017500000074505806, -0.027400000020861626, -0.008799999952316284, -0.01600000075995922, -0.013899999670684338, -0.0658000037074089, -0.03550000116229057, 0.004800000227987766, -0.010700000450015068, -0.011099999770522118, 0.03099999949336052, -0.00800000037997961, -0.028699999675154686, 0.040300000458955765, 0.012600000016391277, -0.0035000001080334187, -0.013399999588727951, -0.07209999859333038, 0.0031999999191612005, -0.05380000174045563, -0.06859999895095825, -0.021199999377131462, -0.006000000052154064, -0.052400000393390656, -0.005799999926239252, 0.007499999832361937, 0.008500000461935997, -0.00019999999494757503, 0.007400000002235174, -0.02969999983906746, -0.029999999329447746, 0.011800000444054604, 0.01209999993443489, -0.013899999670684338, 0.00839999970048666, 0.002099999925121665, 0.05739999935030937], [-0.07909999787807465, -0.042899999767541885, 0.03689999878406525, -0.04439999908208847, -0.02930000051856041, 0.03009999915957451, -0.07800000160932541, 0.06239999830722809, -0.012199999764561653, -0.016300000250339508, -0.03280000016093254, -0.05590000003576279, -0.0430000014603138, 0.04360000044107437, 0.10719999670982361, -0.0024999999441206455, 0.10119999945163727, 0.10270000249147415, -0.016899999231100082, -0.006000000052154064, 0.022299999371170998, 0.03500000014901161, -0.03220000118017197, -0.024399999529123306, -0.008999999612569809, -0.004800000227987766, 0.026900000870227814, 0.016899999231100082, 0.02280000038444996, 0.04659999907016754, 0.0430000014603138, 0.059700001031160355, -0.013899999670684338, 0.08100000023841858, -0.039799999445676804, -0.007300000172108412, 0.04899999871850014, -0.0013000000035390258, 0.06840000301599503, 0.022700000554323196, 0.03420000150799751, -0.10249999910593033, -0.09300000220537186, 0.011300000362098217, 0.03790000081062317, 0.012900000438094139, -0.0820000022649765, -0.05559999868273735, -0.024399999529123306, -0.03920000046491623, 0.08500000089406967, -0.026399999856948853, -0.024299999698996544, 0.04010000079870224, -0.06040000170469284, -0.03959999978542328, -0.021800000220537186, -0.07599999755620956, -0.10480000078678131, -0.0812000036239624, 0.13449999690055847, -0.01730000041425228, -0.04859999939799309, -0.041999999433755875, 0.02239999920129776, -0.008999999612569809, -0.05260000005364418, -0.0333000011742115, 0.03020000085234642, 0.10849999636411667, -0.03189999982714653, 0.003599999938160181, 0.05339999869465828, 0.021299999207258224, -0.014399999752640724, 0.0019000000320374966, -0.03550000116229057, 0.02239999920129776, -0.057100001722574234, 0.03709999844431877, 0.026100000366568565, 0.006500000134110451, -0.007600000128149986, 0.05299999937415123, 0.1103999987244606, 0.008899999782443047, -0.03269999846816063, -0.11810000240802765, 0.036400001496076584, 0.00570000009611249, -0.0812000036239624, -0.017000000923871994, -0.00279999990016222, 0.01899999938905239, 0.05290000140666962, -0.05469999834895134, -0.020999999716877937, 0.02410000003874302, -0.10279999673366547, -0.005499999970197678, 0.07400000095367432, -0.13860000669956207, 0.031099999323487282, -0.03849999979138374, -0.05040000006556511, -0.00139999995008111, -0.05270000174641609, -0.007000000216066837, -0.04809999838471413, 0.0284000001847744, 0.06759999692440033, -0.03689999878406525, 0.0737999975681305, -0.04270000010728836, -0.02410000003874302, -0.07129999995231628, -0.026000000536441803, 0.03009999915957451, 0.01810000091791153, -0.014000000432133675, -0.05700000002980232, 0.08640000224113464, -0.026000000536441803, -0.042500000447034836, 0.01080000028014183, 0.14249999821186066, -0.03869999945163727, 0.027899999171495438, 0.023099999874830246, -0.04259999841451645, -0.03189999982714653, 0.0706000030040741, -0.07760000228881836, -0.02710000053048134, 0.05999999865889549, 0.03370000049471855, 0.10499999672174454, -0.022199999541044235, 0.024700000882148743, -0.03229999914765358, 0.001500000013038516, -0.04100000113248825, 0.06129999831318855, -0.021299999207258224, -0.08320000022649765, 0.04670000076293945, 0.0026000000070780516, -0.023000000044703484, -0.05660000070929527, -0.16680000722408295, -0.06639999896287918, 0.04610000178217888, -0.04839999973773956, -0.08030000329017639, 0.025599999353289604, 0.025200000032782555, -0.05079999938607216, -0.00430000014603138, -0.09189999848604202, 0.03280000016093254, -0.0006000000284984708, -0.041099999099969864, 0.0934000015258789, -0.07159999758005142, -0.0706000030040741, -0.05959999933838844, -0.005200000014156103, -0.005499999970197678, -0.003599999938160181, 0.007799999788403511, 0.06379999965429306, -0.014999999664723873, 0.005499999970197678, -0.03269999846816063, 0.054099999368190765, -0.01850000023841858, -0.1273999959230423, -0.06849999725818634, 0.02410000003874302, -0.02590000070631504, -0.03579999879002571, -0.0625, 0.11110000312328339, 0.05480000004172325, -0.008799999952316284, -0.08139999955892563, -0.025699999183416367, -0.010999999940395355, 0.0071000000461936, 0.0, -0.020899999886751175, 0.012400000356137753, 0.03849999979138374, -0.004699999932199717, 0.031099999323487282, 0.12300000339746475, 0.06260000169277191, -0.01940000057220459, 0.02889999933540821, -0.020600000396370888, 0.04540000110864639, -0.006300000008195639, 0.0010000000474974513, -0.004000000189989805, 0.02410000003874302, -0.009800000116229057, -0.010999999940395355, -0.01600000075995922, -0.08510000258684158, 0.015399999916553497, -0.04349999874830246, 0.05829999968409538, 0.06030000001192093, 0.034699998795986176, -0.01269999984651804, -0.10819999873638153, -0.030700000002980232, 9.999999747378752e-05, 0.08529999852180481, 0.009800000116229057, 0.06300000101327896, 0.01860000006854534, 0.03020000085234642, 0.07760000228881836, 0.02979999966919422, 0.04230000078678131, 0.030700000002980232, 0.0013000000035390258, 0.06419999897480011, -0.040699999779462814, -0.024900000542402267, 0.11640000343322754, -0.030899999663233757, 0.051100000739097595, -0.03550000116229057, 0.06830000132322311, -0.04360000044107437, 0.05380000174045563, 0.03739999979734421, -0.05550000071525574, -0.01640000008046627, -0.07450000196695328, 0.0877000018954277, -0.020999999716877937, 0.06790000200271606, 0.05999999865889549, 0.03620000183582306, -0.07840000092983246, -0.012199999764561653, -0.09830000251531601, -0.03319999948143959, 0.03620000183582306, -0.045099999755620956, 0.05959999933838844, 0.03629999980330467, -0.030899999663233757, 0.03709999844431877, 0.025100000202655792, -0.054499998688697815, 0.056699998676776886, 0.009499999694526196, -0.021400000900030136, 0.05249999836087227, -0.09459999948740005, -0.02850000001490116, -0.03920000046491623, -0.05810000002384186, -0.01360000018030405, 0.06700000166893005, -0.03779999911785126, -0.01549999974668026, -0.003700000001117587, -0.020600000396370888, -0.12060000002384186, 0.06599999964237213, -0.10289999842643738, 0.014999999664723873, -0.04670000076293945, 0.013799999840557575, -0.02449999935925007, 0.0008999999845400453, 0.06790000200271606, 0.01510000042617321, -0.040699999779462814, -0.025599999353289604, 0.020400000736117363, 0.0020000000949949026, -0.042399998754262924, 0.016599999740719795, -0.008799999952316284, 0.038600001484155655, -0.018300000578165054, -0.008500000461935997, 0.0006000000284984708, 0.08089999854564667, 0.08500000089406967, -0.065700002014637, -0.014600000344216824, -0.10170000046491623, 0.0015999999595806003], [-0.05400000140070915, 0.08470000326633453, 0.05559999868273735, 0.05939999967813492, 0.1940000057220459, -0.10369999706745148, 0.005499999970197678, 0.021299999207258224, 0.013000000268220901, 0.07599999755620956, -0.05490000173449516, 0.09610000252723694, 0.044199999421834946, -0.06210000067949295, 0.16419999301433563, -0.17000000178813934, 0.13989999890327454, -0.11999999731779099, -0.0868000015616417, 0.03460000082850456, -0.07129999995231628, -0.030500000342726707, 0.06589999794960022, -0.02500000037252903, 0.03720000013709068, 0.08160000294446945, 0.017500000074505806, 0.07069999724626541, -0.10700000077486038, -0.03240000084042549, 0.0706000030040741, 0.09000000357627869, 0.11779999732971191, 0.06970000267028809, -0.09889999777078629, 0.066600002348423, -0.0502999983727932, -0.014000000432133675, -0.03629999980330467, -0.19539999961853027, -0.16359999775886536, -0.11749999970197678, -0.033399999141693115, -0.04839999973773956, 0.13819999992847443, 0.010999999940395355, -0.05180000141263008, -0.1696999967098236, -0.09149999916553497, 0.08389999717473984, -0.06509999930858612, -0.08760000020265579, 0.17159999907016754, 0.0038999998942017555, 0.23810000717639923, 0.1096000000834465, 0.07479999959468842, -0.010999999940395355, -0.13680000603199005, 0.09799999743700027, 0.10440000146627426, 0.012799999676644802, -0.06960000097751617, -0.18199999630451202, 0.032099999487400055, -0.048900000751018524, -0.0017999999690800905, -0.08460000157356262, 0.05999999865889549, 0.061900001019239426, 0.022700000554323196, -0.07959999889135361, 0.07909999787807465, 0.1695999950170517, -0.032999999821186066, 0.08829999715089798, -0.0364999994635582, -0.20960000157356262, 0.14319999516010284, 0.09290000051259995, -0.07590000331401825, 0.10350000113248825, 0.10360000282526016, 0.01810000091791153, 0.027499999850988388, 0.008299999870359898, 0.014100000262260437, -0.010400000028312206, 0.10019999742507935, -0.16259999573230743, 0.00930000003427267, -0.03790000081062317, 0.06419999897480011, 0.09939999878406525, 0.013399999588727951, -0.16439999639987946, 0.11500000208616257, -0.002300000051036477, -0.026499999687075615, 0.10859999805688858, -0.0803999975323677, -0.2070000022649765, -0.18400000035762787, 0.010300000198185444, 0.20319999754428864, -0.1509999930858612, -0.1143999993801117, -0.03799999877810478, -0.042399998754262924, 0.16779999434947968, 0.2531000077724457, -0.14569999277591705, 0.08449999988079071, -0.13099999725818634, -0.017400000244379044, -0.0689999982714653, -0.06669999659061432, -0.017999999225139618, 0.026900000870227814, -0.044199999421834946, -0.09529999643564224, 0.0625, 0.005100000184029341, 0.032600000500679016, -0.02250000089406967, -0.10740000009536743, -0.13740000128746033, -0.004999999888241291, -0.06300000101327896, 0.02290000021457672, -0.05249999836087227, 0.05260000005364418, 0.010700000450015068, -0.09239999949932098, 0.09969999641180038, -0.1266999989748001, 0.07609999924898148, 0.13950000703334808, -0.1339000016450882, -0.014800000004470348, -0.043299999088048935, -0.15049999952316284, -0.06960000097751617, 0.10239999741315842, -0.08240000158548355, 0.09749999642372131, 0.05820000171661377, 0.08380000293254852, 0.022299999371170998, -0.2858000099658966, 0.23759999871253967, 0.04809999838471413, 0.02019999921321869, -0.09910000115633011, 0.019200000911951065, 0.12160000205039978, 0.02810000069439411, -0.08449999988079071, -0.07689999788999557, -0.14350000023841858, -0.1907999962568283, 0.0017000000225380063, -0.014000000432133675, 0.11069999635219574, 0.06120000034570694, -0.1923999935388565, -0.029999999329447746, 0.05400000140070915, 0.07119999825954437, 0.0771000012755394, -0.01209999993443489, 0.10029999911785126, -0.1606999933719635, -0.013899999670684338, -0.032499998807907104, -0.08780000358819962, 0.06350000202655792, -0.021900000050663948, -0.0333000011742115, -0.025299999862909317, -0.06549999862909317, -0.029999999329447746, 0.07429999858140945, 0.05739999935030937, 0.006899999920278788, -0.11509999632835388, 0.05810000002384186, -0.09179999679327011, -0.04910000041127205, -0.041200000792741776, 0.1460999995470047, -0.004699999932199717, 0.010499999858438969, 0.148499995470047, 0.030500000342726707, 0.07280000299215317, 0.10540000349283218, -0.04520000144839287, -0.030500000342726707, -0.05719999969005585, 0.08330000191926956, -0.14219999313354492, 0.053700000047683716, 0.008299999870359898, 0.0478999987244606, -0.11959999799728394, -0.11089999973773956, 0.026599999517202377, -0.07699999958276749, 0.014999999664723873, -0.009999999776482582, -0.06719999760389328, -0.08640000224113464, -0.04820000007748604, 0.02290000021457672, -9.999999747378752e-05, 0.06700000166893005, -0.01720000058412552, 0.04320000112056732, 0.02800000086426735, 0.06790000200271606, -0.04039999842643738, -0.11410000175237656, 0.15060000121593475, 0.15289999544620514, -0.08940000087022781, -0.007199999876320362, -0.0026000000070780516, 0.05220000073313713, -0.05869999900460243, -0.16689999401569366, 0.044599998742341995, -0.002099999925121665, 0.10540000349283218, -0.11779999732971191, 0.17139999568462372, 0.007899999618530273, 0.0608999989926815, 0.10499999672174454, -0.09309999644756317, -0.041200000792741776, -0.06840000301599503, 0.0364999994635582, 0.13199999928474426, -0.22470000386238098, 0.03220000118017197, 0.09130000323057175, 0.14059999585151672, -0.01360000018030405, -0.20440000295639038, -0.02419999986886978, 0.09260000288486481, -0.18690000474452972, 0.0019000000320374966, 0.03819999843835831, -0.0658000037074089, 0.09030000120401382, -0.03009999915957451, 0.07249999791383743, 0.055799998342990875, -0.17649999260902405, -0.120899997651577, 0.022600000724196434, -0.038600001484155655, 0.0034000000450760126, 0.005400000140070915, 0.007499999832361937, -0.06669999659061432, 0.005100000184029341, 0.06210000067949295, -0.02850000001490116, -0.05979999899864197, -0.03849999979138374, 0.059700001031160355, 0.0032999999821186066, -0.13189999759197235, 0.03269999846816063, -0.052299998700618744, 0.07880000025033951, 0.03420000150799751, 0.02850000001490116, 0.04360000044107437, -0.06599999964237213, -0.2676999866962433, 0.032999999821186066, -0.07779999822378159, -0.04520000144839287, -0.08110000193119049, -0.07079999893903732, -0.04639999940991402, 0.017000000923871994, 0.02160000056028366, -0.05979999899864197, -0.04839999973773956, -0.034699998795986176, 0.020099999383091927, -0.13259999454021454, -0.026499999687075615, -0.1860000044107437, 0.06960000097751617], [-0.031300000846385956, 0.0333000011742115, 0.03720000013709068, -0.03350000083446503, 0.031700000166893005, 0.01810000091791153, -0.03150000050663948, -0.07460000365972519, 0.06689999997615814, -0.008700000122189522, 0.02969999983906746, -0.003599999938160181, 0.0502999983727932, -0.040699999779462814, 0.04839999973773956, -0.029899999499320984, 0.061400000005960464, -0.019300000742077827, -0.005900000222027302, 0.05849999934434891, -0.02290000021457672, -0.07519999891519547, -0.00570000009611249, -0.03629999980330467, -0.0778999999165535, 0.01600000075995922, -0.037700001150369644, -0.043800000101327896, -0.0706000030040741, -0.019899999722838402, 0.014700000174343586, 0.05829999968409538, 0.03420000150799751, 0.0617000013589859, 0.006500000134110451, -0.05260000005364418, 0.048700001090765, -0.0007999999797903001, 0.03280000016093254, -0.03610000014305115, -0.03060000017285347, 0.04639999940991402, 0.009499999694526196, 0.03420000150799751, 0.004000000189989805, 0.04170000180602074, 0.04879999905824661, -0.02419999986886978, 0.023000000044703484, 0.0020000000949949026, -0.06870000064373016, -0.1340000033378601, 0.0032999999821186066, -0.031199999153614044, -0.013100000098347664, 0.07810000330209732, 0.021199999377131462, -0.02969999983906746, -0.00419999985024333, -0.023800000548362732, 0.15320000052452087, -0.010200000368058681, -9.999999747378752e-05, -0.065700002014637, 0.05050000175833702, 0.003599999938160181, -0.025299999862909317, -0.042100001126527786, -0.01489999983459711, 0.10360000282526016, 0.056299999356269836, 0.0215000007301569, 0.026399999856948853, 0.033900000154972076, 0.018200000748038292, -0.026499999687075615, -0.06270000338554382, 0.010099999606609344, -0.019899999722838402, 0.0027000000700354576, 0.05480000004172325, 0.01549999974668026, -0.06669999659061432, -0.025800000876188278, -0.03819999843835831, -0.0035000001080334187, -0.03909999877214432, -0.04479999840259552, 0.028999999165534973, 0.03500000014901161, -0.05469999834895134, -0.03909999877214432, -0.07769999653100967, 0.042500000447034836, -0.012199999764561653, -0.03880000114440918, 0.053599998354911804, -0.012900000438094139, -0.016599999740719795, -0.012600000016391277, -0.024399999529123306, 0.06199999898672104, -0.07720000296831131, 0.0007999999797903001, -0.024399999529123306, -0.09380000084638596, 0.13079999387264252, -0.02630000002682209, 0.0786999985575676, -0.019999999552965164, 0.0681999996304512, -0.06279999762773514, 0.03819999843835831, -0.021400000900030136, 0.16619999706745148, 0.023499999195337296, -0.05739999935030937, -0.006300000008195639, 0.03840000182390213, 0.05909999832510948, -0.006800000090152025, 0.010599999688565731, 0.004399999976158142, -0.012400000356137753, -0.017400000244379044, 0.009999999776482582, -0.04659999907016754, -0.0013000000035390258, -0.010499999858438969, -0.039400000125169754, 0.03759999945759773, 0.031099999323487282, -0.026200000196695328, 0.05700000002980232, 0.03500000014901161, -0.0471000000834465, 0.012000000104308128, -0.030500000342726707, 0.001500000013038516, -0.017999999225139618, 0.031700000166893005, -0.07779999822378159, -0.04170000180602074, 0.04989999905228615, -0.060600001364946365, 0.041200000792741776, -0.025299999862909317, -0.02319999970495701, 0.031300000846385956, -0.16459999978542328, 0.041600000113248825, -0.06639999896287918, -0.058800000697374344, -0.02759999968111515, 0.014800000004470348, 0.11969999969005585, 0.014700000174343586, 0.05130000039935112, 0.0575999990105629, 0.001500000013038516, -0.10369999706745148, 0.007499999832361937, 0.030899999663233757, -0.016599999740719795, -0.020899999886751175, -0.062199998646974564, 0.05389999970793724, -0.05000000074505806, 0.057999998331069946, -0.013899999670684338, 0.019200000911951065, 0.01940000057220459, 0.022700000554323196, -0.037300001829862595, -0.026399999856948853, 0.045899998396635056, 0.0674000009894371, 0.013700000010430813, 0.060600001364946365, 0.04690000042319298, 0.00279999990016222, -0.2102999985218048, -0.042899999767541885, 0.06669999659061432, -0.07739999890327454, 0.01269999984651804, 0.10140000283718109, -0.006000000052154064, 0.020999999716877937, 0.017100000753998756, -0.07569999992847443, 0.030799999833106995, 0.017899999395012856, 0.0210999995470047, -0.0019000000320374966, -0.039900001138448715, 0.027400000020861626, -0.008700000122189522, 0.00279999990016222, 0.08290000259876251, 0.03959999978542328, 0.04740000143647194, -0.0026000000070780516, 0.01510000042617321, -0.009800000116229057, -0.11429999768733978, 0.08309999853372574, 0.05889999866485596, -0.1274999976158142, 0.046799998730421066, 0.02889999933540821, -0.0689999982714653, 0.015699999406933784, -0.08510000258684158, 0.029400000348687172, -0.0012000000569969416, -0.004800000227987766, -0.020899999886751175, 0.029500000178813934, -0.04800000041723251, 0.007199999876320362, 0.014399999752640724, 0.03009999915957451, 0.09200000017881393, -0.023900000378489494, -0.006800000090152025, -0.06880000233650208, -0.03550000116229057, 0.004100000020116568, -0.09300000220537186, -0.002400000113993883, -0.023000000044703484, 0.08739999681711197, 0.04259999841451645, -0.09300000220537186, 0.09390000253915787, 0.01720000058412552, -0.04179999977350235, 0.08420000225305557, 0.020500000566244125, -0.03620000183582306, -0.08100000023841858, 0.0066999997943639755, -0.018300000578165054, 0.032099999487400055, 0.007000000216066837, -0.01140000019222498, -0.013199999928474426, 0.025699999183416367, 0.005900000222027302, -0.00019999999494757503, -0.029600000008940697, -0.025599999353289604, 0.02319999970495701, 0.005900000222027302, 0.02370000071823597, -0.053300000727176666, 0.08009999990463257, 0.04610000178217888, 0.030300000682473183, -0.01769999973475933, -0.08389999717473984, -0.06400000303983688, -0.04969999939203262, -0.07460000365972519, -0.006200000178068876, 0.06400000303983688, 0.0421999990940094, -0.04170000180602074, -0.02160000056028366, 0.044599998742341995, -0.03739999979734421, 0.007400000002235174, -0.022099999710917473, -0.009499999694526196, -0.12950000166893005, 0.027699999511241913, -0.025100000202655792, -0.021900000050663948, 0.03460000082850456, -0.005900000222027302, -0.007400000002235174, -0.07450000196695328, -0.07819999754428864, -0.013799999840557575, 0.00989999994635582, -0.007699999958276749, -0.10130000114440918, -0.02669999934732914, -0.048500001430511475, -0.10949999839067459, -0.0038999998942017555, -0.1071000024676323, -0.020999999716877937, 0.039400000125169754, 0.03779999911785126, -0.08869999647140503, -0.032600000500679016, -0.0010999999940395355, -0.07100000232458115], [0.015300000086426735, 0.022700000554323196, 0.041200000792741776, 0.03920000046491623, 0.10440000146627426, -0.007400000002235174, 0.007899999618530273, -0.10790000110864639, 0.06629999727010727, -0.1306000053882599, -0.05620000138878822, -0.0005000000237487257, -0.03290000185370445, -0.09790000319480896, -0.10170000046491623, -0.0038999998942017555, 0.04490000009536743, 0.005200000014156103, 0.10209999978542328, 0.16419999301433563, 0.0551999993622303, -0.018300000578165054, -0.04809999838471413, -0.01360000018030405, -0.00279999990016222, -0.0843999981880188, -0.05959999933838844, -0.056699998676776886, -0.06319999694824219, -0.10209999978542328, -0.06610000133514404, 0.17389999330043793, 0.003100000089034438, 0.041999999433755875, -0.07859999686479568, -0.0210999995470047, -0.09120000153779984, 0.016499999910593033, -0.07090000063180923, -0.01850000023841858, -0.14219999313354492, 0.01720000058412552, 0.017799999564886093, -0.04859999939799309, 0.022099999710917473, 0.06870000064373016, 0.0032999999821186066, 0.010099999606609344, 0.002400000113993883, -0.035100001841783524, 0.09009999781847, -0.07959999889135361, 0.003100000089034438, -0.0786999985575676, -0.05490000173449516, 0.11029999703168869, -0.05469999834895134, -0.024800000712275505, -0.22370000183582306, 0.10279999673366547, 0.031199999153614044, 0.0017999999690800905, -0.02669999934732914, 0.10010000318288803, -0.0044999998062849045, -0.02449999935925007, 0.017999999225139618, -0.048700001090765, -0.12780000269412994, -0.07429999858140945, 0.07119999825954437, 0.06800000369548798, 0.005900000222027302, 0.027799999341368675, 0.04170000180602074, -0.03229999914765358, -0.04560000076889992, -0.0006000000284984708, -0.036400001496076584, -0.00989999994635582, -0.01080000028014183, 0.07029999792575836, 0.04610000178217888, 0.10509999841451645, -0.006099999882280827, -0.03420000150799751, -0.06809999793767929, -0.002099999925121665, -0.04050000011920929, 0.03280000016093254, -0.07530000060796738, -0.043699998408555984, 0.04879999905824661, 0.03739999979734421, 0.0034000000450760126, -0.07109999656677246, 0.03819999843835831, 0.06750000268220901, -0.05810000002384186, -0.00839999970048666, -0.06930000334978104, 0.021199999377131462, -0.024399999529123306, 0.029999999329447746, 0.12210000306367874, -0.026200000196695328, 0.17579999566078186, -0.018699999898672104, -0.030700000002980232, 0.027899999171495438, 0.038600001484155655, -0.0714000016450882, 0.12449999898672104, 0.01810000091791153, 0.04659999907016754, 0.006899999920278788, 0.03240000084042549, -0.04170000180602074, -0.12839999794960022, 0.027699999511241913, -0.05990000069141388, 0.044199999421834946, -0.01640000008046627, -0.009100000374019146, -0.09830000251531601, -0.09189999848604202, -0.04089999943971634, -0.04960000142455101, -0.06109999865293503, 0.011099999770522118, 0.0868000015616417, -0.041999999433755875, 0.021400000900030136, -0.03909999877214432, -0.026100000366568565, 0.019099999219179153, 0.0640999972820282, 0.018699999898672104, -0.07599999755620956, 0.21610000729560852, 0.059700001031160355, -0.039900001138448715, -0.011900000274181366, 0.06279999762773514, -0.11720000207424164, -0.01269999984651804, 0.021700000390410423, -0.028300000354647636, 0.008500000461935997, -0.2240000069141388, 0.08489999920129776, -0.13910000026226044, -0.060499999672174454, 0.0019000000320374966, 0.01730000041425228, -0.003000000026077032, 0.0617000013589859, 0.03660000115633011, 0.02669999934732914, 0.042100001126527786, 0.08160000294446945, 0.003000000026077032, 0.04089999943971634, -0.015799999237060547, 0.08900000154972076, -0.06449999660253525, -0.021900000050663948, -0.11100000143051147, -0.1348000019788742, -0.06260000169277191, -0.14560000598430634, 0.014499999582767487, 0.05979999899864197, 0.04969999939203262, -0.032099999487400055, 0.00139999995008111, 0.054099999368190765, -0.10930000245571136, -0.03530000150203705, -0.04010000079870224, -0.12770000100135803, -0.0835999995470047, 0.042500000447034836, 0.03700000047683716, 0.0020000000949949026, -0.04699999839067459, 0.018300000578165054, 0.019999999552965164, 0.027899999171495438, -0.02280000038444996, -0.07240000367164612, 0.04179999977350235, 0.03959999978542328, 0.09099999815225601, -0.06960000097751617, -0.0689999982714653, -0.008999999612569809, 0.1274999976158142, -0.002400000113993883, -0.026200000196695328, 0.1031000018119812, 0.07169999927282333, 0.029500000178813934, 0.0031999999191612005, 0.07270000129938126, -0.059300001710653305, 0.004000000189989805, 0.04399999976158142, -0.01759999990463257, -0.03579999879002571, 0.008200000040233135, 0.0071000000461936, 0.023800000548362732, -0.07599999755620956, 0.03319999948143959, -0.0568000003695488, 0.014299999922513962, 0.026900000870227814, -0.04340000078082085, 0.012299999594688416, -0.11469999700784683, 0.12099999934434891, -0.003800000064074993, 0.09709999710321426, -0.013700000010430813, 0.04190000146627426, 0.07429999858140945, -0.02969999983906746, -0.03150000050663948, -0.029200000688433647, -0.0340999998152256, 0.02070000022649765, -0.0019000000320374966, -0.00800000037997961, 0.03539999946951866, 0.06530000269412994, 0.01979999989271164, -0.008899999782443047, -0.03229999914765358, 0.1111999973654747, -0.125, -0.06480000168085098, 0.035599999129772186, 0.06440000236034393, 0.07020000368356705, -0.010400000028312206, 0.03449999913573265, 0.053599998354911804, 0.013000000268220901, 0.0754999965429306, -0.04729999974370003, -0.023000000044703484, 0.09040000289678574, -0.019600000232458115, -0.052799999713897705, 0.10270000249147415, 0.03550000116229057, 0.03689999878406525, -0.07450000196695328, -0.02979999966919422, -0.0738999992609024, 0.06270000338554382, -0.013399999588727951, -0.017500000074505806, -0.07810000330209732, -0.1145000010728836, 0.02199999988079071, 0.11640000343322754, -0.07569999992847443, 0.010900000110268593, -0.054499998688697815, -0.03020000085234642, -0.02800000086426735, 0.09300000220537186, 0.017999999225139618, -0.17810000479221344, 0.05209999904036522, -0.014100000262260437, -0.10199999809265137, -0.11509999632835388, -0.03440000116825104, 0.01360000018030405, -0.12309999763965607, -0.04610000178217888, 0.13729999959468842, -0.026499999687075615, -0.065700002014637, 0.033799998462200165, -0.027799999341368675, -0.012600000016391277, -0.04729999974370003, 0.05609999969601631, 0.013199999928474426, 0.05130000039935112, -0.017500000074505806, -0.10360000282526016, -0.045099999755620956, -0.01979999989271164, 0.049400001764297485, 0.04769999906420708], [-0.08129999786615372, -0.040300000458955765, -0.03750000149011612, -0.0027000000700354576, 0.05389999970793724, -0.006399999838322401, 0.021900000050663948, -0.03590000048279762, -0.006200000178068876, 0.003599999938160181, -0.034299999475479126, -0.035599999129772186, -0.006899999920278788, 0.04619999974966049, -0.020400000736117363, -0.0430000014603138, 0.0333000011742115, 0.08089999854564667, 0.03739999979734421, 0.11840000003576279, 0.06629999727010727, 0.008799999952316284, 0.05559999868273735, 0.03750000149011612, -0.18150000274181366, 0.07819999754428864, 0.042899999767541885, 0.025599999353289604, -0.02250000089406967, -0.061900001019239426, 0.040300000458955765, -0.23960000276565552, 0.006800000090152025, -0.02590000070631504, 0.032499998807907104, 0.06809999793767929, -0.0038999998942017555, 0.03590000048279762, -0.028999999165534973, -0.03229999914765358, 0.07959999889135361, 0.4860000014305115, -0.05249999836087227, -0.01269999984651804, -0.047600001096725464, 0.015799999237060547, -0.023000000044703484, -0.034299999475479126, -0.05739999935030937, -0.010499999858438969, -0.012400000356137753, -0.20010000467300415, -0.00279999990016222, 0.026000000536441803, -0.02329999953508377, -0.02239999920129776, -0.0430000014603138, -0.2994000017642975, -0.14579999446868896, 0.020400000736117363, -0.48820000886917114, -0.028699999675154686, -0.0917000025510788, -0.010300000198185444, -0.022099999710917473, -0.13459999859333038, -0.0737999975681305, 0.07800000160932541, -0.0024999999441206455, -0.011699999682605267, -0.01899999938905239, -0.031700000166893005, 0.020899999886751175, 0.016100000590085983, 0.09179999679327011, -0.017400000244379044, 0.011500000022351742, -0.0008999999845400453, 0.156700000166893, 0.09480000287294388, 0.32510000467300415, -0.06120000034570694, 0.01360000018030405, 0.030700000002980232, 0.00039999998989515007, 0.08399999886751175, -0.059300001710653305, 0.01640000008046627, -0.07540000230073929, 0.11339999735355377, -0.01119999960064888, 0.08129999786615372, -0.3172000050544739, 0.05380000174045563, -0.03610000014305115, 0.23240000009536743, -0.018200000748038292, -0.012400000356137753, 0.005400000140070915, -0.00860000029206276, -0.05920000001788139, 0.2745000123977661, 0.04410000145435333, 0.0027000000700354576, 0.06750000268220901, -0.17589999735355377, 0.00800000037997961, 0.05389999970793724, 0.06729999929666519, -0.025699999183416367, -0.05570000037550926, -0.021700000390410423, -0.04879999905824661, 0.021900000050663948, 0.04439999908208847, -0.0544000007212162, 0.044199999421834946, -0.04129999876022339, -0.14069999754428864, 0.007799999788403511, 0.007899999618530273, 0.03579999879002571, 0.05590000003576279, 0.012000000104308128, -0.08269999921321869, 0.011099999770522118, 0.028599999845027924, 0.0031999999191612005, -0.04450000077486038, 0.05590000003576279, -0.04100000113248825, 0.04340000078082085, -0.023000000044703484, 0.03150000050663948, -0.02280000038444996, -0.08990000188350677, -0.06830000132322311, 0.023000000044703484, -0.032499998807907104, -0.01850000023841858, -0.0731000006198883, -0.047200001776218414, 0.039900001138448715, -0.03449999913573265, 0.06710000336170197, 0.08479999750852585, -0.038100000470876694, 0.032099999487400055, 0.00570000009611249, -0.7978000044822693, 0.07129999995231628, -0.0989999994635582, 0.0017000000225380063, 0.21289999783039093, 0.034699998795986176, 0.007400000002235174, 0.07810000330209732, 0.031099999323487282, 0.00930000003427267, -0.011800000444054604, 0.1152999997138977, -0.07750000059604645, 0.04639999940991402, 0.01860000006854534, -0.01080000028014183, -0.01730000041425228, 0.061400000005960464, 0.014700000174343586, -0.07660000026226044, -0.05380000174045563, -0.10729999840259552, -0.03180000185966492, -0.002899999963119626, 0.34060001373291016, -0.013100000098347664, -0.035599999129772186, 0.022700000554323196, 0.03099999949336052, 0.028999999165534973, -0.038600001484155655, 0.0471000000834465, -0.32359999418258667, 0.1128000020980835, -0.0017000000225380063, 0.020600000396370888, -0.022700000554323196, -0.06710000336170197, -0.06080000102519989, 0.18359999358654022, -0.010200000368058681, -0.007000000216066837, -0.01860000006854534, -0.03550000116229057, -0.03480000048875809, -0.024800000712275505, 0.0007999999797903001, 0.04179999977350235, 0.05339999869465828, 0.053300000727176666, -0.04320000112056732, -0.04820000007748604, 0.03539999946951866, 0.029400000348687172, 0.05000000074505806, 0.06270000338554382, -1.2355999946594238, -0.30709999799728394, 0.07760000228881836, 0.062199998646974564, 0.030799999833106995, 0.022700000554323196, -0.008999999612569809, -0.04050000011920929, -0.13089999556541443, 0.006399999838322401, -0.048500001430511475, -0.007199999876320362, -0.03689999878406525, -0.028999999165534973, -0.07649999856948853, 0.012799999676644802, -0.010900000110268593, -0.02370000071823597, -0.4244999885559082, 0.03759999945759773, -0.029200000688433647, -0.020800000056624413, 0.050599999725818634, -0.023499999195337296, 0.07880000025033951, -0.10279999673366547, 0.026900000870227814, 0.010999999940395355, 0.0215000007301569, -0.007899999618530273, 0.003599999938160181, 0.3188999891281128, 0.022600000724196434, 0.07129999995231628, -0.08579999953508377, 0.013700000010430813, -0.012199999764561653, -0.08969999849796295, 0.0674000009894371, 0.07020000368356705, 0.09920000284910202, -0.02199999988079071, -0.015699999406933784, 0.028599999845027924, -0.1371999979019165, 0.2071000039577484, 0.07400000095367432, 0.04490000009536743, 0.10840000212192535, -0.002199999988079071, -0.01140000019222498, 0.01600000075995922, -0.04610000178217888, 0.0908999964594841, -0.06350000202655792, -0.04560000076889992, -0.05559999868273735, 0.021800000220537186, 0.08969999849796295, 0.04190000146627426, -0.07739999890327454, 0.04919999837875366, 0.00930000003427267, 0.10819999873638153, -0.006599999964237213, -0.008200000040233135, -0.055799998342990875, 0.16519999504089355, -0.06319999694824219, -0.03629999980330467, 0.00019999999494757503, -0.01679999940097332, -0.013100000098347664, -0.00860000029206276, -0.013100000098347664, 0.20020000636577606, -9.999999747378752e-05, -0.026799999177455902, 0.3149000108242035, -0.043699998408555984, 0.02889999933540821, 0.07559999823570251, -0.02930000051856041, 0.049300000071525574, 0.009700000286102295, 0.06549999862909317, 0.014299999922513962, -0.023000000044703484, 0.02590000070631504, 0.12080000340938568, 0.032999999821186066, 0.04479999840259552, 0.07639999687671661, 0.036400001496076584, -0.05590000003576279]])]"
            ]
          },
          "metadata": {},
          "execution_count": 55
        }
      ]
    },
    {
      "cell_type": "markdown",
      "source": [
        "##Elmo Embeddings\n",
        "\n",
        "Computes contextualized word representations using character-based word representations and bidirectional LSTMs.\n",
        "\n",
        "It can work with 4 different pooling layer options: `word_emb`, \n",
        "`lstm_outputs1`, `lstm_outputs2`, or `elmo`"
      ],
      "metadata": {
        "id": "yPAQbFF1qxqe"
      }
    },
    {
      "cell_type": "code",
      "source": [
        "elmo_embeddings = ElmoEmbeddings.pretrained('elmo')\\\n",
        "          .setInputCols([\"document\", \"token\"])\\\n",
        "          .setOutputCol(\"embeddings\")\\\n",
        "          .setPoolingLayer('elmo')# default --> elmo"
      ],
      "metadata": {
        "id": "KOgYqXyTqGPE",
        "colab": {
          "base_uri": "https://localhost:8080/"
        },
        "outputId": "64ce732b-f873-4850-8d00-12925336bbc3"
      },
      "execution_count": 56,
      "outputs": [
        {
          "output_type": "stream",
          "name": "stdout",
          "text": [
            "elmo download started this may take some time.\n",
            "Approximate size to download 334.1 MB\n",
            "[OK!]\n"
          ]
        }
      ]
    },
    {
      "cell_type": "code",
      "source": [
        "nlpPipeline = Pipeline(stages=[\n",
        " documentAssembler, \n",
        " tokenizer,\n",
        " elmo_embeddings\n",
        " ])\n",
        "\n",
        "empty_df = spark.createDataFrame([['']]).toDF(\"text\")\n",
        "\n",
        "pipelineModel = nlpPipeline.fit(empty_df)\n",
        "\n",
        "result = pipelineModel.transform(news_df.limit(10))\n",
        "\n",
        "#result_df = result.select(F.explode(F.arrays_zip('token.result', 'embeddings.embeddings')).alias(\"cols\")) \\\n",
        "#.select(F.expr(\"cols['0']\").alias(\"token\"),\n",
        "#        F.expr(\"cols['1']\").alias(\"elmo_embeddings\"))\n",
        "\n",
        "#result_df.show(truncate=100)"
      ],
      "metadata": {
        "id": "A2mhn4AOrDqP"
      },
      "execution_count": 57,
      "outputs": []
    },
    {
      "cell_type": "markdown",
      "source": [
        "### Bert Embeddings\n",
        "\n",
        "BERT (Bidirectional Encoder Representations from Transformers) provides dense vector representations for natural language by using a deep, pre-trained neural network with the Transformer architecture\n",
        "\n",
        "It can work with 3 different pooling layer options: `0`, \n",
        "`-1`, or `-2`"
      ],
      "metadata": {
        "id": "gr6l0n6KruHL"
      }
    },
    {
      "cell_type": "code",
      "source": [
        "bert_embeddings = BertEmbeddings.pretrained('bert_base_uncased')\\\n",
        "          .setInputCols([\"document\", \"token\"])\\\n",
        "          .setOutputCol(\"embeddings\")"
      ],
      "metadata": {
        "id": "JOBvzErSrkvr",
        "colab": {
          "base_uri": "https://localhost:8080/"
        },
        "outputId": "cb52bfc7-0361-4138-fecf-0137caf972e9"
      },
      "execution_count": 58,
      "outputs": [
        {
          "output_type": "stream",
          "name": "stdout",
          "text": [
            "bert_base_uncased download started this may take some time.\n",
            "Approximate size to download 392.5 MB\n",
            "[OK!]\n"
          ]
        }
      ]
    },
    {
      "cell_type": "code",
      "source": [
        "nlpPipeline = Pipeline(stages=[\n",
        " documentAssembler, \n",
        " tokenizer,\n",
        " bert_embeddings\n",
        " ])\n",
        "\n",
        "empty_df = spark.createDataFrame([['']]).toDF(\"text\")\n",
        "\n",
        "pipelineModel = nlpPipeline.fit(empty_df)\n",
        "\n",
        "result = pipelineModel.transform(news_df.limit(10))\n",
        "\n",
        "#result_df = result.select(F.explode(F.arrays_zip('token.result', 'embeddings.embeddings')).alias(\"cols\")) \\\n",
        "#.select(F.expr(\"cols['0']\").alias(\"token\"),\n",
        "#        F.expr(\"cols['1']\").alias(\"bert_embeddings\"))\n",
        "\n",
        "#result_df.show(truncate=100)"
      ],
      "metadata": {
        "id": "jb_rqXWdr3J1"
      },
      "execution_count": 59,
      "outputs": []
    },
    {
      "cell_type": "markdown",
      "source": [
        "### Chunk Embeddings\n",
        "\n",
        "This annotator utilizes `WordEmbeddings` or `BertEmbeddings` to generate chunk embeddings from either `TextMatcher`, `RegexMatcher`, `Chunker`, `NGramGenerator`, or `NerConverter` outputs.\n",
        "\n",
        "`setPoolingStrategy`: Choose how you would like to aggregate Word Embeddings to Sentence Embeddings: `AVERAGE` or `SUM`"
      ],
      "metadata": {
        "id": "xnlBqpn4sNZI"
      }
    },
    {
      "cell_type": "code",
      "source": [
        "news_df.take(3)"
      ],
      "metadata": {
        "id": "rEZ7FRQPr-IL",
        "colab": {
          "base_uri": "https://localhost:8080/"
        },
        "outputId": "e4f01057-db9e-4132-d4f9-1f3e7b430818"
      },
      "execution_count": 60,
      "outputs": [
        {
          "output_type": "execute_result",
          "data": {
            "text/plain": [
              "[Row(category='Business', text=\"Unions representing workers at Turner   Newall say they are 'disappointed' after talks with stricken parent firm Federal Mogul.\"),\n",
              " Row(category='Sci/Tech', text=' TORONTO, Canada    A second team of rocketeers competing for the  #36;10 million Ansari X Prize, a contest for privately funded suborbital space flight, has officially announced the first launch date for its manned rocket.'),\n",
              " Row(category='Sci/Tech', text=' A company founded by a chemistry researcher at the University of Louisville won a grant to develop a method of producing better peptides, which are short chains of amino acids, the building blocks of proteins.')]"
            ]
          },
          "metadata": {},
          "execution_count": 60
        }
      ]
    },
    {
      "cell_type": "code",
      "source": [
        "entities = ['parent firm', 'economy', 'amino acids']\n",
        "with open ('entities.txt', 'w') as f:\n",
        "    for i in entities:\n",
        "        f.write(i+'\\n')\n",
        "\n",
        "entity_extractor = TextMatcher() \\\n",
        "    .setInputCols([\"document\",'token'])\\\n",
        "    .setOutputCol(\"entities\")\\\n",
        "    .setEntities(\"entities.txt\")\\\n",
        "    .setCaseSensitive(False)\\\n",
        "    .setEntityValue('entities')\n",
        "\n",
        "nlpPipeline = Pipeline(stages=[\n",
        " documentAssembler, \n",
        " tokenizer,\n",
        " entity_extractor\n",
        " ])\n",
        "\n",
        "empty_df = spark.createDataFrame([['']]).toDF(\"text\")\n",
        "\n",
        "pipelineModel = nlpPipeline.fit(empty_df)"
      ],
      "metadata": {
        "id": "-sJ9k2Dks_5x"
      },
      "execution_count": 61,
      "outputs": []
    },
    {
      "cell_type": "code",
      "source": [
        "result = pipelineModel.transform(news_df.limit(10))\n",
        "\n",
        "result.select('entities.result').take(3)"
      ],
      "metadata": {
        "id": "BRxRd8nWBxUv",
        "colab": {
          "base_uri": "https://localhost:8080/"
        },
        "outputId": "afe54cf6-a652-4e36-9dee-66e2be3987a1"
      },
      "execution_count": 62,
      "outputs": [
        {
          "output_type": "execute_result",
          "data": {
            "text/plain": [
              "[Row(result=['parent firm']), Row(result=[]), Row(result=['amino acids'])]"
            ]
          },
          "metadata": {},
          "execution_count": 62
        }
      ]
    },
    {
      "cell_type": "code",
      "source": [
        "chunk_embeddings = ChunkEmbeddings() \\\n",
        "            .setInputCols([\"entities\", \"embeddings\"]) \\\n",
        "            .setOutputCol(\"chunk_embeddings\") \\\n",
        "            .setPoolingStrategy(\"AVERAGE\")\n",
        "\n",
        "nlpPipeline = Pipeline(stages=[\n",
        " documentAssembler, \n",
        " tokenizer,\n",
        " entity_extractor,\n",
        " glove_embeddings,\n",
        " chunk_embeddings\n",
        " ])\n",
        "\n",
        "empty_df = spark.createDataFrame([['']]).toDF(\"text\")\n",
        "\n",
        "pipelineModel = nlpPipeline.fit(empty_df)"
      ],
      "metadata": {
        "id": "g1I4FN1NByd4"
      },
      "execution_count": 63,
      "outputs": []
    },
    {
      "cell_type": "code",
      "source": [
        "result = pipelineModel.transform(news_df.limit(10))\n",
        "\n",
        "#result_df = result.select(F.explode(F.arrays_zip('entities.result', 'chunk_embeddings.embeddings')).alias(\"cols\")) \\\n",
        "#.select(F.expr(\"cols['0']\").alias(\"entities\"),\n",
        "#        F.expr(\"cols['1']\").alias(\"glove_embeddings\"))\n",
        "\n",
        "#result_df.show(truncate=100)"
      ],
      "metadata": {
        "id": "AZ8dRXgFIIMh"
      },
      "execution_count": 64,
      "outputs": []
    },
    {
      "cell_type": "markdown",
      "source": [
        "### Universal Sentence Encoder\n",
        "\n",
        "The Universal Sentence Encoder encodes text into high dimensional vectors that can be used for text classification, semantic similarity, clustering and other natural language tasks."
      ],
      "metadata": {
        "id": "1Z-X4N_SIXsz"
      }
    },
    {
      "cell_type": "code",
      "source": [
        "# no need for token columns \n",
        "use_embeddings = UniversalSentenceEncoder.pretrained(\"tfhub_use_multi\", \"xx\") \\\n",
        "      .setInputCols(\"document\") \\\n",
        "      .setOutputCol(\"sentence_embeddings\")"
      ],
      "metadata": {
        "id": "MoswX-ftISal",
        "colab": {
          "base_uri": "https://localhost:8080/"
        },
        "outputId": "9895a873-db12-4cc6-a29d-82d7fd377e75"
      },
      "execution_count": 65,
      "outputs": [
        {
          "output_type": "stream",
          "name": "stdout",
          "text": [
            "tfhub_use_multi download started this may take some time.\n",
            "Approximate size to download 250.5 MB\n",
            "[OK!]\n"
          ]
        }
      ]
    },
    {
      "cell_type": "code",
      "source": [
        "nlpPipeline = Pipeline(stages=[\n",
        " documentAssembler, \n",
        " use_embeddings\n",
        " ])\n",
        "\n",
        "empty_df = spark.createDataFrame([['']]).toDF(\"text\")\n",
        "\n",
        "pipelineModel = nlpPipeline.fit(empty_df)\n",
        "\n",
        "result = pipelineModel.transform(news_df.limit(10))\n",
        "\n",
        "#result_df = result.select(F.explode(F.arrays_zip('document.result', 'sentence_embeddings.embeddings')).alias(\"cols\")) \\\n",
        "#.select(F.expr(\"cols['0']\").alias(\"document\"),\n",
        "#        F.expr(\"cols['1']\").alias(\"USE_embeddings\"))\n",
        "\n",
        "#result_df.show(truncate=100)"
      ],
      "metadata": {
        "id": "v049mGIvHFS8"
      },
      "execution_count": 66,
      "outputs": []
    },
    {
      "cell_type": "markdown",
      "source": [
        "## Loading Models from local"
      ],
      "metadata": {
        "id": "kvW9ja2KHwJh"
      }
    },
    {
      "cell_type": "code",
      "source": [
        "!cd ~/cache_pretrained && pwd"
      ],
      "metadata": {
        "id": "Zq0HyDC9HqPX",
        "colab": {
          "base_uri": "https://localhost:8080/"
        },
        "outputId": "66604902-55d3-4239-bf21-17e9c636408d"
      },
      "execution_count": 67,
      "outputs": [
        {
          "output_type": "stream",
          "name": "stdout",
          "text": [
            "/root/cache_pretrained\n"
          ]
        }
      ]
    },
    {
      "cell_type": "code",
      "source": [
        "!cd ~/cache_pretrained && ls -l"
      ],
      "metadata": {
        "id": "KpSLSSKSHyVl",
        "colab": {
          "base_uri": "https://localhost:8080/"
        },
        "outputId": "5eb243d1-43b1-4141-c7cf-99f2335d424f"
      },
      "execution_count": 68,
      "outputs": [
        {
          "output_type": "stream",
          "name": "stdout",
          "text": [
            "total 60\n",
            "drwxr-xr-x 4 root root 4096 Mar 30 10:38 bert_base_uncased_en_2.6.0_2.4_1598340514223\n",
            "drwxr-xr-x 4 root root 4096 Mar 30 10:31 dependency_conllu_en_2.0.8_2.4_1561435004077\n",
            "drwxr-xr-x 4 root root 4096 Mar 30 10:31 dependency_typed_conllu_en_2.0.8_2.4_1561473259215\n",
            "drwxr-xr-x 4 root root 4096 Mar 30 10:32 detect_language_220_xx_2.7.0_2.4_1607185721383\n",
            "drwxr-xr-x 3 root root 4096 Mar 30 10:38 elmo_en_2.4.0_2.4_1580488815299\n",
            "drwxr-xr-x 4 root root 4096 Mar 30 10:32 glove_100d_en_2.4.0_2.4_1579690104032\n",
            "drwxr-xr-x 4 root root 4096 Mar 30 10:32 ld_wiki_tatoeba_cnn_375_xx_2.7.0_2.4_1607184873730\n",
            "drwxr-xr-x 4 root root 4096 Mar 30 10:30 lemma_antbnc_en_2.0.2_2.4_1556480454569\n",
            "drwxr-xr-x 4 root root 4096 Mar 30 10:31 pos_anc_en_2.0.2_2.4_1556659930154\n",
            "drwxr-xr-x 4 root root 4096 Mar 30 10:32 spellcheck_dl_en_2.7.2_2.4_1611394065565\n",
            "drwxr-xr-x 4 root root 4096 Mar 30 10:31 spellcheck_norvig_en_2.1.0_2.4_1563017660080\n",
            "drwxr-xr-x 3 root root 4096 Mar 30 10:31 stopwords_de_de_2.5.4_2.4_1594742442247\n",
            "drwxr-xr-x 3 root root 4096 Mar 30 10:31 stopwords_en_en_2.5.4_2.4_1594742439135\n",
            "drwxr-xr-x 3 root root 4096 Mar 30 10:31 stopwords_es_es_2.5.4_2.4_1594742441303\n",
            "drwxr-xr-x 3 root root 4096 Mar 30 10:39 tfhub_use_multi_xx_2.7.0_2.4_1607427221245\n"
          ]
        }
      ]
    },
    {
      "cell_type": "code",
      "source": [
        "glove_embeddings = WordEmbeddingsModel.load('/root/cache_pretrained/glove_100d_en_2.4.0_2.4_1579690104032').\\\n",
        "  setInputCols([\"document\", 'token']).\\\n",
        "  setOutputCol(\"glove_embeddings\")"
      ],
      "metadata": {
        "id": "rmll7yHMH2Xh"
      },
      "execution_count": 69,
      "outputs": []
    },
    {
      "cell_type": "markdown",
      "source": [
        "## Getting Sentence Embeddings from word embeddings"
      ],
      "metadata": {
        "id": "-hwbIciGKFpA"
      }
    },
    {
      "cell_type": "code",
      "source": [
        "glove_embeddings = WordEmbeddingsModel.pretrained('glove_100d')\\\n",
        "          .setInputCols([\"document\", \"token\"])\\\n",
        "          .setOutputCol(\"embeddings\")\n",
        "\n",
        "embeddingsSentence = SentenceEmbeddings() \\\n",
        "      .setInputCols([\"document\", \"embeddings\"]) \\\n",
        "      .setOutputCol(\"sentence_embeddings\") \\\n",
        "      .setPoolingStrategy(\"AVERAGE\") # or SUM\n",
        "\n",
        "\n",
        "nlpPipeline = Pipeline(stages=[\n",
        " documentAssembler, \n",
        " tokenizer,\n",
        " glove_embeddings,\n",
        " embeddingsSentence\n",
        " ])\n",
        "\n",
        "empty_df = spark.createDataFrame([['']]).toDF(\"text\")\n",
        "\n",
        "pipelineModel = nlpPipeline.fit(empty_df)\n",
        "\n",
        "result = pipelineModel.transform(news_df.limit(10))\n",
        "\n",
        "#result_df = result.select(F.explode(F.arrays_zip('document.result', 'sentence_embeddings.embeddings')).alias(\"cols\")) \\\n",
        "#.select(F.expr(\"cols['0']\").alias(\"document\"),\n",
        "#        F.expr(\"cols['1']\").alias(\"sentence_embeddings\"))\n",
        "\n",
        "result.show(truncate=100)\n",
        "\n"
      ],
      "metadata": {
        "id": "EzWIvaddKAKp",
        "colab": {
          "base_uri": "https://localhost:8080/"
        },
        "outputId": "6efc9ba4-430f-4409-d743-bfcf545026fd"
      },
      "execution_count": 70,
      "outputs": [
        {
          "output_type": "stream",
          "name": "stdout",
          "text": [
            "glove_100d download started this may take some time.\n",
            "Approximate size to download 145.3 MB\n",
            "[OK!]\n",
            "+--------+----------------------------------------------------------------------------------------------------+----------------------------------------------------------------------------------------------------+----------------------------------------------------------------------------------------------------+----------------------------------------------------------------------------------------------------+----------------------------------------------------------------------------------------------------+\n",
            "|category|                                                                                                text|                                                                                            document|                                                                                               token|                                                                                          embeddings|                                                                                 sentence_embeddings|\n",
            "+--------+----------------------------------------------------------------------------------------------------+----------------------------------------------------------------------------------------------------+----------------------------------------------------------------------------------------------------+----------------------------------------------------------------------------------------------------+----------------------------------------------------------------------------------------------------+\n",
            "|Business|Unions representing workers at Turner   Newall say they are 'disappointed' after talks with stric...|[[document, 0, 126, Unions representing workers at Turner   Newall say they are 'disappointed' af...|[[token, 0, 5, Unions, [sentence -> 0], []], [token, 7, 18, representing, [sentence -> 0], []], [...|[[word_embeddings, 0, 5, Unions, [isOOV -> false, pieceId -> -1, isWordStart -> true, token -> Un...|[[sentence_embeddings, 0, 126, Unions representing workers at Turner   Newall say they are 'disap...|\n",
            "|Sci/Tech| TORONTO, Canada    A second team of rocketeers competing for the  #36;10 million Ansari X Prize,...|[[document, 0, 222,  TORONTO, Canada    A second team of rocketeers competing for the  #36;10 mil...|[[token, 1, 7, TORONTO, [sentence -> 0], []], [token, 8, 8, ,, [sentence -> 0], []], [token, 10, ...|[[word_embeddings, 1, 7, TORONTO, [isOOV -> false, pieceId -> -1, isWordStart -> true, token -> T...|[[sentence_embeddings, 0, 222,  TORONTO, Canada    A second team of rocketeers competing for the ...|\n",
            "|Sci/Tech| A company founded by a chemistry researcher at the University of Louisville won a grant to devel...|[[document, 0, 209,  A company founded by a chemistry researcher at the University of Louisville ...|[[token, 1, 1, A, [sentence -> 0], []], [token, 3, 9, company, [sentence -> 0], []], [token, 11, ...|[[word_embeddings, 1, 1, A, [isOOV -> false, pieceId -> -1, isWordStart -> true, token -> A, sent...|[[sentence_embeddings, 0, 209,  A company founded by a chemistry researcher at the University of ...|\n",
            "|Sci/Tech| It's barely dawn when Mike Fitzpatrick starts his shift with a blur of colorful maps, figures an...|[[document, 0, 267,  It's barely dawn when Mike Fitzpatrick starts his shift with a blur of color...|[[token, 1, 4, It's, [sentence -> 0], []], [token, 6, 11, barely, [sentence -> 0], []], [token, 1...|[[word_embeddings, 1, 4, It's, [isOOV -> true, pieceId -> -1, isWordStart -> true, token -> It's,...|[[sentence_embeddings, 0, 267,  It's barely dawn when Mike Fitzpatrick starts his shift with a bl...|\n",
            "|Sci/Tech| Southern California's smog fighting agency went after emissions of the bovine variety Friday, ad...|[[document, 0, 174,  Southern California's smog fighting agency went after emissions of the bovin...|[[token, 1, 8, Southern, [sentence -> 0], []], [token, 10, 21, California's, [sentence -> 0], []]...|[[word_embeddings, 1, 8, Southern, [isOOV -> false, pieceId -> -1, isWordStart -> true, token -> ...|[[sentence_embeddings, 0, 174,  Southern California's smog fighting agency went after emissions o...|\n",
            "|Sci/Tech|\"The British Department for Education and Skills (DfES) recently launched a \"\"Music Manifesto\"\" c...|[[document, 0, 103, \"The British Department for Education and Skills (DfES) recently launched a \"...|[[token, 0, 0, \", [sentence -> 0], []], [token, 1, 3, The, [sentence -> 0], []], [token, 5, 11, B...|[[word_embeddings, 0, 0, \", [isOOV -> false, pieceId -> -1, isWordStart -> true, token -> \", sent...|[[sentence_embeddings, 0, 103, \"The British Department for Education and Skills (DfES) recently l...|\n",
            "|Sci/Tech|\"confessed author of the Netsky and Sasser viruses, is responsible for 70 percent of virus infect...|[[document, 0, 347, \"confessed author of the Netsky and Sasser viruses, is responsible for 70 per...|[[token, 0, 0, \", [sentence -> 0], []], [token, 1, 9, confessed, [sentence -> 0], []], [token, 11...|[[word_embeddings, 0, 0, \", [isOOV -> false, pieceId -> -1, isWordStart -> true, token -> \", sent...|[[sentence_embeddings, 0, 347, \"confessed author of the Netsky and Sasser viruses, is responsible...|\n",
            "|Sci/Tech|\\\\FOAF/LOAF  and bloom filters have a lot of interesting properties for social\\network and whitel...|[[document, 0, 707, \\\\FOAF/LOAF  and bloom filters have a lot of interesting properties for socia...|[[token, 0, 10, \\\\FOAF/LOAF, [sentence -> 0], []], [token, 13, 15, and, [sentence -> 0], []], [to...|[[word_embeddings, 0, 10, \\\\FOAF/LOAF, [isOOV -> true, pieceId -> -1, isWordStart -> true, token ...|[[sentence_embeddings, 0, 707, \\\\FOAF/LOAF  and bloom filters have a lot of interesting propertie...|\n",
            "|Sci/Tech|               \"Wiltshire Police warns about \"\"phishing\"\" after its fraud squad chief was targeted.\"|[[document, 0, 84, \"Wiltshire Police warns about \"\"phishing\"\" after its fraud squad chief was tar...|[[token, 0, 0, \", [sentence -> 0], []], [token, 1, 9, Wiltshire, [sentence -> 0], []], [token, 11...|[[word_embeddings, 0, 0, \", [isOOV -> false, pieceId -> -1, isWordStart -> true, token -> \", sent...|[[sentence_embeddings, 0, 84, \"Wiltshire Police warns about \"\"phishing\"\" after its fraud squad ch...|\n",
            "|Sci/Tech|In its first two years, the UK's dedicated card fraud unit, has recovered 36,000 stolen cards and...|[[document, 0, 138, In its first two years, the UK's dedicated card fraud unit, has recovered 36,...|[[token, 0, 1, In, [sentence -> 0], []], [token, 3, 5, its, [sentence -> 0], []], [token, 7, 11, ...|[[word_embeddings, 0, 1, In, [isOOV -> false, pieceId -> -1, isWordStart -> true, token -> In, se...|[[sentence_embeddings, 0, 138, In its first two years, the UK's dedicated card fraud unit, has re...|\n",
            "+--------+----------------------------------------------------------------------------------------------------+----------------------------------------------------------------------------------------------------+----------------------------------------------------------------------------------------------------+----------------------------------------------------------------------------------------------------+----------------------------------------------------------------------------------------------------+\n",
            "\n"
          ]
        }
      ]
    },
    {
      "cell_type": "markdown",
      "source": [
        "### Cosine similarity between two embeddings (sentence similarity)"
      ],
      "metadata": {
        "id": "ycL8I-y1MXS2"
      }
    },
    {
      "cell_type": "code",
      "source": [
        "from scipy.spatial import distance\n",
        "\n",
        "import numpy as np\n",
        "\n",
        "#v1 = result_df.select('sentence_embeddings').take(2)[0][0]\n",
        "\n",
        "#v2 = result_df.select('sentence_embeddings').take(2)[1][0]\n",
        "\n",
        "#1 - distance.cosine(np.array(v1), np.array(v2))"
      ],
      "metadata": {
        "id": "Vi2KdAfQKTqN"
      },
      "execution_count": 71,
      "outputs": []
    },
    {
      "cell_type": "code",
      "source": [
        "#v2 = result_df.select('sentence_embeddings').take(2)[0][0]\n",
        "\n",
        "#1 - distance.cosine(np.array(v1), np.array(v2))"
      ],
      "metadata": {
        "id": "hAzhcGSgMaRv"
      },
      "execution_count": 72,
      "outputs": []
    },
    {
      "cell_type": "markdown",
      "source": [
        "## NERDL Model\n",
        "\n",
        "### Public NER (CoNLL 2003)\n",
        "\n",
        "<p><strong>Named-Entity recognition</strong> is a well-known technique in information extraction it is also known as&nbsp;<strong>entity identification</strong>,&nbsp;<strong>entity chunking</strong>&nbsp;and&nbsp;<strong>entity extraction.</strong>&nbsp;Knowing the relevant tags for each article help in automatically categorizing the articles in defined hierarchies and enable smooth content discovery.\n",
        "\n",
        "Entities\n",
        "\n",
        "``` PERSON, LOCATION, ORGANIZATION, MISC ```"
      ],
      "metadata": {
        "id": "qPzI8H4HNRTA"
      }
    },
    {
      "cell_type": "code",
      "source": [
        "public_ner = NerDLModel.pretrained(\"ner_dl\", 'en') \\\n",
        "          .setInputCols([\"document\", \"token\", \"embeddings\"]) \\\n",
        "          .setOutputCol(\"ner\")"
      ],
      "metadata": {
        "id": "3Bc7gTmGNQMe",
        "colab": {
          "base_uri": "https://localhost:8080/"
        },
        "outputId": "9f4e5528-be4a-486e-f6a2-e022ab960ab4"
      },
      "execution_count": 73,
      "outputs": [
        {
          "output_type": "stream",
          "name": "stdout",
          "text": [
            "ner_dl download started this may take some time.\n",
            "Approximate size to download 13.6 MB\n",
            "[OK!]\n"
          ]
        }
      ]
    },
    {
      "cell_type": "code",
      "source": [
        "public_ner.extractParamMap()"
      ],
      "metadata": {
        "id": "ejdIJgMNXKAS",
        "colab": {
          "base_uri": "https://localhost:8080/"
        },
        "outputId": "a156f15e-a20d-4dbc-d65e-3e89fa8b335d"
      },
      "execution_count": 74,
      "outputs": [
        {
          "output_type": "execute_result",
          "data": {
            "text/plain": [
              "{Param(parent='NerDLModel_d4424c9af5f4', name='batchSize', doc='Size of every batch.'): 32,\n",
              " Param(parent='NerDLModel_d4424c9af5f4', name='classes', doc='get the tags used to trained this NerDLModel'): ['O',\n",
              "  'B-ORG',\n",
              "  'B-LOC',\n",
              "  'B-PER',\n",
              "  'I-PER',\n",
              "  'I-ORG',\n",
              "  'B-MISC',\n",
              "  'I-LOC',\n",
              "  'I-MISC'],\n",
              " Param(parent='NerDLModel_d4424c9af5f4', name='includeConfidence', doc='whether to include confidence scores in annotation metadata'): False,\n",
              " Param(parent='NerDLModel_d4424c9af5f4', name='inputCols', doc='previous annotations columns, if renamed'): ['document',\n",
              "  'token',\n",
              "  'embeddings'],\n",
              " Param(parent='NerDLModel_d4424c9af5f4', name='lazyAnnotator', doc='Whether this AnnotatorModel acts as lazy in RecursivePipelines'): False,\n",
              " Param(parent='NerDLModel_d4424c9af5f4', name='outputCol', doc='output annotation column. can be left default.'): 'ner',\n",
              " Param(parent='NerDLModel_d4424c9af5f4', name='storageRef', doc='unique reference name for identification'): 'glove_100d'}"
            ]
          },
          "metadata": {},
          "execution_count": 74
        }
      ]
    },
    {
      "cell_type": "code",
      "source": [
        "public_ner.getClasses()"
      ],
      "metadata": {
        "id": "iS1kg7gLXOYu",
        "colab": {
          "base_uri": "https://localhost:8080/"
        },
        "outputId": "13f7f5b7-bdd6-4a53-e2ac-faa8eefc3d44"
      },
      "execution_count": 75,
      "outputs": [
        {
          "output_type": "execute_result",
          "data": {
            "text/plain": [
              "['O', 'B-ORG', 'B-LOC', 'B-PER', 'I-PER', 'I-ORG', 'B-MISC', 'I-LOC', 'I-MISC']"
            ]
          },
          "metadata": {},
          "execution_count": 75
        }
      ]
    },
    {
      "cell_type": "code",
      "source": [
        "documentAssembler = DocumentAssembler()\\\n",
        "    .setInputCol(\"text\")\\\n",
        "    .setOutputCol(\"document\")\n",
        "\n",
        "tokenizer = Tokenizer() \\\n",
        "    .setInputCols([\"document\"]) \\\n",
        "    .setOutputCol(\"token\")\n",
        "\n",
        "# ner_dl model is trained with glove_100d. So we use the same embeddings in the pipeline\n",
        "glove_embeddings = WordEmbeddingsModel.pretrained('glove_100d').\\\n",
        "  setInputCols([\"document\", 'token']).\\\n",
        "  setOutputCol(\"embeddings\")\n",
        "\n",
        "nlpPipeline = Pipeline(stages=[\n",
        " documentAssembler, \n",
        " tokenizer,\n",
        " glove_embeddings,\n",
        " public_ner\n",
        " ])\n",
        "\n",
        "empty_df = spark.createDataFrame([['']]).toDF(\"text\")\n",
        "\n",
        "pipelineModel = nlpPipeline.fit(empty_df)\n"
      ],
      "metadata": {
        "id": "8nXpWgf7XYNc",
        "colab": {
          "base_uri": "https://localhost:8080/"
        },
        "outputId": "843197b6-7d96-4b7e-b41f-735bdd8a94b5"
      },
      "execution_count": 76,
      "outputs": [
        {
          "output_type": "stream",
          "name": "stdout",
          "text": [
            "glove_100d download started this may take some time.\n",
            "Approximate size to download 145.3 MB\n",
            "[OK!]\n"
          ]
        }
      ]
    },
    {
      "cell_type": "code",
      "source": [
        "result = pipelineModel.transform(news_df.limit(10))\n",
        "\n",
        "#result_df = result.select(F.explode(F.arrays_zip('token.result', 'ner.result')).alias(\"cols\")) \\\n",
        "#.select(F.expr(\"cols['0']\").alias(\"token\"),\n",
        "#        F.expr(\"cols['1']\").alias(\"ner_label\"))\n",
        "\n",
        "result.show(50, truncate=100)"
      ],
      "metadata": {
        "id": "JMsRmB1QXy4X",
        "colab": {
          "base_uri": "https://localhost:8080/"
        },
        "outputId": "10c69a86-e9f0-4eb4-b906-f62ae53fa17d"
      },
      "execution_count": 77,
      "outputs": [
        {
          "output_type": "stream",
          "name": "stdout",
          "text": [
            "+--------+----------------------------------------------------------------------------------------------------+----------------------------------------------------------------------------------------------------+----------------------------------------------------------------------------------------------------+----------------------------------------------------------------------------------------------------+----------------------------------------------------------------------------------------------------+\n",
            "|category|                                                                                                text|                                                                                            document|                                                                                               token|                                                                                          embeddings|                                                                                                 ner|\n",
            "+--------+----------------------------------------------------------------------------------------------------+----------------------------------------------------------------------------------------------------+----------------------------------------------------------------------------------------------------+----------------------------------------------------------------------------------------------------+----------------------------------------------------------------------------------------------------+\n",
            "|Business|Unions representing workers at Turner   Newall say they are 'disappointed' after talks with stric...|[[document, 0, 126, Unions representing workers at Turner   Newall say they are 'disappointed' af...|[[token, 0, 5, Unions, [sentence -> 0], []], [token, 7, 18, representing, [sentence -> 0], []], [...|[[word_embeddings, 0, 5, Unions, [isOOV -> false, pieceId -> -1, isWordStart -> true, token -> Un...|[[named_entity, 0, 5, O, [word -> Unions], []], [named_entity, 7, 18, O, [word -> representing], ...|\n",
            "|Sci/Tech| TORONTO, Canada    A second team of rocketeers competing for the  #36;10 million Ansari X Prize,...|[[document, 0, 222,  TORONTO, Canada    A second team of rocketeers competing for the  #36;10 mil...|[[token, 1, 7, TORONTO, [sentence -> 0], []], [token, 8, 8, ,, [sentence -> 0], []], [token, 10, ...|[[word_embeddings, 1, 7, TORONTO, [isOOV -> false, pieceId -> -1, isWordStart -> true, token -> T...|[[named_entity, 1, 7, B-LOC, [word -> TORONTO], []], [named_entity, 8, 8, O, [word -> ,], []], [n...|\n",
            "|Sci/Tech| A company founded by a chemistry researcher at the University of Louisville won a grant to devel...|[[document, 0, 209,  A company founded by a chemistry researcher at the University of Louisville ...|[[token, 1, 1, A, [sentence -> 0], []], [token, 3, 9, company, [sentence -> 0], []], [token, 11, ...|[[word_embeddings, 1, 1, A, [isOOV -> false, pieceId -> -1, isWordStart -> true, token -> A, sent...|[[named_entity, 1, 1, O, [word -> A], []], [named_entity, 3, 9, O, [word -> company], []], [named...|\n",
            "|Sci/Tech| It's barely dawn when Mike Fitzpatrick starts his shift with a blur of colorful maps, figures an...|[[document, 0, 267,  It's barely dawn when Mike Fitzpatrick starts his shift with a blur of color...|[[token, 1, 4, It's, [sentence -> 0], []], [token, 6, 11, barely, [sentence -> 0], []], [token, 1...|[[word_embeddings, 1, 4, It's, [isOOV -> true, pieceId -> -1, isWordStart -> true, token -> It's,...|[[named_entity, 1, 4, B-PER, [word -> It's], []], [named_entity, 6, 11, O, [word -> barely], []],...|\n",
            "|Sci/Tech| Southern California's smog fighting agency went after emissions of the bovine variety Friday, ad...|[[document, 0, 174,  Southern California's smog fighting agency went after emissions of the bovin...|[[token, 1, 8, Southern, [sentence -> 0], []], [token, 10, 21, California's, [sentence -> 0], []]...|[[word_embeddings, 1, 8, Southern, [isOOV -> false, pieceId -> -1, isWordStart -> true, token -> ...|[[named_entity, 1, 8, B-ORG, [word -> Southern], []], [named_entity, 10, 21, I-ORG, [word -> Cali...|\n",
            "|Sci/Tech|\"The British Department for Education and Skills (DfES) recently launched a \"\"Music Manifesto\"\" c...|[[document, 0, 103, \"The British Department for Education and Skills (DfES) recently launched a \"...|[[token, 0, 0, \", [sentence -> 0], []], [token, 1, 3, The, [sentence -> 0], []], [token, 5, 11, B...|[[word_embeddings, 0, 0, \", [isOOV -> false, pieceId -> -1, isWordStart -> true, token -> \", sent...|[[named_entity, 0, 0, O, [word -> \"], []], [named_entity, 1, 3, O, [word -> The], []], [named_ent...|\n",
            "|Sci/Tech|\"confessed author of the Netsky and Sasser viruses, is responsible for 70 percent of virus infect...|[[document, 0, 347, \"confessed author of the Netsky and Sasser viruses, is responsible for 70 per...|[[token, 0, 0, \", [sentence -> 0], []], [token, 1, 9, confessed, [sentence -> 0], []], [token, 11...|[[word_embeddings, 0, 0, \", [isOOV -> false, pieceId -> -1, isWordStart -> true, token -> \", sent...|[[named_entity, 0, 0, O, [word -> \"], []], [named_entity, 1, 9, O, [word -> confessed], []], [nam...|\n",
            "|Sci/Tech|\\\\FOAF/LOAF  and bloom filters have a lot of interesting properties for social\\network and whitel...|[[document, 0, 707, \\\\FOAF/LOAF  and bloom filters have a lot of interesting properties for socia...|[[token, 0, 10, \\\\FOAF/LOAF, [sentence -> 0], []], [token, 13, 15, and, [sentence -> 0], []], [to...|[[word_embeddings, 0, 10, \\\\FOAF/LOAF, [isOOV -> true, pieceId -> -1, isWordStart -> true, token ...|[[named_entity, 0, 10, O, [word -> \\\\FOAF/LOAF], []], [named_entity, 13, 15, O, [word -> and], []...|\n",
            "|Sci/Tech|               \"Wiltshire Police warns about \"\"phishing\"\" after its fraud squad chief was targeted.\"|[[document, 0, 84, \"Wiltshire Police warns about \"\"phishing\"\" after its fraud squad chief was tar...|[[token, 0, 0, \", [sentence -> 0], []], [token, 1, 9, Wiltshire, [sentence -> 0], []], [token, 11...|[[word_embeddings, 0, 0, \", [isOOV -> false, pieceId -> -1, isWordStart -> true, token -> \", sent...|[[named_entity, 0, 0, O, [word -> \"], []], [named_entity, 1, 9, B-ORG, [word -> Wiltshire], []], ...|\n",
            "|Sci/Tech|In its first two years, the UK's dedicated card fraud unit, has recovered 36,000 stolen cards and...|[[document, 0, 138, In its first two years, the UK's dedicated card fraud unit, has recovered 36,...|[[token, 0, 1, In, [sentence -> 0], []], [token, 3, 5, its, [sentence -> 0], []], [token, 7, 11, ...|[[word_embeddings, 0, 1, In, [isOOV -> false, pieceId -> -1, isWordStart -> true, token -> In, se...|[[named_entity, 0, 1, O, [word -> In], []], [named_entity, 3, 5, O, [word -> its], []], [named_en...|\n",
            "+--------+----------------------------------------------------------------------------------------------------+----------------------------------------------------------------------------------------------------+----------------------------------------------------------------------------------------------------+----------------------------------------------------------------------------------------------------+----------------------------------------------------------------------------------------------------+\n",
            "\n"
          ]
        }
      ]
    },
    {
      "cell_type": "markdown",
      "source": [
        "### NerDL OntoNotes 100D\n",
        "\n",
        "This pipeline is based on&nbsp;<strong>NerDLApproach</strong> annotator with <strong>Char CNN - BiLSTM</strong> and <strong>GloVe Embeddings</strong> on the <strong>OntoNotes</strong> corpus and supports the identification of 18 entities.</p><p>Following NER types are supported in this pipeline:</p><table><thead><tr><th>Type</th><th>Description</th></tr></thead><tbody><tr><td><code>PERSON</code></td><td>People, including fictional.</td></tr><tr><td><code>NORP</code></td><td>Nationalities or religious or political groups.</td></tr><tr><td><code>FAC</code></td><td>Buildings, airports, highways, bridges, etc.</td></tr><tr><td><code>ORG</code></td><td>Companies, agencies, institutions, etc.</td></tr><tr><td><code>GPE</code></td><td>Countries, cities, states.</td></tr><tr><td><code>LOC</code></td><td>Non-GPE locations, mountain ranges, bodies of water.</td></tr><tr><td><code>PRODUCT</code></td><td>Objects, vehicles, foods, etc. (Not services.)</td></tr><tr><td><code>EVENT</code></td><td>Named hurricanes, battles, wars, sports events, etc.</td></tr><tr><td><code>WORK_OF_ART</code></td><td>Titles of books, songs, etc.</td></tr><tr><td><code>LAW</code></td><td>Named documents made into laws.</td></tr><tr><td><code>LANGUAGE</code></td><td>Any named language.</td></tr><tr><td><code>DATE</code></td><td>Absolute or relative dates or periods.</td></tr><tr><td><code>TIME</code></td><td>Times smaller than a day.</td></tr><tr><td><code>PERCENT</code></td><td>Percentage, including &rdquo;%&ldquo;.</td></tr><tr><td><code>MONEY</code></td><td>Monetary values, including unit.</td></tr><tr><td><code>QUANTITY</code></td><td>Measurements, as of weight or distance.</td></tr><tr><td><code>ORDINAL</code></td><td>&ldquo;first&rdquo;, &ldquo;second&rdquo;, etc.</td></tr><tr><td><code>CARDINAL</code></td><td>Numerals that do not fall under another type.</td></tr></tbody></table>\n",
        "\n",
        "Entities\n",
        "\n",
        "``` 'CARDINAL', 'DATE', 'EVENT', 'FAC', 'GPE', 'LANGUAGE', 'LAW', 'LOC', 'MONEY', 'NORP', 'ORDINAL', 'ORG', 'PERCENT', 'PERSON', 'PRODUCT', 'QUANTITY', 'TIME', 'WORK_OF_ART' ```"
      ],
      "metadata": {
        "id": "kceXANhudcSH"
      }
    },
    {
      "cell_type": "code",
      "source": [
        "onto_ner = NerDLModel.pretrained(\"onto_100\", 'en') \\\n",
        "          .setInputCols([\"document\", \"token\", \"embeddings\"]) \\\n",
        "          .setOutputCol(\"ner\")\n",
        "\n",
        "nlpPipeline = Pipeline(stages=[\n",
        " documentAssembler, \n",
        " tokenizer,\n",
        " glove_embeddings,\n",
        " onto_ner\n",
        " ])\n",
        "\n",
        "empty_df = spark.createDataFrame([['']]).toDF(\"text\")\n",
        "\n",
        "pipelineModel = nlpPipeline.fit(empty_df)\n"
      ],
      "metadata": {
        "id": "999JxKT1dPLc",
        "colab": {
          "base_uri": "https://localhost:8080/"
        },
        "outputId": "5d093cb9-5134-45b6-e14f-a0758647605f"
      },
      "execution_count": 78,
      "outputs": [
        {
          "output_type": "stream",
          "name": "stdout",
          "text": [
            "onto_100 download started this may take some time.\n",
            "Approximate size to download 13.5 MB\n",
            "[OK!]\n"
          ]
        }
      ]
    },
    {
      "cell_type": "code",
      "source": [
        "result = pipelineModel.transform(news_df.limit(10))\n",
        "\n",
        "#result_df = result.select(F.explode(F.arrays_zip('token.result', 'ner.result')).alias(\"cols\")) \\\n",
        "#.select(F.expr(\"cols['0']\").alias(\"token\"),\n",
        "#        F.expr(\"cols['1']\").alias(\"ner_label\"))\n",
        "\n",
        "result.show(50, truncate=100)\n"
      ],
      "metadata": {
        "id": "fWTTGF8CedAC",
        "colab": {
          "base_uri": "https://localhost:8080/"
        },
        "outputId": "91e7be5b-cda0-43c7-f18e-92d85ae41f85"
      },
      "execution_count": 79,
      "outputs": [
        {
          "output_type": "stream",
          "name": "stdout",
          "text": [
            "+--------+----------------------------------------------------------------------------------------------------+----------------------------------------------------------------------------------------------------+----------------------------------------------------------------------------------------------------+----------------------------------------------------------------------------------------------------+----------------------------------------------------------------------------------------------------+\n",
            "|category|                                                                                                text|                                                                                            document|                                                                                               token|                                                                                          embeddings|                                                                                                 ner|\n",
            "+--------+----------------------------------------------------------------------------------------------------+----------------------------------------------------------------------------------------------------+----------------------------------------------------------------------------------------------------+----------------------------------------------------------------------------------------------------+----------------------------------------------------------------------------------------------------+\n",
            "|Business|Unions representing workers at Turner   Newall say they are 'disappointed' after talks with stric...|[[document, 0, 126, Unions representing workers at Turner   Newall say they are 'disappointed' af...|[[token, 0, 5, Unions, [sentence -> 0], []], [token, 7, 18, representing, [sentence -> 0], []], [...|[[word_embeddings, 0, 5, Unions, [isOOV -> false, pieceId -> -1, isWordStart -> true, token -> Un...|[[named_entity, 0, 5, O, [word -> Unions], []], [named_entity, 7, 18, O, [word -> representing], ...|\n",
            "|Sci/Tech| TORONTO, Canada    A second team of rocketeers competing for the  #36;10 million Ansari X Prize,...|[[document, 0, 222,  TORONTO, Canada    A second team of rocketeers competing for the  #36;10 mil...|[[token, 1, 7, TORONTO, [sentence -> 0], []], [token, 8, 8, ,, [sentence -> 0], []], [token, 10, ...|[[word_embeddings, 1, 7, TORONTO, [isOOV -> false, pieceId -> -1, isWordStart -> true, token -> T...|[[named_entity, 1, 7, B-GPE, [word -> TORONTO], []], [named_entity, 8, 8, O, [word -> ,], []], [n...|\n",
            "|Sci/Tech| A company founded by a chemistry researcher at the University of Louisville won a grant to devel...|[[document, 0, 209,  A company founded by a chemistry researcher at the University of Louisville ...|[[token, 1, 1, A, [sentence -> 0], []], [token, 3, 9, company, [sentence -> 0], []], [token, 11, ...|[[word_embeddings, 1, 1, A, [isOOV -> false, pieceId -> -1, isWordStart -> true, token -> A, sent...|[[named_entity, 1, 1, O, [word -> A], []], [named_entity, 3, 9, O, [word -> company], []], [named...|\n",
            "|Sci/Tech| It's barely dawn when Mike Fitzpatrick starts his shift with a blur of colorful maps, figures an...|[[document, 0, 267,  It's barely dawn when Mike Fitzpatrick starts his shift with a blur of color...|[[token, 1, 4, It's, [sentence -> 0], []], [token, 6, 11, barely, [sentence -> 0], []], [token, 1...|[[word_embeddings, 1, 4, It's, [isOOV -> true, pieceId -> -1, isWordStart -> true, token -> It's,...|[[named_entity, 1, 4, O, [word -> It's], []], [named_entity, 6, 11, O, [word -> barely], []], [na...|\n",
            "|Sci/Tech| Southern California's smog fighting agency went after emissions of the bovine variety Friday, ad...|[[document, 0, 174,  Southern California's smog fighting agency went after emissions of the bovin...|[[token, 1, 8, Southern, [sentence -> 0], []], [token, 10, 21, California's, [sentence -> 0], []]...|[[word_embeddings, 1, 8, Southern, [isOOV -> false, pieceId -> -1, isWordStart -> true, token -> ...|[[named_entity, 1, 8, B-LOC, [word -> Southern], []], [named_entity, 10, 21, I-LOC, [word -> Cali...|\n",
            "|Sci/Tech|\"The British Department for Education and Skills (DfES) recently launched a \"\"Music Manifesto\"\" c...|[[document, 0, 103, \"The British Department for Education and Skills (DfES) recently launched a \"...|[[token, 0, 0, \", [sentence -> 0], []], [token, 1, 3, The, [sentence -> 0], []], [token, 5, 11, B...|[[word_embeddings, 0, 0, \", [isOOV -> false, pieceId -> -1, isWordStart -> true, token -> \", sent...|[[named_entity, 0, 0, O, [word -> \"], []], [named_entity, 1, 3, O, [word -> The], []], [named_ent...|\n",
            "|Sci/Tech|\"confessed author of the Netsky and Sasser viruses, is responsible for 70 percent of virus infect...|[[document, 0, 347, \"confessed author of the Netsky and Sasser viruses, is responsible for 70 per...|[[token, 0, 0, \", [sentence -> 0], []], [token, 1, 9, confessed, [sentence -> 0], []], [token, 11...|[[word_embeddings, 0, 0, \", [isOOV -> false, pieceId -> -1, isWordStart -> true, token -> \", sent...|[[named_entity, 0, 0, O, [word -> \"], []], [named_entity, 1, 9, O, [word -> confessed], []], [nam...|\n",
            "|Sci/Tech|\\\\FOAF/LOAF  and bloom filters have a lot of interesting properties for social\\network and whitel...|[[document, 0, 707, \\\\FOAF/LOAF  and bloom filters have a lot of interesting properties for socia...|[[token, 0, 10, \\\\FOAF/LOAF, [sentence -> 0], []], [token, 13, 15, and, [sentence -> 0], []], [to...|[[word_embeddings, 0, 10, \\\\FOAF/LOAF, [isOOV -> true, pieceId -> -1, isWordStart -> true, token ...|[[named_entity, 0, 10, O, [word -> \\\\FOAF/LOAF], []], [named_entity, 13, 15, O, [word -> and], []...|\n",
            "|Sci/Tech|               \"Wiltshire Police warns about \"\"phishing\"\" after its fraud squad chief was targeted.\"|[[document, 0, 84, \"Wiltshire Police warns about \"\"phishing\"\" after its fraud squad chief was tar...|[[token, 0, 0, \", [sentence -> 0], []], [token, 1, 9, Wiltshire, [sentence -> 0], []], [token, 11...|[[word_embeddings, 0, 0, \", [isOOV -> false, pieceId -> -1, isWordStart -> true, token -> \", sent...|[[named_entity, 0, 0, O, [word -> \"], []], [named_entity, 1, 9, B-ORG, [word -> Wiltshire], []], ...|\n",
            "|Sci/Tech|In its first two years, the UK's dedicated card fraud unit, has recovered 36,000 stolen cards and...|[[document, 0, 138, In its first two years, the UK's dedicated card fraud unit, has recovered 36,...|[[token, 0, 1, In, [sentence -> 0], []], [token, 3, 5, its, [sentence -> 0], []], [token, 7, 11, ...|[[word_embeddings, 0, 1, In, [isOOV -> false, pieceId -> -1, isWordStart -> true, token -> In, se...|[[named_entity, 0, 1, O, [word -> In], []], [named_entity, 3, 5, B-DATE, [word -> its], []], [nam...|\n",
            "+--------+----------------------------------------------------------------------------------------------------+----------------------------------------------------------------------------------------------------+----------------------------------------------------------------------------------------------------+----------------------------------------------------------------------------------------------------+----------------------------------------------------------------------------------------------------+\n",
            "\n"
          ]
        }
      ]
    },
    {
      "cell_type": "markdown",
      "source": [
        "### NER with Bert (CoNLL 2003)"
      ],
      "metadata": {
        "id": "zSmLag-KjW-K"
      }
    },
    {
      "cell_type": "code",
      "source": [
        "documentAssembler = DocumentAssembler()\\\n",
        "    .setInputCol(\"text\")\\\n",
        "    .setOutputCol(\"document\")\n",
        "\n",
        "tokenizer = Tokenizer() \\\n",
        "    .setInputCols([\"document\"]) \\\n",
        "    .setOutputCol(\"token\")\n",
        "\n",
        "bert_embeddings = BertEmbeddings.pretrained('bert_base_cased')\\\n",
        "          .setInputCols([\"document\", \"token\"])\\\n",
        "          .setOutputCol(\"embeddings\")\n",
        "\n",
        "onto_ner_bert = NerDLModel.pretrained(\"ner_dl_bert\", 'en') \\\n",
        "          .setInputCols([\"document\", \"token\", \"embeddings\"]) \\\n",
        "          .setOutputCol(\"ner\")\n",
        "\n",
        "onto_ner_bert.getStorageRef()\n",
        "\n",
        "nlpPipeline = Pipeline(stages=[\n",
        " documentAssembler, \n",
        " tokenizer,\n",
        " bert_embeddings,\n",
        " onto_ner_bert\n",
        " ])\n",
        "\n",
        "empty_df = spark.createDataFrame([['']]).toDF(\"text\")\n",
        "\n",
        "pipelineModel = nlpPipeline.fit(empty_df)"
      ],
      "metadata": {
        "id": "8RV2NwbxeqgQ",
        "colab": {
          "base_uri": "https://localhost:8080/"
        },
        "outputId": "aefb9af8-07c4-4111-b626-2b7a8cb842b8"
      },
      "execution_count": 80,
      "outputs": [
        {
          "output_type": "stream",
          "name": "stdout",
          "text": [
            "bert_base_cased download started this may take some time.\n",
            "Approximate size to download 389.1 MB\n",
            "[OK!]\n",
            "ner_dl_bert download started this may take some time.\n",
            "Approximate size to download 15.4 MB\n",
            "[OK!]\n"
          ]
        }
      ]
    },
    {
      "cell_type": "code",
      "source": [
        "# fullAnnotate in LightPipeline\n",
        "\n",
        "light_model = LightPipeline(pipelineModel)\n",
        "\n",
        "light_result = light_model.annotate('Peter Parker is a nice persn and lives in New York. Bruce Wayne is also a nice guy and lives in Gotham City.')\n",
        "\n",
        "list(zip(light_result['token'], light_result['ner']))"
      ],
      "metadata": {
        "id": "7Cu-ys0PjZ5G",
        "colab": {
          "base_uri": "https://localhost:8080/"
        },
        "outputId": "27d41410-3212-4da6-af70-58f2797558c9"
      },
      "execution_count": 81,
      "outputs": [
        {
          "output_type": "execute_result",
          "data": {
            "text/plain": [
              "[('Peter', 'I-PER'),\n",
              " ('Parker', 'I-PER'),\n",
              " ('is', 'O'),\n",
              " ('a', 'O'),\n",
              " ('nice', 'O'),\n",
              " ('persn', 'O'),\n",
              " ('and', 'O'),\n",
              " ('lives', 'O'),\n",
              " ('in', 'O'),\n",
              " ('New', 'I-LOC'),\n",
              " ('York', 'I-LOC'),\n",
              " ('.', 'O'),\n",
              " ('Bruce', 'I-PER'),\n",
              " ('Wayne', 'I-PER'),\n",
              " ('is', 'O'),\n",
              " ('also', 'O'),\n",
              " ('a', 'O'),\n",
              " ('nice', 'O'),\n",
              " ('guy', 'O'),\n",
              " ('and', 'O'),\n",
              " ('lives', 'O'),\n",
              " ('in', 'O'),\n",
              " ('Gotham', 'I-LOC'),\n",
              " ('City', 'I-LOC'),\n",
              " ('.', 'O')]"
            ]
          },
          "metadata": {},
          "execution_count": 81
        }
      ]
    },
    {
      "cell_type": "markdown",
      "source": [
        "### Getting the NER chunks with NER Converter"
      ],
      "metadata": {
        "id": "T8jHavYm7BAF"
      }
    },
    {
      "cell_type": "code",
      "source": [
        "ner_converter = NerConverter() \\\n",
        "  .setInputCols([\"document\", \"token\", \"ner\"]) \\\n",
        "  .setOutputCol(\"ner_chunk\")\n",
        "\n",
        "\n",
        "nlpPipeline = Pipeline(stages=[\n",
        " documentAssembler, \n",
        " tokenizer,\n",
        " bert_embeddings,\n",
        " onto_ner_bert,\n",
        " ner_converter\n",
        " ])\n",
        "\n",
        "empty_df = spark.createDataFrame([['']]).toDF(\"text\")\n",
        "\n",
        "pipelineModel = nlpPipeline.fit(empty_df)\n",
        "\n",
        "result = pipelineModel.transform(news_df.limit(10))"
      ],
      "metadata": {
        "id": "zuuNoEYx7Cf-"
      },
      "execution_count": null,
      "outputs": []
    },
    {
      "cell_type": "code",
      "source": [
        "result.select(F.explode(F.arrays_zip('ner_chunk.result', 'ner_chunk.metadata')).alias(\"cols\")) \\\n",
        ".select(F.expr(\"cols['0']\").alias(\"chunk\"),\n",
        "        F.expr(\"cols['1']['entity']\").alias(\"ner_label\")).show(truncate=False)"
      ],
      "metadata": {
        "id": "N4cMUXDK7Nfz"
      },
      "execution_count": null,
      "outputs": []
    },
    {
      "cell_type": "code",
      "source": [
        "import pyspark.sql.functions as F\n",
        "#from pyspark.sql.functions import arrays_zip\n",
        "df = spark.createDataFrame([(([1, 2, 3], [2, 3, 4]))], ['vals1', 'vals2'])\n",
        "df.select(F.arrays_zip(df.vals1, df.vals2).alias('zipped')).collect()"
      ],
      "metadata": {
        "id": "BSuEanuzN3R3"
      },
      "execution_count": null,
      "outputs": []
    },
    {
      "cell_type": "code",
      "source": [
        "# fullAnnotate in LightPipeline\n",
        "\n",
        "light_model = LightPipeline(pipelineModel)\n",
        "\n",
        "light_result = light_model.fullAnnotate('Peter Parker is a nice persn and lives in New York. Bruce Wayne is also a nice guy and lives in Gotham City.')\n",
        "\n",
        "\n",
        "chunks = []\n",
        "entities = []\n",
        "\n",
        "for n in light_result[0]['ner_chunk']:\n",
        "        \n",
        "    chunks.append(n.result)\n",
        "    entities.append(n.metadata['entity']) \n",
        "    \n",
        "    \n",
        "import pandas as pd\n",
        "\n",
        "df = pd.DataFrame({'chunks':chunks, 'entities':entities})\n",
        "\n",
        "df"
      ],
      "metadata": {
        "id": "VaJ6mEa-7S14"
      },
      "execution_count": null,
      "outputs": []
    },
    {
      "cell_type": "markdown",
      "source": [
        "## Highlight the entities"
      ],
      "metadata": {
        "id": "UDdHRJBFCRjv"
      }
    },
    {
      "cell_type": "code",
      "source": [
        "!wget -q https://raw.githubusercontent.com/JohnSnowLabs/spark-nlp-workshop/master/tutorials/Certification_Trainings/Public/utils/ner_highlighter.py"
      ],
      "metadata": {
        "id": "hMD2p3dACLGP"
      },
      "execution_count": null,
      "outputs": []
    },
    {
      "cell_type": "code",
      "source": [
        "import ner_highlighter"
      ],
      "metadata": {
        "id": "Srx8AR2nCUU0"
      },
      "execution_count": null,
      "outputs": []
    },
    {
      "cell_type": "code",
      "source": [
        "#ann_text = light_model.fullAnnotate('Peter Parker is a nice persn and lives in New York. Bruce Wayne is also a nice guy and lives in Gotham City.')[0]\n",
        "\n",
        "#ner_highlighter.chunk_highlighter (ann_text[0], entity_column='ner_chunk')"
      ],
      "metadata": {
        "id": "b3myrVt3CY0J"
      },
      "execution_count": null,
      "outputs": []
    },
    {
      "cell_type": "code",
      "source": [
        "ann_text = light_model.annotate('Peter Parker is a nice persn and lives in New York. Bruce Wayne is also a nice guy and lives in Gotham City.')\n",
        "\n",
        "ner_highlighter.token_highlighter (ann_text)"
      ],
      "metadata": {
        "id": "Qax_8iTjCdD7"
      },
      "execution_count": null,
      "outputs": []
    },
    {
      "cell_type": "markdown",
      "source": [
        "## Using Pretrained ClassifierDL and SentimentDL models\n",
        "\n",
        "![image.png](data:image/png;base64,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)"
      ],
      "metadata": {
        "id": "-D3JnfcuDBfq"
      }
    },
    {
      "cell_type": "code",
      "source": [
        ""
      ],
      "metadata": {
        "id": "qAIcgp0ACoTz"
      },
      "execution_count": null,
      "outputs": []
    }
  ]
}